{
 "cells": [
  {
   "cell_type": "markdown",
   "metadata": {},
   "source": [
    "### Identifications of some lines from the DB\n",
    "\n"
   ]
  },
  {
   "cell_type": "code",
   "execution_count": 39,
   "metadata": {},
   "outputs": [],
   "source": [
    "import numpy as np\n",
    "\n",
    "import sys\n",
    "sys.path.append(\"../../src/lines\")\n",
    "\n",
    "import lineTools as lt\n",
    "\n",
    "### DB\n",
    "dbline = \"/home/stephane/Science/RadioGalaxy/ALMA/absorptions/analysis/a/lineAll.db\""
   ]
  },
  {
   "cell_type": "code",
   "execution_count": 40,
   "metadata": {},
   "outputs": [
    {
     "name": "stdout",
     "output_type": "stream",
     "text": [
      "## Sources: 133\n",
      "##\n",
      "## Searching..\n",
      "## Done..\n"
     ]
    }
   ],
   "source": [
    "al = lt.analysisLines(dbline)\n",
    "res = al.getInfoDB(verbose = False)\n",
    "\n",
    "## Frequency range to check for the line frequency at rest applying the redshift (one source can have several z)\n",
    "##\n",
    "transition = [\"CO(1-0)\" ,115.1, 115.3]\n",
    "transition = [\"CO(2-1)\" ,230.4, 115.6]\n",
    "transition = [\"HCO+, HCN\" ,88.8, 89.1]\n",
    "\n",
    "\n",
    "print(\"## Searching..\")\n",
    "for s  in res:\n",
    "    lines = al.findLinesSource(s[0])\n",
    "    if len(lines) > 0 and not isinstance(s[1], int):\n",
    "        for z in s[1]:\n",
    "            if not np.isnan(z):\n",
    "                for l in lines:\n",
    "                    frest = l[4] /(1. + z)\n",
    "                    if frest > transition[1] and frest < transition[2]:\n",
    "                        print(\"## line found..\")\n",
    "                        print(\"## source : %s\"%(s[0]))\n",
    "                        print(\"## redshift : %f\"%(z))\n",
    "                        \n",
    "\n",
    "print(\"## Done..\")"
   ]
  }
 ],
 "metadata": {
  "kernelspec": {
   "display_name": "Python 3",
   "language": "python",
   "name": "python3"
  },
  "language_info": {
   "codemirror_mode": {
    "name": "ipython",
    "version": 2
   },
   "file_extension": ".py",
   "mimetype": "text/x-python",
   "name": "python",
   "nbconvert_exporter": "python",
   "pygments_lexer": "ipython2",
   "version": "2.7.15+"
  }
 },
 "nbformat": 4,
 "nbformat_minor": 2
}
