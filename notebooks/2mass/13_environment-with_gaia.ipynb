{
 "cells": [
  {
   "cell_type": "code",
   "execution_count": 1,
   "metadata": {},
   "outputs": [
    {
     "name": "stdout",
     "output_type": "stream",
     "text": [
      "Created TAP+ (v1.0.1) - Connection:\n",
      "\tHost: gea.esac.esa.int\n",
      "\tUse HTTPS: False\n",
      "\tPort: 80\n",
      "\tSSL Port: 443\n"
     ]
    }
   ],
   "source": [
    "import numpy as np\n",
    "import pandas as pd\n",
    "\n",
    "from astropy import coordinates\n",
    "from astropy.coordinates import match_coordinates_sky\n",
    "import astropy.units as u\n",
    "import astroquery\n",
    "from astroquery.irsa import Irsa\n",
    "from astroquery.vizier import Vizier\n",
    "from astropy.table import Table, join\n",
    "\n",
    "from astropy.units import Quantity\n",
    "from astroquery.gaia import Gaia\n",
    "\n",
    "Irsa.ROW_LIMIT = -1\n",
    "Vizier.ROW_LIMIT = -1\n",
    "\n",
    "from astropy.io import ascii as asci\n",
    "\n",
    "import matplotlib.pyplot as plt\n",
    "\n",
    "# Suppress warnings. Comment this out if you wish to see the warning messages\n",
    "import warnings\n",
    "warnings.filterwarnings('ignore')\n",
    "\n",
    "%matplotlib inline"
   ]
  },
  {
   "cell_type": "markdown",
   "metadata": {},
   "source": [
    "# Get the data\n",
    "\n",
    "2MASS => J, H K, angular resolution ~4\"\n",
    "\n",
    "WISE => 3.4, 4.6, 12, and 22 μm (W1, W2, W3, W4) with an angular resolution of 6.1\", 6.4\", 6.5\", & 12.0\" \n",
    "\n",
    "GALEX imaging => Five imaging surveys in a Far UV band (1350-1750Å) and Near UV band (1750-2800Å) with 6-8 arcsecond resolution (80% encircled energy) and 1 arcsecond astrometry, and a cosmic UV background map."
   ]
  },
  {
   "cell_type": "code",
   "execution_count": 2,
   "metadata": {},
   "outputs": [
    {
     "name": "stdout",
     "output_type": "stream",
     "text": [
      "Retrieving tables...\n",
      "Parsing tables...\n",
      "Done.\n",
      "external.external.gaiadr2_geometric_distance\n",
      "public.public.dual\n",
      "public.public.hipparcos\n",
      "public.public.hipparcos_newreduction\n",
      "public.public.hubble_sc\n",
      "public.public.igsl_source\n",
      "public.public.igsl_source_catalog_ids\n",
      "public.public.tycho2\n",
      "tap_schema.tap_schema.columns\n",
      "tap_schema.tap_schema.key_columns\n",
      "tap_schema.tap_schema.keys\n",
      "tap_schema.tap_schema.schemas\n",
      "tap_schema.tap_schema.tables\n",
      "gaiadr1.gaiadr1.aux_qso_icrf2_match\n",
      "gaiadr1.gaiadr1.ext_phot_zero_point\n",
      "gaiadr1.gaiadr1.allwise_best_neighbour\n",
      "gaiadr1.gaiadr1.allwise_neighbourhood\n",
      "gaiadr1.gaiadr1.gsc23_best_neighbour\n",
      "gaiadr1.gaiadr1.gsc23_neighbourhood\n",
      "gaiadr1.gaiadr1.ppmxl_best_neighbour\n",
      "gaiadr1.gaiadr1.ppmxl_neighbourhood\n",
      "gaiadr1.gaiadr1.sdss_dr9_best_neighbour\n",
      "gaiadr1.gaiadr1.sdss_dr9_neighbourhood\n",
      "gaiadr1.gaiadr1.tmass_best_neighbour\n",
      "gaiadr1.gaiadr1.tmass_neighbourhood\n",
      "gaiadr1.gaiadr1.ucac4_best_neighbour\n",
      "gaiadr1.gaiadr1.ucac4_neighbourhood\n",
      "gaiadr1.gaiadr1.urat1_best_neighbour\n",
      "gaiadr1.gaiadr1.urat1_neighbourhood\n",
      "gaiadr1.gaiadr1.cepheid\n",
      "gaiadr1.gaiadr1.phot_variable_time_series_gfov\n",
      "gaiadr1.gaiadr1.phot_variable_time_series_gfov_statistical_parameters\n",
      "gaiadr1.gaiadr1.rrlyrae\n",
      "gaiadr1.gaiadr1.variable_summary\n",
      "gaiadr1.gaiadr1.allwise_original_valid\n",
      "gaiadr1.gaiadr1.gsc23_original_valid\n",
      "gaiadr1.gaiadr1.ppmxl_original_valid\n",
      "gaiadr1.gaiadr1.sdssdr9_original_valid\n",
      "gaiadr1.gaiadr1.tmass_original_valid\n",
      "gaiadr1.gaiadr1.ucac4_original_valid\n",
      "gaiadr1.gaiadr1.urat1_original_valid\n",
      "gaiadr1.gaiadr1.gaia_source\n",
      "gaiadr1.gaiadr1.tgas_source\n",
      "gaiadr2.gaiadr2.aux_allwise_agn_gdr2_cross_id\n",
      "gaiadr2.gaiadr2.aux_iers_gdr2_cross_id\n",
      "gaiadr2.gaiadr2.aux_sso_orbit_residuals\n",
      "gaiadr2.gaiadr2.aux_sso_orbits\n",
      "gaiadr2.gaiadr2.dr1_neighbourhood\n",
      "gaiadr2.gaiadr2.allwise_best_neighbour\n",
      "gaiadr2.gaiadr2.allwise_neighbourhood\n",
      "gaiadr2.gaiadr2.apassdr9_best_neighbour\n",
      "gaiadr2.gaiadr2.apassdr9_neighbourhood\n",
      "gaiadr2.gaiadr2.gsc23_best_neighbour\n",
      "gaiadr2.gaiadr2.gsc23_neighbourhood\n",
      "gaiadr2.gaiadr2.hipparcos2_best_neighbour\n",
      "gaiadr2.gaiadr2.hipparcos2_neighbourhood\n",
      "gaiadr2.gaiadr2.panstarrs1_best_neighbour\n",
      "gaiadr2.gaiadr2.panstarrs1_neighbourhood\n",
      "gaiadr2.gaiadr2.ppmxl_best_neighbour\n",
      "gaiadr2.gaiadr2.ppmxl_neighbourhood\n",
      "gaiadr2.gaiadr2.ravedr5_best_neighbour\n",
      "gaiadr2.gaiadr2.ravedr5_neighbourhood\n",
      "gaiadr2.gaiadr2.sdssdr9_best_neighbour\n",
      "gaiadr2.gaiadr2.sdssdr9_neighbourhood\n",
      "gaiadr2.gaiadr2.tmass_best_neighbour\n",
      "gaiadr2.gaiadr2.tmass_neighbourhood\n",
      "gaiadr2.gaiadr2.tycho2_best_neighbour\n",
      "gaiadr2.gaiadr2.tycho2_neighbourhood\n",
      "gaiadr2.gaiadr2.urat1_best_neighbour\n",
      "gaiadr2.gaiadr2.urat1_neighbourhood\n",
      "gaiadr2.gaiadr2.sso_observation\n",
      "gaiadr2.gaiadr2.sso_source\n",
      "gaiadr2.gaiadr2.vari_cepheid\n",
      "gaiadr2.gaiadr2.vari_classifier_class_definition\n",
      "gaiadr2.gaiadr2.vari_classifier_definition\n",
      "gaiadr2.gaiadr2.vari_classifier_result\n",
      "gaiadr2.gaiadr2.vari_long_period_variable\n",
      "gaiadr2.gaiadr2.vari_rotation_modulation\n",
      "gaiadr2.gaiadr2.vari_rrlyrae\n",
      "gaiadr2.gaiadr2.vari_short_timescale\n",
      "gaiadr2.gaiadr2.vari_time_series_statistics\n",
      "gaiadr2.gaiadr2.panstarrs1_original_valid\n",
      "gaiadr2.gaiadr2.gaia_source\n"
     ]
    }
   ],
   "source": [
    "from astroquery.gaia import Gaia\n",
    "tables = Gaia.load_tables(only_names=True)\n",
    "for table in (tables):\n",
    "    print (table.get_qualified_name())"
   ]
  },
  {
   "cell_type": "code",
   "execution_count": 4,
   "metadata": {},
   "outputs": [],
   "source": [
    "#obj = [\"3C 454.3\", 343.49062, 16.14821, 1.0]\n",
    "obj = [\"PKS J0006-0623\", 1.55789, -6.39315, 1]\n",
    "#obj = [\"M87\", 187.705930, 12.391123, 1.0]\n",
    "#### name, ra, dec, radius of cone (in deg)\n",
    "\n",
    "obj_name = obj[0]\n",
    "obj_ra   = obj[1]\n",
    "obj_dec  = obj[2]\n",
    "cone_radius  = obj[3]"
   ]
  },
  {
   "cell_type": "code",
   "execution_count": 49,
   "metadata": {},
   "outputs": [],
   "source": [
    "obj_coord = coordinates.SkyCoord(ra=obj_ra, dec=obj_dec, unit=(u.deg, u.deg), frame=\"icrs\")"
   ]
  },
  {
   "cell_type": "markdown",
   "metadata": {},
   "source": [
    "# Try GAIA with 2MASS\n",
    "\n",
    "- in gaiadr1 and gaiadr2 they also provide 2mass, allwise, sdss \"best neigbour\" pairs \n",
    "- catalogs provided by GAIA:\n",
    "    - gaiadr1.gaiadr1.allwise_original_valid\n",
    "    - gaiadr1.gaiadr1.gsc23_original_valid\n",
    "    - gaiadr1.gaiadr1.ppmxl_original_valid\n",
    "    - gaiadr1.gaiadr1.sdssdr9_original_valid\n",
    "    - gaiadr1.gaiadr1.tmass_original_valid\n",
    "    - gaiadr1.gaiadr1.ucac4_original_valid\n",
    "    - gaiadr1.gaiadr1.urat1_original_valid"
   ]
  },
  {
   "cell_type": "code",
   "execution_count": 64,
   "metadata": {},
   "outputs": [
    {
     "name": "stdout",
     "output_type": "stream",
     "text": [
      "SELECT * FROM gaiadr2.gaia_source AS g, gaiadr2.tmass_best_neighbour AS tbest, gaiadr1.tmass_original_valid AS tmass WHERE g.source_id = tbest.source_id AND tbest.tmass_oid = tmass.tmass_oid AND CONTAINS(POINT('ICRS',g.ra,g.dec),CIRCLE('ICRS',1.55789,-6.39315,1))=1;\n",
      "Jobid: 1542987284378O\n",
      "Phase: COMPLETED\n",
      "Owner: None\n",
      "Output file: async_20181123123444.vot\n",
      "Results: None\n"
     ]
    }
   ],
   "source": [
    "# cmd = \"SELECT * \\\n",
    "# FROM gaiadr2.gaia_source \\\n",
    "# WHERE CONTAINS(POINT('ICRS',gaiadr2.gaia_source.ra,gaiadr2.gaia_source.dec), \\\n",
    "# CIRCLE('ICRS',\" + str(obj_ra) + \",\" + str(obj_dec) + \",\" + str(cone_radius) + \"))=1;\"\n",
    "\n",
    "cmd = \"SELECT * FROM gaiadr2.gaia_source AS g, \\\n",
    "gaiadr2.tmass_best_neighbour AS tbest, \\\n",
    "gaiadr1.tmass_original_valid AS tmass \\\n",
    "WHERE g.source_id = tbest.source_id AND tbest.tmass_oid = tmass.tmass_oid AND CONTAINS(POINT('ICRS',g.ra,g.dec),\\\n",
    "CIRCLE('ICRS',\" + str(obj_ra) + \",\" + str(obj_dec) + \",\" + str(cone_radius) + \"))=1;\"\n",
    "\n",
    "print(cmd)\n",
    "\n",
    "\n",
    "job = Gaia.launch_job_async(cmd, dump_to_file=True)\n",
    "print (job)\n",
    "\n",
    "\n",
    "# GAIA"
   ]
  },
  {
   "cell_type": "code",
   "execution_count": 65,
   "metadata": {},
   "outputs": [
    {
     "name": "stdout",
     "output_type": "stream",
     "text": [
      "4207\n"
     ]
    }
   ],
   "source": [
    "r = job.get_results()\n",
    "print(len(r['source_id']))"
   ]
  },
  {
   "cell_type": "code",
   "execution_count": 66,
   "metadata": {},
   "outputs": [
    {
     "name": "stdout",
     "output_type": "stream",
     "text": [
      "phot_g_mean_mag phot_bp_mean_mag phot_rp_mean_mag  j_m    h_m    ks_m  tmass_oid\n",
      "      mag             mag              mag         mag    mag    mag            \n",
      "--------------- ---------------- ---------------- ------ ------ ------ ---------\n",
      "       19.06598        20.061134         17.98525 16.697 15.994 15.868 271970634\n",
      "      19.486813        20.899199         18.17955 16.568 15.761 15.252 271273659\n",
      "      18.801517        19.611595        17.864454 16.587 15.862 15.314 271981619\n",
      "      17.345057        17.782911         16.73697 15.999 15.509 15.318 271223089\n",
      "      18.668016        19.498903        17.653946 16.393 15.711 15.498 271208327\n",
      "      16.346586         16.66519         15.86856 15.294 15.064 14.885 271919488\n",
      "      15.356233        15.818361        14.730853 13.953 13.453 13.377 271965018\n",
      "      18.073174         18.70632        17.315163  16.36 15.802 15.282 271944076\n",
      "      18.862864         20.19449        17.644482 15.971 15.529 15.401 272134874\n",
      "       15.78973        16.219479        15.201209 14.468 13.947 13.925 272121146\n",
      "            ...              ...              ...    ...    ...    ...       ...\n",
      "      16.288784        16.684328        15.732504 15.069 14.773  14.83 275141737\n",
      "      20.113007        21.604626        18.714922 16.819  15.98 15.415 275456305\n",
      "      16.895649         17.23442        16.367863 15.797 15.523 15.498 275210999\n",
      "      16.956244        17.329174        16.433014 15.818 15.426 15.421 275427448\n",
      "      16.232542        17.150475        15.284848 14.094 13.431 13.279 275330290\n",
      "      18.788189        20.031862        17.572582 15.981 15.453 14.988 275722821\n",
      "      14.346713        15.176543        13.422222 12.254 11.605 11.435 275400255\n",
      "      16.468006        16.834158        15.946133 15.339 14.944 14.931 275448072\n",
      "      18.911425        19.716862        17.749294 16.406 16.053  15.66 275526325\n",
      "      19.092836        19.876394        18.084078 16.966 16.069  15.94 275429919\n",
      "Length = 4207 rows\n"
     ]
    }
   ],
   "source": [
    "print(r['phot_g_mean_mag', 'phot_bp_mean_mag', 'phot_rp_mean_mag', 'j_m', 'h_m', 'ks_m', 'tmass_oid']) "
   ]
  },
  {
   "cell_type": "markdown",
   "metadata": {},
   "source": [
    "# Try GAIA and WISE"
   ]
  },
  {
   "cell_type": "code",
   "execution_count": 54,
   "metadata": {},
   "outputs": [
    {
     "name": "stdout",
     "output_type": "stream",
     "text": [
      "SELECT * FROM gaiadr2.gaia_source AS g, gaiadr2.allwise_best_neighbour AS wbest, gaiadr1.allwise_original_valid AS allwise WHERE g.source_id = wbest.source_id AND wbest.allwise_oid = allwise.allwise_oid AND CONTAINS(POINT('ICRS',g.ra,g.dec),CIRCLE('ICRS',1.55789,-6.39315,1))=1;\n",
      "Jobid: 1542985794627O\n",
      "Phase: COMPLETED\n",
      "Owner: None\n",
      "Output file: async_20181123120954.vot\n",
      "Results: None\n"
     ]
    }
   ],
   "source": [
    "cmd = \"SELECT * FROM gaiadr2.gaia_source AS g, \\\n",
    "gaiadr2.allwise_best_neighbour AS wbest, \\\n",
    "gaiadr1.allwise_original_valid AS allwise \\\n",
    "WHERE g.source_id = wbest.source_id AND wbest.allwise_oid = allwise.allwise_oid AND CONTAINS(POINT('ICRS',g.ra,g.dec),\\\n",
    "CIRCLE('ICRS',\" + str(obj_ra) + \",\" + str(obj_dec) + \",\" + str(cone_radius) + \"))=1;\"\n",
    "\n",
    "print(cmd)\n",
    "\n",
    "\n",
    "job = Gaia.launch_job_async(cmd, dump_to_file=True)\n",
    "print(job)"
   ]
  },
  {
   "cell_type": "code",
   "execution_count": 55,
   "metadata": {},
   "outputs": [
    {
     "name": "stdout",
     "output_type": "stream",
     "text": [
      "6152\n"
     ]
    }
   ],
   "source": [
    "r = job.get_results()\n",
    "print(len(r['source_id']))"
   ]
  },
  {
   "cell_type": "code",
   "execution_count": 58,
   "metadata": {},
   "outputs": [
    {
     "name": "stdout",
     "output_type": "stream",
     "text": [
      "w1mpro w2mpro w3mpro w4mpro\n",
      " mag    mag    mag    mag  \n",
      "------ ------ ------ ------\n",
      "15.766 15.452 11.957   8.91\n",
      "15.922 15.838  12.46  8.822\n",
      "16.123 15.152 12.408  8.396\n",
      "15.369 15.248 11.925  8.983\n",
      "15.798 15.462  11.91  8.776\n",
      " 15.51 15.567 12.442  9.049\n",
      "15.331 15.483 11.678  8.909\n",
      "14.854 14.875 12.385  8.721\n",
      "16.925 16.794 12.452  8.799\n",
      "13.355 13.393  11.93  9.003\n",
      "   ...    ...    ...    ...\n",
      "15.359 15.442 12.364  8.839\n",
      "15.481 15.436 12.206   8.99\n",
      "13.177 13.201 12.346  8.767\n",
      "14.993 14.874 11.824   8.97\n",
      "11.363 11.362 11.735  8.306\n",
      "14.932  15.03  12.47  8.785\n",
      "15.519 15.373 12.242  8.563\n",
      "15.736 15.711 12.458  9.077\n",
      "15.918  15.89 12.268  8.849\n",
      "16.654 16.701 12.389  8.602\n",
      "Length = 6152 rows\n"
     ]
    }
   ],
   "source": [
    "print(r['w1mpro', 'w2mpro', 'w3mpro', 'w4mpro']) "
   ]
  },
  {
   "cell_type": "markdown",
   "metadata": {},
   "source": [
    "## Try GAIA + WISE with ProperMotion limit"
   ]
  },
  {
   "cell_type": "code",
   "execution_count": 5,
   "metadata": {},
   "outputs": [
    {
     "name": "stdout",
     "output_type": "stream",
     "text": [
      "SELECT * FROM gaiadr2.gaia_source AS g, gaiadr2.allwise_best_neighbour AS wbest, gaiadr1.allwise_original_valid AS allwise WHERE g.source_id = wbest.source_id AND wbest.allwise_oid = allwise.allwise_oid AND CONTAINS(POINT('ICRS',g.ra,g.dec),CIRCLE('ICRS',1.55789,-6.39315,1))=1 AND pmra IS NOT NULL AND abs(pmra)<10 AND pmdec IS NOT NULL AND abs(pmdec)<10;\n",
      "Jobid: 1543001175644O\n",
      "Phase: COMPLETED\n",
      "Owner: None\n",
      "Output file: async_20181123162615.vot\n",
      "Results: None\n"
     ]
    }
   ],
   "source": [
    "cmd = \"SELECT * FROM gaiadr2.gaia_source AS g, \\\n",
    "gaiadr2.allwise_best_neighbour AS wbest, \\\n",
    "gaiadr1.allwise_original_valid AS allwise \\\n",
    "WHERE g.source_id = wbest.source_id AND wbest.allwise_oid = allwise.allwise_oid AND CONTAINS(POINT('ICRS',g.ra,g.dec),\\\n",
    "CIRCLE('ICRS',\" + str(obj_ra) + \",\" + str(obj_dec) + \",\" + str(cone_radius) + \"))=1 \\\n",
    "AND pmra IS NOT NULL AND abs(pmra)<10 \\\n",
    "AND pmdec IS NOT NULL AND abs(pmdec)<10;\"\n",
    "\n",
    "print(cmd)\n",
    "\n",
    "\n",
    "job = Gaia.launch_job_async(cmd, dump_to_file=True)\n",
    "print(job)"
   ]
  },
  {
   "cell_type": "code",
   "execution_count": 6,
   "metadata": {},
   "outputs": [
    {
     "name": "stdout",
     "output_type": "stream",
     "text": [
      "2361\n"
     ]
    }
   ],
   "source": [
    "r = job.get_results()\n",
    "print(len(r['source_id']))"
   ]
  },
  {
   "cell_type": "code",
   "execution_count": 7,
   "metadata": {},
   "outputs": [
    {
     "name": "stdout",
     "output_type": "stream",
     "text": [
      "        pmra               pmdec        w1mpro\n",
      "     mas.yr**-1          mas.yr**-1      mag  \n",
      "------------------- ------------------- ------\n",
      "-0.2580540328041185  -4.303071386306459  15.51\n",
      " 3.2412908910044624  -6.625175072390147 15.331\n",
      "   4.81042373536586 -2.7747316177439822 14.854\n",
      " -2.343859986856239 -2.7118726610965034 16.925\n",
      " -6.518195548921061  -1.008092891140326 13.355\n",
      "  7.919036899673606 -1.5511593966580661 16.338\n",
      " -4.096934742443867   -7.95511552556917 16.299\n",
      "  5.250329290337021  -2.621035875459965 15.543\n",
      "  -6.91772926918492  -7.702118666055642 16.582\n",
      "  4.545161908035533 -1.8590536895464917 15.123\n",
      "                ...                 ...    ...\n",
      " 1.0373230064566457  0.2406560377003164 14.595\n",
      " -3.498653090694471 -1.2743232598233822 15.624\n",
      " 0.5905450541204029  0.2104775787639945 16.828\n",
      " -6.109687397707301  -6.834969854651878 16.015\n",
      "  -6.76713721701586 -1.6416193859466321 14.118\n",
      "-1.2892615805163268  -5.759760884707478   14.8\n",
      "  8.364772083438973   -5.38598792104008 16.238\n",
      "  3.710599758620633  1.1939400359861914 14.667\n",
      "-2.5379083318549904  -5.525118869848773 13.177\n",
      " 7.4069804481249255  -4.725092606367798 14.932\n",
      "Length = 2361 rows\n"
     ]
    }
   ],
   "source": [
    "print(r['pmra', 'pmdec', 'w1mpro']) "
   ]
  },
  {
   "cell_type": "markdown",
   "metadata": {},
   "source": [
    "# Try GAIA-WISE-2MASS directly\n",
    "\n",
    "- I check there is tmass_key in gaiadr1.allwise_original_valid (ALLWISE catalog)\n",
    "\n",
    "Desc of tmass_key:\n",
    "\n",
    "2MASS PSC association. Unique identifier of the closest source in the 2MASS Point Source Catalog (PSC) that falls within 3 arcsec of the non-motion fit position of this WISE source. This is equivalent to the pts_key in the 2MASS PSC entry. This column is “null” if there is no 2MASS PSC source within 3 arcsec of the WISE source position."
   ]
  },
  {
   "cell_type": "code",
   "execution_count": 90,
   "metadata": {},
   "outputs": [
    {
     "name": "stdout",
     "output_type": "stream",
     "text": [
      "SELECT * FROM gaiadr2.gaia_source AS g, gaiadr2.allwise_best_neighbour AS wbest, gaiadr1.allwise_original_valid AS allwise, gaiadr1.tmass_original_valid AS tmass WHERE g.source_id = wbest.source_id AND wbest.allwise_oid = allwise.allwise_oid AND CONTAINS(POINT('ICRS',g.ra,g.dec),CIRCLE('ICRS',1.55789,-6.39315,1))=1AND allwise.tmass_key IS NOT NULL AND allwise.tmass_key = tmass.tmass_oid;\n",
      "Jobid: 1542989695550O\n",
      "Phase: COMPLETED\n",
      "Owner: None\n",
      "Output file: async_20181123131455.vot\n",
      "Results: None\n"
     ]
    }
   ],
   "source": [
    "cmd = \"SELECT * FROM gaiadr2.gaia_source AS g, \\\n",
    "gaiadr2.allwise_best_neighbour AS wbest, \\\n",
    "gaiadr1.allwise_original_valid AS allwise, \\\n",
    "gaiadr1.tmass_original_valid AS tmass \\\n",
    "WHERE g.source_id = wbest.source_id AND wbest.allwise_oid = allwise.allwise_oid AND CONTAINS(POINT('ICRS',g.ra,g.dec),\\\n",
    "CIRCLE('ICRS',\" + str(obj_ra) + \",\" + str(obj_dec) + \",\" + str(cone_radius) + \"))=1\\\n",
    "AND allwise.tmass_key IS NOT NULL \\\n",
    "AND allwise.tmass_key = tmass.tmass_oid;\"\n",
    "\n",
    "print(cmd)\n",
    "\n",
    "\n",
    "job = Gaia.launch_job_async(cmd, dump_to_file=True)\n",
    "print(job)"
   ]
  },
  {
   "cell_type": "code",
   "execution_count": 91,
   "metadata": {},
   "outputs": [
    {
     "name": "stdout",
     "output_type": "stream",
     "text": [
      "2990\n"
     ]
    }
   ],
   "source": [
    "r = job.get_results()\n",
    "print(len(r['source_id']))"
   ]
  },
  {
   "cell_type": "code",
   "execution_count": 8,
   "metadata": {},
   "outputs": [
    {
     "name": "stdout",
     "output_type": "stream",
     "text": [
      "['solution_id', 'designation', 'source_id', 'random_index', 'ref_epoch', 'ra', 'ra_error', 'dec', 'dec_error', 'parallax', 'parallax_error', 'parallax_over_error', 'pmra', 'pmra_error', 'pmdec', 'pmdec_error', 'ra_dec_corr', 'ra_parallax_corr', 'ra_pmra_corr', 'ra_pmdec_corr', 'dec_parallax_corr', 'dec_pmra_corr', 'dec_pmdec_corr', 'parallax_pmra_corr', 'parallax_pmdec_corr', 'pmra_pmdec_corr', 'astrometric_n_obs_al', 'astrometric_n_obs_ac', 'astrometric_n_good_obs_al', 'astrometric_n_bad_obs_al', 'astrometric_gof_al', 'astrometric_chi2_al', 'astrometric_excess_noise', 'astrometric_excess_noise_sig', 'astrometric_params_solved', 'astrometric_primary_flag', 'astrometric_weight_al', 'astrometric_pseudo_colour', 'astrometric_pseudo_colour_error', 'mean_varpi_factor_al', 'astrometric_matched_observations', 'visibility_periods_used', 'astrometric_sigma5d_max', 'frame_rotator_object_type', 'matched_observations', 'duplicated_source', 'phot_g_n_obs', 'phot_g_mean_flux', 'phot_g_mean_flux_error', 'phot_g_mean_flux_over_error', 'phot_g_mean_mag', 'phot_bp_n_obs', 'phot_bp_mean_flux', 'phot_bp_mean_flux_error', 'phot_bp_mean_flux_over_error', 'phot_bp_mean_mag', 'phot_rp_n_obs', 'phot_rp_mean_flux', 'phot_rp_mean_flux_error', 'phot_rp_mean_flux_over_error', 'phot_rp_mean_mag', 'phot_bp_rp_excess_factor', 'phot_proc_mode', 'bp_rp', 'bp_g', 'g_rp', 'radial_velocity', 'radial_velocity_error', 'rv_nb_transits', 'rv_template_teff', 'rv_template_logg', 'rv_template_fe_h', 'phot_variable_flag', 'l', 'b', 'ecl_lon', 'ecl_lat', 'priam_flags', 'teff_val', 'teff_percentile_lower', 'teff_percentile_upper', 'a_g_val', 'a_g_percentile_lower', 'a_g_percentile_upper', 'e_bp_min_rp_val', 'e_bp_min_rp_percentile_lower', 'e_bp_min_rp_percentile_upper', 'flame_flags', 'radius_val', 'radius_percentile_lower', 'radius_percentile_upper', 'lum_val', 'lum_percentile_lower', 'lum_percentile_upper', 'datalink_url', 'epoch_photometry_url', 'source_id_2', 'original_ext_source_id', 'angular_distance', 'gaia_astrometric_params', 'allwise_oid', 'number_of_neighbours', 'number_of_mates', 'best_neighbour_multiplicity', 'allwise_oid_2', 'designation_2', 'ra_2', 'dec_2', 'ra_error_2', 'dec_error_2', 'radec_co_error', 'w1mpro', 'w1mpro_error', 'w2mpro', 'w2mpro_error', 'w3mpro', 'w3mpro_error', 'w4mpro', 'w4mpro_error', 'cc_flags', 'ext_flag', 'var_flag', 'ph_qual', 'w1mjd_mean', 'w2mjd_mean', 'w3mjd_mean', 'w4mjd_mean', 'w1gmag', 'w1gmag_error', 'w2gmag', 'w2gmag_error', 'w3gmag', 'w3gmag_error', 'w4gmag', 'w4gmag_error', 'tmass_key']\n"
     ]
    }
   ],
   "source": [
    "print(r.colnames)"
   ]
  },
  {
   "cell_type": "code",
   "execution_count": 93,
   "metadata": {},
   "outputs": [
    {
     "data": {
      "text/html": [
       "<i>Table masked=True length=2990</i>\n",
       "<table id=\"table139825398623928\" class=\"table-striped table-bordered table-condensed\">\n",
       "<thead><tr><th>ra</th><th>dec</th><th>ra_2</th><th>dec_2</th><th>ra_3</th><th>dec_3</th><th>phot_g_mean_mag</th><th>j_m</th><th>w1mpro</th><th>tmass_key</th><th>tmass_oid</th></tr></thead>\n",
       "<thead><tr><th>deg</th><th>deg</th><th>deg</th><th>deg</th><th>deg</th><th>deg</th><th>mag</th><th>mag</th><th>mag</th><th></th><th></th></tr></thead>\n",
       "<thead><tr><th>float64</th><th>float64</th><th>float64</th><th>float64</th><th>float64</th><th>float64</th><th>float32</th><th>float32</th><th>float64</th><th>int64</th><th>int64</th></tr></thead>\n",
       "<tr><td>2.390732751830467</td><td>-6.546052592994798</td><td>2.3906145</td><td>-6.5460367</td><td>252.701422</td><td>-42.584721</td><td>19.06598</td><td>14.96</td><td>15.766</td><td>125705984</td><td>125705984</td></tr>\n",
       "<tr><td>2.4119940994386777</td><td>-6.754831866119</td><td>2.411886</td><td>-6.7547434</td><td>146.318281</td><td>-42.584644</td><td>19.486813</td><td>16.38</td><td>15.369</td><td>125706276</td><td>125706276</td></tr>\n",
       "<tr><td>2.5428858650859794</td><td>-6.5427542995979895</td><td>2.5428842</td><td>-6.5427375</td><td>240.113163</td><td>-42.580746</td><td>18.801517</td><td>16.472</td><td>15.798</td><td>125722213</td><td>125722213</td></tr>\n",
       "<tr><td>2.4657746243804772</td><td>-6.770026089663108</td><td>2.465796</td><td>-6.7700469</td><td>255.438205</td><td>-42.580818</td><td>17.345057</td><td>13.86</td><td>15.51</td><td>125721895</td><td>125721895</td></tr>\n",
       "<tr><td>2.3905290941368316</td><td>-6.77431073539794</td><td>2.3905771</td><td>-6.7742426</td><td>259.178725</td><td>-42.584637</td><td>18.668016</td><td>11.326</td><td>15.331</td><td>125706301</td><td>125706301</td></tr>\n",
       "<tr><td>2.3086280130046433</td><td>-6.561269746375928</td><td>2.3086345</td><td>-6.5612655</td><td>267.035809</td><td>-42.585201</td><td>16.346586</td><td>16.63</td><td>14.854</td><td>125704003</td><td>125704003</td></tr>\n",
       "<tr><td>2.5481475582031994</td><td>-6.547613323459481</td><td>2.5481413</td><td>-6.5476079</td><td>275.870923</td><td>-42.580746</td><td>15.356233</td><td>16.304</td><td>13.355</td><td>125722207</td><td>125722207</td></tr>\n",
       "<tr><td>2.471145860590163</td><td>-6.553873161367393</td><td>2.4711055</td><td>-6.5537591</td><td>253.782353</td><td>-42.58075</td><td>18.073174</td><td>16.214</td><td>15.543</td><td>125722199</td><td>125722199</td></tr>\n",
       "<tr><td>2.3531584034045467</td><td>-6.496694070310528</td><td>2.35315</td><td>-6.4966504</td><td>125.279659</td><td>-42.58474</td><td>18.862864</td><td>15.756</td><td>15.123</td><td>125705917</td><td>125705917</td></tr>\n",
       "<tr><td>...</td><td>...</td><td>...</td><td>...</td><td>...</td><td>...</td><td>...</td><td>...</td><td>...</td><td>...</td><td>...</td></tr>\n",
       "<tr><td>1.0653507106747422</td><td>-6.14642244210852</td><td>1.0653297</td><td>-6.1464063</td><td>260.055536</td><td>-26.092215</td><td>13.621286</td><td>12.704</td><td>11.423</td><td>197406677</td><td>197406677</td></tr>\n",
       "<tr><td>0.8479615508290679</td><td>-6.252237569464334</td><td>0.847914</td><td>-6.2522928</td><td>268.236348</td><td>-26.096642</td><td>18.423841</td><td>11.994</td><td>14.728</td><td>197387460</td><td>197387460</td></tr>\n",
       "<tr><td>1.0724744505610586</td><td>-6.211567849849865</td><td>1.0724463</td><td>-6.2115709</td><td>264.061407</td><td>-26.092234</td><td>19.513126</td><td>14.553</td><td>14.33</td><td>197406582</td><td>197406582</td></tr>\n",
       "<tr><td>0.6018944211121126</td><td>-6.436517039653039</td><td>0.6017666</td><td>-6.4363933</td><td>257.047412</td><td>-26.101406</td><td>16.745369</td><td>15.759</td><td>12.965</td><td>197366938</td><td>197366938</td></tr>\n",
       "<tr><td>0.6671745919113613</td><td>-6.359394287444525</td><td>0.6671289</td><td>-6.3593817</td><td>264.138232</td><td>-26.10074</td><td>13.980382</td><td>14.75</td><td>12.439</td><td>197369756</td><td>197369756</td></tr>\n",
       "<tr><td>0.6606070450355732</td><td>-6.4111852834660175</td><td>0.6606043</td><td>-6.4111919</td><td>43.476277</td><td>-26.100727</td><td>17.087976</td><td>15.878</td><td>14.108</td><td>197369818</td><td>197369818</td></tr>\n",
       "<tr><td>1.0389233265011801</td><td>-5.9664800233688675</td><td>1.0388</td><td>-5.9663429</td><td>262.741125</td><td>-26.09214</td><td>20.445963</td><td>14.321</td><td>16.241</td><td>197406970</td><td>197406970</td></tr>\n",
       "<tr><td>0.8307729230385131</td><td>-5.950652436885187</td><td>0.830828</td><td>-5.950611</td><td>267.626505</td><td>-26.096529</td><td>18.607597</td><td>15.111</td><td>15.513</td><td>197387954</td><td>197387954</td></tr>\n",
       "<tr><td>1.0232729605527533</td><td>-6.089713050882905</td><td>1.0232555</td><td>-6.0897141</td><td>120.549389</td><td>-26.092186</td><td>18.91203</td><td>16.174</td><td>13.489</td><td>197406768</td><td>197406768</td></tr>\n",
       "<tr><td>0.9370722898659803</td><td>-5.997659355493565</td><td>0.9370725</td><td>-5.9976247</td><td>251.642827</td><td>-26.096443</td><td>19.088543</td><td>15.379</td><td>15.864</td><td>197388330</td><td>197388330</td></tr>\n",
       "</table>"
      ],
      "text/plain": [
       "<Table masked=True length=2990>\n",
       "        ra                 dec            ra_2   ...  w1mpro tmass_key tmass_oid\n",
       "       deg                 deg            deg    ...   mag                      \n",
       "     float64             float64        float64  ... float64   int64     int64  \n",
       "------------------ ------------------- --------- ... ------- --------- ---------\n",
       " 2.390732751830467  -6.546052592994798 2.3906145 ...  15.766 125705984 125705984\n",
       "2.4119940994386777     -6.754831866119  2.411886 ...  15.369 125706276 125706276\n",
       "2.5428858650859794 -6.5427542995979895 2.5428842 ...  15.798 125722213 125722213\n",
       "2.4657746243804772  -6.770026089663108  2.465796 ...   15.51 125721895 125721895\n",
       "2.3905290941368316   -6.77431073539794 2.3905771 ...  15.331 125706301 125706301\n",
       "2.3086280130046433  -6.561269746375928 2.3086345 ...  14.854 125704003 125704003\n",
       "2.5481475582031994  -6.547613323459481 2.5481413 ...  13.355 125722207 125722207\n",
       " 2.471145860590163  -6.553873161367393 2.4711055 ...  15.543 125722199 125722199\n",
       "2.3531584034045467  -6.496694070310528   2.35315 ...  15.123 125705917 125705917\n",
       "               ...                 ...       ... ...     ...       ...       ...\n",
       "1.0653507106747422   -6.14642244210852 1.0653297 ...  11.423 197406677 197406677\n",
       "0.8479615508290679  -6.252237569464334  0.847914 ...  14.728 197387460 197387460\n",
       "1.0724744505610586  -6.211567849849865 1.0724463 ...   14.33 197406582 197406582\n",
       "0.6018944211121126  -6.436517039653039 0.6017666 ...  12.965 197366938 197366938\n",
       "0.6671745919113613  -6.359394287444525 0.6671289 ...  12.439 197369756 197369756\n",
       "0.6606070450355732 -6.4111852834660175 0.6606043 ...  14.108 197369818 197369818\n",
       "1.0389233265011801 -5.9664800233688675    1.0388 ...  16.241 197406970 197406970\n",
       "0.8307729230385131  -5.950652436885187  0.830828 ...  15.513 197387954 197387954\n",
       "1.0232729605527533  -6.089713050882905 1.0232555 ...  13.489 197406768 197406768\n",
       "0.9370722898659803  -5.997659355493565 0.9370725 ...  15.864 197388330 197388330"
      ]
     },
     "execution_count": 93,
     "metadata": {},
     "output_type": "execute_result"
    }
   ],
   "source": [
    "r['ra', 'dec', 'ra_2', 'dec_2', 'ra_3', 'dec_3', 'phot_g_mean_mag', 'j_m', 'w1mpro', 'tmass_key', 'tmass_oid']"
   ]
  },
  {
   "cell_type": "markdown",
   "metadata": {},
   "source": [
    "## tmass_key is NOT the same with tmass_oid!"
   ]
  },
  {
   "cell_type": "code",
   "execution_count": null,
   "metadata": {},
   "outputs": [],
   "source": []
  }
 ],
 "metadata": {
  "kernelspec": {
   "display_name": "Python 3",
   "language": "python",
   "name": "python3"
  },
  "language_info": {
   "codemirror_mode": {
    "name": "ipython",
    "version": 3
   },
   "file_extension": ".py",
   "mimetype": "text/x-python",
   "name": "python",
   "nbconvert_exporter": "python",
   "pygments_lexer": "ipython3",
   "version": "3.6.5"
  }
 },
 "nbformat": 4,
 "nbformat_minor": 2
}
