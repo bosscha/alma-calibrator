{
 "cells": [
  {
   "cell_type": "code",
   "execution_count": 1,
   "metadata": {},
   "outputs": [],
   "source": [
    "import numpy as np\n",
    "import pandas as pd\n",
    "\n",
    "from astropy import coordinates\n",
    "from astropy.coordinates import match_coordinates_sky\n",
    "import astropy.units as u\n",
    "import astroquery\n",
    "from astroquery.irsa import Irsa\n",
    "from astroquery.vizier import Vizier\n",
    "from astropy.table import Table, join\n",
    "\n",
    "Irsa.ROW_LIMIT = -1\n",
    "Vizier.ROW_LIMIT = -1\n",
    "\n",
    "import matplotlib.pyplot as plt\n",
    "\n",
    "%matplotlib inline"
   ]
  },
  {
   "cell_type": "markdown",
   "metadata": {},
   "source": [
    "# Get the data\n",
    "\n",
    "2MASS => J, H K, angular resolution ~4\"\n",
    "\n",
    "WISE => 3.4, 4.6, 12, and 22 μm (W1, W2, W3, W4) with an angular resolution of 6.1\", 6.4\", 6.5\", & 12.0\" \n",
    "\n",
    "GALEX imaging => Five imaging surveys in a Far UV band (1350-1750Å) and Near UV band (1750-2800Å) with 6-8 arcsecond resolution (80% encircled energy) and 1 arcsecond astrometry, and a cosmic UV background map."
   ]
  },
  {
   "cell_type": "code",
   "execution_count": 2,
   "metadata": {},
   "outputs": [],
   "source": [
    "#obj = [\"3C 454.3\", 343.49062, 16.14821, 1.0]\n",
    "#obj = [\"PKS J0006-0623\", 1.55789, -6.39315, 1.0]\n",
    "obj = [\"M87\", 187.705930, 12.391123, 1.0]\n",
    "#### name, ra, dec, radius of cone\n",
    "\n",
    "obj_name = obj[0]\n",
    "obj_ra   = obj[1]\n",
    "obj_dec  = obj[2]\n",
    "cone_radius  = obj[3]"
   ]
  },
  {
   "cell_type": "code",
   "execution_count": 3,
   "metadata": {},
   "outputs": [],
   "source": [
    "obj_coord = coordinates.SkyCoord(ra=obj_ra, dec=obj_dec, unit=(u.deg, u.deg), frame=\"icrs\")"
   ]
  },
  {
   "cell_type": "code",
   "execution_count": 4,
   "metadata": {},
   "outputs": [],
   "source": [
    "data_2mass = Irsa.query_region(obj_coord, catalog=\"fp_psc\", radius=cone_radius * u.deg)\n",
    "data_wise  = Irsa.query_region(obj_coord, catalog=\"allwise_p3as_psd\", radius=cone_radius * u.deg)\n",
    "__data_galex = Vizier.query_region(obj_coord, catalog='II/335', radius=cone_radius * u.deg)\n",
    "data_galex = __data_galex[0]"
   ]
  },
  {
   "cell_type": "code",
   "execution_count": 5,
   "metadata": {},
   "outputs": [
    {
     "name": "stdout",
     "output_type": "stream",
     "text": [
      "Number of object in (2MASS, WISE, GALEX):  4511 44660 9132\n"
     ]
    }
   ],
   "source": [
    "num_2mass = len(data_2mass)\n",
    "num_wise  = len(data_wise)\n",
    "num_galex = len(data_galex)\n",
    "\n",
    "print(\"Number of object in (2MASS, WISE, GALEX): \", num_2mass, num_wise, num_galex)"
   ]
  },
  {
   "cell_type": "markdown",
   "metadata": {},
   "source": [
    "# Matching coordinates"
   ]
  },
  {
   "cell_type": "code",
   "execution_count": 6,
   "metadata": {},
   "outputs": [],
   "source": [
    "# use only coordinate columns\n",
    "ra_2mass = data_2mass['ra']\n",
    "dec_2mass = data_2mass['dec']\n",
    "c_2mass = coordinates.SkyCoord(ra=ra_2mass, dec=dec_2mass, unit=(u.deg, u.deg), frame=\"icrs\")\n",
    "\n",
    "ra_wise  = data_wise['ra']\n",
    "dec_wise = data_wise['dec']\n",
    "c_wise = coordinates.SkyCoord(ra=ra_wise, dec=dec_wise, unit=(u.deg, u.deg), frame=\"icrs\")\n",
    "\n",
    "ra_galex  = data_galex['RAJ2000']\n",
    "dec_galex = data_galex['DEJ2000']\n",
    "c_galex = coordinates.SkyCoord(ra=ra_galex, dec=dec_galex, unit=(u.deg, u.deg), frame=\"icrs\")"
   ]
  },
  {
   "cell_type": "code",
   "execution_count": 7,
   "metadata": {},
   "outputs": [],
   "source": [
    "####\n",
    "sep_min = 1.0 * u.arcsec # minimum separation in arcsec"
   ]
  },
  {
   "cell_type": "code",
   "execution_count": 8,
   "metadata": {},
   "outputs": [
    {
     "name": "stdout",
     "output_type": "stream",
     "text": [
      "Only 2MASS and WISE:  4012\n"
     ]
    }
   ],
   "source": [
    "# Only 2MASS and WISE matching \n",
    "#\n",
    "idx_2mass, idx_wise, d2d, d3d = c_wise.search_around_sky(c_2mass, sep_min)\n",
    "# select only one nearest if there are more in the search reagion (minimum seperation parameter)!\n",
    "\n",
    "print(\"Only 2MASS and WISE: \", len(idx_2mass))"
   ]
  },
  {
   "cell_type": "markdown",
   "metadata": {},
   "source": [
    "### Plot $W_1-J$ vs $W_1$"
   ]
  },
  {
   "cell_type": "code",
   "execution_count": 20,
   "metadata": {},
   "outputs": [
    {
     "name": "stdout",
     "output_type": "stream",
     "text": [
      "Number of galaxy from cut W1-J: 549\n"
     ]
    }
   ],
   "source": [
    "# from matching of 2 cats (2MASS and WISE) coordinate\n",
    "w1 = data_wise[idx_wise]['w1mpro']\n",
    "j = data_2mass[idx_2mass]['j_m']\n",
    "w1j = w1-j\n",
    "\n",
    "# match between WISE and 2MASS\n",
    "data_wise_matchwith_2mass = data_wise[idx_wise] # WISE dataset\n",
    "\n",
    "cutw1j = -1.7\n",
    "\n",
    "galaxy = data_wise_matchwith_2mass[w1j < cutw1j] # https://academic.oup.com/mnras/article/448/2/1305/1055284\n",
    "print(\"Number of galaxy from cut W1-J:\", len(galaxy))"
   ]
  },
  {
   "cell_type": "code",
   "execution_count": 10,
   "metadata": {},
   "outputs": [
    {
     "data": {
      "text/plain": [
       "<matplotlib.lines.Line2D at 0x7f64303e4eb8>"
      ]
     },
     "execution_count": 10,
     "metadata": {},
     "output_type": "execute_result"
    },
    {
     "data": {
      "image/png": "[encoded data removed]",
      "text/plain": [
       "<Figure size 432x288 with 1 Axes>"
      ]
     },
     "metadata": {},
     "output_type": "display_data"
    }
   ],
   "source": [
    "w1j_galaxy = w1j[w1j<cutw1j]\n",
    "w1_galaxy = w1[w1j<cutw1j]\n",
    "\n",
    "plt.scatter(w1j, w1, marker='o', color='blue')\n",
    "plt.scatter(w1j_galaxy, w1_galaxy, marker='.', color=\"red\")\n",
    "          \n",
    "plt.axvline(x=cutw1j) # https://academic.oup.com/mnras/article/448/2/1305/1055284"
   ]
  },
  {
   "cell_type": "markdown",
   "metadata": {},
   "source": [
    "- W1-J < -1.7 => galaxy\n",
    "- W1-J > -1.7 => stars"
   ]
  },
  {
   "cell_type": "code",
   "execution_count": 11,
   "metadata": {},
   "outputs": [
    {
     "name": "stdout",
     "output_type": "stream",
     "text": [
      "Number of GALEX match in 2MASS cut (with WISE):  656\n",
      "Number of GALEX match in WISE cut (with 2MASS):  644\n",
      "Confusion level:  1.8461538461538463 %\n"
     ]
    }
   ],
   "source": [
    "# GALEX\n",
    "###\n",
    "# coord of object in 2mass which match wise (first objet/nearest in sep_min region)\n",
    "c_2mass_matchwith_wise = c_2mass[idx_2mass]\n",
    "c_wise_matchwith_2mass = c_wise[idx_wise]\n",
    "\n",
    "#Check with 2mass cut\n",
    "idx_2mass_wise_galex, idx_galex1, d2d, d3d = c_galex.search_around_sky(c_2mass_matchwith_wise, sep_min)\n",
    "num_galex1 = len(idx_galex1)\n",
    "#Check with wise cut\n",
    "idx_wise_2mass_galex, idx_galex2, d2d, d3d = c_galex.search_around_sky(c_wise_matchwith_2mass, sep_min)\n",
    "num_galex2 = len(idx_galex2)\n",
    "\n",
    "print(\"Number of GALEX match in 2MASS cut (with WISE): \", num_galex1)\n",
    "print(\"Number of GALEX match in WISE cut (with 2MASS): \", num_galex2)\n",
    "\n",
    "# diff/average\n",
    "print(\"Confusion level: \", abs(num_galex1 - num_galex2)/np.mean([num_galex1, num_galex2])*100, \"%\")"
   ]
  },
  {
   "cell_type": "markdown",
   "metadata": {},
   "source": [
    "# Filter all Cats"
   ]
  },
  {
   "cell_type": "code",
   "execution_count": 12,
   "metadata": {},
   "outputs": [
    {
     "name": "stdout",
     "output_type": "stream",
     "text": [
      "Number of match in GALEX:  644\n",
      "Number of match in 2MASS:  644\n",
      "Number of match in WISE :  644\n"
     ]
    }
   ],
   "source": [
    "# Choose which one is smaller!\n",
    "if num_galex1 < num_galex2:\n",
    "    select_from_galex = idx_galex1\n",
    "    \n",
    "    match_galex = data_galex[select_from_galex]\n",
    "    c_selected_galex = c_galex[select_from_galex]\n",
    "    \n",
    "    # 2MASS from GALEX_selected\n",
    "    _idx_galex1, _idx_2mass, d2d, d3d = c_2mass.search_around_sky(c_selected_galex, sep_min)\n",
    "    match_2mass = data_2mass[_idx_2mass]\n",
    "    \n",
    "    # WISE from 2MASS_selected\n",
    "    _ra_match_2mass = match_2mass['ra']\n",
    "    _dec_match_2mass = match_2mass['dec']\n",
    "    _c_match_2mass = coordinates.SkyCoord(ra=_ra_match_2mass, dec=_dec_match_2mass, unit=(u.deg, u.deg), frame=\"icrs\")\n",
    "\n",
    "    _idx, _idx_wise, d2d, d3d = c_wise.search_around_sky(_c_match_2mass, sep_min)\n",
    "    match_wise = data_wise[_idx_wise]\n",
    "    \n",
    "else:\n",
    "    select_from_galex = idx_galex2\n",
    "\n",
    "    match_galex = data_galex[select_from_galex]\n",
    "    c_selected_galex = c_galex[select_from_galex]\n",
    "    \n",
    "    # WISE from GALEX_selected\n",
    "    _idx_galex1, _idx_wise, d2d, d3d = c_wise.search_around_sky(c_selected_galex, sep_min)\n",
    "    match_wise = data_wise[_idx_wise]\n",
    "    \n",
    "    # 2MASS from WISE_selected\n",
    "    _ra_match_wise = match_wise['ra']\n",
    "    _dec_match_wise = match_wise['dec']\n",
    "    _c_match_wise = coordinates.SkyCoord(ra=_ra_match_wise, dec=_dec_match_wise, unit=(u.deg, u.deg), frame=\"icrs\")\n",
    "\n",
    "    _idx, _idx_2mass, d2d, d3d = c_2mass.search_around_sky(_c_match_wise, sep_min)\n",
    "    match_2mass = data_2mass[_idx_2mass]\n",
    "\n",
    "print(\"Number of match in GALEX: \", len(match_galex))\n",
    "print(\"Number of match in 2MASS: \", len(match_2mass))\n",
    "print(\"Number of match in WISE : \", len(match_wise))"
   ]
  },
  {
   "cell_type": "markdown",
   "metadata": {},
   "source": [
    "# Collect relevant data"
   ]
  },
  {
   "cell_type": "code",
   "execution_count": 13,
   "metadata": {},
   "outputs": [],
   "source": [
    "joindata = np.array([match_2mass['j_m'], \n",
    "                  match_2mass['j_m']-match_2mass['h_m'], \n",
    "                  match_2mass['j_m']-match_2mass['k_m'],\n",
    "                  match_2mass['j_m']-match_wise['w1mpro'], \n",
    "                  match_2mass['j_m']-match_wise['w2mpro'],\n",
    "                  match_2mass['j_m']-match_wise['w3mpro'],\n",
    "                  match_2mass['j_m']-match_wise['w4mpro'],\n",
    "                  match_2mass['j_m']-match_galex['NUVmag']])\n",
    "\n",
    "joindata = joindata.T"
   ]
  },
  {
   "cell_type": "markdown",
   "metadata": {},
   "source": [
    "# Analysis"
   ]
  },
  {
   "cell_type": "markdown",
   "metadata": {},
   "source": [
    "### PCA"
   ]
  },
  {
   "cell_type": "code",
   "execution_count": 14,
   "metadata": {},
   "outputs": [],
   "source": [
    "from sklearn import datasets\n",
    "from sklearn.decomposition import PCA\n",
    "from sklearn.preprocessing import scale\n",
    "\n",
    "X = scale(joindata)\n",
    "\n",
    "pca = PCA(n_components=2)\n",
    "X_r = pca.fit(X).transform(X)"
   ]
  },
  {
   "cell_type": "code",
   "execution_count": 15,
   "metadata": {},
   "outputs": [
    {
     "data": {
      "image/png": "[encoded data removed]",
      "text/plain": [
       "<Figure size 432x288 with 1 Axes>"
      ]
     },
     "metadata": {},
     "output_type": "display_data"
    }
   ],
   "source": [
    "plt.scatter(X_r[:,0], X_r[:,1], marker='o', color='blue')\n",
    "for i, name in enumerate(match_wise['designation']):\n",
    "    for galaxyname in galaxy['designation']:\n",
    "        if name == galaxyname:\n",
    "            plt.scatter(X_r[i,0], X_r[i,1], marker=\"*\", color=\"red\", )  "
   ]
  },
  {
   "cell_type": "markdown",
   "metadata": {},
   "source": [
    "### DBSCAN"
   ]
  },
  {
   "cell_type": "code",
   "execution_count": 23,
   "metadata": {},
   "outputs": [
    {
     "name": "stdout",
     "output_type": "stream",
     "text": [
      "Estimated number of clusters: 2\n"
     ]
    }
   ],
   "source": [
    "from sklearn.cluster import DBSCAN\n",
    "from sklearn.preprocessing import StandardScaler\n",
    "\n",
    "X = joindata #scale(joindata)\n",
    "\n",
    "db = DBSCAN(eps=1, min_samples=3).fit(X)\n",
    "\n",
    "core_samples_mask = np.zeros_like(db.labels_, dtype=bool)\n",
    "core_samples_mask[db.core_sample_indices_] = True\n",
    "labels = db.labels_\n",
    "\n",
    "# Number of clusters in labels, ignoring noise if present.\n",
    "n_clusters_ = len(set(labels)) - (1 if -1 in labels else 0)\n",
    "\n",
    "print('Estimated number of clusters: %d' % n_clusters_)\n",
    "#print(labels)"
   ]
  },
  {
   "cell_type": "markdown",
   "metadata": {},
   "source": [
    "#### Plot $J-W_1$ vs $J$"
   ]
  },
  {
   "cell_type": "code",
   "execution_count": 24,
   "metadata": {},
   "outputs": [
    {
     "data": {
      "image/png": "[encoded data removed]",
      "text/plain": [
       "<Figure size 432x288 with 1 Axes>"
      ]
     },
     "metadata": {},
     "output_type": "display_data"
    }
   ],
   "source": [
    "# Black removed and is used for noise instead.\n",
    "unique_labels = set(labels)\n",
    "colors = [plt.cm.Spectral(each) for each in np.linspace(0, 1, len(unique_labels))]\n",
    "for k, col in zip(unique_labels, colors):\n",
    "    if k == -1:\n",
    "        # Black used for noise.\n",
    "        col = [0, 0, 0, 1]\n",
    "\n",
    "    class_member_mask = (labels == k)\n",
    "\n",
    "    \n",
    "    ## J vs J-W1\n",
    "    \n",
    "    xy = X[class_member_mask & core_samples_mask]\n",
    "    plt.plot(xy[:, 3], xy[:, 0], 'o', markerfacecolor=tuple(col), markeredgecolor='k', markersize=14)\n",
    "\n",
    "    xy = X[class_member_mask & ~core_samples_mask]\n",
    "    plt.plot(xy[:, 3], xy[:, 0], 'o', markerfacecolor=tuple(col), markeredgecolor='k', markersize=8)\n",
    "    \n",
    "for i, name in enumerate(match_wise['designation']):\n",
    "    for galaxyname in galaxy['designation']:\n",
    "        if name == galaxyname:\n",
    "            plt.plot(X[i,3], X[i,0], marker=\"X\", markerfacecolor='red', markeredgecolor='none', markersize=8)  \n",
    "\n",
    "plt.title('Estimated number of clusters: %d' % n_clusters_)\n",
    "plt.show()"
   ]
  },
  {
   "cell_type": "markdown",
   "metadata": {},
   "source": [
    "### t-SNE"
   ]
  },
  {
   "cell_type": "code",
   "execution_count": 21,
   "metadata": {},
   "outputs": [],
   "source": [
    "from sklearn.manifold import TSNE\n",
    "X = joindata #scale(joindata)\n",
    "X_r = TSNE(n_components=2).fit_transform(X)"
   ]
  },
  {
   "cell_type": "code",
   "execution_count": 22,
   "metadata": {},
   "outputs": [
    {
     "data": {
      "image/png": "[encoded data removed]",
      "text/plain": [
       "<Figure size 432x288 with 1 Axes>"
      ]
     },
     "metadata": {},
     "output_type": "display_data"
    }
   ],
   "source": [
    "plt.scatter(X_r[:,0], X_r[:,1], marker='o', color=\"blue\")\n",
    "for i, name in enumerate(match_wise['designation']):\n",
    "    for galaxyname in galaxy['designation']:\n",
    "        if name == galaxyname:\n",
    "            plt.scatter(X_r[i,0], X_r[i,1], marker='*', color=\"red\")  "
   ]
  },
  {
   "cell_type": "code",
   "execution_count": null,
   "metadata": {},
   "outputs": [],
   "source": []
  }
 ],
 "metadata": {
  "kernelspec": {
   "display_name": "Python 3",
   "language": "python",
   "name": "python3"
  },
  "language_info": {
   "codemirror_mode": {
    "name": "ipython",
    "version": 3
   },
   "file_extension": ".py",
   "mimetype": "text/x-python",
   "name": "python",
   "nbconvert_exporter": "python",
   "pygments_lexer": "ipython3",
   "version": "3.6.5"
  }
 },
 "nbformat": 4,
 "nbformat_minor": 2
}
