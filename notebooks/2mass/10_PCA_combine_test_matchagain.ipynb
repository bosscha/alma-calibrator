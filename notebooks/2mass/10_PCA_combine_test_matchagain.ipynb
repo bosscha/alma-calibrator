{
 "cells": [
  {
   "cell_type": "code",
   "execution_count": 34,
   "metadata": {},
   "outputs": [],
   "source": [
    "import numpy as np\n",
    "import pandas as pd\n",
    "\n",
    "from astropy import coordinates\n",
    "from astropy.coordinates import match_coordinates_sky\n",
    "import astropy.units as u\n",
    "import astroquery\n",
    "from astroquery.irsa import Irsa\n",
    "from astroquery.vizier import Vizier\n",
    "from astropy.table import Table, join\n",
    "\n",
    "Irsa.ROW_LIMIT = -1\n",
    "Vizier.ROW_LIMIT = -1\n",
    "\n",
    "import matplotlib.pyplot as plt\n",
    "\n",
    "%matplotlib inline"
   ]
  },
  {
   "cell_type": "markdown",
   "metadata": {},
   "source": [
    "# Get the data\n",
    "\n",
    "2MASS => effective resolution of the 2MASS system is approximately 5\"\n",
    "\n",
    "WISE => 3.4, 4.6, 12, and 22 μm (W1, W2, W3, W4) with an angular resolution of 6.1\", 6.4\", 6.5\", & 12.0\" \n",
    "\n",
    "GALEX imaging => Five imaging surveys in a Far UV band (1350—1750Å) and Near UV band (1750—2800Å) with 6-8 arcsecond resolution (80% encircled energy) and 1 arcsecond astrometry, and a cosmic UV background map."
   ]
  },
  {
   "cell_type": "code",
   "execution_count": 35,
   "metadata": {},
   "outputs": [],
   "source": [
    "obj = [\"PKS J0006-0623\", 1.55789, -6.39315, 1]\n",
    "# name, ra, dec, radius of cone\n",
    "obj_name = obj[0]\n",
    "obj_ra   = obj[1]\n",
    "obj_dec  = obj[2]\n",
    "cone_radius  = obj[3]"
   ]
  },
  {
   "cell_type": "code",
   "execution_count": 36,
   "metadata": {},
   "outputs": [],
   "source": [
    "obj_coord = coordinates.SkyCoord(ra=obj_ra, dec=obj_dec, unit=(u.deg, u.deg), frame=\"icrs\")"
   ]
  },
  {
   "cell_type": "code",
   "execution_count": 37,
   "metadata": {},
   "outputs": [],
   "source": [
    "data_2mass = Irsa.query_region(obj_coord, catalog=\"fp_psc\", radius=cone_radius * u.deg)\n",
    "data_wise  = Irsa.query_region(obj_coord, catalog=\"allwise_p3as_psd\", radius=cone_radius * u.deg)\n",
    "__data_galex = Vizier.query_region(obj_coord, catalog='II/335', radius=cone_radius * u.deg)\n",
    "data_galex = __data_galex[0]"
   ]
  },
  {
   "cell_type": "code",
   "execution_count": 38,
   "metadata": {},
   "outputs": [
    {
     "name": "stdout",
     "output_type": "stream",
     "text": [
      "Number of object in (2MASS, WISE, GALEX):  4802 38322 10105\n"
     ]
    }
   ],
   "source": [
    "num_2mass = len(data_2mass)\n",
    "num_wise  = len(data_wise)\n",
    "num_galex = len(data_galex)\n",
    "\n",
    "print(\"Number of object in (2MASS, WISE, GALEX): \", num_2mass, num_wise, num_galex)"
   ]
  },
  {
   "cell_type": "markdown",
   "metadata": {},
   "source": [
    "# Matching coordinates"
   ]
  },
  {
   "cell_type": "code",
   "execution_count": 60,
   "metadata": {},
   "outputs": [],
   "source": [
    "# use only coordinate columns\n",
    "ra_2mass = data_2mass['ra']\n",
    "dec_2mass = data_2mass['dec']\n",
    "c_2mass = coordinates.SkyCoord(ra=ra_2mass, dec=dec_2mass, unit=(u.deg, u.deg), frame=\"icrs\")\n",
    "\n",
    "ra_wise  = data_wise['ra']\n",
    "dec_wise = data_wise['dec']\n",
    "c_wise = coordinates.SkyCoord(ra=ra_wise, dec=dec_wise, unit=(u.deg, u.deg), frame=\"icrs\")\n",
    "\n",
    "ra_galex  = data_galex['RAJ2000']\n",
    "dec_galex = data_galex['DEJ2000']\n",
    "c_galex = coordinates.SkyCoord(ra=ra_galex, dec=dec_galex, unit=(u.deg, u.deg), frame=\"icrs\")"
   ]
  },
  {
   "cell_type": "code",
   "execution_count": 61,
   "metadata": {},
   "outputs": [],
   "source": [
    "####\n",
    "sep_min = 6.0 * u.arcsec # minimum separation in arcsec"
   ]
  },
  {
   "cell_type": "code",
   "execution_count": 62,
   "metadata": {},
   "outputs": [
    {
     "name": "stdout",
     "output_type": "stream",
     "text": [
      "Only 2MASS and WISE:  4660\n"
     ]
    }
   ],
   "source": [
    "# Only 2MASS and WISE matching \n",
    "#\n",
    "idx_2mass, idx_wise, d2d, d3d = c_wise.search_around_sky(c_2mass, sep_min)\n",
    "# select only one nearest if there are more in the search reagion (minimum seperation parameter)!\n",
    "\n",
    "print(\"Only 2MASS and WISE: \", len(idx_2mass))"
   ]
  },
  {
   "cell_type": "markdown",
   "metadata": {},
   "source": [
    "# Plot W1-J vs W1"
   ]
  },
  {
   "cell_type": "code",
   "execution_count": 63,
   "metadata": {},
   "outputs": [],
   "source": [
    "# from matching of 2 cats (2MASS and WISE) coordinate\n",
    "w1 = data_wise[idx_wise]['w1mpro']\n",
    "j = data_2mass[idx_2mass]['j_m']\n",
    "w1j = w1-j\n",
    "\n",
    "# match between WISE and 2MASS\n",
    "data_wise_matchwith_2mass = data_wise[idx_wise] # WISE dataset\n",
    "\n",
    "cutw1j = -1.7\n",
    "\n",
    "galaxy = data_wise_matchwith_2mass[w1j < cutw1j] # https://academic.oup.com/mnras/article/448/2/1305/1055284"
   ]
  },
  {
   "cell_type": "code",
   "execution_count": 64,
   "metadata": {},
   "outputs": [
    {
     "data": {
      "text/plain": [
       "<matplotlib.lines.Line2D at 0x7fa786eab7b8>"
      ]
     },
     "execution_count": 64,
     "metadata": {},
     "output_type": "execute_result"
    },
    {
     "data": {
      "image/png": "[encoded data removed]",
      "text/plain": [
       "<Figure size 432x288 with 1 Axes>"
      ]
     },
     "metadata": {},
     "output_type": "display_data"
    }
   ],
   "source": [
    "w1j_galaxy = w1j[w1j<cutw1j]\n",
    "w1_galaxy = w1[w1j<cutw1j]\n",
    "\n",
    "plt.scatter(w1j, w1, marker='o', color='blue')\n",
    "plt.scatter(w1j_galaxy, w1_galaxy, marker='.', color=\"red\")\n",
    "          \n",
    "plt.axvline(x=cutw1j) # https://academic.oup.com/mnras/article/448/2/1305/1055284"
   ]
  },
  {
   "cell_type": "markdown",
   "metadata": {},
   "source": [
    "- W1-J < -1.7 => galaxy\n",
    "- W1-J > -1.7 => stars\n",
    "\n",
    "only 2 object are galaxy?"
   ]
  },
  {
   "cell_type": "code",
   "execution_count": 65,
   "metadata": {},
   "outputs": [
    {
     "name": "stdout",
     "output_type": "stream",
     "text": [
      "Number of match in 2MASS cut (with WISE):  1548\n",
      "Number of match in WISE cut (with 2MASS):  1557\n",
      "Confusion level:  0.5797101449275363 %\n"
     ]
    }
   ],
   "source": [
    "# GALEX\n",
    "###\n",
    "# coord of object in 2mass which match wise (first objet/nearest in sep_min region)\n",
    "c_2mass_matchwith_wise = c_2mass[idx_2mass]\n",
    "c_wise_matchwith_2mass = c_wise[idx_wise]\n",
    "\n",
    "#Check with 2mass cut\n",
    "idx_2mass_wise_galex, idx_galex1, d2d, d3d = c_galex.search_around_sky(c_2mass_matchwith_wise, sep_min)\n",
    "num_galex1 = len(idx_galex1)\n",
    "#Check with wise cut\n",
    "idx_wise_2mass_galex, idx_galex2, d2d, d3d = c_galex.search_around_sky(c_wise_matchwith_2mass, sep_min)\n",
    "num_galex2 = len(idx_galex2)\n",
    "\n",
    "print(\"Number of match in 2MASS cut (with WISE): \", num_galex1)\n",
    "print(\"Number of match in WISE cut (with 2MASS): \", num_galex2)\n",
    "\n",
    "# diff/average\n",
    "print(\"Confusion level: \", abs(num_galex1 - num_galex2)/np.mean([num_galex1, num_galex2])*100, \"%\")"
   ]
  },
  {
   "cell_type": "markdown",
   "metadata": {},
   "source": [
    "# Filter all Cats"
   ]
  },
  {
   "cell_type": "code",
   "execution_count": 66,
   "metadata": {},
   "outputs": [
    {
     "name": "stdout",
     "output_type": "stream",
     "text": [
      "1548\n",
      "Number of match in GALEX:  1548\n",
      "Number of match in 2MASS:  1626\n",
      "Number of match in WISE :  1612\n"
     ]
    }
   ],
   "source": [
    "# Choose which one is smaller!\n",
    "if num_galex1 < num_galex2:\n",
    "    select_from_galex = idx_galex1\n",
    "else:\n",
    "    select_from_galex = idx_galex2\n",
    "\n",
    "print(len(select_from_galex))\n",
    "match_galex = data_galex[select_from_galex]\n",
    "c_selected_galex = c_galex[select_from_galex]\n",
    "\n",
    "# Select other catalog using GALEX again\n",
    "# 2MASS\n",
    "idx_2mass, idx_galex1, d2d, d3d = c_2mass.search_around_sky(c_selected_galex, sep_min)\n",
    "\n",
    "# WISE\n",
    "idx_wise, idx_galex2, d2d, d3d = c_wise.search_around_sky(c_selected_galex, sep_min)\n",
    "\n",
    "\n",
    "print(\"Number of match in GALEX: \", len(c_selected_galex))\n",
    "print(\"Number of match in 2MASS: \", len(idx_2mass))\n",
    "print(\"Number of match in WISE : \", len(idx_wise))"
   ]
  },
  {
   "cell_type": "code",
   "execution_count": null,
   "metadata": {},
   "outputs": [],
   "source": []
  }
 ],
 "metadata": {
  "kernelspec": {
   "display_name": "Python 3",
   "language": "python",
   "name": "python3"
  },
  "language_info": {
   "codemirror_mode": {
    "name": "ipython",
    "version": 3
   },
   "file_extension": ".py",
   "mimetype": "text/x-python",
   "name": "python",
   "nbconvert_exporter": "python",
   "pygments_lexer": "ipython3",
   "version": "3.6.5"
  }
 },
 "nbformat": 4,
 "nbformat_minor": 2
}
