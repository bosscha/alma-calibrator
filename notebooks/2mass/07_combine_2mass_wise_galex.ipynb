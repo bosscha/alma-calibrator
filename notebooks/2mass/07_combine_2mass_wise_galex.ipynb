{
 "cells": [
  {
   "cell_type": "code",
   "execution_count": 19,
   "metadata": {},
   "outputs": [],
   "source": [
    "import numpy as np\n",
    "import pandas as pd\n",
    "\n",
    "from astropy import coordinates\n",
    "from astropy.coordinates import match_coordinates_sky\n",
    "import astropy.units as u\n",
    "import astroquery\n",
    "from astroquery.irsa import Irsa\n",
    "from astroquery.vizier import Vizier\n",
    "\n",
    "Irsa.ROW_LIMIT = -1\n",
    "Vizier.ROW_LIMIT = -1\n",
    "\n",
    "import matplotlib.pyplot as plt\n",
    "\n",
    "%matplotlib inline"
   ]
  },
  {
   "cell_type": "markdown",
   "metadata": {},
   "source": [
    "# Get the data"
   ]
  },
  {
   "cell_type": "code",
   "execution_count": 2,
   "metadata": {},
   "outputs": [],
   "source": [
    "obj = [\"3C 454.3\", 343.49062, 16.14821, 4./60.]\n",
    "# name, ra, dec, radius of cone\n",
    "obj_name = obj[0]\n",
    "obj_ra   = obj[1]\n",
    "obj_dec  = obj[2]\n",
    "cone_radius  = obj[3]"
   ]
  },
  {
   "cell_type": "code",
   "execution_count": 3,
   "metadata": {},
   "outputs": [],
   "source": [
    "obj_coord = coordinates.SkyCoord(ra=obj_ra, dec=obj_dec, unit=(u.deg, u.deg), frame=\"icrs\")"
   ]
  },
  {
   "cell_type": "code",
   "execution_count": 12,
   "metadata": {},
   "outputs": [],
   "source": [
    "data_2mass = Irsa.query_region(obj_coord, catalog=\"fp_psc\", radius=cone_radius * u.deg)\n",
    "data_wise  = Irsa.query_region(obj_coord, catalog=\"allwise_p3as_psd\", radius=cone_radius * u.deg)\n",
    "__data_galex = Vizier.query_region(obj_coord, catalog='II/335', radius=cone_radius * u.deg)\n",
    "data_galex = __data_galex[0]"
   ]
  },
  {
   "cell_type": "code",
   "execution_count": 13,
   "metadata": {},
   "outputs": [
    {
     "name": "stdout",
     "output_type": "stream",
     "text": [
      "Number of object in (2MASS, WISE, GALEX):  44 218 41\n"
     ]
    }
   ],
   "source": [
    "num_2mass = len(data_2mass)\n",
    "num_wise  = len(data_wise)\n",
    "num_galex = len(data_galex)\n",
    "\n",
    "print(\"Number of object in (2MASS, WISE, GALEX): \", num_2mass, num_wise, num_galex)"
   ]
  },
  {
   "cell_type": "code",
   "execution_count": 17,
   "metadata": {},
   "outputs": [],
   "source": [
    "ra_2mass = data_2mass['ra']\n",
    "dec_2mass = data_2mass['dec']\n",
    "c_2mass = coordinates.SkyCoord(ra=ra_2mass, dec=dec_2mass, unit=(u.deg, u.deg), frame=\"icrs\")\n",
    "\n",
    "ra_wise  = data_wise['ra']\n",
    "dec_wise = data_wise['dec']\n",
    "c_wise = coordinates.SkyCoord(ra=ra_wise, dec=dec_wise, unit=(u.deg, u.deg), frame=\"icrs\")\n",
    "\n",
    "ra_galex  = data_galex['RAJ2000']\n",
    "dec_galex = data_galex['DEJ2000']\n",
    "c_galex = coordinates.SkyCoord(ra=ra_galex, dec=dec_galex, unit=(u.deg, u.deg), frame=\"icrs\")"
   ]
  },
  {
   "cell_type": "code",
   "execution_count": 89,
   "metadata": {},
   "outputs": [],
   "source": [
    "# match_coordinates_sky(matchcoord, catalogcoord, nthneighbor=1, storekdtree='kdtree_sky')\n",
    "# Return\n",
    "\n",
    "# idx : integer array\n",
    "#     Indices into catalogcoord to get the matched points for each matchcoord. Shape matches matchcoord.\n",
    "# sep2d : Angle\n",
    "#     The on-sky separation between the closest match for each matchcoord and the matchcoord. Shape matches matchcoord.\n",
    "# dist3d : Quantity\n",
    "#     The 3D distance between the closest match for each matchcoord and the matchcoord. Shape matches matchcoord. If either matchcoord or catalogcoord don’t have a distance, this is the 3D distance on the unit sphere, rather than a true distance.\n",
    "\n",
    "idx_2mass_wise, d2d_2mass_wise, dump = match_coordinates_sky(c_2mass, c_wise)\n",
    "idx_2mass_galex, d2d_2mass_galex, dump = match_coordinates_sky(c_2mass, c_galex)\n",
    "idx_wise_galex, d2d_wise_galex, dump = match_coordinates_sky(c_wise, c_galex)"
   ]
  },
  {
   "cell_type": "code",
   "execution_count": 98,
   "metadata": {},
   "outputs": [
    {
     "data": {
      "text/plain": [
       "array([  0,   1,   1,   2,   4,   4,   6,  17,  19,  35,  37,  47,  53,\n",
       "        56,  59,  70,  80,  83,  89,  95, 108, 126, 130, 139, 143, 151,\n",
       "       155, 160, 165, 169, 172, 177, 178, 176, 176, 182, 186, 187, 189,\n",
       "       192, 193, 199, 201, 206])"
      ]
     },
     "execution_count": 98,
     "metadata": {},
     "output_type": "execute_result"
    }
   ],
   "source": [
    "# ID of the closest object (ID in WISE cats) to each of 2MASS obj\n",
    "# shape = 2MASS\n",
    "idx_2mass_wise"
   ]
  },
  {
   "cell_type": "code",
   "execution_count": 95,
   "metadata": {},
   "outputs": [],
   "source": [
    "num_match_2mass_wise  = 0\n",
    "num_match_2mass_galex = 0\n",
    "num_match_wise_galex  = 0\n",
    "num_match_all         = 0\n",
    "sep_min = 2 * u.arcsec # minimum separation in arcsec"
   ]
  },
  {
   "cell_type": "code",
   "execution_count": 96,
   "metadata": {},
   "outputs": [],
   "source": [
    "match_2mass_wise = []\n",
    "for i,d in enumerate(d2d_2mass_wise):\n",
    "    if d < sep_min:\n",
    "        match_2mass_wise.append(True)\n",
    "        num_match_2mass_wise += 1\n",
    "    else:\n",
    "        match_2mass_wise.append(False)\n",
    "\n",
    "match_2mass_galex = []\n",
    "for i,d in enumerate(d2d_2mass_galex):\n",
    "    if d < sep_min:\n",
    "        match_2mass_galex.append(True)\n",
    "        num_match_2mass_galex += 1\n",
    "    else:\n",
    "        match_2mass_galex.append(False)\n",
    "        \n",
    "match_wise_galex = []\n",
    "for i,d in enumerate(d2d_wise_galex):\n",
    "    if d < sep_min:\n",
    "        match_wise_galex.append(True)\n",
    "        num_match_wise_galex += 1\n",
    "    else:\n",
    "        match_wise_galex.append(False)"
   ]
  },
  {
   "cell_type": "code",
   "execution_count": 97,
   "metadata": {},
   "outputs": [
    {
     "name": "stdout",
     "output_type": "stream",
     "text": [
      "Coordinate Match (2MASS-WISE, 2MASS-GALEX, WISE-GALEX):  41 15 18\n"
     ]
    }
   ],
   "source": [
    "print(\"Coordinate Match (2MASS-WISE, 2MASS-GALEX, WISE-GALEX): \", num_match_2mass_wise, num_match_2mass_galex, num_match_wise_galex)"
   ]
  },
  {
   "cell_type": "code",
   "execution_count": null,
   "metadata": {},
   "outputs": [],
   "source": []
  }
 ],
 "metadata": {
  "kernelspec": {
   "display_name": "Python 3",
   "language": "python",
   "name": "python3"
  },
  "language_info": {
   "codemirror_mode": {
    "name": "ipython",
    "version": 3
   },
   "file_extension": ".py",
   "mimetype": "text/x-python",
   "name": "python",
   "nbconvert_exporter": "python",
   "pygments_lexer": "ipython3",
   "version": "3.6.5"
  }
 },
 "nbformat": 4,
 "nbformat_minor": 2
}
