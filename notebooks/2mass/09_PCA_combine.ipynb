{
 "cells": [
  {
   "cell_type": "code",
   "execution_count": 1,
   "metadata": {},
   "outputs": [],
   "source": [
    "import numpy as np\n",
    "import pandas as pd\n",
    "\n",
    "from astropy import coordinates\n",
    "from astropy.coordinates import match_coordinates_sky\n",
    "import astropy.units as u\n",
    "import astroquery\n",
    "from astroquery.irsa import Irsa\n",
    "from astroquery.vizier import Vizier\n",
    "from astropy.table import Table, join\n",
    "\n",
    "Irsa.ROW_LIMIT = -1\n",
    "Vizier.ROW_LIMIT = -1\n",
    "\n",
    "import matplotlib.pyplot as plt\n",
    "\n",
    "%matplotlib inline"
   ]
  },
  {
   "cell_type": "markdown",
   "metadata": {},
   "source": [
    "# Get the data"
   ]
  },
  {
   "cell_type": "code",
   "execution_count": 2,
   "metadata": {},
   "outputs": [],
   "source": [
    "obj = [\"3C 454.3\", 343.49062, 16.14821, 4./60.]\n",
    "# name, ra, dec, radius of cone\n",
    "obj_name = obj[0]\n",
    "obj_ra   = obj[1]\n",
    "obj_dec  = obj[2]\n",
    "cone_radius  = obj[3]"
   ]
  },
  {
   "cell_type": "code",
   "execution_count": 3,
   "metadata": {},
   "outputs": [],
   "source": [
    "obj_coord = coordinates.SkyCoord(ra=obj_ra, dec=obj_dec, unit=(u.deg, u.deg), frame=\"icrs\")"
   ]
  },
  {
   "cell_type": "code",
   "execution_count": 4,
   "metadata": {},
   "outputs": [],
   "source": [
    "data_2mass = Irsa.query_region(obj_coord, catalog=\"fp_psc\", radius=cone_radius * u.deg)\n",
    "data_wise  = Irsa.query_region(obj_coord, catalog=\"allwise_p3as_psd\", radius=cone_radius * u.deg)\n",
    "__data_galex = Vizier.query_region(obj_coord, catalog='II/335', radius=cone_radius * u.deg)\n",
    "data_galex = __data_galex[0]"
   ]
  },
  {
   "cell_type": "code",
   "execution_count": 5,
   "metadata": {},
   "outputs": [
    {
     "name": "stdout",
     "output_type": "stream",
     "text": [
      "Number of object in (2MASS, WISE, GALEX):  44 218 41\n"
     ]
    }
   ],
   "source": [
    "num_2mass = len(data_2mass)\n",
    "num_wise  = len(data_wise)\n",
    "num_galex = len(data_galex)\n",
    "\n",
    "print(\"Number of object in (2MASS, WISE, GALEX): \", num_2mass, num_wise, num_galex)"
   ]
  },
  {
   "cell_type": "markdown",
   "metadata": {},
   "source": [
    "# Matching coordinates (3 Catalogs)"
   ]
  },
  {
   "cell_type": "code",
   "execution_count": 6,
   "metadata": {},
   "outputs": [],
   "source": [
    "ra_2mass = data_2mass['ra']\n",
    "dec_2mass = data_2mass['dec']\n",
    "c_2mass = coordinates.SkyCoord(ra=ra_2mass, dec=dec_2mass, unit=(u.deg, u.deg), frame=\"icrs\")\n",
    "\n",
    "ra_wise  = data_wise['ra']\n",
    "dec_wise = data_wise['dec']\n",
    "c_wise = coordinates.SkyCoord(ra=ra_wise, dec=dec_wise, unit=(u.deg, u.deg), frame=\"icrs\")\n",
    "\n",
    "ra_galex  = data_galex['RAJ2000']\n",
    "dec_galex = data_galex['DEJ2000']\n",
    "c_galex = coordinates.SkyCoord(ra=ra_galex, dec=dec_galex, unit=(u.deg, u.deg), frame=\"icrs\")"
   ]
  },
  {
   "cell_type": "code",
   "execution_count": 7,
   "metadata": {},
   "outputs": [],
   "source": [
    "sep_min = 2.5 * u.arcsec # minimum separation in arcsec"
   ]
  },
  {
   "cell_type": "code",
   "execution_count": 8,
   "metadata": {},
   "outputs": [
    {
     "name": "stdout",
     "output_type": "stream",
     "text": [
      "Only 2MASS and WISE:  41\n"
     ]
    }
   ],
   "source": [
    "idx_2mass, idx_wise, d2d, d3d = c_wise.search_around_sky(c_2mass, sep_min)\n",
    "c_2mass_wise = c_2mass[idx_2mass]\n",
    "print(\"Only 2MASS and WISE: \", len(idx_2mass))"
   ]
  },
  {
   "cell_type": "markdown",
   "metadata": {},
   "source": [
    "# Plot W1-J vs W1"
   ]
  },
  {
   "cell_type": "code",
   "execution_count": 9,
   "metadata": {},
   "outputs": [],
   "source": [
    "# from matching of 2 cats (2MASS and WISE) coordinate\n",
    "w1 = data_wise[idx_wise]['w1mpro']\n",
    "j = data_2mass[idx_2mass]['j_m']\n",
    "w1j = w1-j\n",
    "\n",
    "# match between WISE and 2MASS\n",
    "data_wise_2mass = data_wise[idx_wise] # WISE dataset\n",
    "\n",
    "galaxy = data_wise_2mass[w1j<-1.7] # https://academic.oup.com/mnras/article/448/2/1305/1055284"
   ]
  },
  {
   "cell_type": "code",
   "execution_count": 10,
   "metadata": {},
   "outputs": [
    {
     "data": {
      "text/html": [
       "<i>Table masked=True length=2</i>\n",
       "<table id=\"table140682023489488\" class=\"table-striped table-bordered table-condensed\">\n",
       "<thead><tr><th>designation</th><th>ra</th><th>dec</th><th>clon</th><th>clat</th><th>sigra</th><th>sigdec</th><th>sigradec</th><th>w1mpro</th><th>w1sigmpro</th><th>w1snr</th><th>w1rchi2</th><th>w2mpro</th><th>w2sigmpro</th><th>w2snr</th><th>w2rchi2</th><th>w3mpro</th><th>w3sigmpro</th><th>w3snr</th><th>w3rchi2</th><th>w4mpro</th><th>w4sigmpro</th><th>w4snr</th><th>w4rchi2</th><th>nb</th><th>na</th><th>w1sat</th><th>w2sat</th><th>w3sat</th><th>w4sat</th><th>pmra</th><th>sigpmra</th><th>pmdec</th><th>sigpmdec</th><th>cc_flags</th><th>ext_flg</th><th>var_flg</th><th>ph_qual</th><th>moon_lev</th><th>w1nm</th><th>w1m</th><th>w2nm</th><th>w2m</th><th>w3nm</th><th>w3m</th><th>w4nm</th><th>w4m</th><th>dist</th><th>angle</th><th>id</th></tr></thead>\n",
       "<thead><tr><th></th><th>deg</th><th>deg</th><th></th><th></th><th>arcs</th><th>arcs</th><th>arcs</th><th>mag</th><th>mag</th><th></th><th></th><th>mag</th><th>mag</th><th></th><th></th><th>mag</th><th>mag</th><th></th><th></th><th>mag</th><th>mag</th><th></th><th></th><th></th><th></th><th></th><th></th><th></th><th></th><th>maspyr</th><th>maspyr</th><th>maspyr</th><th>maspyr</th><th></th><th></th><th></th><th></th><th></th><th></th><th></th><th></th><th></th><th></th><th></th><th></th><th></th><th>arcs</th><th>deg</th><th></th></tr></thead>\n",
       "<thead><tr><th>object</th><th>float64</th><th>float64</th><th>object</th><th>object</th><th>float64</th><th>float64</th><th>float64</th><th>float64</th><th>float64</th><th>float64</th><th>float64</th><th>float64</th><th>float64</th><th>float64</th><th>float64</th><th>float64</th><th>float64</th><th>float64</th><th>float64</th><th>float64</th><th>float64</th><th>float64</th><th>float64</th><th>int32</th><th>int32</th><th>float64</th><th>float64</th><th>float64</th><th>float64</th><th>int32</th><th>int32</th><th>int32</th><th>int32</th><th>object</th><th>int32</th><th>object</th><th>object</th><th>object</th><th>int32</th><th>int32</th><th>int32</th><th>int32</th><th>int32</th><th>int32</th><th>int32</th><th>int32</th><th>float64</th><th>float64</th><th>object</th></tr></thead>\n",
       "<tr><td>J225357.74+160853.7</td><td>343.491</td><td>16.148</td><td>22h53m57.75s</td><td>16d08m53.70s</td><td>0.0287</td><td>0.027</td><td>-0.0023</td><td>9.263</td><td>0.021</td><td>50.9</td><td>23.17</td><td>8.147</td><td>0.019</td><td>57.6</td><td>31.03</td><td>5.801</td><td>0.013</td><td>82.7</td><td>2.789</td><td>3.387</td><td>0.02</td><td>54.3</td><td>1.135</td><td>1</td><td>0</td><td>0.0</td><td>0.0</td><td>0.0</td><td>0.0</td><td>-247</td><td>59</td><td>22</td><td>36</td><td>0000</td><td>1</td><td>9964</td><td>AAAA</td><td>1100</td><td>24</td><td>24</td><td>24</td><td>24</td><td>13</td><td>13</td><td>13</td><td>13</td><td>0.147404</td><td>349.046251</td><td>0</td></tr>\n",
       "<tr><td>J225350.60+160943.7</td><td>343.461</td><td>16.162</td><td>22h53m50.60s</td><td>16d09m43.74s</td><td>0.0643</td><td>0.0649</td><td>-0.0079</td><td>14.254</td><td>0.029</td><td>37.2</td><td>3.148</td><td>14.053</td><td>0.045</td><td>24.0</td><td>1.046</td><td>10.68</td><td>0.098</td><td>11.0</td><td>1.087</td><td>8.813</td><td>0.464</td><td>2.3</td><td>0.9725</td><td>1</td><td>0</td><td>0.0</td><td>0.0</td><td>0.0</td><td>0.0</td><td>68</td><td>196</td><td>-437</td><td>208</td><td>000d</td><td>1</td><td>000n</td><td>AAAC</td><td>1100</td><td>25</td><td>25</td><td>24</td><td>24</td><td>8</td><td>13</td><td>0</td><td>13</td><td>114.54805</td><td>295.984733</td><td>56</td></tr>\n",
       "</table>"
      ],
      "text/plain": [
       "<Table masked=True length=2>\n",
       "    designation        ra     dec       clon     ...    dist     angle      id  \n",
       "                      deg     deg                ...    arcs      deg           \n",
       "       object       float64 float64    object    ...  float64   float64   object\n",
       "------------------- ------- ------- ------------ ... --------- ---------- ------\n",
       "J225357.74+160853.7 343.491  16.148 22h53m57.75s ...  0.147404 349.046251      0\n",
       "J225350.60+160943.7 343.461  16.162 22h53m50.60s ... 114.54805 295.984733     56"
      ]
     },
     "execution_count": 10,
     "metadata": {},
     "output_type": "execute_result"
    }
   ],
   "source": [
    "galaxy"
   ]
  },
  {
   "cell_type": "code",
   "execution_count": 11,
   "metadata": {},
   "outputs": [
    {
     "data": {
      "text/plain": [
       "<matplotlib.lines.Line2D at 0x7ff31606a438>"
      ]
     },
     "execution_count": 11,
     "metadata": {},
     "output_type": "execute_result"
    },
    {
     "data": {
      "image/png": "[encoded data removed]",
      "text/plain": [
       "<Figure size 432x288 with 1 Axes>"
      ]
     },
     "metadata": {},
     "output_type": "display_data"
    }
   ],
   "source": [
    "plt.scatter(w1j, w1, color='blue')\n",
    "for i, name in enumerate(data_wise_2mass['designation']):\n",
    "    for galaxyname in galaxy['designation']:\n",
    "        if name == galaxyname:\n",
    "            plt.scatter(w1j[i], w1[i], color=\"red\")  \n",
    "            \n",
    "plt.axvline(x=-1.7) # https://academic.oup.com/mnras/article/448/2/1305/1055284"
   ]
  },
  {
   "cell_type": "markdown",
   "metadata": {},
   "source": [
    "- W1-J < -1.7 => galaxy\n",
    "- W1-J > -1.7 => stars\n",
    "\n",
    "only 2 object are galaxy?"
   ]
  },
  {
   "cell_type": "code",
   "execution_count": 12,
   "metadata": {},
   "outputs": [
    {
     "name": "stdout",
     "output_type": "stream",
     "text": [
      "Match all 3 cats:  14\n"
     ]
    }
   ],
   "source": [
    "# + GALEX\n",
    "___idx_2mass_wise_galex, idx_galex, d2d, d3d = c_galex.search_around_sky(c_2mass_wise, sep_min)\n",
    "\n",
    "match_all_coord = c_galex[idx_galex]\n",
    "print(\"Match all 3 cats: \", len(match_all_coord))"
   ]
  },
  {
   "cell_type": "markdown",
   "metadata": {},
   "source": [
    "# Filter"
   ]
  },
  {
   "cell_type": "code",
   "execution_count": 13,
   "metadata": {},
   "outputs": [
    {
     "data": {
      "text/html": [
       "<i>Table masked=True length=14</i>\n",
       "<table id=\"table140682022969584\" class=\"table-striped table-bordered table-condensed\">\n",
       "<thead><tr><th>RAJ2000</th><th>DEJ2000</th><th>r.fov</th><th>b</th><th>FUVmag</th><th>e_FUVmag</th><th>NUVmag</th><th>e_NUVmag</th><th>Fafl</th><th>Nafl</th><th>Fexf</th><th>Nexf</th><th>Fr</th><th>Nr</th></tr></thead>\n",
       "<thead><tr><th>deg</th><th>deg</th><th>deg</th><th></th><th>mag</th><th>mag</th><th>mag</th><th>mag</th><th></th><th></th><th></th><th></th><th>deg</th><th>deg</th></tr></thead>\n",
       "<thead><tr><th>float64</th><th>float64</th><th>float64</th><th>uint8</th><th>float64</th><th>float32</th><th>float64</th><th>float32</th><th>int16</th><th>int16</th><th>int16</th><th>int16</th><th>float64</th><th>float64</th></tr></thead>\n",
       "<tr><td>343.490512</td><td>16.148415</td><td>0.358822</td><td>3</td><td>17.9253</td><td>0.0534</td><td>16.9360</td><td>0.0167</td><td>0</td><td>0</td><td>0</td><td>0</td><td>0.001527</td><td>0.001446</td></tr>\n",
       "<tr><td>343.499738</td><td>16.165088</td><td>0.343000</td><td>1</td><td>--</td><td>--</td><td>22.8185</td><td>0.4343</td><td>0</td><td>0</td><td>0</td><td>0</td><td>--</td><td>0.002056</td></tr>\n",
       "<tr><td>343.479534</td><td>16.119063</td><td>0.387521</td><td>1</td><td>--</td><td>--</td><td>20.3866</td><td>0.1014</td><td>0</td><td>0</td><td>0</td><td>0</td><td>--</td><td>0.002548</td></tr>\n",
       "<tr><td>343.460686</td><td>16.162162</td><td>0.344095</td><td>3</td><td>21.4604</td><td>0.3460</td><td>20.4761</td><td>0.1450</td><td>0</td><td>0</td><td>0</td><td>0</td><td>0.002226</td><td>0.007870</td></tr>\n",
       "<tr><td>343.520690</td><td>16.129548</td><td>0.380778</td><td>1</td><td>--</td><td>--</td><td>22.1891</td><td>0.4842</td><td>0</td><td>0</td><td>0</td><td>0</td><td>--</td><td>0.004134</td></tr>\n",
       "<tr><td>343.436123</td><td>16.152472</td><td>0.354704</td><td>1</td><td>--</td><td>--</td><td>22.4452</td><td>0.4019</td><td>0</td><td>0</td><td>0</td><td>0</td><td>--</td><td>0.002512</td></tr>\n",
       "<tr><td>343.434288</td><td>16.135523</td><td>0.371737</td><td>1</td><td>--</td><td>--</td><td>22.1046</td><td>0.3953</td><td>0</td><td>0</td><td>0</td><td>0</td><td>--</td><td>0.004224</td></tr>\n",
       "<tr><td>343.462729</td><td>16.098788</td><td>0.407463</td><td>1</td><td>--</td><td>--</td><td>20.2440</td><td>0.0928</td><td>0</td><td>1</td><td>0</td><td>0</td><td>--</td><td>0.001539</td></tr>\n",
       "<tr><td>343.451246</td><td>16.104299</td><td>0.402105</td><td>1</td><td>--</td><td>--</td><td>21.8559</td><td>0.2723</td><td>0</td><td>0</td><td>0</td><td>0</td><td>--</td><td>0.004275</td></tr>\n",
       "<tr><td>343.435250</td><td>16.174649</td><td>0.332654</td><td>1</td><td>--</td><td>--</td><td>22.0568</td><td>0.4226</td><td>0</td><td>0</td><td>0</td><td>0</td><td>--</td><td>0.002250</td></tr>\n",
       "<tr><td>343.551862</td><td>16.163745</td><td>0.353008</td><td>1</td><td>--</td><td>--</td><td>22.8739</td><td>0.4227</td><td>0</td><td>0</td><td>0</td><td>0</td><td>--</td><td>0.002446</td></tr>\n",
       "<tr><td>343.533400</td><td>16.102800</td><td>0.409102</td><td>1</td><td>--</td><td>--</td><td>21.3520</td><td>0.3004</td><td>0</td><td>0</td><td>0</td><td>0</td><td>--</td><td>0.004801</td></tr>\n",
       "<tr><td>343.546232</td><td>16.115582</td><td>0.398790</td><td>1</td><td>--</td><td>--</td><td>21.7855</td><td>0.2575</td><td>0</td><td>0</td><td>0</td><td>0</td><td>--</td><td>0.002586</td></tr>\n",
       "<tr><td>343.473367</td><td>16.087432</td><td>0.418941</td><td>1</td><td>--</td><td>--</td><td>22.8555</td><td>0.4707</td><td>0</td><td>1</td><td>0</td><td>0</td><td>--</td><td>0.002129</td></tr>\n",
       "</table>"
      ],
      "text/plain": [
       "<Table masked=True length=14>\n",
       " RAJ2000    DEJ2000     r.fov     b   ...  Fexf  Nexf     Fr        Nr   \n",
       "   deg        deg        deg          ...                deg       deg   \n",
       " float64    float64    float64  uint8 ... int16 int16  float64   float64 \n",
       "---------- ---------- --------- ----- ... ----- ----- --------- ---------\n",
       "343.490512  16.148415  0.358822     3 ...     0     0  0.001527  0.001446\n",
       "343.499738  16.165088  0.343000     1 ...     0     0        --  0.002056\n",
       "343.479534  16.119063  0.387521     1 ...     0     0        --  0.002548\n",
       "343.460686  16.162162  0.344095     3 ...     0     0  0.002226  0.007870\n",
       "343.520690  16.129548  0.380778     1 ...     0     0        --  0.004134\n",
       "343.436123  16.152472  0.354704     1 ...     0     0        --  0.002512\n",
       "343.434288  16.135523  0.371737     1 ...     0     0        --  0.004224\n",
       "343.462729  16.098788  0.407463     1 ...     0     0        --  0.001539\n",
       "343.451246  16.104299  0.402105     1 ...     0     0        --  0.004275\n",
       "343.435250  16.174649  0.332654     1 ...     0     0        --  0.002250\n",
       "343.551862  16.163745  0.353008     1 ...     0     0        --  0.002446\n",
       "343.533400  16.102800  0.409102     1 ...     0     0        --  0.004801\n",
       "343.546232  16.115582  0.398790     1 ...     0     0        --  0.002586\n",
       "343.473367  16.087432  0.418941     1 ...     0     0        --  0.002129"
      ]
     },
     "execution_count": 13,
     "metadata": {},
     "output_type": "execute_result"
    }
   ],
   "source": [
    "### GALEX data which match with 2MASS and WISE!\n",
    "match_galex = data_galex[idx_galex]\n",
    "match_galex"
   ]
  },
  {
   "cell_type": "code",
   "execution_count": 14,
   "metadata": {},
   "outputs": [
    {
     "data": {
      "text/html": [
       "<i>Table masked=True length=14</i>\n",
       "<table id=\"table140682022972608\" class=\"table-striped table-bordered table-condensed\">\n",
       "<thead><tr><th>ra</th><th>dec</th><th>clon</th><th>clat</th><th>err_maj</th><th>err_min</th><th>err_ang</th><th>designation</th><th>j_m</th><th>j_cmsig</th><th>j_msigcom</th><th>j_snr</th><th>h_m</th><th>h_cmsig</th><th>h_msigcom</th><th>h_snr</th><th>k_m</th><th>k_cmsig</th><th>k_msigcom</th><th>k_snr</th><th>ph_qual</th><th>rd_flg</th><th>bl_flg</th><th>cc_flg</th><th>ndet</th><th>gal_contam</th><th>mp_flg</th><th>hemis</th><th>xdate</th><th>scan</th><th>glon</th><th>glat</th><th>a</th><th>dist_opt</th><th>phi_opt</th><th>b_m_opt</th><th>vr_m_opt</th><th>nopt_mchs</th><th>ext_key</th><th>dist</th><th>angle</th><th>j_h</th><th>h_k</th><th>j_k</th><th>id</th></tr></thead>\n",
       "<thead><tr><th>deg</th><th>deg</th><th></th><th></th><th>arcs</th><th>arcs</th><th>deg</th><th></th><th>mag</th><th>mag</th><th>mag</th><th></th><th>mag</th><th>mag</th><th>mag</th><th></th><th>mag</th><th>mag</th><th>mag</th><th></th><th></th><th></th><th></th><th></th><th></th><th></th><th></th><th></th><th></th><th></th><th>deg</th><th>deg</th><th></th><th>arcs</th><th>deg</th><th>mag</th><th>mag</th><th></th><th></th><th>arcs</th><th>deg</th><th></th><th></th><th></th><th></th></tr></thead>\n",
       "<thead><tr><th>float64</th><th>float64</th><th>object</th><th>object</th><th>float64</th><th>float64</th><th>int32</th><th>object</th><th>float64</th><th>float64</th><th>float64</th><th>float64</th><th>float64</th><th>float64</th><th>float64</th><th>float64</th><th>float64</th><th>float64</th><th>float64</th><th>float64</th><th>object</th><th>object</th><th>object</th><th>object</th><th>object</th><th>int32</th><th>int32</th><th>object</th><th>object</th><th>int32</th><th>float64</th><th>float64</th><th>object</th><th>float64</th><th>int32</th><th>float64</th><th>float64</th><th>int32</th><th>int32</th><th>float64</th><th>float64</th><th>float64</th><th>float64</th><th>float64</th><th>object</th></tr></thead>\n",
       "<tr><td>343.491</td><td>16.148</td><td>22h53m57.75s</td><td>16d08m53.63s</td><td>0.07</td><td>0.06</td><td>90</td><td>22535774+1608536</td><td>14.494</td><td>0.027</td><td>0.03</td><td>61.6</td><td>13.855</td><td>0.029</td><td>0.03</td><td>52.7</td><td>13.061</td><td>0.026</td><td>0.027</td><td>55.9</td><td>AAA</td><td>222</td><td>111</td><td>000</td><td>665566</td><td>0</td><td>0</td><td>n</td><td>1998-10-01</td><td>73</td><td>86.111</td><td>-38.184</td><td>U</td><td>0.0</td><td>115</td><td>14.8</td><td>14.1</td><td>1</td><td>--</td><td>0.072344</td><td>5.486687</td><td>0.639</td><td>0.794</td><td>1.433</td><td>0</td></tr>\n",
       "<tr><td>343.500</td><td>16.165</td><td>22h53m59.94s</td><td>16d09m54.03s</td><td>0.07</td><td>0.06</td><td>90</td><td>22535994+1609540</td><td>14.215</td><td>0.025</td><td>0.028</td><td>79.7</td><td>13.795</td><td>0.026</td><td>0.027</td><td>55.7</td><td>13.641</td><td>0.046</td><td>0.047</td><td>32.7</td><td>AAA</td><td>222</td><td>111</td><td>000</td><td>666666</td><td>0</td><td>0</td><td>n</td><td>1998-10-01</td><td>73</td><td>86.132</td><td>-38.175</td><td>U</td><td>0.7</td><td>77</td><td>16.4</td><td>15.4</td><td>1</td><td>--</td><td>68.22223</td><td>27.579842</td><td>0.42</td><td>0.154</td><td>0.574</td><td>7</td></tr>\n",
       "<tr><td>343.480</td><td>16.119</td><td>22h53m55.12s</td><td>16d07m08.40s</td><td>0.07</td><td>0.06</td><td>90</td><td>22535512+1607083</td><td>13.817</td><td>0.02</td><td>0.024</td><td>115.0</td><td>13.437</td><td>0.026</td><td>0.027</td><td>77.5</td><td>13.407</td><td>0.036</td><td>0.037</td><td>40.6</td><td>AAA</td><td>222</td><td>111</td><td>000</td><td>666666</td><td>0</td><td>0</td><td>n</td><td>1998-10-01</td><td>73</td><td>86.079</td><td>-38.202</td><td>U</td><td>1.0</td><td>128</td><td>15.7</td><td>14.5</td><td>1</td><td>--</td><td>111.754579</td><td>199.783553</td><td>0.38</td><td>0.03</td><td>0.41</td><td>12</td></tr>\n",
       "<tr><td>343.461</td><td>16.162</td><td>22h53m50.61s</td><td>16d09m42.97s</td><td>0.22</td><td>0.19</td><td>100</td><td>22535061+1609429</td><td>16.475</td><td>0.148</td><td>0.149</td><td>9.9</td><td>15.667</td><td>0.139</td><td>0.139</td><td>9.9</td><td>15.295</td><td>0.179</td><td>0.179</td><td>7.1</td><td>BBC</td><td>222</td><td>111</td><td>000</td><td>363526</td><td>0</td><td>0</td><td>n</td><td>1998-10-01</td><td>73</td><td>86.091</td><td>-38.156</td><td>U</td><td>0.5</td><td>193</td><td>16.5</td><td>16.0</td><td>2</td><td>810608</td><td>114.107665</td><td>295.665011</td><td>0.808</td><td>0.372</td><td>1.18</td><td>13</td></tr>\n",
       "<tr><td>343.520</td><td>16.130</td><td>22h54m04.87s</td><td>16d07m46.75s</td><td>0.08</td><td>0.06</td><td>0</td><td>22540487+1607467</td><td>14.012</td><td>0.019</td><td>0.023</td><td>96.1</td><td>13.466</td><td>0.026</td><td>0.027</td><td>78.1</td><td>13.316</td><td>0.034</td><td>0.035</td><td>44.2</td><td>AAA</td><td>222</td><td>111</td><td>000</td><td>666666</td><td>0</td><td>0</td><td>n</td><td>1998-10-01</td><td>74</td><td>86.128</td><td>-38.215</td><td>U</td><td>0.3</td><td>177</td><td>16.3</td><td>15.2</td><td>1</td><td>--</td><td>122.49451</td><td>123.048039</td><td>0.546</td><td>0.15</td><td>0.696</td><td>14</td></tr>\n",
       "<tr><td>343.436</td><td>16.152</td><td>22h53m44.64s</td><td>16d09m07.89s</td><td>0.07</td><td>0.06</td><td>90</td><td>22534464+1609078</td><td>12.992</td><td>0.019</td><td>0.022</td><td>245.8</td><td>12.524</td><td>0.023</td><td>0.024</td><td>179.6</td><td>12.443</td><td>0.017</td><td>0.019</td><td>98.7</td><td>AAA</td><td>222</td><td>111</td><td>000</td><td>664466</td><td>0</td><td>0</td><td>n</td><td>1998-10-01</td><td>73</td><td>86.058</td><td>-38.151</td><td>U</td><td>0.3</td><td>138</td><td>15.5</td><td>14.3</td><td>1</td><td>--</td><td>189.384005</td><td>274.347592</td><td>0.468</td><td>0.081</td><td>0.549</td><td>23</td></tr>\n",
       "<tr><td>343.434</td><td>16.135</td><td>22h53m44.20s</td><td>16d08m06.36s</td><td>0.07</td><td>0.06</td><td>90</td><td>22534420+1608063</td><td>14.803</td><td>0.031</td><td>0.034</td><td>46.4</td><td>14.423</td><td>0.042</td><td>0.043</td><td>31.2</td><td>14.452</td><td>0.076</td><td>0.076</td><td>15.5</td><td>AAA</td><td>222</td><td>111</td><td>000</td><td>666606</td><td>0</td><td>0</td><td>n</td><td>1998-10-01</td><td>73</td><td>86.044</td><td>-38.165</td><td>U</td><td>0.4</td><td>224</td><td>16.4</td><td>15.6</td><td>1</td><td>--</td><td>200.831987</td><td>256.41714</td><td>0.38</td><td>-0.029</td><td>0.351</td><td>26</td></tr>\n",
       "<tr><td>343.463</td><td>16.099</td><td>22h53m51.04s</td><td>16d05m54.91s</td><td>0.07</td><td>0.06</td><td>90</td><td>22535103+1605549</td><td>12.945</td><td>0.017</td><td>0.021</td><td>256.7</td><td>12.558</td><td>0.017</td><td>0.019</td><td>174.1</td><td>12.445</td><td>0.021</td><td>0.023</td><td>98.5</td><td>AAA</td><td>222</td><td>111</td><td>000</td><td>664466</td><td>0</td><td>0</td><td>n</td><td>1998-10-01</td><td>73</td><td>86.048</td><td>-38.21</td><td>U</td><td>0.3</td><td>122</td><td>14.8</td><td>14.0</td><td>1</td><td>--</td><td>203.161969</td><td>208.440116</td><td>0.387</td><td>0.113</td><td>0.5</td><td>27</td></tr>\n",
       "<tr><td>343.452</td><td>16.104</td><td>22h53m48.37s</td><td>16d06m15.62s</td><td>0.07</td><td>0.06</td><td>90</td><td>22534836+1606156</td><td>13.878</td><td>0.022</td><td>0.025</td><td>108.7</td><td>13.513</td><td>0.026</td><td>0.027</td><td>72.2</td><td>13.413</td><td>0.027</td><td>0.028</td><td>40.4</td><td>AAA</td><td>222</td><td>111</td><td>000</td><td>664455</td><td>0</td><td>0</td><td>n</td><td>1998-10-01</td><td>73</td><td>86.04</td><td>-38.199</td><td>U</td><td>0.7</td><td>178</td><td>15.5</td><td>14.8</td><td>1</td><td>--</td><td>207.889345</td><td>220.568324</td><td>0.365</td><td>0.1</td><td>0.465</td><td>28</td></tr>\n",
       "<tr><td>343.435</td><td>16.174</td><td>22h53m44.49s</td><td>16d10m26.61s</td><td>0.07</td><td>0.06</td><td>90</td><td>22534448+1610266</td><td>14.95</td><td>0.037</td><td>0.039</td><td>40.5</td><td>14.501</td><td>0.047</td><td>0.048</td><td>29.1</td><td>14.399</td><td>0.074</td><td>0.074</td><td>16.3</td><td>AAA</td><td>222</td><td>111</td><td>000</td><td>665526</td><td>0</td><td>0</td><td>n</td><td>1998-10-01</td><td>73</td><td>86.073</td><td>-38.133</td><td>U</td><td>1.1</td><td>187</td><td>16.3</td><td>15.6</td><td>1</td><td>--</td><td>212.529977</td><td>295.974516</td><td>0.449</td><td>0.102</td><td>0.551</td><td>29</td></tr>\n",
       "<tr><td>343.552</td><td>16.164</td><td>22h54m12.43s</td><td>16d09m49.15s</td><td>0.1</td><td>0.08</td><td>178</td><td>22541243+1609491</td><td>15.964</td><td>0.077</td><td>0.078</td><td>15.9</td><td>15.448</td><td>0.086</td><td>0.087</td><td>12.6</td><td>15.294</td><td>0.166</td><td>0.166</td><td>7.1</td><td>AAC</td><td>222</td><td>111</td><td>000</td><td>260606</td><td>0</td><td>0</td><td>n</td><td>1998-10-01</td><td>74</td><td>86.184</td><td>-38.203</td><td>U</td><td>0.6</td><td>149</td><td>17.6</td><td>16.8</td><td>1</td><td>--</td><td>218.770799</td><td>75.268859</td><td>0.516</td><td>0.154</td><td>0.67</td><td>35</td></tr>\n",
       "<tr><td>343.533</td><td>16.103</td><td>22h54m08.02s</td><td>16d06m09.33s</td><td>0.08</td><td>0.06</td><td>0</td><td>22540801+1606093</td><td>13.71</td><td>0.023</td><td>0.026</td><td>126.9</td><td>13.242</td><td>0.025</td><td>0.026</td><td>96.0</td><td>13.118</td><td>0.031</td><td>0.032</td><td>53.0</td><td>AAA</td><td>222</td><td>111</td><td>000</td><td>666666</td><td>0</td><td>0</td><td>n</td><td>1998-10-01</td><td>74</td><td>86.122</td><td>-38.244</td><td>U</td><td>0.2</td><td>47</td><td>15.8</td><td>14.8</td><td>1</td><td>--</td><td>221.053726</td><td>137.97464</td><td>0.468</td><td>0.124</td><td>0.592</td><td>36</td></tr>\n",
       "<tr><td>343.546</td><td>16.115</td><td>22h54m11.04s</td><td>16d06m54.63s</td><td>0.08</td><td>0.06</td><td>0</td><td>22541103+1606546</td><td>10.416</td><td>0.018</td><td>0.022</td><td>2636.5</td><td>9.833</td><td>0.018</td><td>0.02</td><td>2216.7</td><td>9.556</td><td>0.016</td><td>0.018</td><td>1409.4</td><td>AAA</td><td>222</td><td>111</td><td>000</td><td>666666</td><td>0</td><td>0</td><td>n</td><td>1998-10-01</td><td>74</td><td>86.144</td><td>-38.241</td><td>0</td><td>--</td><td>--</td><td>--</td><td>--</td><td>0</td><td>--</td><td>225.435611</td><td>121.831606</td><td>0.583</td><td>0.277</td><td>0.86</td><td>39</td></tr>\n",
       "<tr><td>343.473</td><td>16.087</td><td>22h53m53.58s</td><td>16d05m13.96s</td><td>0.07</td><td>0.06</td><td>90</td><td>22535358+1605139</td><td>11.8</td><td>0.015</td><td>0.02</td><td>736.9</td><td>11.192</td><td>0.019</td><td>0.021</td><td>612.5</td><td>11.07</td><td>0.017</td><td>0.019</td><td>349.5</td><td>AAA</td><td>222</td><td>111</td><td>000</td><td>665566</td><td>0</td><td>0</td><td>n</td><td>1998-10-01</td><td>73</td><td>86.05</td><td>-38.225</td><td>U</td><td>0.1</td><td>162</td><td>14.8</td><td>13.5</td><td>1</td><td>--</td><td>227.661794</td><td>195.302481</td><td>0.608</td><td>0.122</td><td>0.73</td><td>40</td></tr>\n",
       "</table>"
      ],
      "text/plain": [
       "<Table masked=True length=14>\n",
       "   ra     dec       clon         clat     ...   j_h     h_k     j_k     id  \n",
       "  deg     deg                             ...                               \n",
       "float64 float64    object       object    ... float64 float64 float64 object\n",
       "------- ------- ------------ ------------ ... ------- ------- ------- ------\n",
       "343.491  16.148 22h53m57.75s 16d08m53.63s ...   0.639   0.794   1.433      0\n",
       "343.500  16.165 22h53m59.94s 16d09m54.03s ...    0.42   0.154   0.574      7\n",
       "343.480  16.119 22h53m55.12s 16d07m08.40s ...    0.38    0.03    0.41     12\n",
       "343.461  16.162 22h53m50.61s 16d09m42.97s ...   0.808   0.372    1.18     13\n",
       "343.520  16.130 22h54m04.87s 16d07m46.75s ...   0.546    0.15   0.696     14\n",
       "343.436  16.152 22h53m44.64s 16d09m07.89s ...   0.468   0.081   0.549     23\n",
       "343.434  16.135 22h53m44.20s 16d08m06.36s ...    0.38  -0.029   0.351     26\n",
       "343.463  16.099 22h53m51.04s 16d05m54.91s ...   0.387   0.113     0.5     27\n",
       "343.452  16.104 22h53m48.37s 16d06m15.62s ...   0.365     0.1   0.465     28\n",
       "343.435  16.174 22h53m44.49s 16d10m26.61s ...   0.449   0.102   0.551     29\n",
       "343.552  16.164 22h54m12.43s 16d09m49.15s ...   0.516   0.154    0.67     35\n",
       "343.533  16.103 22h54m08.02s 16d06m09.33s ...   0.468   0.124   0.592     36\n",
       "343.546  16.115 22h54m11.04s 16d06m54.63s ...   0.583   0.277    0.86     39\n",
       "343.473  16.087 22h53m53.58s 16d05m13.96s ...   0.608   0.122    0.73     40"
      ]
     },
     "execution_count": 14,
     "metadata": {},
     "output_type": "execute_result"
    }
   ],
   "source": [
    "idx_2mass, idx, d2d, d3d = match_all_coord.search_around_sky(c_2mass, sep_min)\n",
    "match_2mass = data_2mass[idx_2mass]\n",
    "match_2mass"
   ]
  },
  {
   "cell_type": "code",
   "execution_count": 15,
   "metadata": {},
   "outputs": [
    {
     "data": {
      "text/html": [
       "<i>Table masked=True length=14</i>\n",
       "<table id=\"table140682022603800\" class=\"table-striped table-bordered table-condensed\">\n",
       "<thead><tr><th>designation</th><th>ra</th><th>dec</th><th>clon</th><th>clat</th><th>sigra</th><th>sigdec</th><th>sigradec</th><th>w1mpro</th><th>w1sigmpro</th><th>w1snr</th><th>w1rchi2</th><th>w2mpro</th><th>w2sigmpro</th><th>w2snr</th><th>w2rchi2</th><th>w3mpro</th><th>w3sigmpro</th><th>w3snr</th><th>w3rchi2</th><th>w4mpro</th><th>w4sigmpro</th><th>w4snr</th><th>w4rchi2</th><th>nb</th><th>na</th><th>w1sat</th><th>w2sat</th><th>w3sat</th><th>w4sat</th><th>pmra</th><th>sigpmra</th><th>pmdec</th><th>sigpmdec</th><th>cc_flags</th><th>ext_flg</th><th>var_flg</th><th>ph_qual</th><th>moon_lev</th><th>w1nm</th><th>w1m</th><th>w2nm</th><th>w2m</th><th>w3nm</th><th>w3m</th><th>w4nm</th><th>w4m</th><th>dist</th><th>angle</th><th>id</th></tr></thead>\n",
       "<thead><tr><th></th><th>deg</th><th>deg</th><th></th><th></th><th>arcs</th><th>arcs</th><th>arcs</th><th>mag</th><th>mag</th><th></th><th></th><th>mag</th><th>mag</th><th></th><th></th><th>mag</th><th>mag</th><th></th><th></th><th>mag</th><th>mag</th><th></th><th></th><th></th><th></th><th></th><th></th><th></th><th></th><th>maspyr</th><th>maspyr</th><th>maspyr</th><th>maspyr</th><th></th><th></th><th></th><th></th><th></th><th></th><th></th><th></th><th></th><th></th><th></th><th></th><th></th><th>arcs</th><th>deg</th><th></th></tr></thead>\n",
       "<thead><tr><th>object</th><th>float64</th><th>float64</th><th>object</th><th>object</th><th>float64</th><th>float64</th><th>float64</th><th>float64</th><th>float64</th><th>float64</th><th>float64</th><th>float64</th><th>float64</th><th>float64</th><th>float64</th><th>float64</th><th>float64</th><th>float64</th><th>float64</th><th>float64</th><th>float64</th><th>float64</th><th>float64</th><th>int32</th><th>int32</th><th>float64</th><th>float64</th><th>float64</th><th>float64</th><th>int32</th><th>int32</th><th>int32</th><th>int32</th><th>object</th><th>int32</th><th>object</th><th>object</th><th>object</th><th>int32</th><th>int32</th><th>int32</th><th>int32</th><th>int32</th><th>int32</th><th>int32</th><th>int32</th><th>float64</th><th>float64</th><th>object</th></tr></thead>\n",
       "<tr><td>J225357.74+160853.7</td><td>343.491</td><td>16.148</td><td>22h53m57.75s</td><td>16d08m53.70s</td><td>0.0287</td><td>0.027</td><td>-0.0023</td><td>9.263</td><td>0.021</td><td>50.9</td><td>23.17</td><td>8.147</td><td>0.019</td><td>57.6</td><td>31.03</td><td>5.801</td><td>0.013</td><td>82.7</td><td>2.789</td><td>3.387</td><td>0.02</td><td>54.3</td><td>1.135</td><td>1</td><td>0</td><td>0.0</td><td>0.0</td><td>0.0</td><td>0.0</td><td>-247</td><td>59</td><td>22</td><td>36</td><td>0000</td><td>1</td><td>9964</td><td>AAAA</td><td>1100</td><td>24</td><td>24</td><td>24</td><td>24</td><td>13</td><td>13</td><td>13</td><td>13</td><td>0.147404</td><td>349.046251</td><td>0</td></tr>\n",
       "<tr><td>J225359.94+160953.9</td><td>343.500</td><td>16.165</td><td>22h53m59.95s</td><td>16d09m53.97s</td><td>0.0512</td><td>0.0505</td><td>-0.0057</td><td>13.587</td><td>0.025</td><td>43.4</td><td>1.025</td><td>13.615</td><td>0.032</td><td>33.8</td><td>0.9313</td><td>12.577</td><td>--</td><td>-0.9</td><td>0.9551</td><td>9.076</td><td>--</td><td>-2.5</td><td>0.8342</td><td>1</td><td>0</td><td>0.0</td><td>0.0</td><td>0.0</td><td>0.0</td><td>-17</td><td>98</td><td>-81</td><td>99</td><td>0h0d</td><td>0</td><td>00nn</td><td>AAUU</td><td>1100</td><td>25</td><td>25</td><td>25</td><td>25</td><td>0</td><td>14</td><td>0</td><td>14</td><td>68.220268</td><td>27.679694</td><td>17</td></tr>\n",
       "<tr><td>J225355.13+160708.1</td><td>343.480</td><td>16.119</td><td>22h53m55.14s</td><td>16d07m08.13s</td><td>0.0508</td><td>0.0496</td><td>-0.0064</td><td>13.367</td><td>0.025</td><td>43.3</td><td>1.144</td><td>13.373</td><td>0.031</td><td>34.8</td><td>0.9093</td><td>11.923</td><td>0.341</td><td>3.2</td><td>0.9579</td><td>8.375</td><td>--</td><td>2.0</td><td>0.9141</td><td>1</td><td>0</td><td>0.0</td><td>0.0</td><td>0.0</td><td>0.004</td><td>-101</td><td>91</td><td>45</td><td>90</td><td>000d</td><td>0</td><td>00nn</td><td>AABU</td><td>1100</td><td>26</td><td>26</td><td>26</td><td>26</td><td>0</td><td>12</td><td>0</td><td>13</td><td>111.940272</td><td>199.650476</td><td>53</td></tr>\n",
       "<tr><td>J225350.60+160943.7</td><td>343.461</td><td>16.162</td><td>22h53m50.60s</td><td>16d09m43.74s</td><td>0.0643</td><td>0.0649</td><td>-0.0079</td><td>14.254</td><td>0.029</td><td>37.2</td><td>3.148</td><td>14.053</td><td>0.045</td><td>24.0</td><td>1.046</td><td>10.68</td><td>0.098</td><td>11.0</td><td>1.087</td><td>8.813</td><td>0.464</td><td>2.3</td><td>0.9725</td><td>1</td><td>0</td><td>0.0</td><td>0.0</td><td>0.0</td><td>0.0</td><td>68</td><td>196</td><td>-437</td><td>208</td><td>000d</td><td>1</td><td>000n</td><td>AAAC</td><td>1100</td><td>25</td><td>25</td><td>24</td><td>24</td><td>8</td><td>13</td><td>0</td><td>13</td><td>114.54805</td><td>295.984733</td><td>56</td></tr>\n",
       "<tr><td>J225404.87+160746.7</td><td>343.520</td><td>16.130</td><td>22h54m04.88s</td><td>16d07m46.74s</td><td>0.0494</td><td>0.05</td><td>0.0001</td><td>13.357</td><td>0.025</td><td>43.4</td><td>0.927</td><td>13.407</td><td>0.031</td><td>35.1</td><td>1.052</td><td>12.086</td><td>--</td><td>1.1</td><td>0.9689</td><td>9.198</td><td>--</td><td>-1.0</td><td>0.9408</td><td>1</td><td>0</td><td>0.0</td><td>0.0</td><td>0.0</td><td>0.0</td><td>0</td><td>87</td><td>0</td><td>90</td><td>0000</td><td>0</td><td>00nn</td><td>AAUU</td><td>1100</td><td>24</td><td>24</td><td>24</td><td>24</td><td>1</td><td>12</td><td>0</td><td>12</td><td>122.526853</td><td>123.042816</td><td>59</td></tr>\n",
       "<tr><td>J225344.64+160907.8</td><td>343.436</td><td>16.152</td><td>22h53m44.64s</td><td>16d09m07.83s</td><td>0.0443</td><td>0.0432</td><td>0.0065</td><td>12.368</td><td>0.025</td><td>43.6</td><td>1.231</td><td>12.397</td><td>0.024</td><td>45.1</td><td>0.9976</td><td>11.977</td><td>0.279</td><td>3.9</td><td>1.138</td><td>8.484</td><td>--</td><td>1.7</td><td>0.9392</td><td>1</td><td>0</td><td>0.0</td><td>0.0</td><td>0.0</td><td>0.0</td><td>-82</td><td>59</td><td>11</td><td>60</td><td>0000</td><td>0</td><td>00nn</td><td>AABU</td><td>1100</td><td>27</td><td>27</td><td>26</td><td>26</td><td>2</td><td>15</td><td>0</td><td>15</td><td>189.372069</td><td>274.328968</td><td>139</td></tr>\n",
       "<tr><td>J225344.19+160806.2</td><td>343.434</td><td>16.135</td><td>22h53m44.19s</td><td>16d08m06.29s</td><td>0.0658</td><td>0.066</td><td>-0.011</td><td>14.241</td><td>0.029</td><td>37.2</td><td>0.9327</td><td>14.295</td><td>0.046</td><td>23.5</td><td>0.9391</td><td>11.889</td><td>--</td><td>1.8</td><td>0.7729</td><td>9.199</td><td>--</td><td>-2.0</td><td>0.8407</td><td>1</td><td>0</td><td>0.0</td><td>0.0</td><td>0.0</td><td>0.0</td><td>-124</td><td>152</td><td>60</td><td>155</td><td>0000</td><td>0</td><td>11nn</td><td>AAUU</td><td>1100</td><td>25</td><td>25</td><td>24</td><td>25</td><td>0</td><td>14</td><td>0</td><td>14</td><td>200.944968</td><td>256.403916</td><td>155</td></tr>\n",
       "<tr><td>J225351.03+160554.7</td><td>343.463</td><td>16.099</td><td>22h53m51.04s</td><td>16d05m54.76s</td><td>0.0434</td><td>0.0421</td><td>0.0066</td><td>12.431</td><td>0.024</td><td>46.0</td><td>1.286</td><td>12.454</td><td>0.024</td><td>44.6</td><td>1.156</td><td>11.949</td><td>0.276</td><td>3.9</td><td>0.8234</td><td>8.981</td><td>--</td><td>0.2</td><td>0.9719</td><td>1</td><td>0</td><td>0.0</td><td>0.001</td><td>0.0</td><td>0.0</td><td>10</td><td>61</td><td>26</td><td>60</td><td>0000</td><td>0</td><td>00nn</td><td>AABU</td><td>1100</td><td>25</td><td>25</td><td>25</td><td>25</td><td>1</td><td>13</td><td>0</td><td>13</td><td>203.265143</td><td>208.409629</td><td>160</td></tr>\n",
       "<tr><td>J225348.36+160615.3</td><td>343.452</td><td>16.104</td><td>22h53m48.36s</td><td>16d06m15.30s</td><td>0.0523</td><td>0.0511</td><td>-0.0064</td><td>13.402</td><td>0.025</td><td>42.8</td><td>1.097</td><td>13.445</td><td>0.033</td><td>33.3</td><td>0.9926</td><td>12.516</td><td>--</td><td>-0.1</td><td>0.8312</td><td>9.117</td><td>--</td><td>0.0</td><td>0.9759</td><td>1</td><td>0</td><td>0.0</td><td>0.0</td><td>0.0</td><td>0.0</td><td>17</td><td>88</td><td>22</td><td>88</td><td>0000</td><td>0</td><td>11nn</td><td>AAUU</td><td>1100</td><td>26</td><td>26</td><td>26</td><td>26</td><td>0</td><td>14</td><td>0</td><td>14</td><td>208.197903</td><td>220.531619</td><td>165</td></tr>\n",
       "<tr><td>J225344.48+161026.6</td><td>343.435</td><td>16.174</td><td>22h53m44.48s</td><td>16d10m26.63s</td><td>0.0697</td><td>0.0696</td><td>-0.0113</td><td>14.344</td><td>0.03</td><td>35.7</td><td>0.919</td><td>14.468</td><td>0.054</td><td>20.1</td><td>0.9114</td><td>12.713</td><td>--</td><td>-0.7</td><td>0.9786</td><td>8.964</td><td>--</td><td>0.2</td><td>0.9111</td><td>1</td><td>0</td><td>0.0</td><td>0.0</td><td>0.0</td><td>0.0</td><td>33</td><td>154</td><td>-162</td><td>158</td><td>0000</td><td>0</td><td>00nn</td><td>AAUU</td><td>1100</td><td>27</td><td>27</td><td>27</td><td>27</td><td>0</td><td>14</td><td>0</td><td>14</td><td>212.594426</td><td>295.971024</td><td>169</td></tr>\n",
       "<tr><td>J225412.42+160949.1</td><td>343.552</td><td>16.164</td><td>22h54m12.43s</td><td>16d09m49.15s</td><td>0.1074</td><td>0.1089</td><td>-0.0302</td><td>15.327</td><td>0.041</td><td>26.8</td><td>0.9511</td><td>15.632</td><td>0.133</td><td>8.2</td><td>0.9367</td><td>12.531</td><td>--</td><td>-0.1</td><td>1.009</td><td>9.143</td><td>--</td><td>-1.3</td><td>1.062</td><td>1</td><td>0</td><td>0.0</td><td>0.0</td><td>0.0</td><td>0.012</td><td>-404</td><td>349</td><td>178</td><td>359</td><td>0000</td><td>0</td><td>1nnn</td><td>ABUU</td><td>1100</td><td>24</td><td>24</td><td>5</td><td>24</td><td>0</td><td>13</td><td>0</td><td>13</td><td>218.663266</td><td>75.261655</td><td>182</td></tr>\n",
       "<tr><td>J225408.02+160609.3</td><td>343.533</td><td>16.103</td><td>22h54m08.02s</td><td>16d06m09.37s</td><td>0.046</td><td>0.045</td><td>-0.0032</td><td>13.021</td><td>0.024</td><td>45.1</td><td>1.203</td><td>13.04</td><td>0.027</td><td>40.1</td><td>0.9566</td><td>12.194</td><td>--</td><td>1.2</td><td>0.8933</td><td>8.73</td><td>--</td><td>1.0</td><td>1.081</td><td>1</td><td>0</td><td>0.0</td><td>0.0</td><td>0.0</td><td>0.0</td><td>-133</td><td>75</td><td>37</td><td>76</td><td>0000</td><td>0</td><td>00nn</td><td>AAUU</td><td>1100</td><td>24</td><td>24</td><td>24</td><td>24</td><td>0</td><td>12</td><td>0</td><td>12</td><td>221.070686</td><td>137.952897</td><td>186</td></tr>\n",
       "<tr><td>J225411.17+160655.0</td><td>343.547</td><td>16.115</td><td>22h54m11.17s</td><td>16d06m55.01s</td><td>0.0366</td><td>0.0345</td><td>0.004</td><td>9.385</td><td>0.023</td><td>46.7</td><td>2.046</td><td>9.197</td><td>0.02</td><td>53.1</td><td>1.585</td><td>9.031</td><td>0.03</td><td>36.3</td><td>0.6754</td><td>8.712</td><td>0.432</td><td>2.5</td><td>0.8093</td><td>1</td><td>0</td><td>0.0</td><td>0.0</td><td>0.0</td><td>0.002</td><td>122</td><td>38</td><td>-65</td><td>36</td><td>0000</td><td>0</td><td>011n</td><td>AAAC</td><td>1100</td><td>27</td><td>27</td><td>27</td><td>27</td><td>14</td><td>14</td><td>0</td><td>14</td><td>226.859215</td><td>121.496382</td><td>192</td></tr>\n",
       "<tr><td>J225353.57+160513.8</td><td>343.473</td><td>16.087</td><td>22h53m53.58s</td><td>16d05m13.84s</td><td>0.0393</td><td>0.0372</td><td>0.007</td><td>11.008</td><td>0.023</td><td>46.4</td><td>1.753</td><td>11.103</td><td>0.021</td><td>52.6</td><td>1.255</td><td>11.205</td><td>0.144</td><td>7.6</td><td>0.8547</td><td>8.769</td><td>--</td><td>0.4</td><td>1.009</td><td>1</td><td>0</td><td>0.0</td><td>0.0</td><td>0.0</td><td>0.0</td><td>-103</td><td>45</td><td>87</td><td>44</td><td>0000</td><td>0</td><td>00nn</td><td>AABU</td><td>1100</td><td>26</td><td>26</td><td>26</td><td>26</td><td>2</td><td>14</td><td>0</td><td>14</td><td>227.78803</td><td>195.304621</td><td>193</td></tr>\n",
       "</table>"
      ],
      "text/plain": [
       "<Table masked=True length=14>\n",
       "    designation        ra     dec   ...    dist      angle      id  \n",
       "                      deg     deg   ...    arcs       deg           \n",
       "       object       float64 float64 ...  float64    float64   object\n",
       "------------------- ------- ------- ... ---------- ---------- ------\n",
       "J225357.74+160853.7 343.491  16.148 ...   0.147404 349.046251      0\n",
       "J225359.94+160953.9 343.500  16.165 ...  68.220268  27.679694     17\n",
       "J225355.13+160708.1 343.480  16.119 ... 111.940272 199.650476     53\n",
       "J225350.60+160943.7 343.461  16.162 ...  114.54805 295.984733     56\n",
       "J225404.87+160746.7 343.520  16.130 ... 122.526853 123.042816     59\n",
       "J225344.64+160907.8 343.436  16.152 ... 189.372069 274.328968    139\n",
       "J225344.19+160806.2 343.434  16.135 ... 200.944968 256.403916    155\n",
       "J225351.03+160554.7 343.463  16.099 ... 203.265143 208.409629    160\n",
       "J225348.36+160615.3 343.452  16.104 ... 208.197903 220.531619    165\n",
       "J225344.48+161026.6 343.435  16.174 ... 212.594426 295.971024    169\n",
       "J225412.42+160949.1 343.552  16.164 ... 218.663266  75.261655    182\n",
       "J225408.02+160609.3 343.533  16.103 ... 221.070686 137.952897    186\n",
       "J225411.17+160655.0 343.547  16.115 ... 226.859215 121.496382    192\n",
       "J225353.57+160513.8 343.473  16.087 ...  227.78803 195.304621    193"
      ]
     },
     "execution_count": 15,
     "metadata": {},
     "output_type": "execute_result"
    }
   ],
   "source": [
    "idx_wise, idx, d2d, d3d = match_all_coord.search_around_sky(c_wise, sep_min)\n",
    "match_wise = data_wise[idx_wise]\n",
    "match_wise"
   ]
  },
  {
   "cell_type": "markdown",
   "metadata": {},
   "source": [
    "## Join table"
   ]
  },
  {
   "cell_type": "code",
   "execution_count": 16,
   "metadata": {},
   "outputs": [],
   "source": [
    "# joindata = Table([match_2mass['j_m'], \n",
    "#                   match_2mass['j_m']-match_2mass['h_m'], \n",
    "#                   match_2mass['j_m']-match_2mass['k_m'],\n",
    "#                   match_2mass['j_m']-match_wise['w1mpro'], \n",
    "#                   match_2mass['j_m']-match_wise['w2mpro'],\n",
    "#                   match_2mass['j_m']-match_wise['w3mpro'],\n",
    "#                   match_2mass['j_m']-match_wise['w4mpro'],\n",
    "#                   match_2mass['j_m']-match_galex['NUVmag']], \n",
    "#                   names=('J', 'J-H', 'J-K', 'J-W1', 'J-W2', 'J-W3', 'J-W4', 'J-NUV'))"
   ]
  },
  {
   "cell_type": "code",
   "execution_count": 17,
   "metadata": {},
   "outputs": [],
   "source": [
    "joindata = np.array([match_2mass['j_m'], \n",
    "                  match_2mass['j_m']-match_2mass['h_m'], \n",
    "                  match_2mass['j_m']-match_2mass['k_m'],\n",
    "                  match_2mass['j_m']-match_wise['w1mpro'], \n",
    "                  match_2mass['j_m']-match_wise['w2mpro'],\n",
    "                  match_2mass['j_m']-match_wise['w3mpro'],\n",
    "                  match_2mass['j_m']-match_wise['w4mpro'],\n",
    "                  match_2mass['j_m']-match_galex['NUVmag']])\n",
    "\n",
    "joindata = joindata.T"
   ]
  },
  {
   "cell_type": "code",
   "execution_count": 18,
   "metadata": {},
   "outputs": [
    {
     "data": {
      "text/plain": [
       "array([[ 14.494 ,   0.639 ,   1.433 ,   5.231 ,   6.347 ,   8.693 ,\n",
       "         11.107 ,  -2.442 ],\n",
       "       [ 14.215 ,   0.42  ,   0.574 ,   0.628 ,   0.6   ,   1.638 ,\n",
       "          5.139 ,  -8.6035],\n",
       "       [ 13.817 ,   0.38  ,   0.41  ,   0.45  ,   0.444 ,   1.894 ,\n",
       "          5.442 ,  -6.5696],\n",
       "       [ 16.475 ,   0.808 ,   1.18  ,   2.221 ,   2.422 ,   5.795 ,\n",
       "          7.662 ,  -4.0011],\n",
       "       [ 14.012 ,   0.546 ,   0.696 ,   0.655 ,   0.605 ,   1.926 ,\n",
       "          4.814 ,  -8.1771],\n",
       "       [ 12.992 ,   0.468 ,   0.549 ,   0.624 ,   0.595 ,   1.015 ,\n",
       "          4.508 ,  -9.4532],\n",
       "       [ 14.803 ,   0.38  ,   0.351 ,   0.562 ,   0.508 ,   2.914 ,\n",
       "          5.604 ,  -7.3016],\n",
       "       [ 12.945 ,   0.387 ,   0.5   ,   0.514 ,   0.491 ,   0.996 ,\n",
       "          3.964 ,  -7.299 ],\n",
       "       [ 13.878 ,   0.365 ,   0.465 ,   0.476 ,   0.433 ,   1.362 ,\n",
       "          4.761 ,  -7.9779],\n",
       "       [ 14.95  ,   0.449 ,   0.551 ,   0.606 ,   0.482 ,   2.237 ,\n",
       "          5.986 ,  -7.1068],\n",
       "       [ 15.964 ,   0.516 ,   0.67  ,   0.637 ,   0.332 ,   3.433 ,\n",
       "          6.821 ,  -6.9099],\n",
       "       [ 13.71  ,   0.468 ,   0.592 ,   0.689 ,   0.67  ,   1.516 ,\n",
       "          4.98  ,  -7.642 ],\n",
       "       [ 10.416 ,   0.583 ,   0.86  ,   1.031 ,   1.219 ,   1.385 ,\n",
       "          1.704 , -11.3695],\n",
       "       [ 11.8   ,   0.608 ,   0.73  ,   0.792 ,   0.697 ,   0.595 ,\n",
       "          3.031 , -11.0555]])"
      ]
     },
     "execution_count": 18,
     "metadata": {},
     "output_type": "execute_result"
    }
   ],
   "source": [
    "joindata"
   ]
  },
  {
   "cell_type": "markdown",
   "metadata": {},
   "source": [
    "# Analysis"
   ]
  },
  {
   "cell_type": "markdown",
   "metadata": {},
   "source": [
    "### PCA"
   ]
  },
  {
   "cell_type": "code",
   "execution_count": 19,
   "metadata": {},
   "outputs": [],
   "source": [
    "from sklearn import datasets\n",
    "from sklearn.decomposition import PCA\n",
    "from sklearn.preprocessing import scale\n",
    "\n",
    "X = scale(joindata)\n",
    "\n",
    "pca = PCA(n_components=2)\n",
    "X_r = pca.fit(X).transform(X)"
   ]
  },
  {
   "cell_type": "code",
   "execution_count": 20,
   "metadata": {},
   "outputs": [
    {
     "data": {
      "image/png": "[encoded data removed]",
      "text/plain": [
       "<Figure size 432x288 with 1 Axes>"
      ]
     },
     "metadata": {},
     "output_type": "display_data"
    }
   ],
   "source": [
    "plt.scatter(X_r[:,0], X_r[:,1])\n",
    "for i, name in enumerate(match_wise['designation']):\n",
    "    for galaxyname in galaxy['designation']:\n",
    "        if name == galaxyname:\n",
    "            plt.scatter(X_r[i,0], X_r[i,1], color=\"red\")  "
   ]
  },
  {
   "cell_type": "markdown",
   "metadata": {},
   "source": [
    "### DBSCAN"
   ]
  },
  {
   "cell_type": "code",
   "execution_count": 21,
   "metadata": {},
   "outputs": [
    {
     "name": "stdout",
     "output_type": "stream",
     "text": [
      "Estimated number of clusters: 1\n",
      "[-1  0  0 -1  0  0  0  0  0  0  0  0  0  0]\n"
     ]
    }
   ],
   "source": [
    "from sklearn.cluster import DBSCAN\n",
    "from sklearn.preprocessing import StandardScaler\n",
    "\n",
    "X = scale(joindata)\n",
    "\n",
    "db = DBSCAN(eps=2, min_samples=3).fit(X)\n",
    "\n",
    "core_samples_mask = np.zeros_like(db.labels_, dtype=bool)\n",
    "core_samples_mask[db.core_sample_indices_] = True\n",
    "labels = db.labels_\n",
    "\n",
    "# Number of clusters in labels, ignoring noise if present.\n",
    "n_clusters_ = len(set(labels)) - (1 if -1 in labels else 0)\n",
    "\n",
    "print('Estimated number of clusters: %d' % n_clusters_)\n",
    "print(labels)"
   ]
  },
  {
   "cell_type": "markdown",
   "metadata": {},
   "source": [
    "#### Plot J-W1 vs J"
   ]
  },
  {
   "cell_type": "code",
   "execution_count": 22,
   "metadata": {},
   "outputs": [
    {
     "data": {
      "image/png": "[encoded data removed]",
      "text/plain": [
       "<Figure size 432x288 with 1 Axes>"
      ]
     },
     "metadata": {},
     "output_type": "display_data"
    }
   ],
   "source": [
    "# Black removed and is used for noise instead.\n",
    "unique_labels = set(labels)\n",
    "colors = [plt.cm.Spectral(each) for each in np.linspace(0, 1, len(unique_labels))]\n",
    "for k, col in zip(unique_labels, colors):\n",
    "    if k == -1:\n",
    "        # Black used for noise.\n",
    "        col = [0, 0, 0, 1]\n",
    "\n",
    "    class_member_mask = (labels == k)\n",
    "\n",
    "    \n",
    "    ## J vs J-W1\n",
    "    \n",
    "    xy = X[class_member_mask & core_samples_mask]\n",
    "    plt.plot(xy[:, 3], xy[:, 0], 'o', markerfacecolor=tuple(col), markeredgecolor='k', markersize=14)\n",
    "\n",
    "    xy = X[class_member_mask & ~core_samples_mask]\n",
    "    plt.plot(xy[:, 3], xy[:, 0], 'o', markerfacecolor=tuple(col), markeredgecolor='k', markersize=8)\n",
    "    \n",
    "    for i, name in enumerate(match_wise['designation']):\n",
    "        for galaxyname in galaxy['designation']:\n",
    "            if name == galaxyname:\n",
    "                plt.plot(X[i,3], X[i,0], marker=\"X\", markerfacecolor='red', markeredgecolor='none', markersize=8)  \n",
    "\n",
    "plt.title('Estimated number of clusters: %d' % n_clusters_)\n",
    "plt.show()"
   ]
  },
  {
   "cell_type": "markdown",
   "metadata": {},
   "source": [
    "### t-SNE"
   ]
  },
  {
   "cell_type": "code",
   "execution_count": 23,
   "metadata": {},
   "outputs": [],
   "source": [
    "from sklearn.manifold import TSNE\n",
    "X = scale(joindata)\n",
    "X_r = TSNE(n_components=2).fit_transform(X)"
   ]
  },
  {
   "cell_type": "code",
   "execution_count": 24,
   "metadata": {},
   "outputs": [
    {
     "data": {
      "image/png": "[encoded data removed]",
      "text/plain": [
       "<Figure size 432x288 with 1 Axes>"
      ]
     },
     "metadata": {},
     "output_type": "display_data"
    }
   ],
   "source": [
    "plt.scatter(X_r[:,0], X_r[:,1])\n",
    "for i, name in enumerate(match_wise['designation']):\n",
    "    for galaxyname in galaxy['designation']:\n",
    "        if name == galaxyname:\n",
    "            plt.scatter(X_r[i,0], X_r[i,1], color=\"red\")  "
   ]
  },
  {
   "cell_type": "code",
   "execution_count": null,
   "metadata": {},
   "outputs": [],
   "source": []
  }
 ],
 "metadata": {
  "kernelspec": {
   "display_name": "Python 3",
   "language": "python",
   "name": "python3"
  },
  "language_info": {
   "codemirror_mode": {
    "name": "ipython",
    "version": 3
   },
   "file_extension": ".py",
   "mimetype": "text/x-python",
   "name": "python",
   "nbconvert_exporter": "python",
   "pygments_lexer": "ipython3",
   "version": "3.6.5"
  }
 },
 "nbformat": 4,
 "nbformat_minor": 2
}
