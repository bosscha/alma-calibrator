{
 "cells": [
  {
   "cell_type": "code",
   "execution_count": 1,
   "metadata": {},
   "outputs": [
    {
     "name": "stdout",
     "output_type": "stream",
     "text": [
      "Created TAP+ (v1.0.1) - Connection:\n",
      "\tHost: gea.esac.esa.int\n",
      "\tUse HTTPS: False\n",
      "\tPort: 80\n",
      "\tSSL Port: 443\n"
     ]
    }
   ],
   "source": [
    "import numpy as np\n",
    "import pandas as pd\n",
    "\n",
    "from astropy import coordinates\n",
    "from astropy.coordinates import match_coordinates_sky\n",
    "import astropy.units as u\n",
    "import astroquery\n",
    "from astroquery.irsa import Irsa\n",
    "from astroquery.vizier import Vizier\n",
    "from astropy.table import Table, join, Column, hstack\n",
    "\n",
    "from astropy.units import Quantity\n",
    "from astroquery.gaia import Gaia\n",
    "\n",
    "Irsa.ROW_LIMIT = -1\n",
    "Vizier.ROW_LIMIT = -1\n",
    "\n",
    "from astropy.io import ascii as asci\n",
    "\n",
    "import matplotlib.pyplot as plt\n",
    "\n",
    "# Suppress warnings. Comment this out if you wish to see the warning messages\n",
    "import warnings\n",
    "warnings.filterwarnings('ignore')\n",
    "\n",
    "%matplotlib inline"
   ]
  },
  {
   "cell_type": "markdown",
   "metadata": {},
   "source": [
    "# Get the data"
   ]
  },
  {
   "cell_type": "markdown",
   "metadata": {},
   "source": [
    "# Try GAIA and 2MASS\n",
    "\n",
    "- in gaiadr1 and gaiadr2 they also provide 2mass, allwise, sdss \"best neigbour\" pairs \n",
    "- catalogs provided by GAIA:\n",
    "    - gaiadr1.gaiadr1.allwise_original_valid\n",
    "    - gaiadr1.gaiadr1.gsc23_original_valid\n",
    "    - gaiadr1.gaiadr1.ppmxl_original_valid\n",
    "    - gaiadr1.gaiadr1.sdssdr9_original_valid\n",
    "    - gaiadr1.gaiadr1.tmass_original_valid\n",
    "    - gaiadr1.gaiadr1.ucac4_original_valid\n",
    "    - gaiadr1.gaiadr1.urat1_original_valid"
   ]
  },
  {
   "cell_type": "code",
   "execution_count": 2,
   "metadata": {},
   "outputs": [
    {
     "name": "stdout",
     "output_type": "stream",
     "text": [
      "SELECT * FROM gaiadr2.gaia_source AS g, gaiadr2.tmass_best_neighbour AS tbest, gaiadr1.tmass_original_valid AS tmass WHERE g.source_id = tbest.source_id AND tbest.tmass_oid = tmass.tmass_oid AND pmra IS NOT NULL AND abs(pmra)<3 AND pmdec IS NOT NULL AND abs(pmdec)<3;\n"
     ]
    },
    {
     "ename": "KeyboardInterrupt",
     "evalue": "",
     "output_type": "error",
     "traceback": [
      "\u001b[0;31m---------------------------------------------------------------------------\u001b[0m",
      "\u001b[0;31mKeyboardInterrupt\u001b[0m                         Traceback (most recent call last)",
      "\u001b[0;32m<ipython-input-2-2b05ae065f04>\u001b[0m in \u001b[0;36m<module>\u001b[0;34m()\u001b[0m\n\u001b[1;32m      3\u001b[0m \u001b[0mprint\u001b[0m\u001b[0;34m(\u001b[0m\u001b[0mcmd\u001b[0m\u001b[0;34m)\u001b[0m\u001b[0;34m\u001b[0m\u001b[0m\n\u001b[1;32m      4\u001b[0m \u001b[0;34m\u001b[0m\u001b[0m\n\u001b[0;32m----> 5\u001b[0;31m \u001b[0mjob1\u001b[0m \u001b[0;34m=\u001b[0m \u001b[0mGaia\u001b[0m\u001b[0;34m.\u001b[0m\u001b[0mlaunch_job_async\u001b[0m\u001b[0;34m(\u001b[0m\u001b[0mcmd\u001b[0m\u001b[0;34m,\u001b[0m \u001b[0mdump_to_file\u001b[0m\u001b[0;34m=\u001b[0m\u001b[0;32mTrue\u001b[0m\u001b[0;34m)\u001b[0m\u001b[0;34m\u001b[0m\u001b[0m\n\u001b[0m\u001b[1;32m      6\u001b[0m \u001b[0mprint\u001b[0m \u001b[0;34m(\u001b[0m\u001b[0mjob1\u001b[0m\u001b[0;34m)\u001b[0m\u001b[0;34m\u001b[0m\u001b[0m\n",
      "\u001b[0;32m~/anaconda3/lib/python3.6/site-packages/astroquery/gaia/core.py\u001b[0m in \u001b[0;36mlaunch_job_async\u001b[0;34m(self, query, name, output_file, output_format, verbose, dump_to_file, background, upload_resource, upload_table_name)\u001b[0m\n\u001b[1;32m    156\u001b[0m                                                \u001b[0mbackground\u001b[0m\u001b[0;34m=\u001b[0m\u001b[0mbackground\u001b[0m\u001b[0;34m,\u001b[0m\u001b[0;34m\u001b[0m\u001b[0m\n\u001b[1;32m    157\u001b[0m                                                \u001b[0mupload_resource\u001b[0m\u001b[0;34m=\u001b[0m\u001b[0mupload_resource\u001b[0m\u001b[0;34m,\u001b[0m\u001b[0;34m\u001b[0m\u001b[0m\n\u001b[0;32m--> 158\u001b[0;31m                                                upload_table_name=upload_table_name)\n\u001b[0m\u001b[1;32m    159\u001b[0m \u001b[0;34m\u001b[0m\u001b[0m\n\u001b[1;32m    160\u001b[0m     \u001b[0;32mdef\u001b[0m \u001b[0mload_async_job\u001b[0m\u001b[0;34m(\u001b[0m\u001b[0mself\u001b[0m\u001b[0;34m,\u001b[0m \u001b[0mjobid\u001b[0m\u001b[0;34m=\u001b[0m\u001b[0;32mNone\u001b[0m\u001b[0;34m,\u001b[0m \u001b[0mname\u001b[0m\u001b[0;34m=\u001b[0m\u001b[0;32mNone\u001b[0m\u001b[0;34m,\u001b[0m \u001b[0mverbose\u001b[0m\u001b[0;34m=\u001b[0m\u001b[0;32mFalse\u001b[0m\u001b[0;34m)\u001b[0m\u001b[0;34m:\u001b[0m\u001b[0;34m\u001b[0m\u001b[0m\n",
      "\u001b[0;32m~/anaconda3/lib/python3.6/site-packages/astroquery/utils/tap/core.py\u001b[0m in \u001b[0;36mlaunch_job_async\u001b[0;34m(self, query, name, output_file, output_format, verbose, dump_to_file, background, upload_resource, upload_table_name)\u001b[0m\n\u001b[1;32m    334\u001b[0m                 \u001b[0;31m# saveResults or getResults will block (not background)\u001b[0m\u001b[0;34m\u001b[0m\u001b[0;34m\u001b[0m\u001b[0m\n\u001b[1;32m    335\u001b[0m                 \u001b[0;32mif\u001b[0m \u001b[0mdump_to_file\u001b[0m\u001b[0;34m:\u001b[0m\u001b[0;34m\u001b[0m\u001b[0m\n\u001b[0;32m--> 336\u001b[0;31m                     \u001b[0mjob\u001b[0m\u001b[0;34m.\u001b[0m\u001b[0msave_results\u001b[0m\u001b[0;34m(\u001b[0m\u001b[0mverbose\u001b[0m\u001b[0;34m)\u001b[0m\u001b[0;34m\u001b[0m\u001b[0m\n\u001b[0m\u001b[1;32m    337\u001b[0m                 \u001b[0;32melse\u001b[0m\u001b[0;34m:\u001b[0m\u001b[0;34m\u001b[0m\u001b[0m\n\u001b[1;32m    338\u001b[0m                     \u001b[0mjob\u001b[0m\u001b[0;34m.\u001b[0m\u001b[0mget_results\u001b[0m\u001b[0;34m(\u001b[0m\u001b[0;34m)\u001b[0m\u001b[0;34m\u001b[0m\u001b[0m\n",
      "\u001b[0;32m~/anaconda3/lib/python3.6/site-packages/astroquery/utils/tap/model/job.py\u001b[0m in \u001b[0;36msave_results\u001b[0;34m(self, verbose)\u001b[0m\n\u001b[1;32m    569\u001b[0m                     \u001b[0mprint\u001b[0m\u001b[0;34m(\u001b[0m\u001b[0mresponse\u001b[0m\u001b[0;34m.\u001b[0m\u001b[0mreason\u001b[0m\u001b[0;34m)\u001b[0m\u001b[0;34m\u001b[0m\u001b[0m\n\u001b[1;32m    570\u001b[0m                     \u001b[0;32mraise\u001b[0m \u001b[0mException\u001b[0m\u001b[0;34m(\u001b[0m\u001b[0mresponse\u001b[0m\u001b[0;34m.\u001b[0m\u001b[0mreason\u001b[0m\u001b[0;34m)\u001b[0m\u001b[0;34m\u001b[0m\u001b[0m\n\u001b[0;32m--> 571\u001b[0;31m                 \u001b[0mself\u001b[0m\u001b[0;34m.\u001b[0m\u001b[0m__connHandler\u001b[0m\u001b[0;34m.\u001b[0m\u001b[0mdump_to_file\u001b[0m\u001b[0;34m(\u001b[0m\u001b[0moutput\u001b[0m\u001b[0;34m,\u001b[0m \u001b[0mresponse\u001b[0m\u001b[0;34m)\u001b[0m\u001b[0;34m\u001b[0m\u001b[0m\n\u001b[0m\u001b[1;32m    572\u001b[0m \u001b[0;34m\u001b[0m\u001b[0m\n\u001b[1;32m    573\u001b[0m     \u001b[0;32mdef\u001b[0m \u001b[0mwait_for_job_end\u001b[0m\u001b[0;34m(\u001b[0m\u001b[0mself\u001b[0m\u001b[0;34m,\u001b[0m \u001b[0mverbose\u001b[0m\u001b[0;34m=\u001b[0m\u001b[0;32mFalse\u001b[0m\u001b[0;34m)\u001b[0m\u001b[0;34m:\u001b[0m\u001b[0;34m\u001b[0m\u001b[0m\n",
      "\u001b[0;32m~/anaconda3/lib/python3.6/site-packages/astroquery/utils/tap/conn/tapconn.py\u001b[0m in \u001b[0;36mdump_to_file\u001b[0;34m(self, output, response)\u001b[0m\n\u001b[1;32m    249\u001b[0m         \u001b[0;32mwith\u001b[0m \u001b[0mopen\u001b[0m\u001b[0;34m(\u001b[0m\u001b[0moutput\u001b[0m\u001b[0;34m,\u001b[0m \u001b[0;34m\"wb\"\u001b[0m\u001b[0;34m)\u001b[0m \u001b[0;32mas\u001b[0m \u001b[0mf\u001b[0m\u001b[0;34m:\u001b[0m\u001b[0;34m\u001b[0m\u001b[0m\n\u001b[1;32m    250\u001b[0m             \u001b[0;32mwhile\u001b[0m \u001b[0;32mTrue\u001b[0m\u001b[0;34m:\u001b[0m\u001b[0;34m\u001b[0m\u001b[0m\n\u001b[0;32m--> 251\u001b[0;31m                 \u001b[0mdata\u001b[0m \u001b[0;34m=\u001b[0m \u001b[0mresponse\u001b[0m\u001b[0;34m.\u001b[0m\u001b[0mread\u001b[0m\u001b[0;34m(\u001b[0m\u001b[0;36m4096\u001b[0m\u001b[0;34m)\u001b[0m\u001b[0;34m\u001b[0m\u001b[0m\n\u001b[0m\u001b[1;32m    252\u001b[0m                 \u001b[0;32mif\u001b[0m \u001b[0mlen\u001b[0m\u001b[0;34m(\u001b[0m\u001b[0mdata\u001b[0m\u001b[0;34m)\u001b[0m \u001b[0;34m<\u001b[0m \u001b[0;36m1\u001b[0m\u001b[0;34m:\u001b[0m\u001b[0;34m\u001b[0m\u001b[0m\n\u001b[1;32m    253\u001b[0m                     \u001b[0;32mbreak\u001b[0m\u001b[0;34m\u001b[0m\u001b[0m\n",
      "\u001b[0;32m~/anaconda3/lib/python3.6/http/client.py\u001b[0m in \u001b[0;36mread\u001b[0;34m(self, amt)\u001b[0m\n\u001b[1;32m    447\u001b[0m             \u001b[0;31m# Amount is given, implement using readinto\u001b[0m\u001b[0;34m\u001b[0m\u001b[0;34m\u001b[0m\u001b[0m\n\u001b[1;32m    448\u001b[0m             \u001b[0mb\u001b[0m \u001b[0;34m=\u001b[0m \u001b[0mbytearray\u001b[0m\u001b[0;34m(\u001b[0m\u001b[0mamt\u001b[0m\u001b[0;34m)\u001b[0m\u001b[0;34m\u001b[0m\u001b[0m\n\u001b[0;32m--> 449\u001b[0;31m             \u001b[0mn\u001b[0m \u001b[0;34m=\u001b[0m \u001b[0mself\u001b[0m\u001b[0;34m.\u001b[0m\u001b[0mreadinto\u001b[0m\u001b[0;34m(\u001b[0m\u001b[0mb\u001b[0m\u001b[0;34m)\u001b[0m\u001b[0;34m\u001b[0m\u001b[0m\n\u001b[0m\u001b[1;32m    450\u001b[0m             \u001b[0;32mreturn\u001b[0m \u001b[0mmemoryview\u001b[0m\u001b[0;34m(\u001b[0m\u001b[0mb\u001b[0m\u001b[0;34m)\u001b[0m\u001b[0;34m[\u001b[0m\u001b[0;34m:\u001b[0m\u001b[0mn\u001b[0m\u001b[0;34m]\u001b[0m\u001b[0;34m.\u001b[0m\u001b[0mtobytes\u001b[0m\u001b[0;34m(\u001b[0m\u001b[0;34m)\u001b[0m\u001b[0;34m\u001b[0m\u001b[0m\n\u001b[1;32m    451\u001b[0m         \u001b[0;32melse\u001b[0m\u001b[0;34m:\u001b[0m\u001b[0;34m\u001b[0m\u001b[0m\n",
      "\u001b[0;32m~/anaconda3/lib/python3.6/http/client.py\u001b[0m in \u001b[0;36mreadinto\u001b[0;34m(self, b)\u001b[0m\n\u001b[1;32m    491\u001b[0m         \u001b[0;31m# connection, and the user is reading more bytes than will be provided\u001b[0m\u001b[0;34m\u001b[0m\u001b[0;34m\u001b[0m\u001b[0m\n\u001b[1;32m    492\u001b[0m         \u001b[0;31m# (for example, reading in 1k chunks)\u001b[0m\u001b[0;34m\u001b[0m\u001b[0;34m\u001b[0m\u001b[0m\n\u001b[0;32m--> 493\u001b[0;31m         \u001b[0mn\u001b[0m \u001b[0;34m=\u001b[0m \u001b[0mself\u001b[0m\u001b[0;34m.\u001b[0m\u001b[0mfp\u001b[0m\u001b[0;34m.\u001b[0m\u001b[0mreadinto\u001b[0m\u001b[0;34m(\u001b[0m\u001b[0mb\u001b[0m\u001b[0;34m)\u001b[0m\u001b[0;34m\u001b[0m\u001b[0m\n\u001b[0m\u001b[1;32m    494\u001b[0m         \u001b[0;32mif\u001b[0m \u001b[0;32mnot\u001b[0m \u001b[0mn\u001b[0m \u001b[0;32mand\u001b[0m \u001b[0mb\u001b[0m\u001b[0;34m:\u001b[0m\u001b[0;34m\u001b[0m\u001b[0m\n\u001b[1;32m    495\u001b[0m             \u001b[0;31m# Ideally, we would raise IncompleteRead if the content-length\u001b[0m\u001b[0;34m\u001b[0m\u001b[0;34m\u001b[0m\u001b[0m\n",
      "\u001b[0;32m~/anaconda3/lib/python3.6/socket.py\u001b[0m in \u001b[0;36mreadinto\u001b[0;34m(self, b)\u001b[0m\n\u001b[1;32m    584\u001b[0m         \u001b[0;32mwhile\u001b[0m \u001b[0;32mTrue\u001b[0m\u001b[0;34m:\u001b[0m\u001b[0;34m\u001b[0m\u001b[0m\n\u001b[1;32m    585\u001b[0m             \u001b[0;32mtry\u001b[0m\u001b[0;34m:\u001b[0m\u001b[0;34m\u001b[0m\u001b[0m\n\u001b[0;32m--> 586\u001b[0;31m                 \u001b[0;32mreturn\u001b[0m \u001b[0mself\u001b[0m\u001b[0;34m.\u001b[0m\u001b[0m_sock\u001b[0m\u001b[0;34m.\u001b[0m\u001b[0mrecv_into\u001b[0m\u001b[0;34m(\u001b[0m\u001b[0mb\u001b[0m\u001b[0;34m)\u001b[0m\u001b[0;34m\u001b[0m\u001b[0m\n\u001b[0m\u001b[1;32m    587\u001b[0m             \u001b[0;32mexcept\u001b[0m \u001b[0mtimeout\u001b[0m\u001b[0;34m:\u001b[0m\u001b[0;34m\u001b[0m\u001b[0m\n\u001b[1;32m    588\u001b[0m                 \u001b[0mself\u001b[0m\u001b[0;34m.\u001b[0m\u001b[0m_timeout_occurred\u001b[0m \u001b[0;34m=\u001b[0m \u001b[0;32mTrue\u001b[0m\u001b[0;34m\u001b[0m\u001b[0m\n",
      "\u001b[0;31mKeyboardInterrupt\u001b[0m: "
     ]
    }
   ],
   "source": [
    "cmd = \"SELECT * FROM gaiadr2.gaia_source AS g, \\\n",
    "gaiadr2.tmass_best_neighbour AS tbest, \\\n",
    "gaiadr1.tmass_original_valid AS tmass \\\n",
    "WHERE g.source_id = tbest.source_id AND tbest.tmass_oid = tmass.tmass_oid \\\n",
    "AND pmra IS NOT NULL AND abs(pmra)<3 \\\n",
    "AND pmdec IS NOT NULL AND abs(pmdec)<3;\"\n",
    "\n",
    "print(cmd)\n",
    "\n",
    "job1 = Gaia.launch_job_async(cmd, dump_to_file=True)\n",
    "print (job1)"
   ]
  },
  {
   "cell_type": "code",
   "execution_count": null,
   "metadata": {},
   "outputs": [],
   "source": [
    "gaia_2mass = job1.get_results()\n",
    "print(len(gaia_2mass['source_id']))"
   ]
  },
  {
   "cell_type": "code",
   "execution_count": 6,
   "metadata": {},
   "outputs": [
    {
     "name": "stdout",
     "output_type": "stream",
     "text": [
      "        ra                 dec           ra_2     dec_2   phot_g_mean_mag  j_m  \n",
      "       deg                 deg           deg       deg          mag        mag  \n",
      "------------------ ------------------- -------- --------- --------------- ------\n",
      " 2.390732751830467  -6.546052592994798 2.390773 -6.545917        19.06598 16.697\n",
      "2.4119940994386777     -6.754831866119 2.411859 -6.754753       19.486813 16.568\n",
      "2.5428858650859794 -6.5427542995979895 2.542791 -6.542633       18.801517 16.587\n",
      "2.4657746243804772  -6.770026089663108 2.465807 -6.769865       17.345057 15.999\n",
      "2.3905290941368316   -6.77431073539794  2.39051 -6.774295       18.668016 16.393\n",
      "2.3086280130046433  -6.561269746375928 2.308625 -6.561272       16.346586 15.294\n",
      "2.5481475582031994  -6.547613323459481 2.548208 -6.547598       15.356233 13.953\n",
      " 2.471145860590163  -6.553873161367393 2.471155  -6.55382       18.073174  16.36\n",
      "2.3531584034045467  -6.496694070310528 2.353204 -6.496691       18.862864 15.971\n",
      "2.5050560809614733  -6.500824386876049 2.505089 -6.500779        15.78973 14.468\n",
      "               ...                 ...      ...       ...             ...    ...\n",
      " 0.982562546825861  -5.606166282437564 0.982548  -5.60614       16.288784 15.069\n",
      "1.1140173333681989  -5.512166734799017 1.114004 -5.512098       20.113007 16.819\n",
      "1.1215842902116802  -5.585469134445283 1.121565 -5.585479       16.895649 15.797\n",
      "1.1442871097239746  -5.520827844831702 1.144304 -5.520731       16.956244 15.818\n",
      "1.0434230211223718 -5.5498624506207825 1.043423 -5.549823       16.232542 14.094\n",
      "1.4530932192676562  -5.432619208085258 1.453021 -5.432574       18.788189 15.981\n",
      "1.0747154784808475  -5.529270082158856 1.074338 -5.528806       14.346713 12.254\n",
      "1.1063971726508028  -5.514592637093396 1.106338 -5.514581       16.468006 15.339\n",
      " 1.841505702874467  -5.491043760641788 1.841623 -5.491079       18.911425 16.406\n",
      "1.5296999229181367  -5.520023982665498 1.529532 -5.519976       19.092836 16.966\n",
      "Length = 4207 rows\n"
     ]
    }
   ],
   "source": [
    "print(gaia_2mass['ra', 'dec', 'ra_2', 'dec_2', 'phot_g_mean_mag', 'j_m']) "
   ]
  },
  {
   "cell_type": "markdown",
   "metadata": {},
   "source": [
    "# Try GAIA and WISE"
   ]
  },
  {
   "cell_type": "code",
   "execution_count": 7,
   "metadata": {},
   "outputs": [
    {
     "name": "stdout",
     "output_type": "stream",
     "text": [
      "SELECT * FROM gaiadr2.gaia_source AS g, gaiadr2.allwise_best_neighbour AS wbest, gaiadr1.allwise_original_valid AS allwise WHERE g.source_id = wbest.source_id AND wbest.allwise_oid = allwise.allwise_oid AND CONTAINS(POINT('ICRS',g.ra,g.dec),CIRCLE('ICRS',1.55789,-6.39315,1))=1;\n",
      "Jobid: 1543009638516O\n",
      "Phase: COMPLETED\n",
      "Owner: None\n",
      "Output file: async_20181123184718.vot\n",
      "Results: None\n"
     ]
    }
   ],
   "source": [
    "cmd = \"SELECT * FROM gaiadr2.gaia_source AS g, \\\n",
    "gaiadr2.allwise_best_neighbour AS wbest, \\\n",
    "gaiadr1.allwise_original_valid AS allwise \\\n",
    "WHERE g.source_id = wbest.source_id AND wbest.allwise_oid = allwise.allwise_oid AND CONTAINS(POINT('ICRS',g.ra,g.dec),\\\n",
    "CIRCLE('ICRS',\" + str(obj_ra) + \",\" + str(obj_dec) + \",\" + str(cone_radius) + \"))=1;\"\n",
    "\n",
    "print(cmd)\n",
    "\n",
    "job2 = Gaia.launch_job_async(cmd, dump_to_file=True)\n",
    "print(job2)"
   ]
  },
  {
   "cell_type": "code",
   "execution_count": 8,
   "metadata": {},
   "outputs": [
    {
     "name": "stdout",
     "output_type": "stream",
     "text": [
      "6152\n"
     ]
    }
   ],
   "source": [
    "gaia_wise = job2.get_results()\n",
    "print(len(gaia_wise['source_id']))"
   ]
  },
  {
   "cell_type": "code",
   "execution_count": 22,
   "metadata": {},
   "outputs": [
    {
     "name": "stdout",
     "output_type": "stream",
     "text": [
      "        ra                 dec            ra_2     dec_2    phot_g_mean_mag\n",
      "       deg                 deg            deg       deg           mag      \n",
      "------------------ ------------------- --------- ---------- ---------------\n",
      " 2.390732751830467  -6.546052592994798 2.3906145 -6.5460367        19.06598\n",
      " 2.413609091643484  -6.761400254617428 2.4134981 -6.7613324        20.64247\n",
      "2.4010325276847246  -6.364152975991029 2.4009242 -6.3641124       21.189331\n",
      "2.4119940994386777     -6.754831866119  2.411886 -6.7547434       19.486813\n",
      "2.5428858650859794 -6.5427542995979895 2.5428842 -6.5427375       18.801517\n",
      "2.4657746243804772  -6.770026089663108  2.465796 -6.7700469       17.345057\n",
      "2.3905290941368316   -6.77431073539794 2.3905771 -6.7742426       18.668016\n",
      "2.3086280130046433  -6.561269746375928 2.3086345 -6.5612655       16.346586\n",
      "2.1726453152015313  -6.563759656023078 2.1727387 -6.5638607        20.12918\n",
      "2.5481475582031994  -6.547613323459481 2.5481413 -6.5476079       15.356233\n",
      "               ...                 ...       ...        ...             ...\n",
      "1.1215842902116802  -5.585469134445283 1.1215566 -5.5855616       16.895649\n",
      "1.1442871097239746  -5.520827844831702 1.1443111 -5.5208025       16.956244\n",
      "1.0434230211223718 -5.5498624506207825 1.0434105 -5.5498519       16.232542\n",
      "1.4530932192676562  -5.432619208085258 1.4530369 -5.4326209       18.788189\n",
      "1.0747154784808475  -5.529270082158856    1.0746 -5.5291535       14.346713\n",
      "1.1063971726508028  -5.514592637093396 1.1063581 -5.5145956       16.468006\n",
      " 1.841505702874467  -5.491043760641788 1.8415648 -5.4910636       18.911425\n",
      "1.5296999229181367  -5.520023982665498 1.5296593 -5.5199767       19.092836\n",
      "1.5601765537079333  -5.459719429745442 1.5602004 -5.4597184        19.49477\n",
      "1.1307145763190094  -5.586803941110903 1.1307436 -5.5869701       19.893824\n",
      "Length = 6152 rows\n"
     ]
    }
   ],
   "source": [
    "print(gaia_wise['ra', 'dec', 'ra_2', 'dec_2', 'phot_g_mean_mag']) "
   ]
  },
  {
   "cell_type": "markdown",
   "metadata": {},
   "source": [
    "## Combine"
   ]
  },
  {
   "cell_type": "code",
   "execution_count": 10,
   "metadata": {},
   "outputs": [],
   "source": [
    "sep_min = 1.0 * u.arcsec # minimum separation in arcsec"
   ]
  },
  {
   "cell_type": "code",
   "execution_count": 38,
   "metadata": {},
   "outputs": [],
   "source": [
    "# Using GAIA coord\n",
    "# ref_epoch: J2015.5\n",
    "\n",
    "ra_2mass = gaia_2mass['ra']\n",
    "dec_2mass = gaia_2mass['dec']\n",
    "c_2mass = coordinates.SkyCoord(ra=ra_2mass, dec=dec_2mass, unit=(u.deg, u.deg), frame=\"icrs\")\n",
    "\n",
    "ra_wise  = gaia_wise['ra']\n",
    "dec_wise = gaia_wise['dec']\n",
    "c_wise = coordinates.SkyCoord(ra=ra_wise, dec=dec_wise, unit=(u.deg, u.deg), frame=\"icrs\")"
   ]
  },
  {
   "cell_type": "code",
   "execution_count": 39,
   "metadata": {},
   "outputs": [
    {
     "name": "stdout",
     "output_type": "stream",
     "text": [
      "GAIA + 2MASS + WISE (using gaia coord):  3840\n"
     ]
    }
   ],
   "source": [
    "idx_2mass1, idx_wise1, d2d, d3d = c_wise.search_around_sky(c_2mass, sep_min)\n",
    "# select only one nearest if there are more in the search reagion (minimum seperation parameter)!\n",
    "\n",
    "print(\"GAIA + 2MASS + WISE (using gaia coord): \", len(idx_2mass1))"
   ]
  },
  {
   "cell_type": "code",
   "execution_count": 40,
   "metadata": {},
   "outputs": [],
   "source": [
    "#####\n",
    "# Using 2MASS and WISE coord\n",
    "# ra_2 and dec_2 here are RA and DEC of 2MASS and WISE accordingly\n",
    "\n",
    "ra_2mass = gaia_2mass['ra_2']\n",
    "dec_2mass = gaia_2mass['dec_2']\n",
    "c_2mass = coordinates.SkyCoord(ra=ra_2mass, dec=dec_2mass, unit=(u.deg, u.deg), frame=\"icrs\")\n",
    "\n",
    "ra_wise  = gaia_wise['ra_2']\n",
    "dec_wise = gaia_wise['dec_2']\n",
    "c_wise = coordinates.SkyCoord(ra=ra_wise, dec=dec_wise, unit=(u.deg, u.deg), frame=\"icrs\")"
   ]
  },
  {
   "cell_type": "code",
   "execution_count": 41,
   "metadata": {},
   "outputs": [
    {
     "name": "stdout",
     "output_type": "stream",
     "text": [
      "GAIA + 2MASS + WISE (using 2MASS-WISE coord):  3730\n"
     ]
    }
   ],
   "source": [
    "idx_2mass2, idx_wise2, d2d, d3d = c_wise.search_around_sky(c_2mass, sep_min)\n",
    "# select only one nearest if there are more in the search reagion (minimum seperation parameter)!\n",
    "\n",
    "print(\"GAIA + 2MASS + WISE (using 2MASS-WISE coord): \", len(idx_2mass2))"
   ]
  },
  {
   "cell_type": "code",
   "execution_count": 42,
   "metadata": {},
   "outputs": [
    {
     "name": "stdout",
     "output_type": "stream",
     "text": [
      "Confusion level : 2.864583333333333 %\n"
     ]
    }
   ],
   "source": [
    "print(\"Confusion level :\", abs(len(idx_2mass1) - len(idx_2mass2))/3840. * 100, '%')"
   ]
  },
  {
   "cell_type": "code",
   "execution_count": 48,
   "metadata": {},
   "outputs": [
    {
     "name": "stdout",
     "output_type": "stream",
     "text": [
      "Merge...\n",
      "3730\n"
     ]
    }
   ],
   "source": [
    "# Combine dataset\n",
    "# GAIA-WISE\n",
    "# GAIA-2MASS\n",
    "\n",
    "# result of match with each other\n",
    "gaia_2mass___wise = gaia_2mass[idx_2mass2] \n",
    "gaia_wise___2mass = gaia_wise[idx_wise2]\n",
    "\n",
    "#Check\n",
    "if np.all(gaia_2mass___wise['solution_id'] == gaia_wise___2mass['solution_id']):\n",
    "    # remove duplicating data \n",
    "    # remove duplicating IDs in each dataset\n",
    "    gaia_wise___2mass.remove_columns(['source_id_2', 'designation_2', 'allwise_oid_2'])\n",
    "    gaia_2mass___wise.remove_columns(['source_id_2', 'designation_2', 'tmass_oid_2'])\n",
    "    \n",
    "    # remove gaia data from gaia_wise___2mas\n",
    "    gaia_wise___2mass.remove_columns(['solution_id', 'designation', 'source_id', 'random_index', 'ref_epoch', 'ra', 'ra_error', 'dec', 'dec_error', 'parallax', 'parallax_error', 'parallax_over_error', 'pmra', 'pmra_error', 'pmdec', 'pmdec_error', 'ra_dec_corr', 'ra_parallax_corr', 'ra_pmra_corr', 'ra_pmdec_corr', 'dec_parallax_corr', 'dec_pmra_corr', 'dec_pmdec_corr', 'parallax_pmra_corr', 'parallax_pmdec_corr', 'pmra_pmdec_corr', 'astrometric_n_obs_al', 'astrometric_n_obs_ac', 'astrometric_n_good_obs_al', 'astrometric_n_bad_obs_al', 'astrometric_gof_al', 'astrometric_chi2_al', 'astrometric_excess_noise', 'astrometric_excess_noise_sig', 'astrometric_params_solved', 'astrometric_primary_flag', 'astrometric_weight_al', 'astrometric_pseudo_colour', 'astrometric_pseudo_colour_error', 'mean_varpi_factor_al', 'astrometric_matched_observations', 'visibility_periods_used', 'astrometric_sigma5d_max', 'frame_rotator_object_type', 'matched_observations', 'duplicated_source', 'phot_g_n_obs', 'phot_g_mean_flux', 'phot_g_mean_flux_error', 'phot_g_mean_flux_over_error', 'phot_g_mean_mag', 'phot_bp_n_obs', 'phot_bp_mean_flux', 'phot_bp_mean_flux_error', 'phot_bp_mean_flux_over_error', 'phot_bp_mean_mag', 'phot_rp_n_obs', 'phot_rp_mean_flux', 'phot_rp_mean_flux_error', 'phot_rp_mean_flux_over_error', 'phot_rp_mean_mag', 'phot_bp_rp_excess_factor', 'phot_proc_mode', 'bp_rp', 'bp_g', 'g_rp', 'radial_velocity', 'radial_velocity_error', 'rv_nb_transits', 'rv_template_teff', 'rv_template_logg', 'rv_template_fe_h', 'phot_variable_flag', 'l', 'b', 'ecl_lon', 'ecl_lat', 'priam_flags', 'teff_val', 'teff_percentile_lower', 'teff_percentile_upper', 'a_g_val', 'a_g_percentile_lower', 'a_g_percentile_upper', 'e_bp_min_rp_val', 'e_bp_min_rp_percentile_lower', 'e_bp_min_rp_percentile_upper', 'flame_flags', 'radius_val', 'radius_percentile_lower', 'radius_percentile_upper', 'lum_val', 'lum_percentile_lower', 'lum_percentile_upper', 'datalink_url', 'epoch_photometry_url'])\n",
    "\n",
    "    # merge (hstack)\n",
    "    gaia_2mass_wise = hstack([gaia_2mass___wise, gaia_wise___2mass], \n",
    "                           table_names=['2mass', 'wise'],\n",
    "                           uniq_col_name='{table_name}_{col_name}')\n",
    "    print(\"Merge...\")\n",
    "    print(len(gaia_2mass_wise))\n",
    "else:\n",
    "    print(\"Big Error: not match\")"
   ]
  },
  {
   "cell_type": "code",
   "execution_count": 56,
   "metadata": {},
   "outputs": [
    {
     "name": "stdout",
     "output_type": "stream",
     "text": [
      "['solution_id', 'designation', 'source_id', 'random_index', 'ref_epoch', 'ra', 'ra_error', 'dec', 'dec_error', 'parallax', 'parallax_error', 'parallax_over_error', 'pmra', 'pmra_error', 'pmdec', 'pmdec_error', 'ra_dec_corr', 'ra_parallax_corr', 'ra_pmra_corr', 'ra_pmdec_corr', 'dec_parallax_corr', 'dec_pmra_corr', 'dec_pmdec_corr', 'parallax_pmra_corr', 'parallax_pmdec_corr', 'pmra_pmdec_corr', 'astrometric_n_obs_al', 'astrometric_n_obs_ac', 'astrometric_n_good_obs_al', 'astrometric_n_bad_obs_al', 'astrometric_gof_al', 'astrometric_chi2_al', 'astrometric_excess_noise', 'astrometric_excess_noise_sig', 'astrometric_params_solved', 'astrometric_primary_flag', 'astrometric_weight_al', 'astrometric_pseudo_colour', 'astrometric_pseudo_colour_error', 'mean_varpi_factor_al', 'astrometric_matched_observations', 'visibility_periods_used', 'astrometric_sigma5d_max', 'frame_rotator_object_type', 'matched_observations', 'duplicated_source', 'phot_g_n_obs', 'phot_g_mean_flux', 'phot_g_mean_flux_error', 'phot_g_mean_flux_over_error', 'phot_g_mean_mag', 'phot_bp_n_obs', 'phot_bp_mean_flux', 'phot_bp_mean_flux_error', 'phot_bp_mean_flux_over_error', 'phot_bp_mean_mag', 'phot_rp_n_obs', 'phot_rp_mean_flux', 'phot_rp_mean_flux_error', 'phot_rp_mean_flux_over_error', 'phot_rp_mean_mag', 'phot_bp_rp_excess_factor', 'phot_proc_mode', 'bp_rp', 'bp_g', 'g_rp', 'radial_velocity', 'radial_velocity_error', 'rv_nb_transits', 'rv_template_teff', 'rv_template_logg', 'rv_template_fe_h', 'phot_variable_flag', 'l', 'b', 'ecl_lon', 'ecl_lat', 'priam_flags', 'teff_val', 'teff_percentile_lower', 'teff_percentile_upper', 'a_g_val', 'a_g_percentile_lower', 'a_g_percentile_upper', 'e_bp_min_rp_val', 'e_bp_min_rp_percentile_lower', 'e_bp_min_rp_percentile_upper', 'flame_flags', 'radius_val', 'radius_percentile_lower', 'radius_percentile_upper', 'lum_val', 'lum_percentile_lower', 'lum_percentile_upper', 'datalink_url', 'epoch_photometry_url', '2mass_original_ext_source_id', '2mass_angular_distance', '2mass_gaia_astrometric_params', 'tmass_oid', '2mass_number_of_neighbours', '2mass_number_of_mates', '2mass_best_neighbour_multiplicity', '2mass_ph_qual', '2mass_ra_2', '2mass_dec_2', 'err_maj', 'err_min', 'err_ang', 'j_m', 'j_msigcom', 'h_m', 'h_msigcom', 'ks_m', 'ks_msigcom', 'ext_key', 'j_date', 'wise_original_ext_source_id', 'wise_angular_distance', 'wise_gaia_astrometric_params', 'allwise_oid', 'wise_number_of_neighbours', 'wise_number_of_mates', 'wise_best_neighbour_multiplicity', 'wise_ra_2', 'wise_dec_2', 'ra_error_2', 'dec_error_2', 'radec_co_error', 'w1mpro', 'w1mpro_error', 'w2mpro', 'w2mpro_error', 'w3mpro', 'w3mpro_error', 'w4mpro', 'w4mpro_error', 'cc_flags', 'ext_flag', 'var_flag', 'wise_ph_qual', 'w1mjd_mean', 'w2mjd_mean', 'w3mjd_mean', 'w4mjd_mean', 'w1gmag', 'w1gmag_error', 'w2gmag', 'w2gmag_error', 'w3gmag', 'w3gmag_error', 'w4gmag', 'w4gmag_error', 'tmass_key']\n"
     ]
    }
   ],
   "source": [
    "print(gaia_2mass_wise.colnames)"
   ]
  },
  {
   "cell_type": "code",
   "execution_count": 78,
   "metadata": {},
   "outputs": [],
   "source": [
    "# Make a sample of galaxy using W1-J cut\n",
    "w1j = gaia_2mass_wise['w1mpro'] - gaia_2mass_wise['j_m']\n",
    "cutw1j = -1.7\n",
    "galaxy_sample = gaia_2mass_wise[w1j<cutw1j]"
   ]
  },
  {
   "cell_type": "code",
   "execution_count": 86,
   "metadata": {},
   "outputs": [],
   "source": [
    "# Make a sample of star using large proper motion\n",
    "cut1 = gaia_2mass_wise[gaia_2mass_wise['pmra'] > 2]\n",
    "star_sample = gaia_2mass_wise[gaia_2mass_wise['pmdec'] > 2]"
   ]
  },
  {
   "cell_type": "markdown",
   "metadata": {},
   "source": [
    "### Plot W1-J vs J"
   ]
  },
  {
   "cell_type": "code",
   "execution_count": 89,
   "metadata": {},
   "outputs": [
    {
     "data": {
      "image/png": "[encoded data removed]",
      "text/plain": [
       "<Figure size 432x288 with 1 Axes>"
      ]
     },
     "metadata": {},
     "output_type": "display_data"
    }
   ],
   "source": [
    "plt.scatter(gaia_2mass_wise['w1mpro'] - gaia_2mass_wise['j_m'], gaia_2mass_wise['j_m'], \n",
    "            marker='.', color='gray', alpha=0.9)\n",
    "plt.scatter(galaxy_sample['w1mpro'] - galaxy_sample['j_m'], galaxy_sample['j_m'], \n",
    "            marker='s', color='red', alpha=0.1)\n",
    "plt.scatter(star_sample['w1mpro'] - star_sample['j_m'], star_sample['j_m'], \n",
    "            marker='o', color='blue', alpha=0.1)\n",
    "\n",
    "plt.gca().invert_yaxis()"
   ]
  },
  {
   "cell_type": "code",
   "execution_count": 115,
   "metadata": {},
   "outputs": [],
   "source": [
    "# list of parameters\n",
    "params = ['j_m', 'h_m', 'ks_m', \n",
    "          'w1mpro', 'w2mpro', 'w3mpro', 'w4mpro', \n",
    "          'phot_g_mean_mag', 'phot_bp_mean_mag', 'phot_rp_mean_mag']"
   ]
  },
  {
   "cell_type": "code",
   "execution_count": 176,
   "metadata": {},
   "outputs": [
    {
     "name": "stdout",
     "output_type": "stream",
     "text": [
      "j_m 0.0\n",
      "h_m 0.0\n",
      "ks_m 0.0\n",
      "w1mpro 0.0\n",
      "w2mpro 0.0\n",
      "w3mpro 0.0\n",
      "w4mpro 2.0\n",
      "phot_g_mean_mag 0.0\n",
      "phot_bp_mean_mag 58.0\n",
      "phot_rp_mean_mag 58.0\n"
     ]
    }
   ],
   "source": [
    "## check Masked value\n",
    "# unmasked value = 0 \n",
    "# NaN, INF\n",
    "ma_p = np.zeros(len(params))\n",
    "for i,p in enumerate(params):\n",
    "    for data in gaia_2mass_wise[p]:\n",
    "        if data is ma.masked:\n",
    "            ma_p[i] += 1\n",
    "    \n",
    "    print(p, ma_p[i])"
   ]
  },
  {
   "cell_type": "code",
   "execution_count": 189,
   "metadata": {},
   "outputs": [
    {
     "data": {
      "text/plain": [
       "0.015549597855227882"
      ]
     },
     "execution_count": 189,
     "metadata": {},
     "output_type": "execute_result"
    }
   ],
   "source": [
    "58/3730."
   ]
  },
  {
   "cell_type": "code",
   "execution_count": 214,
   "metadata": {},
   "outputs": [
    {
     "data": {
      "text/plain": [
       "17.87847222222222"
      ]
     },
     "execution_count": 214,
     "metadata": {},
     "output_type": "execute_result"
    }
   ],
   "source": [
    "np.mean(gaia_2mass_wise['phot_bp_mean_mag'])"
   ]
  },
  {
   "cell_type": "code",
   "execution_count": 193,
   "metadata": {},
   "outputs": [
    {
     "data": {
      "text/plain": [
       "(array([  13,   14,   27,  228,  262,  300,  346,  381,  382,  414,  437,\n",
       "         483,  565,  587,  611,  645,  685,  820,  985, 1098, 1126, 1128,\n",
       "        1189, 1238, 1239, 1281, 1360, 1481, 1542, 1702, 1717, 1748, 1800,\n",
       "        1859, 2023, 2024, 2123, 2124, 2204, 2331, 2422, 2423, 2526, 2607,\n",
       "        2778, 2838, 2918, 2979, 3051, 3088, 3114, 3204, 3205, 3279, 3504,\n",
       "        3531, 3557, 3596]),)"
      ]
     },
     "execution_count": 193,
     "metadata": {},
     "output_type": "execute_result"
    }
   ],
   "source": [
    "np.where(gaia_2mass_wise['phot_bp_mean_mag'] == ma.masked)"
   ]
  },
  {
   "cell_type": "code",
   "execution_count": 201,
   "metadata": {},
   "outputs": [
    {
     "name": "stdout",
     "output_type": "stream",
     "text": [
      "phot_bp_mean_mag\n",
      "      mag       \n",
      "----------------\n",
      "              --\n",
      "              --\n",
      "              --\n",
      "              --\n",
      "              --\n",
      "              --\n",
      "              --\n",
      "              --\n",
      "              --\n",
      "              --\n",
      "             ...\n",
      "              --\n",
      "              --\n",
      "              --\n",
      "              --\n",
      "              --\n",
      "              --\n",
      "              --\n",
      "              --\n",
      "              --\n",
      "              --\n",
      "Length = 58 rows\n"
     ]
    }
   ],
   "source": [
    "maske = gaia_2mass_wise['phot_bp_mean_mag'][gaia_2mass_wise['phot_bp_mean_mag'] == ma.masked]\n",
    "print(maske)"
   ]
  },
  {
   "cell_type": "code",
   "execution_count": 208,
   "metadata": {},
   "outputs": [
    {
     "data": {
      "text/plain": [
       "masked_BaseColumn(data=[--, --, --, --, --, --, --, --, --, --, --, --,\n",
       "                        --, --, --, --, --, --, --, --, --, --, --, --,\n",
       "                        --, --, --, --, --, --, --, --, --, --, --, --,\n",
       "                        --, --, --, --, --, --, --, --, --, --, --, --,\n",
       "                        --, --, --, --, --, --, --, --, --, --],\n",
       "                  mask=[ True,  True,  True,  True,  True,  True,  True,\n",
       "                         True,  True,  True,  True,  True,  True,  True,\n",
       "                         True,  True,  True,  True,  True,  True,  True,\n",
       "                         True,  True,  True,  True,  True,  True,  True,\n",
       "                         True,  True,  True,  True,  True,  True,  True,\n",
       "                         True,  True,  True,  True,  True,  True,  True,\n",
       "                         True,  True,  True,  True,  True,  True,  True,\n",
       "                         True,  True,  True,  True,  True,  True,  True,\n",
       "                         True,  True],\n",
       "            fill_value=1.0,\n",
       "                 dtype=float32)"
      ]
     },
     "execution_count": 208,
     "metadata": {},
     "output_type": "execute_result"
    }
   ],
   "source": [
    "maske.data"
   ]
  },
  {
   "cell_type": "code",
   "execution_count": 260,
   "metadata": {},
   "outputs": [],
   "source": [
    "x = np.array([1, 2, 3, -1, 5])"
   ]
  },
  {
   "cell_type": "code",
   "execution_count": 261,
   "metadata": {},
   "outputs": [
    {
     "data": {
      "text/plain": [
       "masked_array(data=[1, 2, 3, --, 5],\n",
       "             mask=[False, False, False,  True, False],\n",
       "       fill_value=999999)"
      ]
     },
     "execution_count": 261,
     "metadata": {},
     "output_type": "execute_result"
    }
   ],
   "source": [
    "mx = ma.masked_array(x, mask=[0, 0, 0, 1, 0])\n",
    "mx"
   ]
  },
  {
   "cell_type": "code",
   "execution_count": 262,
   "metadata": {},
   "outputs": [
    {
     "data": {
      "text/plain": [
       "array([ 1,  2,  3, -1,  5])"
      ]
     },
     "execution_count": 262,
     "metadata": {},
     "output_type": "execute_result"
    }
   ],
   "source": [
    "mx.data"
   ]
  },
  {
   "cell_type": "code",
   "execution_count": 263,
   "metadata": {},
   "outputs": [
    {
     "data": {
      "text/plain": [
       "2.0"
      ]
     },
     "execution_count": 263,
     "metadata": {},
     "output_type": "execute_result"
    }
   ],
   "source": [
    "np.mean(mx.data)"
   ]
  },
  {
   "cell_type": "code",
   "execution_count": 264,
   "metadata": {},
   "outputs": [
    {
     "data": {
      "text/plain": [
       "2.75"
      ]
     },
     "execution_count": 264,
     "metadata": {},
     "output_type": "execute_result"
    }
   ],
   "source": [
    "np.mean(mx)"
   ]
  },
  {
   "cell_type": "code",
   "execution_count": 265,
   "metadata": {},
   "outputs": [
    {
     "name": "stdout",
     "output_type": "stream",
     "text": [
      "[1 2 3 -- 5]\n",
      "[ 1  2  3 -1  5]\n"
     ]
    }
   ],
   "source": [
    "print(mx)\n",
    "print(x)"
   ]
  },
  {
   "cell_type": "code",
   "execution_count": 269,
   "metadata": {},
   "outputs": [],
   "source": [
    "a = np.copy(maske)"
   ]
  },
  {
   "cell_type": "code",
   "execution_count": 271,
   "metadata": {},
   "outputs": [
    {
     "data": {
      "text/html": [
       "&lt;MaskedColumn name=&apos;phot_bp_mean_mag&apos; dtype=&apos;float32&apos; unit=&apos;mag&apos; format=&apos;{!r:&gt;}&apos; description=&apos;Integrated BP mean magnitude&apos; length=58&gt;\n",
       "<table>\n",
       "<tr><td>--</td></tr>\n",
       "<tr><td>--</td></tr>\n",
       "<tr><td>--</td></tr>\n",
       "<tr><td>--</td></tr>\n",
       "<tr><td>--</td></tr>\n",
       "<tr><td>--</td></tr>\n",
       "<tr><td>--</td></tr>\n",
       "<tr><td>--</td></tr>\n",
       "<tr><td>--</td></tr>\n",
       "<tr><td>--</td></tr>\n",
       "<tr><td>--</td></tr>\n",
       "<tr><td>--</td></tr>\n",
       "<tr><td>...</td></tr>\n",
       "<tr><td>--</td></tr>\n",
       "<tr><td>--</td></tr>\n",
       "<tr><td>--</td></tr>\n",
       "<tr><td>--</td></tr>\n",
       "<tr><td>--</td></tr>\n",
       "<tr><td>--</td></tr>\n",
       "<tr><td>--</td></tr>\n",
       "<tr><td>--</td></tr>\n",
       "<tr><td>--</td></tr>\n",
       "<tr><td>--</td></tr>\n",
       "<tr><td>--</td></tr>\n",
       "<tr><td>--</td></tr>\n",
       "</table>"
      ],
      "text/plain": [
       "<MaskedColumn name='phot_bp_mean_mag' dtype='float32' unit='mag' format='{!r:>}' description='Integrated BP mean magnitude' length=58>\n",
       " --\n",
       " --\n",
       " --\n",
       " --\n",
       " --\n",
       " --\n",
       " --\n",
       " --\n",
       " --\n",
       " --\n",
       " --\n",
       " --\n",
       "...\n",
       " --\n",
       " --\n",
       " --\n",
       " --\n",
       " --\n",
       " --\n",
       " --\n",
       " --\n",
       " --\n",
       " --\n",
       " --\n",
       " --"
      ]
     },
     "execution_count": 271,
     "metadata": {},
     "output_type": "execute_result"
    }
   ],
   "source": [
    "maske"
   ]
  },
  {
   "cell_type": "code",
   "execution_count": 268,
   "metadata": {},
   "outputs": [
    {
     "name": "stdout",
     "output_type": "stream",
     "text": [
      "[ 1  2  3 -1  5]\n",
      "[1 2 3 -- 5]\n",
      "[ 1  2  3 -1  5]\n"
     ]
    }
   ],
   "source": [
    "print(a)\n",
    "print(mx)\n",
    "print(x)"
   ]
  }
 ],
 "metadata": {
  "kernelspec": {
   "display_name": "Python 3",
   "language": "python",
   "name": "python3"
  },
  "language_info": {
   "codemirror_mode": {
    "name": "ipython",
    "version": 3
   },
   "file_extension": ".py",
   "mimetype": "text/x-python",
   "name": "python",
   "nbconvert_exporter": "python",
   "pygments_lexer": "ipython3",
   "version": "3.6.5"
  }
 },
 "nbformat": 4,
 "nbformat_minor": 2
}
