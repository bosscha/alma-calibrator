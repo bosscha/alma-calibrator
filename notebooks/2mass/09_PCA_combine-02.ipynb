{
 "cells": [
  {
   "cell_type": "code",
   "execution_count": 1,
   "metadata": {},
   "outputs": [],
   "source": [
    "import numpy as np\n",
    "import pandas as pd\n",
    "\n",
    "from astropy import coordinates\n",
    "from astropy.coordinates import match_coordinates_sky\n",
    "import astropy.units as u\n",
    "import astroquery\n",
    "from astroquery.irsa import Irsa\n",
    "from astroquery.vizier import Vizier\n",
    "from astropy.table import Table, join\n",
    "\n",
    "Irsa.ROW_LIMIT = -1\n",
    "Vizier.ROW_LIMIT = -1\n",
    "\n",
    "import matplotlib.pyplot as plt\n",
    "\n",
    "%matplotlib inline"
   ]
  },
  {
   "cell_type": "markdown",
   "metadata": {},
   "source": [
    "# Get the data"
   ]
  },
  {
   "cell_type": "code",
   "execution_count": 2,
   "metadata": {},
   "outputs": [],
   "source": [
    "obj = [\"PKS J0006-0623\", 1.55789, -6.39315, 1.0]\n",
    "# name, ra, dec, radius of cone\n",
    "obj_name = obj[0]\n",
    "obj_ra   = obj[1]\n",
    "obj_dec  = obj[2]\n",
    "cone_radius  = obj[3]"
   ]
  },
  {
   "cell_type": "code",
   "execution_count": 3,
   "metadata": {},
   "outputs": [],
   "source": [
    "obj_coord = coordinates.SkyCoord(ra=obj_ra, dec=obj_dec, unit=(u.deg, u.deg), frame=\"icrs\")"
   ]
  },
  {
   "cell_type": "code",
   "execution_count": 4,
   "metadata": {},
   "outputs": [],
   "source": [
    "data_2mass = Irsa.query_region(obj_coord, catalog=\"fp_psc\", radius=cone_radius * u.deg)\n",
    "data_wise  = Irsa.query_region(obj_coord, catalog=\"allwise_p3as_psd\", radius=cone_radius * u.deg)\n",
    "__data_galex = Vizier.query_region(obj_coord, catalog='II/335', radius=cone_radius * u.deg)\n",
    "data_galex = __data_galex[0]"
   ]
  },
  {
   "cell_type": "code",
   "execution_count": 5,
   "metadata": {},
   "outputs": [
    {
     "name": "stdout",
     "output_type": "stream",
     "text": [
      "Number of object in (2MASS, WISE, GALEX):  4802 38322 10105\n"
     ]
    }
   ],
   "source": [
    "num_2mass = len(data_2mass)\n",
    "num_wise  = len(data_wise)\n",
    "num_galex = len(data_galex)\n",
    "\n",
    "print(\"Number of object in (2MASS, WISE, GALEX): \", num_2mass, num_wise, num_galex)"
   ]
  },
  {
   "cell_type": "markdown",
   "metadata": {},
   "source": [
    "# Matching coordinates (3 Catalogs)"
   ]
  },
  {
   "cell_type": "code",
   "execution_count": 6,
   "metadata": {},
   "outputs": [],
   "source": [
    "ra_2mass = data_2mass['ra']\n",
    "dec_2mass = data_2mass['dec']\n",
    "c_2mass = coordinates.SkyCoord(ra=ra_2mass, dec=dec_2mass, unit=(u.deg, u.deg), frame=\"icrs\")\n",
    "\n",
    "ra_wise  = data_wise['ra']\n",
    "dec_wise = data_wise['dec']\n",
    "c_wise = coordinates.SkyCoord(ra=ra_wise, dec=dec_wise, unit=(u.deg, u.deg), frame=\"icrs\")\n",
    "\n",
    "ra_galex  = data_galex['RAJ2000']\n",
    "dec_galex = data_galex['DEJ2000']\n",
    "c_galex = coordinates.SkyCoord(ra=ra_galex, dec=dec_galex, unit=(u.deg, u.deg), frame=\"icrs\")"
   ]
  },
  {
   "cell_type": "code",
   "execution_count": 7,
   "metadata": {},
   "outputs": [],
   "source": [
    "sep_min = 1.0 * u.arcsec # minimum separation in arcsec"
   ]
  },
  {
   "cell_type": "code",
   "execution_count": 8,
   "metadata": {},
   "outputs": [
    {
     "name": "stdout",
     "output_type": "stream",
     "text": [
      "Only 2MASS and WISE:  4292\n"
     ]
    }
   ],
   "source": [
    "idx_2mass, idx_wise, d2d, d3d = c_wise.search_around_sky(c_2mass, sep_min)\n",
    "c_2mass_wise = c_2mass[idx_2mass]\n",
    "print(\"Only 2MASS and WISE: \", len(idx_2mass))"
   ]
  },
  {
   "cell_type": "markdown",
   "metadata": {},
   "source": [
    "# Plot W1-J vs W1"
   ]
  },
  {
   "cell_type": "code",
   "execution_count": 9,
   "metadata": {},
   "outputs": [],
   "source": [
    "# from matching of 2 cats (2MASS and WISE) coordinate\n",
    "w1 = data_wise[idx_wise]['w1mpro']\n",
    "j = data_2mass[idx_2mass]['j_m']\n",
    "w1j = w1-j\n",
    "\n",
    "cutw1j = -1.7\n",
    "\n",
    "# match between WISE and 2MASS\n",
    "data_wise_2mass = data_wise[idx_wise] # WISE dataset\n",
    "\n",
    "galaxy = data_wise_2mass[w1j<cutw1j] # https://academic.oup.com/mnras/article/448/2/1305/1055284"
   ]
  },
  {
   "cell_type": "code",
   "execution_count": 10,
   "metadata": {},
   "outputs": [
    {
     "data": {
      "text/plain": [
       "<matplotlib.lines.Line2D at 0x7f96ff164198>"
      ]
     },
     "execution_count": 10,
     "metadata": {},
     "output_type": "execute_result"
    },
    {
     "data": {
      "image/png": "[encoded data removed]",
      "text/plain": [
       "<Figure size 432x288 with 1 Axes>"
      ]
     },
     "metadata": {},
     "output_type": "display_data"
    }
   ],
   "source": [
    "w1j_galaxy = w1j[w1j<cutw1j]\n",
    "w1_galaxy = w1[w1j<cutw1j]\n",
    "j_galaxy = j[w1j<cutw1j]\n",
    "\n",
    "plt.scatter(w1j, w1, marker='o', color='blue')\n",
    "plt.scatter(w1j_galaxy, w1_galaxy, marker='.', color=\"red\")\n",
    "          \n",
    "plt.axvline(x=cutw1j) # https://academic.oup.com/mnras/article/448/2/1305/1055284"
   ]
  },
  {
   "cell_type": "markdown",
   "metadata": {},
   "source": [
    "- W1-J < -1.7 => galaxy\n",
    "- W1-J > -1.7 => stars"
   ]
  },
  {
   "cell_type": "code",
   "execution_count": 11,
   "metadata": {},
   "outputs": [
    {
     "name": "stdout",
     "output_type": "stream",
     "text": [
      "Match all 3 cats:  805\n"
     ]
    }
   ],
   "source": [
    "# + GALEX\n",
    "___idx_2mass_wise_galex, idx_galex, d2d, d3d = c_galex.search_around_sky(c_2mass_wise, sep_min)\n",
    "\n",
    "match_all_coord = c_galex[idx_galex]\n",
    "print(\"Match all 3 cats: \", len(match_all_coord))"
   ]
  },
  {
   "cell_type": "markdown",
   "metadata": {},
   "source": [
    "# Filter"
   ]
  },
  {
   "cell_type": "code",
   "execution_count": 12,
   "metadata": {},
   "outputs": [
    {
     "data": {
      "text/html": [
       "<i>Table masked=True length=805</i>\n",
       "<table id=\"table140287610335128\" class=\"table-striped table-bordered table-condensed\">\n",
       "<thead><tr><th>RAJ2000</th><th>DEJ2000</th><th>r.fov</th><th>b</th><th>FUVmag</th><th>e_FUVmag</th><th>NUVmag</th><th>e_NUVmag</th><th>Fafl</th><th>Nafl</th><th>Fexf</th><th>Nexf</th><th>Fr</th><th>Nr</th></tr></thead>\n",
       "<thead><tr><th>deg</th><th>deg</th><th>deg</th><th></th><th>mag</th><th>mag</th><th>mag</th><th>mag</th><th></th><th></th><th></th><th></th><th>deg</th><th>deg</th></tr></thead>\n",
       "<thead><tr><th>float64</th><th>float64</th><th>float64</th><th>uint8</th><th>float64</th><th>float32</th><th>float64</th><th>float32</th><th>int16</th><th>int16</th><th>int16</th><th>int16</th><th>float64</th><th>float64</th></tr></thead>\n",
       "<tr><td>1.557781</td><td>-6.393041</td><td>0.101573</td><td>3</td><td>20.6368</td><td>0.1609</td><td>19.9530</td><td>0.0759</td><td>0</td><td>0</td><td>0</td><td>0</td><td>0.001549</td><td>0.001684</td></tr>\n",
       "<tr><td>1.554137</td><td>-6.366078</td><td>0.126470</td><td>3</td><td>22.8389</td><td>0.4704</td><td>21.8662</td><td>0.2772</td><td>0</td><td>0</td><td>0</td><td>0</td><td>0.001318</td><td>0.003755</td></tr>\n",
       "<tr><td>1.553860</td><td>-6.353613</td><td>0.138562</td><td>1</td><td>--</td><td>--</td><td>22.1703</td><td>0.2785</td><td>0</td><td>0</td><td>0</td><td>0</td><td>--</td><td>0.002755</td></tr>\n",
       "<tr><td>1.590100</td><td>-6.363029</td><td>0.141922</td><td>1</td><td>--</td><td>--</td><td>20.0085</td><td>0.0737</td><td>0</td><td>0</td><td>0</td><td>0</td><td>--</td><td>0.001814</td></tr>\n",
       "<tr><td>1.558215</td><td>-6.348647</td><td>0.144365</td><td>1</td><td>--</td><td>--</td><td>22.6567</td><td>0.3793</td><td>0</td><td>0</td><td>0</td><td>0</td><td>--</td><td>0.003133</td></tr>\n",
       "<tr><td>1.502271</td><td>-6.433094</td><td>0.060125</td><td>1</td><td>--</td><td>--</td><td>18.3912</td><td>0.0319</td><td>256</td><td>256</td><td>0</td><td>0</td><td>--</td><td>0.001411</td></tr>\n",
       "<tr><td>1.614844</td><td>-6.445065</td><td>0.100044</td><td>1</td><td>--</td><td>--</td><td>21.1466</td><td>0.1444</td><td>256</td><td>0</td><td>0</td><td>0</td><td>--</td><td>0.002612</td></tr>\n",
       "<tr><td>1.605844</td><td>-6.473730</td><td>0.082348</td><td>1</td><td>--</td><td>--</td><td>19.0770</td><td>0.0439</td><td>0</td><td>0</td><td>0</td><td>0</td><td>--</td><td>0.001269</td></tr>\n",
       "<tr><td>1.492365</td><td>-6.462968</td><td>0.041161</td><td>1</td><td>--</td><td>--</td><td>21.8285</td><td>0.2684</td><td>0</td><td>0</td><td>0</td><td>0</td><td>--</td><td>0.003980</td></tr>\n",
       "<tr><td>...</td><td>...</td><td>...</td><td>...</td><td>...</td><td>...</td><td>...</td><td>...</td><td>...</td><td>...</td><td>...</td><td>...</td><td>...</td><td>...</td></tr>\n",
       "<tr><td>2.078192</td><td>-7.245145</td><td>0.116230</td><td>1</td><td>--</td><td>--</td><td>20.7047</td><td>0.1308</td><td>0</td><td>0</td><td>0</td><td>0</td><td>--</td><td>0.002418</td></tr>\n",
       "<tr><td>2.210007</td><td>-7.151698</td><td>0.268407</td><td>1</td><td>--</td><td>--</td><td>17.5370</td><td>0.0246</td><td>0</td><td>0</td><td>0</td><td>0</td><td>--</td><td>0.001371</td></tr>\n",
       "<tr><td>0.554430</td><td>-6.365670</td><td>0.142115</td><td>1</td><td>--</td><td>--</td><td>19.3574</td><td>0.0894</td><td>0</td><td>0</td><td>0</td><td>0</td><td>--</td><td>0.001240</td></tr>\n",
       "<tr><td>0.737629</td><td>-5.818622</td><td>0.340751</td><td>3</td><td>21.0867</td><td>0.2816</td><td>20.5664</td><td>0.1277</td><td>0</td><td>0</td><td>0</td><td>0</td><td>0.002799</td><td>0.005440</td></tr>\n",
       "<tr><td>1.261392</td><td>-7.346885</td><td>0.256118</td><td>1</td><td>--</td><td>--</td><td>19.2989</td><td>0.0911</td><td>256</td><td>0</td><td>0</td><td>0</td><td>--</td><td>0.004606</td></tr>\n",
       "<tr><td>2.051938</td><td>-7.262597</td><td>0.090678</td><td>1</td><td>--</td><td>--</td><td>20.5385</td><td>0.1167</td><td>0</td><td>0</td><td>0</td><td>0</td><td>--</td><td>0.001507</td></tr>\n",
       "<tr><td>2.214898</td><td>-5.637290</td><td>0.187519</td><td>1</td><td>--</td><td>--</td><td>19.9554</td><td>0.0973</td><td>0</td><td>0</td><td>0</td><td>0</td><td>--</td><td>0.002012</td></tr>\n",
       "<tr><td>2.135354</td><td>-7.211340</td><td>0.175039</td><td>1</td><td>--</td><td>--</td><td>20.7292</td><td>0.1315</td><td>0</td><td>0</td><td>0</td><td>0</td><td>--</td><td>0.002755</td></tr>\n",
       "<tr><td>0.818013</td><td>-5.716624</td><td>0.220099</td><td>3</td><td>20.2212</td><td>0.1734</td><td>20.1435</td><td>0.1007</td><td>0</td><td>0</td><td>0</td><td>0</td><td>0.003735</td><td>0.003502</td></tr>\n",
       "<tr><td>2.097034</td><td>-7.237359</td><td>0.132003</td><td>1</td><td>--</td><td>--</td><td>18.1430</td><td>0.0337</td><td>0</td><td>0</td><td>0</td><td>0</td><td>--</td><td>0.001302</td></tr>\n",
       "</table>"
      ],
      "text/plain": [
       "<Table masked=True length=805>\n",
       " RAJ2000    DEJ2000     r.fov     b   ...  Fexf  Nexf     Fr        Nr   \n",
       "   deg        deg        deg          ...                deg       deg   \n",
       " float64    float64    float64  uint8 ... int16 int16  float64   float64 \n",
       "---------- ---------- --------- ----- ... ----- ----- --------- ---------\n",
       "  1.557781  -6.393041  0.101573     3 ...     0     0  0.001549  0.001684\n",
       "  1.554137  -6.366078  0.126470     3 ...     0     0  0.001318  0.003755\n",
       "  1.553860  -6.353613  0.138562     1 ...     0     0        --  0.002755\n",
       "  1.590100  -6.363029  0.141922     1 ...     0     0        --  0.001814\n",
       "  1.558215  -6.348647  0.144365     1 ...     0     0        --  0.003133\n",
       "  1.502271  -6.433094  0.060125     1 ...     0     0        --  0.001411\n",
       "  1.614844  -6.445065  0.100044     1 ...     0     0        --  0.002612\n",
       "  1.605844  -6.473730  0.082348     1 ...     0     0        --  0.001269\n",
       "  1.492365  -6.462968  0.041161     1 ...     0     0        --  0.003980\n",
       "       ...        ...       ...   ... ...   ...   ...       ...       ...\n",
       "  2.078192  -7.245145  0.116230     1 ...     0     0        --  0.002418\n",
       "  2.210007  -7.151698  0.268407     1 ...     0     0        --  0.001371\n",
       "  0.554430  -6.365670  0.142115     1 ...     0     0        --  0.001240\n",
       "  0.737629  -5.818622  0.340751     3 ...     0     0  0.002799  0.005440\n",
       "  1.261392  -7.346885  0.256118     1 ...     0     0        --  0.004606\n",
       "  2.051938  -7.262597  0.090678     1 ...     0     0        --  0.001507\n",
       "  2.214898  -5.637290  0.187519     1 ...     0     0        --  0.002012\n",
       "  2.135354  -7.211340  0.175039     1 ...     0     0        --  0.002755\n",
       "  0.818013  -5.716624  0.220099     3 ...     0     0  0.003735  0.003502\n",
       "  2.097034  -7.237359  0.132003     1 ...     0     0        --  0.001302"
      ]
     },
     "execution_count": 12,
     "metadata": {},
     "output_type": "execute_result"
    }
   ],
   "source": [
    "### GALEX data which match with 2MASS and WISE!\n",
    "match_galex = data_galex[idx_galex]\n",
    "match_galex"
   ]
  },
  {
   "cell_type": "code",
   "execution_count": 13,
   "metadata": {},
   "outputs": [
    {
     "data": {
      "text/html": [
       "<i>Table masked=True length=805</i>\n",
       "<table id=\"table140286501473360\" class=\"table-striped table-bordered table-condensed\">\n",
       "<thead><tr><th>ra</th><th>dec</th><th>clon</th><th>clat</th><th>err_maj</th><th>err_min</th><th>err_ang</th><th>designation</th><th>j_m</th><th>j_cmsig</th><th>j_msigcom</th><th>j_snr</th><th>h_m</th><th>h_cmsig</th><th>h_msigcom</th><th>h_snr</th><th>k_m</th><th>k_cmsig</th><th>k_msigcom</th><th>k_snr</th><th>ph_qual</th><th>rd_flg</th><th>bl_flg</th><th>cc_flg</th><th>ndet</th><th>gal_contam</th><th>mp_flg</th><th>hemis</th><th>xdate</th><th>scan</th><th>glon</th><th>glat</th><th>a</th><th>dist_opt</th><th>phi_opt</th><th>b_m_opt</th><th>vr_m_opt</th><th>nopt_mchs</th><th>ext_key</th><th>dist</th><th>angle</th><th>j_h</th><th>h_k</th><th>j_k</th><th>id</th></tr></thead>\n",
       "<thead><tr><th>deg</th><th>deg</th><th></th><th></th><th>arcs</th><th>arcs</th><th>deg</th><th></th><th>mag</th><th>mag</th><th>mag</th><th></th><th>mag</th><th>mag</th><th>mag</th><th></th><th>mag</th><th>mag</th><th>mag</th><th></th><th></th><th></th><th></th><th></th><th></th><th></th><th></th><th></th><th></th><th></th><th>deg</th><th>deg</th><th></th><th>arcs</th><th>deg</th><th>mag</th><th>mag</th><th></th><th></th><th>arcs</th><th>deg</th><th></th><th></th><th></th><th></th></tr></thead>\n",
       "<thead><tr><th>float64</th><th>float64</th><th>object</th><th>object</th><th>float64</th><th>float64</th><th>int32</th><th>object</th><th>float64</th><th>float64</th><th>float64</th><th>float64</th><th>float64</th><th>float64</th><th>float64</th><th>float64</th><th>float64</th><th>float64</th><th>float64</th><th>float64</th><th>object</th><th>object</th><th>object</th><th>object</th><th>object</th><th>int32</th><th>int32</th><th>object</th><th>object</th><th>int32</th><th>float64</th><th>float64</th><th>object</th><th>float64</th><th>int32</th><th>float64</th><th>float64</th><th>int32</th><th>int32</th><th>float64</th><th>float64</th><th>float64</th><th>float64</th><th>float64</th><th>object</th></tr></thead>\n",
       "<tr><td>1.558</td><td>-6.393</td><td>00h06m13.89s</td><td>-06d23m35.53s</td><td>0.12</td><td>0.12</td><td>45</td><td>00061388-0623355</td><td>14.736</td><td>0.036</td><td>0.037</td><td>52.9</td><td>13.839</td><td>0.039</td><td>0.04</td><td>49.9</td><td>12.878</td><td>0.03</td><td>0.032</td><td>61.7</td><td>AAA</td><td>222</td><td>111</td><td>000</td><td>666666</td><td>0</td><td>0</td><td>s</td><td>1998-10-07</td><td>86</td><td>93.505</td><td>-66.647</td><td>U</td><td>0.7</td><td>230</td><td>19.1</td><td>17.8</td><td>1</td><td>--</td><td>0.207142</td><td>200.207</td><td>0.897</td><td>0.961</td><td>1.858</td><td>0</td></tr>\n",
       "<tr><td>1.554</td><td>-6.366</td><td>00h06m13.00s</td><td>-06d21m57.42s</td><td>0.28</td><td>0.26</td><td>33</td><td>00061299-0621574</td><td>17.213</td><td>0.209</td><td>0.209</td><td>5.4</td><td>16.297</td><td>0.207</td><td>0.207</td><td>5.2</td><td>15.614</td><td>0.233</td><td>0.233</td><td>5.0</td><td>CCD</td><td>222</td><td>111</td><td>000</td><td>060605</td><td>0</td><td>0</td><td>s</td><td>1998-10-07</td><td>86</td><td>93.527</td><td>-66.62</td><td>U</td><td>0.7</td><td>257</td><td>19.5</td><td>18.4</td><td>1</td><td>--</td><td>98.830962</td><td>352.21449</td><td>0.916</td><td>0.683</td><td>1.599</td><td>1</td></tr>\n",
       "<tr><td>1.554</td><td>-6.353</td><td>00h06m12.97s</td><td>-06d21m12.43s</td><td>0.12</td><td>0.1</td><td>88</td><td>00061297-0621124</td><td>13.768</td><td>0.024</td><td>0.027</td><td>128.9</td><td>13.312</td><td>0.032</td><td>0.034</td><td>81.1</td><td>13.181</td><td>0.037</td><td>0.038</td><td>46.7</td><td>AAA</td><td>222</td><td>111</td><td>000</td><td>666666</td><td>0</td><td>0</td><td>s</td><td>1998-10-07</td><td>86</td><td>93.541</td><td>-66.609</td><td>U</td><td>0.9</td><td>211</td><td>16.1</td><td>15.0</td><td>1</td><td>--</td><td>143.570458</td><td>354.498588</td><td>0.456</td><td>0.131</td><td>0.587</td><td>2</td></tr>\n",
       "<tr><td>1.590</td><td>-6.363</td><td>00h06m21.62s</td><td>-06d21m47.34s</td><td>0.12</td><td>0.11</td><td>90</td><td>00062161-0621473</td><td>12.177</td><td>0.019</td><td>0.022</td><td>558.0</td><td>11.883</td><td>0.025</td><td>0.027</td><td>302.5</td><td>11.793</td><td>0.023</td><td>0.025</td><td>167.6</td><td>AAA</td><td>222</td><td>111</td><td>000</td><td>666655</td><td>0</td><td>0</td><td>s</td><td>1998-10-07</td><td>86</td><td>93.611</td><td>-66.634</td><td>U</td><td>0.8</td><td>134</td><td>14.7</td><td>13.0</td><td>1</td><td>--</td><td>157.889121</td><td>46.841074</td><td>0.294</td><td>0.09</td><td>0.384</td><td>5</td></tr>\n",
       "<tr><td>1.558</td><td>-6.349</td><td>00h06m13.97s</td><td>-06d20m56.07s</td><td>0.15</td><td>0.14</td><td>84</td><td>00061397-0620560</td><td>16.034</td><td>0.081</td><td>0.082</td><td>16.0</td><td>15.837</td><td>0.144</td><td>0.145</td><td>7.9</td><td>15.472</td><td>0.215</td><td>0.215</td><td>5.7</td><td>ABC</td><td>222</td><td>111</td><td>000</td><td>160606</td><td>0</td><td>0</td><td>s</td><td>1998-10-07</td><td>86</td><td>93.555</td><td>-66.607</td><td>U</td><td>0.5</td><td>176</td><td>17.5</td><td>16.9</td><td>1</td><td>--</td><td>159.279337</td><td>0.432451</td><td>0.197</td><td>0.365</td><td>0.562</td><td>6</td></tr>\n",
       "<tr><td>1.502</td><td>-6.433</td><td>00h06m00.56s</td><td>-06d25m59.63s</td><td>0.13</td><td>0.12</td><td>0</td><td>00060056-0625596</td><td>12.53</td><td>0.021</td><td>0.024</td><td>403.1</td><td>12.254</td><td>0.022</td><td>0.024</td><td>214.9</td><td>12.208</td><td>0.024</td><td>0.026</td><td>114.4</td><td>AAA</td><td>222</td><td>111</td><td>000</td><td>666655</td><td>0</td><td>0</td><td>s</td><td>1998-10-07</td><td>86</td><td>93.336</td><td>-66.658</td><td>U</td><td>0.9</td><td>230</td><td>14.6</td><td>13.3</td><td>1</td><td>--</td><td>245.570685</td><td>234.012711</td><td>0.276</td><td>0.046</td><td>0.322</td><td>19</td></tr>\n",
       "<tr><td>1.615</td><td>-6.445</td><td>00h06m27.60s</td><td>-06d26m42.45s</td><td>0.2</td><td>0.19</td><td>77</td><td>00062760-0626424</td><td>16.288</td><td>0.101</td><td>0.102</td><td>12.7</td><td>15.978</td><td>0.158</td><td>0.158</td><td>7.0</td><td>15.589</td><td>--</td><td>--</td><td>--</td><td>ACU</td><td>220</td><td>110</td><td>000</td><td>160600</td><td>0</td><td>0</td><td>s</td><td>1998-10-07</td><td>87</td><td>93.576</td><td>-66.718</td><td>U</td><td>0.9</td><td>193</td><td>17.8</td><td>16.6</td><td>1</td><td>--</td><td>277.08834</td><td>132.477457</td><td>0.31</td><td>--</td><td>--</td><td>22</td></tr>\n",
       "<tr><td>1.606</td><td>-6.474</td><td>00h06m25.41s</td><td>-06d28m26.14s</td><td>0.08</td><td>0.07</td><td>90</td><td>00062540-0628261</td><td>12.418</td><td>0.022</td><td>0.025</td><td>446.9</td><td>12.185</td><td>0.025</td><td>0.026</td><td>229.0</td><td>12.111</td><td>0.025</td><td>0.026</td><td>125.0</td><td>AAA</td><td>222</td><td>111</td><td>000</td><td>666666</td><td>0</td><td>0</td><td>s</td><td>1998-10-07</td><td>87</td><td>93.524</td><td>-66.74</td><td>U</td><td>0.4</td><td>107</td><td>14.6</td><td>13.2</td><td>1</td><td>--</td><td>337.656046</td><td>149.459281</td><td>0.233</td><td>0.074</td><td>0.307</td><td>33</td></tr>\n",
       "<tr><td>1.492</td><td>-6.463</td><td>00h05m58.12s</td><td>-06d27m46.12s</td><td>0.14</td><td>0.12</td><td>1</td><td>00055812-0627461</td><td>15.603</td><td>0.083</td><td>0.084</td><td>23.8</td><td>14.935</td><td>0.089</td><td>0.089</td><td>18.2</td><td>14.417</td><td>0.097</td><td>0.097</td><td>15.0</td><td>AAA</td><td>222</td><td>111</td><td>000</td><td>666666</td><td>0</td><td>0</td><td>s</td><td>1998-10-07</td><td>86</td><td>93.28</td><td>-66.68</td><td>U</td><td>0.4</td><td>178</td><td>17.5</td><td>15.3</td><td>1</td><td>474915</td><td>343.740799</td><td>223.14767</td><td>0.668</td><td>0.518</td><td>1.186</td><td>35</td></tr>\n",
       "<tr><td>...</td><td>...</td><td>...</td><td>...</td><td>...</td><td>...</td><td>...</td><td>...</td><td>...</td><td>...</td><td>...</td><td>...</td><td>...</td><td>...</td><td>...</td><td>...</td><td>...</td><td>...</td><td>...</td><td>...</td><td>...</td><td>...</td><td>...</td><td>...</td><td>...</td><td>...</td><td>...</td><td>...</td><td>...</td><td>...</td><td>...</td><td>...</td><td>...</td><td>...</td><td>...</td><td>...</td><td>...</td><td>...</td><td>...</td><td>...</td><td>...</td><td>...</td><td>...</td><td>...</td><td>...</td></tr>\n",
       "<tr><td>2.078</td><td>-7.245</td><td>00h08m18.80s</td><td>-07d14m43.24s</td><td>0.09</td><td>0.07</td><td>0</td><td>00081879-0714432</td><td>15.113</td><td>0.046</td><td>0.047</td><td>30.4</td><td>14.508</td><td>0.07</td><td>0.07</td><td>19.8</td><td>14.53</td><td>0.1</td><td>0.1</td><td>11.7</td><td>AAA</td><td>222</td><td>111</td><td>000</td><td>661406</td><td>0</td><td>0</td><td>s</td><td>1998-10-16</td><td>28</td><td>93.738</td><td>-67.639</td><td>U</td><td>0.4</td><td>273</td><td>16.7</td><td>15.6</td><td>1</td><td>--</td><td>3587.84807</td><td>148.798857</td><td>0.605</td><td>-0.022</td><td>0.583</td><td>4770</td></tr>\n",
       "<tr><td>2.210</td><td>-7.152</td><td>00h08m50.39s</td><td>-07d09m06.25s</td><td>0.14</td><td>0.06</td><td>0</td><td>00085039-0709062</td><td>12.053</td><td>0.027</td><td>0.03</td><td>526.3</td><td>11.744</td><td>0.02</td><td>0.022</td><td>260.8</td><td>11.735</td><td>0.027</td><td>0.028</td><td>159.4</td><td>AAA</td><td>222</td><td>111</td><td>000</td><td>666655</td><td>0</td><td>0</td><td>s</td><td>1998-10-16</td><td>30</td><td>94.154</td><td>-67.611</td><td>U</td><td>0.9</td><td>203</td><td>14.0</td><td>12.9</td><td>1</td><td>--</td><td>3590.514636</td><td>139.553872</td><td>0.309</td><td>0.009</td><td>0.318</td><td>4777</td></tr>\n",
       "<tr><td>0.555</td><td>-6.366</td><td>00h02m13.08s</td><td>-06d21m56.89s</td><td>0.08</td><td>0.07</td><td>0</td><td>00021308-0621568</td><td>10.779</td><td>0.021</td><td>0.024</td><td>2093.3</td><td>10.298</td><td>0.02</td><td>0.022</td><td>1348.1</td><td>10.202</td><td>0.019</td><td>0.021</td><td>777.4</td><td>AAA</td><td>222</td><td>111</td><td>000</td><td>666666</td><td>0</td><td>0</td><td>s</td><td>1998-10-07</td><td>72</td><td>91.317</td><td>-66.169</td><td>U</td><td>1.4</td><td>89</td><td>13.3</td><td>12.4</td><td>1</td><td>--</td><td>3591.153468</td><td>271.515196</td><td>0.481</td><td>0.096</td><td>0.577</td><td>4778</td></tr>\n",
       "<tr><td>0.737</td><td>-5.819</td><td>00h02m56.98s</td><td>-05d49m07.14s</td><td>0.27</td><td>0.22</td><td>92</td><td>00025697-0549071</td><td>16.68</td><td>0.148</td><td>0.148</td><td>8.2</td><td>15.881</td><td>0.183</td><td>0.184</td><td>7.1</td><td>15.351</td><td>0.188</td><td>0.188</td><td>6.1</td><td>BCC</td><td>222</td><td>111</td><td>000</td><td>050506</td><td>0</td><td>0</td><td>s</td><td>1998-09-17</td><td>9</td><td>92.335</td><td>-65.767</td><td>U</td><td>0.8</td><td>260</td><td>17.5</td><td>16.9</td><td>1</td><td>--</td><td>3592.131351</td><td>305.108434</td><td>0.799</td><td>0.53</td><td>1.329</td><td>4780</td></tr>\n",
       "<tr><td>1.261</td><td>-7.347</td><td>00h05m02.74s</td><td>-07d20m49.56s</td><td>0.07</td><td>0.07</td><td>8</td><td>00050273-0720495</td><td>12.395</td><td>0.021</td><td>0.024</td><td>456.5</td><td>12.128</td><td>0.024</td><td>0.025</td><td>241.4</td><td>12.025</td><td>0.023</td><td>0.025</td><td>140.1</td><td>AAA</td><td>222</td><td>111</td><td>s0s</td><td>666655</td><td>0</td><td>0</td><td>s</td><td>1998-10-07</td><td>84</td><td>91.728</td><td>-67.364</td><td>U</td><td>0.7</td><td>202</td><td>14.3</td><td>13.4</td><td>1</td><td>--</td><td>3593.991102</td><td>197.131152</td><td>0.267</td><td>0.103</td><td>0.37</td><td>4784</td></tr>\n",
       "<tr><td>2.052</td><td>-7.263</td><td>00h08m12.50s</td><td>-07d15m45.96s</td><td>0.08</td><td>0.06</td><td>0</td><td>00081249-0715459</td><td>11.699</td><td>0.019</td><td>0.023</td><td>704.4</td><td>11.337</td><td>0.023</td><td>0.024</td><td>366.5</td><td>11.217</td><td>0.017</td><td>0.019</td><td>248.1</td><td>AAA</td><td>222</td><td>111</td><td>000</td><td>666666</td><td>0</td><td>0</td><td>s</td><td>1998-10-16</td><td>28</td><td>93.657</td><td>-67.643</td><td>U</td><td>1.4</td><td>214</td><td>14.3</td><td>12.9</td><td>1</td><td>--</td><td>3594.586985</td><td>150.595115</td><td>0.362</td><td>0.12</td><td>0.482</td><td>4786</td></tr>\n",
       "<tr><td>2.215</td><td>-5.637</td><td>00h08m51.59s</td><td>-05d38m14.92s</td><td>0.12</td><td>0.1</td><td>0</td><td>00085158-0538149</td><td>13.449</td><td>0.018</td><td>0.022</td><td>172.9</td><td>13.084</td><td>0.027</td><td>0.029</td><td>107.2</td><td>13.1</td><td>0.027</td><td>0.029</td><td>55.8</td><td>AAA</td><td>222</td><td>111</td><td>000</td><td>666655</td><td>0</td><td>0</td><td>s</td><td>1998-09-17</td><td>28</td><td>95.788</td><td>-66.239</td><td>U</td><td>0.7</td><td>138</td><td>15.3</td><td>14.4</td><td>1</td><td>--</td><td>3596.44705</td><td>40.885599</td><td>0.365</td><td>-0.016</td><td>0.349</td><td>4791</td></tr>\n",
       "<tr><td>2.135</td><td>-7.212</td><td>00h08m32.50s</td><td>-07d12m41.55s</td><td>0.1</td><td>0.06</td><td>0</td><td>00083249-0712415</td><td>14.872</td><td>0.035</td><td>0.037</td><td>37.9</td><td>14.566</td><td>0.066</td><td>0.067</td><td>18.7</td><td>14.496</td><td>0.083</td><td>0.083</td><td>12.1</td><td>AAA</td><td>222</td><td>111</td><td>000</td><td>662606</td><td>0</td><td>0</td><td>s</td><td>1998-10-16</td><td>29</td><td>93.911</td><td>-67.633</td><td>U</td><td>0.2</td><td>132</td><td>16.5</td><td>15.8</td><td>1</td><td>--</td><td>3597.471036</td><td>145.015157</td><td>0.306</td><td>0.07</td><td>0.376</td><td>4797</td></tr>\n",
       "<tr><td>0.818</td><td>-5.717</td><td>00h03m16.37s</td><td>-05d42m59.84s</td><td>0.31</td><td>0.25</td><td>89</td><td>00031637-0542598</td><td>16.844</td><td>0.17</td><td>0.171</td><td>7.3</td><td>16.153</td><td>--</td><td>--</td><td>--</td><td>15.57</td><td>0.227</td><td>0.228</td><td>5.2</td><td>CUD</td><td>202</td><td>101</td><td>000</td><td>050006</td><td>0</td><td>0</td><td>s</td><td>1998-09-17</td><td>10</td><td>92.622</td><td>-65.713</td><td>U</td><td>0.2</td><td>24</td><td>17.2</td><td>17.1</td><td>1</td><td>--</td><td>3597.649849</td><td>312.567567</td><td>--</td><td>--</td><td>1.274</td><td>4798</td></tr>\n",
       "<tr><td>2.097</td><td>-7.237</td><td>00h08m23.30s</td><td>-07d14m14.98s</td><td>0.09</td><td>0.06</td><td>0</td><td>00082329-0714149</td><td>12.501</td><td>0.019</td><td>0.023</td><td>336.5</td><td>12.215</td><td>0.02</td><td>0.022</td><td>163.3</td><td>12.22</td><td>0.024</td><td>0.026</td><td>98.5</td><td>AAA</td><td>222</td><td>111</td><td>000</td><td>666666</td><td>0</td><td>0</td><td>s</td><td>1998-10-16</td><td>29</td><td>93.791</td><td>-67.64</td><td>U</td><td>0.1</td><td>165</td><td>14.4</td><td>13.6</td><td>1</td><td>--</td><td>3599.16787</td><td>147.653922</td><td>0.286</td><td>-0.005</td><td>0.281</td><td>4801</td></tr>\n",
       "</table>"
      ],
      "text/plain": [
       "<Table masked=True length=805>\n",
       "   ra     dec       clon          clat     ...   j_h     h_k     j_k     id  \n",
       "  deg     deg                              ...                               \n",
       "float64 float64    object        object    ... float64 float64 float64 object\n",
       "------- ------- ------------ ------------- ... ------- ------- ------- ------\n",
       "  1.558  -6.393 00h06m13.89s -06d23m35.53s ...   0.897   0.961   1.858      0\n",
       "  1.554  -6.366 00h06m13.00s -06d21m57.42s ...   0.916   0.683   1.599      1\n",
       "  1.554  -6.353 00h06m12.97s -06d21m12.43s ...   0.456   0.131   0.587      2\n",
       "  1.590  -6.363 00h06m21.62s -06d21m47.34s ...   0.294    0.09   0.384      5\n",
       "  1.558  -6.349 00h06m13.97s -06d20m56.07s ...   0.197   0.365   0.562      6\n",
       "  1.502  -6.433 00h06m00.56s -06d25m59.63s ...   0.276   0.046   0.322     19\n",
       "  1.615  -6.445 00h06m27.60s -06d26m42.45s ...    0.31      --      --     22\n",
       "  1.606  -6.474 00h06m25.41s -06d28m26.14s ...   0.233   0.074   0.307     33\n",
       "  1.492  -6.463 00h05m58.12s -06d27m46.12s ...   0.668   0.518   1.186     35\n",
       "    ...     ...          ...           ... ...     ...     ...     ...    ...\n",
       "  2.078  -7.245 00h08m18.80s -07d14m43.24s ...   0.605  -0.022   0.583   4770\n",
       "  2.210  -7.152 00h08m50.39s -07d09m06.25s ...   0.309   0.009   0.318   4777\n",
       "  0.555  -6.366 00h02m13.08s -06d21m56.89s ...   0.481   0.096   0.577   4778\n",
       "  0.737  -5.819 00h02m56.98s -05d49m07.14s ...   0.799    0.53   1.329   4780\n",
       "  1.261  -7.347 00h05m02.74s -07d20m49.56s ...   0.267   0.103    0.37   4784\n",
       "  2.052  -7.263 00h08m12.50s -07d15m45.96s ...   0.362    0.12   0.482   4786\n",
       "  2.215  -5.637 00h08m51.59s -05d38m14.92s ...   0.365  -0.016   0.349   4791\n",
       "  2.135  -7.212 00h08m32.50s -07d12m41.55s ...   0.306    0.07   0.376   4797\n",
       "  0.818  -5.717 00h03m16.37s -05d42m59.84s ...      --      --   1.274   4798\n",
       "  2.097  -7.237 00h08m23.30s -07d14m14.98s ...   0.286  -0.005   0.281   4801"
      ]
     },
     "execution_count": 13,
     "metadata": {},
     "output_type": "execute_result"
    }
   ],
   "source": [
    "idx_2mass, idx, d2d, d3d = match_all_coord.search_around_sky(c_2mass, sep_min)\n",
    "match_2mass = data_2mass[idx_2mass]\n",
    "match_2mass"
   ]
  },
  {
   "cell_type": "code",
   "execution_count": 17,
   "metadata": {},
   "outputs": [
    {
     "data": {
      "text/html": [
       "<i>Table masked=True length=805</i>\n",
       "<table id=\"table140286537577304\" class=\"table-striped table-bordered table-condensed\">\n",
       "<thead><tr><th>designation</th><th>ra</th><th>dec</th><th>clon</th><th>clat</th><th>sigra</th><th>sigdec</th><th>sigradec</th><th>w1mpro</th><th>w1sigmpro</th><th>w1snr</th><th>w1rchi2</th><th>w2mpro</th><th>w2sigmpro</th><th>w2snr</th><th>w2rchi2</th><th>w3mpro</th><th>w3sigmpro</th><th>w3snr</th><th>w3rchi2</th><th>w4mpro</th><th>w4sigmpro</th><th>w4snr</th><th>w4rchi2</th><th>nb</th><th>na</th><th>w1sat</th><th>w2sat</th><th>w3sat</th><th>w4sat</th><th>pmra</th><th>sigpmra</th><th>pmdec</th><th>sigpmdec</th><th>cc_flags</th><th>ext_flg</th><th>var_flg</th><th>ph_qual</th><th>moon_lev</th><th>w1nm</th><th>w1m</th><th>w2nm</th><th>w2m</th><th>w3nm</th><th>w3m</th><th>w4nm</th><th>w4m</th><th>dist</th><th>angle</th><th>id</th></tr></thead>\n",
       "<thead><tr><th></th><th>deg</th><th>deg</th><th></th><th></th><th>arcs</th><th>arcs</th><th>arcs</th><th>mag</th><th>mag</th><th></th><th></th><th>mag</th><th>mag</th><th></th><th></th><th>mag</th><th>mag</th><th></th><th></th><th>mag</th><th>mag</th><th></th><th></th><th></th><th></th><th></th><th></th><th></th><th></th><th>maspyr</th><th>maspyr</th><th>maspyr</th><th>maspyr</th><th></th><th></th><th></th><th></th><th></th><th></th><th></th><th></th><th></th><th></th><th></th><th></th><th></th><th>arcs</th><th>deg</th><th></th></tr></thead>\n",
       "<thead><tr><th>object</th><th>float64</th><th>float64</th><th>object</th><th>object</th><th>float64</th><th>float64</th><th>float64</th><th>float64</th><th>float64</th><th>float64</th><th>float64</th><th>float64</th><th>float64</th><th>float64</th><th>float64</th><th>float64</th><th>float64</th><th>float64</th><th>float64</th><th>float64</th><th>float64</th><th>float64</th><th>float64</th><th>int32</th><th>int32</th><th>float64</th><th>float64</th><th>float64</th><th>float64</th><th>int32</th><th>int32</th><th>int32</th><th>int32</th><th>object</th><th>int32</th><th>object</th><th>object</th><th>object</th><th>int32</th><th>int32</th><th>int32</th><th>int32</th><th>int32</th><th>int32</th><th>int32</th><th>int32</th><th>float64</th><th>float64</th><th>object</th></tr></thead>\n",
       "<tr><td>J000613.88-062335.2</td><td>1.558</td><td>-6.393</td><td>00h06m13.89s</td><td>-06d23m35.29s</td><td>0.0339</td><td>0.0327</td><td>0.0038</td><td>12.151</td><td>0.023</td><td>46.5</td><td>1.868</td><td>11.009</td><td>0.02</td><td>55.1</td><td>1.575</td><td>8.022</td><td>0.021</td><td>52.3</td><td>1.116</td><td>5.52</td><td>0.042</td><td>26.0</td><td>0.8461</td><td>1</td><td>0</td><td>0.0</td><td>0.0</td><td>0.0</td><td>0.0</td><td>-69</td><td>129</td><td>-120</td><td>46</td><td>0000</td><td>0</td><td>9800</td><td>AAAA</td><td>1100</td><td>23</td><td>23</td><td>23</td><td>23</td><td>13</td><td>13</td><td>13</td><td>13</td><td>0.106915</td><td>298.345819</td><td>0</td></tr>\n",
       "<tr><td>J000613.00-062157.5</td><td>1.554</td><td>-6.366</td><td>00h06m13.00s</td><td>-06d21m57.51s</td><td>0.1128</td><td>0.1167</td><td>-0.0309</td><td>15.412</td><td>0.044</td><td>24.5</td><td>0.8235</td><td>15.061</td><td>0.087</td><td>12.5</td><td>0.9805</td><td>11.912</td><td>0.316</td><td>3.4</td><td>1.037</td><td>8.688</td><td>--</td><td>0.7</td><td>1.13</td><td>1</td><td>0</td><td>0.0</td><td>0.0</td><td>0.0</td><td>0.0</td><td>124</td><td>394</td><td>277</td><td>411</td><td>0000</td><td>0</td><td>11nn</td><td>AABU</td><td>1100</td><td>24</td><td>24</td><td>12</td><td>24</td><td>1</td><td>13</td><td>0</td><td>13</td><td>98.725263</td><td>352.284058</td><td>23</td></tr>\n",
       "<tr><td>J000612.96-062112.5</td><td>1.554</td><td>-6.353</td><td>00h06m12.96s</td><td>-06d21m12.56s</td><td>0.0508</td><td>0.0509</td><td>0.0069</td><td>13.177</td><td>0.025</td><td>43.0</td><td>1.031</td><td>13.228</td><td>0.032</td><td>33.4</td><td>0.8817</td><td>12.037</td><td>--</td><td>1.2</td><td>0.8604</td><td>8.738</td><td>--</td><td>0.6</td><td>0.9099</td><td>1</td><td>0</td><td>0.0</td><td>0.0</td><td>0.0</td><td>0.0</td><td>28</td><td>82</td><td>-1</td><td>84</td><td>0000</td><td>0</td><td>11nn</td><td>AAUU</td><td>1100</td><td>25</td><td>25</td><td>25</td><td>25</td><td>0</td><td>13</td><td>0</td><td>13</td><td>143.45453</td><td>354.439715</td><td>54</td></tr>\n",
       "<tr><td>J000621.63-062147.2</td><td>1.590</td><td>-6.363</td><td>00h06m21.63s</td><td>-06d21m47.27s</td><td>0.0396</td><td>0.0377</td><td>0.0072</td><td>11.748</td><td>0.022</td><td>48.5</td><td>1.42</td><td>11.781</td><td>0.021</td><td>50.7</td><td>0.9124</td><td>12.319</td><td>0.407</td><td>2.7</td><td>0.9918</td><td>8.894</td><td>--</td><td>0.4</td><td>0.9516</td><td>1</td><td>0</td><td>0.0</td><td>0.0</td><td>0.0</td><td>0.0</td><td>19</td><td>50</td><td>52</td><td>49</td><td>0000</td><td>0</td><td>00nn</td><td>AACU</td><td>1100</td><td>24</td><td>24</td><td>25</td><td>25</td><td>0</td><td>14</td><td>0</td><td>14</td><td>158.048564</td><td>46.863251</td><td>72</td></tr>\n",
       "<tr><td>J000613.98-062056.1</td><td>1.558</td><td>-6.349</td><td>00h06m13.98s</td><td>-06d20m56.14s</td><td>0.1252</td><td>0.131</td><td>-0.0338</td><td>15.595</td><td>0.047</td><td>23.0</td><td>1.025</td><td>15.67</td><td>0.144</td><td>7.5</td><td>0.8461</td><td>12.532</td><td>--</td><td>-1.5</td><td>0.9461</td><td>8.836</td><td>--</td><td>0.2</td><td>0.9917</td><td>1</td><td>0</td><td>0.0</td><td>0.0</td><td>0.0</td><td>0.0</td><td>-207</td><td>424</td><td>779</td><td>448</td><td>0000</td><td>0</td><td>0nnn</td><td>ABUU</td><td>1100</td><td>26</td><td>26</td><td>2</td><td>26</td><td>0</td><td>14</td><td>0</td><td>14</td><td>159.206988</td><td>0.466127</td><td>75</td></tr>\n",
       "<tr><td>J000600.55-062559.5</td><td>1.502</td><td>-6.433</td><td>00h06m00.55s</td><td>-06d25m59.53s</td><td>0.0415</td><td>0.0405</td><td>0.0093</td><td>12.163</td><td>0.024</td><td>46.1</td><td>1.265</td><td>12.18</td><td>0.023</td><td>47.5</td><td>0.9112</td><td>12.251</td><td>0.437</td><td>2.5</td><td>0.8517</td><td>8.529</td><td>--</td><td>0.7</td><td>0.9465</td><td>1</td><td>0</td><td>0.0</td><td>0.0</td><td>0.0</td><td>0.0</td><td>-1</td><td>60</td><td>55</td><td>60</td><td>0000</td><td>0</td><td>01nn</td><td>AACU</td><td>1100</td><td>22</td><td>22</td><td>22</td><td>22</td><td>0</td><td>13</td><td>0</td><td>13</td><td>245.63661</td><td>234.052195</td><td>176</td></tr>\n",
       "<tr><td>J000627.58-062643.0</td><td>1.615</td><td>-6.445</td><td>00h06m27.59s</td><td>-06d26m43.07s</td><td>0.1559</td><td>0.1602</td><td>-0.044</td><td>15.913</td><td>0.055</td><td>19.8</td><td>1.008</td><td>15.917</td><td>0.184</td><td>5.9</td><td>0.8695</td><td>12.413</td><td>--</td><td>0.4</td><td>0.9878</td><td>8.935</td><td>--</td><td>-0.6</td><td>1.031</td><td>1</td><td>0</td><td>0.0</td><td>0.0</td><td>0.0</td><td>0.0</td><td>-286</td><td>604</td><td>-102</td><td>625</td><td>D000</td><td>0</td><td>nnnn</td><td>ABUU</td><td>1100</td><td>22</td><td>23</td><td>2</td><td>23</td><td>0</td><td>13</td><td>0</td><td>13</td><td>277.306481</td><td>132.610592</td><td>220</td></tr>\n",
       "<tr><td>J000625.41-062825.8</td><td>1.606</td><td>-6.474</td><td>00h06m25.42s</td><td>-06d28m25.86s</td><td>0.042</td><td>0.0402</td><td>0.0037</td><td>12.06</td><td>0.023</td><td>46.8</td><td>1.474</td><td>12.113</td><td>0.023</td><td>46.3</td><td>1.126</td><td>11.582</td><td>0.229</td><td>4.7</td><td>0.9584</td><td>8.814</td><td>--</td><td>-0.3</td><td>0.8055</td><td>1</td><td>0</td><td>0.0</td><td>0.0</td><td>0.0</td><td>0.0</td><td>-29</td><td>57</td><td>158</td><td>57</td><td>0000</td><td>0</td><td>11nn</td><td>AABU</td><td>1100</td><td>23</td><td>23</td><td>23</td><td>23</td><td>0</td><td>13</td><td>0</td><td>13</td><td>337.47995</td><td>149.414127</td><td>327</td></tr>\n",
       "<tr><td>J000558.12-062745.9</td><td>1.492</td><td>-6.463</td><td>00h05m58.13s</td><td>-06d27m45.95s</td><td>0.0559</td><td>0.0554</td><td>-0.0049</td><td>13.782</td><td>0.026</td><td>41.3</td><td>2.29</td><td>13.552</td><td>0.036</td><td>30.0</td><td>1.138</td><td>11.923</td><td>--</td><td>1.2</td><td>0.9935</td><td>8.289</td><td>--</td><td>1.4</td><td>1.02</td><td>1</td><td>0</td><td>0.0</td><td>0.0</td><td>0.0</td><td>0.0</td><td>69</td><td>118</td><td>-333</td><td>122</td><td>0000</td><td>0</td><td>00nn</td><td>AAUU</td><td>1100</td><td>22</td><td>22</td><td>22</td><td>22</td><td>0</td><td>12</td><td>0</td><td>13</td><td>343.582513</td><td>223.160154</td><td>337</td></tr>\n",
       "<tr><td>...</td><td>...</td><td>...</td><td>...</td><td>...</td><td>...</td><td>...</td><td>...</td><td>...</td><td>...</td><td>...</td><td>...</td><td>...</td><td>...</td><td>...</td><td>...</td><td>...</td><td>...</td><td>...</td><td>...</td><td>...</td><td>...</td><td>...</td><td>...</td><td>...</td><td>...</td><td>...</td><td>...</td><td>...</td><td>...</td><td>...</td><td>...</td><td>...</td><td>...</td><td>...</td><td>...</td><td>...</td><td>...</td><td>...</td><td>...</td><td>...</td><td>...</td><td>...</td><td>...</td><td>...</td><td>...</td><td>...</td><td>...</td><td>...</td><td>...</td></tr>\n",
       "<tr><td>J000818.79-071443.1</td><td>2.078</td><td>-7.245</td><td>00h08m18.79s</td><td>-07d14m43.10s</td><td>0.0793</td><td>0.081</td><td>-0.021</td><td>14.645</td><td>0.033</td><td>32.6</td><td>1.026</td><td>14.638</td><td>0.064</td><td>17.0</td><td>1.08</td><td>12.601</td><td>--</td><td>-0.8</td><td>0.9263</td><td>8.881</td><td>--</td><td>0.0</td><td>0.878</td><td>1</td><td>0</td><td>0.0</td><td>0.0</td><td>0.0</td><td>0.0</td><td>54</td><td>218</td><td>127</td><td>228</td><td>0000</td><td>0</td><td>00nn</td><td>AAUU</td><td>2200</td><td>22</td><td>22</td><td>21</td><td>22</td><td>0</td><td>13</td><td>1</td><td>13</td><td>3587.685479</td><td>148.798936</td><td>38033</td></tr>\n",
       "<tr><td>J000850.38-070906.3</td><td>2.210</td><td>-7.152</td><td>00h08m50.39s</td><td>-07d09m06.39s</td><td>0.0407</td><td>0.0382</td><td>0.0065</td><td>11.715</td><td>0.023</td><td>46.8</td><td>1.224</td><td>11.749</td><td>0.022</td><td>49.8</td><td>1.057</td><td>11.426</td><td>0.209</td><td>5.2</td><td>0.8042</td><td>9.137</td><td>--</td><td>0.0</td><td>1.077</td><td>1</td><td>0</td><td>0.0</td><td>0.0</td><td>0.0</td><td>0.0</td><td>21</td><td>52</td><td>18</td><td>51</td><td>0000</td><td>0</td><td>11nn</td><td>AABU</td><td>2200</td><td>26</td><td>26</td><td>25</td><td>25</td><td>1</td><td>14</td><td>0</td><td>15</td><td>3590.565637</td><td>139.556413</td><td>38101</td></tr>\n",
       "<tr><td>J000213.11-062156.8</td><td>0.555</td><td>-6.366</td><td>00h02m13.12s</td><td>-06d21m56.86s</td><td>0.0382</td><td>0.0356</td><td>0.0053</td><td>10.15</td><td>0.022</td><td>48.5</td><td>1.325</td><td>10.218</td><td>0.02</td><td>53.1</td><td>1.512</td><td>10.15</td><td>0.066</td><td>16.4</td><td>1.09</td><td>9.064</td><td>--</td><td>-0.1</td><td>1.276</td><td>1</td><td>0</td><td>0.0</td><td>0.0</td><td>0.0</td><td>0.0</td><td>0</td><td>43</td><td>0</td><td>42</td><td>0000</td><td>0</td><td>010n</td><td>AAAU</td><td>3400</td><td>21</td><td>21</td><td>21</td><td>21</td><td>11</td><td>11</td><td>0</td><td>11</td><td>3590.663527</td><td>271.515832</td><td>38104</td></tr>\n",
       "<tr><td>J000257.01-054907.0</td><td>0.738</td><td>-5.819</td><td>00h02m57.01s</td><td>-05d49m07.06s</td><td>0.0833</td><td>0.0849</td><td>-0.019</td><td>14.9</td><td>0.035</td><td>31.1</td><td>1.065</td><td>14.721</td><td>0.07</td><td>15.6</td><td>1.011</td><td>10.439</td><td>0.084</td><td>12.9</td><td>1.034</td><td>8.548</td><td>0.358</td><td>3.0</td><td>0.8331</td><td>1</td><td>0</td><td>0.0</td><td>0.0</td><td>0.0</td><td>0.0</td><td>149</td><td>290</td><td>442</td><td>299</td><td>0000</td><td>0</td><td>000n</td><td>AAAC</td><td>3400</td><td>23</td><td>23</td><td>17</td><td>23</td><td>13</td><td>14</td><td>0</td><td>14</td><td>3591.736218</td><td>305.114405</td><td>38139</td></tr>\n",
       "<tr><td>J000502.73-072049.4</td><td>1.261</td><td>-7.347</td><td>00h05m02.74s</td><td>-07d20m49.50s</td><td>0.042</td><td>0.0407</td><td>0.0082</td><td>12.016</td><td>0.023</td><td>47.3</td><td>1.833</td><td>12.081</td><td>0.024</td><td>46.0</td><td>1.241</td><td>12.271</td><td>--</td><td>0.6</td><td>0.8697</td><td>8.318</td><td>--</td><td>1.3</td><td>0.7709</td><td>1</td><td>0</td><td>0.0</td><td>0.0</td><td>0.0</td><td>0.0</td><td>-147</td><td>57</td><td>76</td><td>56</td><td>0000</td><td>0</td><td>00nn</td><td>AAUU</td><td>2200</td><td>23</td><td>23</td><td>23</td><td>23</td><td>0</td><td>13</td><td>0</td><td>13</td><td>3593.927626</td><td>197.131143</td><td>38184</td></tr>\n",
       "<tr><td>J000812.49-071546.2</td><td>2.052</td><td>-7.263</td><td>00h08m12.49s</td><td>-07d15m46.22s</td><td>0.04</td><td>0.0385</td><td>0.0055</td><td>11.176</td><td>0.023</td><td>46.4</td><td>4.871</td><td>11.255</td><td>0.022</td><td>49.7</td><td>1.144</td><td>11.112</td><td>0.169</td><td>6.4</td><td>0.9589</td><td>8.819</td><td>--</td><td>-0.1</td><td>0.9838</td><td>1</td><td>0</td><td>0.0</td><td>0.0</td><td>0.0</td><td>0.0</td><td>-11</td><td>50</td><td>125</td><td>51</td><td>0000</td><td>1</td><td>10nn</td><td>AABU</td><td>2200</td><td>21</td><td>21</td><td>21</td><td>21</td><td>4</td><td>11</td><td>0</td><td>11</td><td>3594.778226</td><td>150.598177</td><td>38198</td></tr>\n",
       "<tr><td>J000851.59-053814.8</td><td>2.215</td><td>-5.637</td><td>00h08m51.59s</td><td>-05d38m14.89s</td><td>0.0476</td><td>0.0463</td><td>0.0067</td><td>13.005</td><td>0.024</td><td>44.8</td><td>1.078</td><td>13.031</td><td>0.028</td><td>38.3</td><td>1.086</td><td>12.265</td><td>--</td><td>0.4</td><td>0.854</td><td>8.981</td><td>--</td><td>0.1</td><td>1.161</td><td>1</td><td>0</td><td>0.0</td><td>0.0</td><td>0.0</td><td>0.0</td><td>39</td><td>74</td><td>73</td><td>75</td><td>0000</td><td>0</td><td>11nn</td><td>AAUU</td><td>1100</td><td>26</td><td>26</td><td>26</td><td>26</td><td>0</td><td>12</td><td>0</td><td>12</td><td>3596.49555</td><td>40.885897</td><td>38245</td></tr>\n",
       "<tr><td>J000316.36-054300.1</td><td>0.818</td><td>-5.717</td><td>00h03m16.37s</td><td>-05d43m00.20s</td><td>0.1009</td><td>0.1023</td><td>-0.0318</td><td>15.191</td><td>0.038</td><td>28.4</td><td>1.071</td><td>14.877</td><td>0.091</td><td>11.9</td><td>0.8221</td><td>11.643</td><td>0.296</td><td>3.7</td><td>0.879</td><td>8.148</td><td>--</td><td>1.2</td><td>0.8215</td><td>1</td><td>0</td><td>0.0</td><td>0.0</td><td>0.0</td><td>0.0</td><td>-314</td><td>350</td><td>186</td><td>358</td><td>0000</td><td>0</td><td>11nn</td><td>AABU</td><td>1100</td><td>21</td><td>21</td><td>10</td><td>21</td><td>0</td><td>11</td><td>0</td><td>11</td><td>3597.492733</td><td>312.562155</td><td>38269</td></tr>\n",
       "<tr><td>J000832.50-071241.5</td><td>2.135</td><td>-7.212</td><td>00h08m32.50s</td><td>-07d12m41.57s</td><td>0.0763</td><td>0.0783</td><td>-0.0164</td><td>14.533</td><td>0.031</td><td>34.6</td><td>0.8408</td><td>14.683</td><td>0.07</td><td>15.6</td><td>0.8456</td><td>12.562</td><td>--</td><td>-0.8</td><td>0.945</td><td>8.42</td><td>--</td><td>1.1</td><td>0.8246</td><td>1</td><td>0</td><td>0.0</td><td>0.0</td><td>0.0</td><td>0.0</td><td>-233</td><td>200</td><td>-235</td><td>209</td><td>0000</td><td>0</td><td>00nn</td><td>AAUU</td><td>2200</td><td>21</td><td>21</td><td>16</td><td>21</td><td>0</td><td>12</td><td>0</td><td>12</td><td>3597.545643</td><td>145.013982</td><td>38271</td></tr>\n",
       "<tr><td>J000823.30-071415.0</td><td>2.097</td><td>-7.237</td><td>00h08m23.31s</td><td>-07d14m15.00s</td><td>0.0429</td><td>0.0413</td><td>0.0063</td><td>12.143</td><td>0.023</td><td>47.2</td><td>1.351</td><td>12.182</td><td>0.025</td><td>43.7</td><td>0.9469</td><td>12.024</td><td>--</td><td>0.9</td><td>0.9802</td><td>9.011</td><td>--</td><td>-0.2</td><td>0.9598</td><td>1</td><td>0</td><td>0.0</td><td>0.0</td><td>0.0</td><td>0.0</td><td>110</td><td>57</td><td>7</td><td>57</td><td>0000</td><td>0</td><td>00nn</td><td>AAUU</td><td>2200</td><td>24</td><td>24</td><td>24</td><td>24</td><td>1</td><td>13</td><td>0</td><td>14</td><td>3599.254058</td><td>147.652402</td><td>38303</td></tr>\n",
       "</table>"
      ],
      "text/plain": [
       "<Table masked=True length=805>\n",
       "    designation        ra     dec   ...     dist      angle      id  \n",
       "                      deg     deg   ...     arcs       deg           \n",
       "       object       float64 float64 ...   float64    float64   object\n",
       "------------------- ------- ------- ... ----------- ---------- ------\n",
       "J000613.88-062335.2   1.558  -6.393 ...    0.106915 298.345819      0\n",
       "J000613.00-062157.5   1.554  -6.366 ...   98.725263 352.284058     23\n",
       "J000612.96-062112.5   1.554  -6.353 ...   143.45453 354.439715     54\n",
       "J000621.63-062147.2   1.590  -6.363 ...  158.048564  46.863251     72\n",
       "J000613.98-062056.1   1.558  -6.349 ...  159.206988   0.466127     75\n",
       "J000600.55-062559.5   1.502  -6.433 ...   245.63661 234.052195    176\n",
       "J000627.58-062643.0   1.615  -6.445 ...  277.306481 132.610592    220\n",
       "J000625.41-062825.8   1.606  -6.474 ...   337.47995 149.414127    327\n",
       "J000558.12-062745.9   1.492  -6.463 ...  343.582513 223.160154    337\n",
       "                ...     ...     ... ...         ...        ...    ...\n",
       "J000818.79-071443.1   2.078  -7.245 ... 3587.685479 148.798936  38033\n",
       "J000850.38-070906.3   2.210  -7.152 ... 3590.565637 139.556413  38101\n",
       "J000213.11-062156.8   0.555  -6.366 ... 3590.663527 271.515832  38104\n",
       "J000257.01-054907.0   0.738  -5.819 ... 3591.736218 305.114405  38139\n",
       "J000502.73-072049.4   1.261  -7.347 ... 3593.927626 197.131143  38184\n",
       "J000812.49-071546.2   2.052  -7.263 ... 3594.778226 150.598177  38198\n",
       "J000851.59-053814.8   2.215  -5.637 ...  3596.49555  40.885897  38245\n",
       "J000316.36-054300.1   0.818  -5.717 ... 3597.492733 312.562155  38269\n",
       "J000832.50-071241.5   2.135  -7.212 ... 3597.545643 145.013982  38271\n",
       "J000823.30-071415.0   2.097  -7.237 ... 3599.254058 147.652402  38303"
      ]
     },
     "execution_count": 17,
     "metadata": {},
     "output_type": "execute_result"
    }
   ],
   "source": [
    "ra_2mass = match_2mass['ra']\n",
    "dec_2mass = match_2mass['dec']\n",
    "c_2mass = coordinates.SkyCoord(ra=ra_2mass, dec=dec_2mass, unit=(u.deg, u.deg), frame=\"icrs\")\n",
    "\n",
    "idx_wise, idx, d2d, d3d = c_2mass.search_around_sky(c_wise, sep_min)\n",
    "match_wise = data_wise[idx_wise]\n",
    "match_wise"
   ]
  },
  {
   "cell_type": "markdown",
   "metadata": {},
   "source": [
    "## Join table"
   ]
  },
  {
   "cell_type": "code",
   "execution_count": 18,
   "metadata": {},
   "outputs": [],
   "source": [
    "# joindata = Table([match_2mass['j_m'], \n",
    "#                   match_2mass['j_m']-match_2mass['h_m'], \n",
    "#                   match_2mass['j_m']-match_2mass['k_m'],\n",
    "#                   match_2mass['j_m']-match_wise['w1mpro'], \n",
    "#                   match_2mass['j_m']-match_wise['w2mpro'],\n",
    "#                   match_2mass['j_m']-match_wise['w3mpro'],\n",
    "#                   match_2mass['j_m']-match_wise['w4mpro'],\n",
    "#                   match_2mass['j_m']-match_galex['NUVmag']], \n",
    "#                   names=('J', 'J-H', 'J-K', 'J-W1', 'J-W2', 'J-W3', 'J-W4', 'J-NUV'))"
   ]
  },
  {
   "cell_type": "code",
   "execution_count": 19,
   "metadata": {},
   "outputs": [],
   "source": [
    "joindata = np.array([match_2mass['j_m'], \n",
    "                  match_2mass['j_m']-match_2mass['h_m'], \n",
    "                  match_2mass['j_m']-match_2mass['k_m'],\n",
    "                  match_2mass['j_m']-match_wise['w1mpro'], \n",
    "                  match_2mass['j_m']-match_wise['w2mpro'],\n",
    "                  match_2mass['j_m']-match_wise['w3mpro'],\n",
    "                  match_2mass['j_m']-match_wise['w4mpro'],\n",
    "                  match_2mass['j_m']-match_galex['NUVmag']])\n",
    "\n",
    "joindata = joindata.T"
   ]
  },
  {
   "cell_type": "code",
   "execution_count": 20,
   "metadata": {},
   "outputs": [],
   "source": [
    "# joindata = np.array([match_2mass['j_m'], match_2mass['h_m'], match_2mass['k_m'], \n",
    "#                      match_wise['w1mpro'], match_wise['w2mpro'], match_wise['w3mpro'], match_wise['w4mpro'],\n",
    "#                      match_galex['NUVmag']])\n",
    "\n",
    "# joindata = joindata.T"
   ]
  },
  {
   "cell_type": "code",
   "execution_count": 21,
   "metadata": {},
   "outputs": [
    {
     "data": {
      "text/plain": [
       "805"
      ]
     },
     "execution_count": 21,
     "metadata": {},
     "output_type": "execute_result"
    }
   ],
   "source": [
    "len(match_2mass['j_m'])"
   ]
  },
  {
   "cell_type": "code",
   "execution_count": 22,
   "metadata": {},
   "outputs": [
    {
     "data": {
      "text/plain": [
       "805"
      ]
     },
     "execution_count": 22,
     "metadata": {},
     "output_type": "execute_result"
    }
   ],
   "source": [
    "len(match_wise['w3mpro'])"
   ]
  },
  {
   "cell_type": "markdown",
   "metadata": {},
   "source": [
    "# Analysis"
   ]
  },
  {
   "cell_type": "markdown",
   "metadata": {},
   "source": [
    "### PCA"
   ]
  },
  {
   "cell_type": "code",
   "execution_count": 23,
   "metadata": {},
   "outputs": [],
   "source": [
    "from sklearn import datasets\n",
    "from sklearn.decomposition import PCA\n",
    "from sklearn.preprocessing import scale\n",
    "\n",
    "X = scale(joindata)\n",
    "\n",
    "pca = PCA(n_components=2)\n",
    "X_r = pca.fit(X).transform(X)"
   ]
  },
  {
   "cell_type": "code",
   "execution_count": 24,
   "metadata": {},
   "outputs": [
    {
     "data": {
      "image/png": "[encoded data removed]",
      "text/plain": [
       "<Figure size 432x288 with 1 Axes>"
      ]
     },
     "metadata": {},
     "output_type": "display_data"
    }
   ],
   "source": [
    "plt.scatter(X_r[:,0], X_r[:,1])\n",
    "for i, name in enumerate(match_wise['designation']):\n",
    "    for galaxyname in galaxy['designation']:\n",
    "        if name == galaxyname:\n",
    "            plt.scatter(X_r[i,0], X_r[i,1], color=\"red\")  "
   ]
  },
  {
   "cell_type": "markdown",
   "metadata": {},
   "source": [
    "### DBSCAN"
   ]
  },
  {
   "cell_type": "code",
   "execution_count": 32,
   "metadata": {},
   "outputs": [
    {
     "name": "stdout",
     "output_type": "stream",
     "text": [
      "Estimated number of clusters: 13\n"
     ]
    }
   ],
   "source": [
    "from sklearn.cluster import DBSCAN\n",
    "from sklearn.preprocessing import StandardScaler\n",
    "\n",
    "X = scale(joindata)\n",
    "\n",
    "db = DBSCAN(eps=0.2, min_samples=3).fit(X)\n",
    "\n",
    "core_samples_mask = np.zeros_like(db.labels_, dtype=bool)\n",
    "core_samples_mask[db.core_sample_indices_] = True\n",
    "labels = db.labels_\n",
    "\n",
    "# Number of clusters in labels, ignoring noise if present.\n",
    "n_clusters_ = len(set(labels)) - (1 if -1 in labels else 0)\n",
    "\n",
    "print('Estimated number of clusters: %d' % n_clusters_)\n",
    "#print(labels)"
   ]
  },
  {
   "cell_type": "markdown",
   "metadata": {},
   "source": [
    "#### Plot J-W1 vs J"
   ]
  },
  {
   "cell_type": "code",
   "execution_count": 34,
   "metadata": {},
   "outputs": [
    {
     "data": {
      "image/png": "[encoded data removed]",
      "text/plain": [
       "<Figure size 432x288 with 1 Axes>"
      ]
     },
     "metadata": {},
     "output_type": "display_data"
    }
   ],
   "source": [
    "# Black removed and is used for noise instead.\n",
    "unique_labels = set(labels)\n",
    "colors = [plt.cm.Spectral(each) for each in np.linspace(0, 1, len(unique_labels))]\n",
    "for k, col in zip(unique_labels, colors):\n",
    "    if k == -1:\n",
    "        # Black used for noise.\n",
    "        col = [0, 0, 0, 1]\n",
    "\n",
    "    class_member_mask = (labels == k)\n",
    "\n",
    "    \n",
    "    ## J vs J-W1\n",
    "    \n",
    "    xy = X[class_member_mask & core_samples_mask]\n",
    "    plt.plot(xy[:, 3], xy[:, 0], 'o', markerfacecolor=tuple(col), markeredgecolor='k', markersize=14)\n",
    "\n",
    "    xy = X[class_member_mask & ~core_samples_mask]\n",
    "    plt.plot(xy[:, 3], xy[:, 0], 'o', markerfacecolor=tuple(col), markeredgecolor='k', markersize=8)\n",
    "    \n",
    "for i, name in enumerate(match_wise['designation']):\n",
    "    for galaxyname in galaxy['designation']:\n",
    "        if name == galaxyname:\n",
    "            plt.plot(X[i,3], X[i,0], marker=\"X\", markerfacecolor='red', markeredgecolor='none', markersize=8)  \n",
    "\n",
    "plt.title('Estimated number of clusters: %d' % n_clusters_)\n",
    "plt.show()"
   ]
  },
  {
   "cell_type": "markdown",
   "metadata": {},
   "source": [
    "### t-SNE"
   ]
  },
  {
   "cell_type": "code",
   "execution_count": 35,
   "metadata": {},
   "outputs": [],
   "source": [
    "from sklearn.manifold import TSNE\n",
    "X = scale(joindata)\n",
    "X_r = TSNE(n_components=2).fit_transform(X)"
   ]
  },
  {
   "cell_type": "code",
   "execution_count": 36,
   "metadata": {},
   "outputs": [
    {
     "data": {
      "image/png": "[encoded data removed]",
      "text/plain": [
       "<Figure size 432x288 with 1 Axes>"
      ]
     },
     "metadata": {},
     "output_type": "display_data"
    }
   ],
   "source": [
    "plt.scatter(X_r[:,0], X_r[:,1], marker='.', color=\"blue\")\n",
    "for i, name in enumerate(match_wise['designation']):\n",
    "    for galaxyname in galaxy['designation']:\n",
    "        if name == galaxyname:\n",
    "            plt.scatter(X_r[i,0], X_r[i,1], marker='.', color=\"red\")  "
   ]
  },
  {
   "cell_type": "code",
   "execution_count": null,
   "metadata": {},
   "outputs": [],
   "source": []
  }
 ],
 "metadata": {
  "kernelspec": {
   "display_name": "Python 3",
   "language": "python",
   "name": "python3"
  },
  "language_info": {
   "codemirror_mode": {
    "name": "ipython",
    "version": 3
   },
   "file_extension": ".py",
   "mimetype": "text/x-python",
   "name": "python",
   "nbconvert_exporter": "python",
   "pygments_lexer": "ipython3",
   "version": "3.6.5"
  }
 },
 "nbformat": 4,
 "nbformat_minor": 2
}
