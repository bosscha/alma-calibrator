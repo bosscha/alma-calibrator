{
 "cells": [
  {
   "cell_type": "code",
   "execution_count": 1,
   "metadata": {},
   "outputs": [],
   "source": [
    "import numpy as np\n",
    "import pandas as pd\n",
    "\n",
    "from astropy import coordinates\n",
    "from astropy.coordinates import match_coordinates_sky\n",
    "import astropy.units as u\n",
    "import astroquery\n",
    "from astroquery.irsa import Irsa\n",
    "from astroquery.vizier import Vizier\n",
    "from astropy.table import Table, join\n",
    "\n",
    "Irsa.ROW_LIMIT = -1\n",
    "Vizier.ROW_LIMIT = -1\n",
    "\n",
    "import matplotlib.pyplot as plt\n",
    "\n",
    "%matplotlib inline"
   ]
  },
  {
   "cell_type": "markdown",
   "metadata": {},
   "source": [
    "# Get the data"
   ]
  },
  {
   "cell_type": "code",
   "execution_count": 2,
   "metadata": {},
   "outputs": [],
   "source": [
    "obj = [\"M87\", 187.705930, 12.391123, 0.2]\n",
    "# name, ra, dec, radius of cone\n",
    "obj_name = obj[0]\n",
    "obj_ra   = obj[1]\n",
    "obj_dec  = obj[2]\n",
    "cone_radius  = obj[3]"
   ]
  },
  {
   "cell_type": "code",
   "execution_count": 3,
   "metadata": {},
   "outputs": [],
   "source": [
    "obj_coord = coordinates.SkyCoord(ra=obj_ra, dec=obj_dec, unit=(u.deg, u.deg), frame=\"icrs\")"
   ]
  },
  {
   "cell_type": "code",
   "execution_count": 4,
   "metadata": {},
   "outputs": [],
   "source": [
    "data_2mass = Irsa.query_region(obj_coord, catalog=\"fp_psc\", radius=cone_radius * u.deg)\n",
    "data_wise  = Irsa.query_region(obj_coord, catalog=\"allwise_p3as_psd\", radius=cone_radius * u.deg)\n",
    "__data_galex = Vizier.query_region(obj_coord, catalog='II/335', radius=cone_radius * u.deg)\n",
    "data_galex = __data_galex[0]"
   ]
  },
  {
   "cell_type": "code",
   "execution_count": 5,
   "metadata": {},
   "outputs": [
    {
     "name": "stdout",
     "output_type": "stream",
     "text": [
      "Number of object in (2MASS, WISE, GALEX):  182 2230 431\n"
     ]
    }
   ],
   "source": [
    "num_2mass = len(data_2mass)\n",
    "num_wise  = len(data_wise)\n",
    "num_galex = len(data_galex)\n",
    "\n",
    "print(\"Number of object in (2MASS, WISE, GALEX): \", num_2mass, num_wise, num_galex)"
   ]
  },
  {
   "cell_type": "markdown",
   "metadata": {},
   "source": [
    "# Matching coordinates (3 Catalogs)"
   ]
  },
  {
   "cell_type": "code",
   "execution_count": 6,
   "metadata": {},
   "outputs": [],
   "source": [
    "ra_2mass = data_2mass['ra']\n",
    "dec_2mass = data_2mass['dec']\n",
    "c_2mass = coordinates.SkyCoord(ra=ra_2mass, dec=dec_2mass, unit=(u.deg, u.deg), frame=\"icrs\")\n",
    "\n",
    "ra_wise  = data_wise['ra']\n",
    "dec_wise = data_wise['dec']\n",
    "c_wise = coordinates.SkyCoord(ra=ra_wise, dec=dec_wise, unit=(u.deg, u.deg), frame=\"icrs\")\n",
    "\n",
    "ra_galex  = data_galex['RAJ2000']\n",
    "dec_galex = data_galex['DEJ2000']\n",
    "c_galex = coordinates.SkyCoord(ra=ra_galex, dec=dec_galex, unit=(u.deg, u.deg), frame=\"icrs\")"
   ]
  },
  {
   "cell_type": "code",
   "execution_count": 31,
   "metadata": {},
   "outputs": [],
   "source": [
    "sep_min = 2.0 * u.arcsec # minimum separation in arcsec"
   ]
  },
  {
   "cell_type": "code",
   "execution_count": 32,
   "metadata": {},
   "outputs": [
    {
     "name": "stdout",
     "output_type": "stream",
     "text": [
      "Only 2MASS and WISE:  164\n"
     ]
    }
   ],
   "source": [
    "idx_2mass, idx_wise, d2d, d3d = c_wise.search_around_sky(c_2mass, sep_min)\n",
    "c_2mass_wise = c_2mass[idx_2mass]\n",
    "print(\"Only 2MASS and WISE: \", len(idx_2mass))"
   ]
  },
  {
   "cell_type": "markdown",
   "metadata": {},
   "source": [
    "# Plot W1-J vs W1"
   ]
  },
  {
   "cell_type": "code",
   "execution_count": 33,
   "metadata": {},
   "outputs": [],
   "source": [
    "# from matching of 2 cats (2MASS and WISE) coordinate\n",
    "w1 = data_wise[idx_wise]['w1mpro']\n",
    "j = data_2mass[idx_2mass]['j_m']\n",
    "w1j = w1-j\n",
    "\n",
    "cutw1j = -1.7\n",
    "\n",
    "# match between WISE and 2MASS\n",
    "data_wise_2mass = data_wise[idx_wise] # WISE dataset\n",
    "\n",
    "galaxy = data_wise_2mass[w1j<cutw1j] # https://academic.oup.com/mnras/article/448/2/1305/1055284"
   ]
  },
  {
   "cell_type": "code",
   "execution_count": 34,
   "metadata": {},
   "outputs": [
    {
     "data": {
      "text/plain": [
       "<matplotlib.lines.Line2D at 0x7fec06164c18>"
      ]
     },
     "execution_count": 34,
     "metadata": {},
     "output_type": "execute_result"
    },
    {
     "data": {
      "image/png": "[encoded data removed]",
      "text/plain": [
       "<Figure size 432x288 with 1 Axes>"
      ]
     },
     "metadata": {},
     "output_type": "display_data"
    }
   ],
   "source": [
    "w1j_galaxy = w1j[w1j<cutw1j]\n",
    "w1_galaxy = w1[w1j<cutw1j]\n",
    "j_galaxy = j[w1j<cutw1j]\n",
    "\n",
    "plt.scatter(w1j, w1, marker='o', color='blue')\n",
    "plt.scatter(w1j_galaxy, w1_galaxy, marker='.', color=\"red\")\n",
    "          \n",
    "plt.axvline(x=cutw1j) # https://academic.oup.com/mnras/article/448/2/1305/1055284"
   ]
  },
  {
   "cell_type": "markdown",
   "metadata": {},
   "source": [
    "- W1-J < -1.7 => galaxy\n",
    "- W1-J > -1.7 => stars"
   ]
  },
  {
   "cell_type": "code",
   "execution_count": 35,
   "metadata": {},
   "outputs": [
    {
     "name": "stdout",
     "output_type": "stream",
     "text": [
      "Match all 3 cats:  43\n"
     ]
    }
   ],
   "source": [
    "# + GALEX\n",
    "___idx_2mass_wise_galex, idx_galex, d2d, d3d = c_galex.search_around_sky(c_2mass_wise, sep_min)\n",
    "\n",
    "match_all_coord = c_galex[idx_galex]\n",
    "print(\"Match all 3 cats: \", len(match_all_coord))"
   ]
  },
  {
   "cell_type": "markdown",
   "metadata": {},
   "source": [
    "# Filter"
   ]
  },
  {
   "cell_type": "code",
   "execution_count": 36,
   "metadata": {},
   "outputs": [
    {
     "data": {
      "text/html": [
       "<i>Table masked=True length=43</i>\n",
       "<table id=\"table140651691704952\" class=\"table-striped table-bordered table-condensed\">\n",
       "<thead><tr><th>RAJ2000</th><th>DEJ2000</th><th>r.fov</th><th>b</th><th>FUVmag</th><th>e_FUVmag</th><th>NUVmag</th><th>e_NUVmag</th><th>Fafl</th><th>Nafl</th><th>Fexf</th><th>Nexf</th><th>Fr</th><th>Nr</th></tr></thead>\n",
       "<thead><tr><th>deg</th><th>deg</th><th>deg</th><th></th><th>mag</th><th>mag</th><th>mag</th><th>mag</th><th></th><th></th><th></th><th></th><th>deg</th><th>deg</th></tr></thead>\n",
       "<thead><tr><th>float64</th><th>float64</th><th>float64</th><th>uint8</th><th>float64</th><th>float32</th><th>float64</th><th>float32</th><th>int16</th><th>int16</th><th>int16</th><th>int16</th><th>float64</th><th>float64</th></tr></thead>\n",
       "<tr><td>187.705554</td><td>12.391376</td><td>0.453982</td><td>3</td><td>15.1366</td><td>0.0186</td><td>14.2607</td><td>0.0066</td><td>0</td><td>1</td><td>0</td><td>16</td><td>0.030242</td><td>0.012917</td></tr>\n",
       "<tr><td>187.683336</td><td>12.426030</td><td>0.476495</td><td>3</td><td>20.3149</td><td>0.2242</td><td>19.5677</td><td>0.0972</td><td>0</td><td>1</td><td>0</td><td>1</td><td>0.005330</td><td>0.005089</td></tr>\n",
       "<tr><td>187.658673</td><td>12.376673</td><td>0.500165</td><td>1</td><td>--</td><td>--</td><td>20.9030</td><td>0.1716</td><td>0</td><td>1</td><td>0</td><td>0</td><td>--</td><td>0.004826</td></tr>\n",
       "<tr><td>187.766228</td><td>12.424715</td><td>0.395627</td><td>1</td><td>--</td><td>--</td><td>22.2858</td><td>0.3648</td><td>0</td><td>0</td><td>0</td><td>0</td><td>--</td><td>0.003236</td></tr>\n",
       "<tr><td>187.674811</td><td>12.318272</td><td>0.490414</td><td>1</td><td>--</td><td>--</td><td>22.8001</td><td>0.4701</td><td>0</td><td>17</td><td>0</td><td>0</td><td>--</td><td>0.002694</td></tr>\n",
       "<tr><td>187.646819</td><td>12.332413</td><td>0.515444</td><td>3</td><td>21.5733</td><td>0.4293</td><td>21.9569</td><td>0.3211</td><td>0</td><td>128</td><td>0</td><td>0</td><td>0.003232</td><td>0.003691</td></tr>\n",
       "<tr><td>187.740441</td><td>12.471574</td><td>0.426366</td><td>1</td><td>--</td><td>--</td><td>20.7817</td><td>0.1502</td><td>0</td><td>0</td><td>0</td><td>0</td><td>--</td><td>0.002711</td></tr>\n",
       "<tr><td>187.703882</td><td>12.486776</td><td>0.464243</td><td>1</td><td>--</td><td>--</td><td>15.6668</td><td>0.0114</td><td>0</td><td>1</td><td>0</td><td>0</td><td>--</td><td>0.001435</td></tr>\n",
       "<tr><td>187.796742</td><td>12.454009</td><td>0.369254</td><td>1</td><td>--</td><td>--</td><td>20.9506</td><td>0.1704</td><td>0</td><td>0</td><td>0</td><td>0</td><td>--</td><td>0.002328</td></tr>\n",
       "<tr><td>...</td><td>...</td><td>...</td><td>...</td><td>...</td><td>...</td><td>...</td><td>...</td><td>...</td><td>...</td><td>...</td><td>...</td><td>...</td><td>...</td></tr>\n",
       "<tr><td>187.875641</td><td>12.321654</td><td>0.297580</td><td>1</td><td>--</td><td>--</td><td>21.7338</td><td>0.2763</td><td>0</td><td>0</td><td>0</td><td>0</td><td>--</td><td>0.003792</td></tr>\n",
       "<tr><td>187.783539</td><td>12.227816</td><td>0.414074</td><td>1</td><td>--</td><td>--</td><td>17.2619</td><td>0.0239</td><td>256</td><td>0</td><td>0</td><td>3</td><td>--</td><td>0.001324</td></tr>\n",
       "<tr><td>187.787347</td><td>12.223064</td><td>0.412666</td><td>1</td><td>--</td><td>--</td><td>16.6908</td><td>0.0183</td><td>0</td><td>0</td><td>0</td><td>3</td><td>--</td><td>0.001343</td></tr>\n",
       "<tr><td>187.842523</td><td>12.522867</td><td>0.343916</td><td>1</td><td>--</td><td>--</td><td>18.6417</td><td>0.0471</td><td>0</td><td>0</td><td>0</td><td>0</td><td>--</td><td>0.001215</td></tr>\n",
       "<tr><td>187.895638</td><td>12.359685</td><td>0.270903</td><td>1</td><td>--</td><td>--</td><td>21.3987</td><td>0.2214</td><td>0</td><td>0</td><td>0</td><td>0</td><td>--</td><td>0.002748</td></tr>\n",
       "<tr><td>187.551911</td><td>12.508401</td><td>0.399201</td><td>1</td><td>--</td><td>--</td><td>19.7132</td><td>0.1176</td><td>0</td><td>0</td><td>0</td><td>0</td><td>--</td><td>0.001706</td></tr>\n",
       "<tr><td>187.530083</td><td>12.484552</td><td>0.374227</td><td>1</td><td>--</td><td>--</td><td>22.0146</td><td>0.4496</td><td>0</td><td>0</td><td>0</td><td>0</td><td>--</td><td>0.003407</td></tr>\n",
       "<tr><td>187.539037</td><td>12.283278</td><td>0.407452</td><td>1</td><td>--</td><td>--</td><td>19.0181</td><td>0.0782</td><td>0</td><td>0</td><td>0</td><td>0</td><td>--</td><td>0.001718</td></tr>\n",
       "<tr><td>187.828299</td><td>12.546818</td><td>0.365993</td><td>1</td><td>--</td><td>--</td><td>20.4141</td><td>0.1217</td><td>0</td><td>0</td><td>0</td><td>0</td><td>--</td><td>0.001461</td></tr>\n",
       "<tr><td>187.898939</td><td>12.457755</td><td>0.271890</td><td>1</td><td>--</td><td>--</td><td>20.8662</td><td>0.1639</td><td>0</td><td>0</td><td>0</td><td>0</td><td>--</td><td>0.002676</td></tr>\n",
       "</table>"
      ],
      "text/plain": [
       "<Table masked=True length=43>\n",
       " RAJ2000    DEJ2000     r.fov     b   ...  Fexf  Nexf     Fr        Nr   \n",
       "   deg        deg        deg          ...                deg       deg   \n",
       " float64    float64    float64  uint8 ... int16 int16  float64   float64 \n",
       "---------- ---------- --------- ----- ... ----- ----- --------- ---------\n",
       "187.705554  12.391376  0.453982     3 ...     0    16  0.030242  0.012917\n",
       "187.683336  12.426030  0.476495     3 ...     0     1  0.005330  0.005089\n",
       "187.658673  12.376673  0.500165     1 ...     0     0        --  0.004826\n",
       "187.766228  12.424715  0.395627     1 ...     0     0        --  0.003236\n",
       "187.674811  12.318272  0.490414     1 ...     0     0        --  0.002694\n",
       "187.646819  12.332413  0.515444     3 ...     0     0  0.003232  0.003691\n",
       "187.740441  12.471574  0.426366     1 ...     0     0        --  0.002711\n",
       "187.703882  12.486776  0.464243     1 ...     0     0        --  0.001435\n",
       "187.796742  12.454009  0.369254     1 ...     0     0        --  0.002328\n",
       "       ...        ...       ...   ... ...   ...   ...       ...       ...\n",
       "187.875641  12.321654  0.297580     1 ...     0     0        --  0.003792\n",
       "187.783539  12.227816  0.414074     1 ...     0     3        --  0.001324\n",
       "187.787347  12.223064  0.412666     1 ...     0     3        --  0.001343\n",
       "187.842523  12.522867  0.343916     1 ...     0     0        --  0.001215\n",
       "187.895638  12.359685  0.270903     1 ...     0     0        --  0.002748\n",
       "187.551911  12.508401  0.399201     1 ...     0     0        --  0.001706\n",
       "187.530083  12.484552  0.374227     1 ...     0     0        --  0.003407\n",
       "187.539037  12.283278  0.407452     1 ...     0     0        --  0.001718\n",
       "187.828299  12.546818  0.365993     1 ...     0     0        --  0.001461\n",
       "187.898939  12.457755  0.271890     1 ...     0     0        --  0.002676"
      ]
     },
     "execution_count": 36,
     "metadata": {},
     "output_type": "execute_result"
    }
   ],
   "source": [
    "### GALEX data which match with 2MASS and WISE!\n",
    "match_galex = data_galex[idx_galex]\n",
    "match_galex"
   ]
  },
  {
   "cell_type": "code",
   "execution_count": 41,
   "metadata": {},
   "outputs": [
    {
     "data": {
      "text/html": [
       "<i>Table masked=True length=43</i>\n",
       "<table id=\"table140651690785200\" class=\"table-striped table-bordered table-condensed\">\n",
       "<thead><tr><th>ra</th><th>dec</th><th>clon</th><th>clat</th><th>err_maj</th><th>err_min</th><th>err_ang</th><th>designation</th><th>j_m</th><th>j_cmsig</th><th>j_msigcom</th><th>j_snr</th><th>h_m</th><th>h_cmsig</th><th>h_msigcom</th><th>h_snr</th><th>k_m</th><th>k_cmsig</th><th>k_msigcom</th><th>k_snr</th><th>ph_qual</th><th>rd_flg</th><th>bl_flg</th><th>cc_flg</th><th>ndet</th><th>gal_contam</th><th>mp_flg</th><th>hemis</th><th>xdate</th><th>scan</th><th>glon</th><th>glat</th><th>a</th><th>dist_opt</th><th>phi_opt</th><th>b_m_opt</th><th>vr_m_opt</th><th>nopt_mchs</th><th>ext_key</th><th>dist</th><th>angle</th><th>j_h</th><th>h_k</th><th>j_k</th><th>id</th></tr></thead>\n",
       "<thead><tr><th>deg</th><th>deg</th><th></th><th></th><th>arcs</th><th>arcs</th><th>deg</th><th></th><th>mag</th><th>mag</th><th>mag</th><th></th><th>mag</th><th>mag</th><th>mag</th><th></th><th>mag</th><th>mag</th><th>mag</th><th></th><th></th><th></th><th></th><th></th><th></th><th></th><th></th><th></th><th></th><th></th><th>deg</th><th>deg</th><th></th><th>arcs</th><th>deg</th><th>mag</th><th>mag</th><th></th><th></th><th>arcs</th><th>deg</th><th></th><th></th><th></th><th></th></tr></thead>\n",
       "<thead><tr><th>float64</th><th>float64</th><th>object</th><th>object</th><th>float64</th><th>float64</th><th>int32</th><th>object</th><th>float64</th><th>float64</th><th>float64</th><th>float64</th><th>float64</th><th>float64</th><th>float64</th><th>float64</th><th>float64</th><th>float64</th><th>float64</th><th>float64</th><th>object</th><th>object</th><th>object</th><th>object</th><th>object</th><th>int32</th><th>int32</th><th>object</th><th>object</th><th>int32</th><th>float64</th><th>float64</th><th>object</th><th>float64</th><th>int32</th><th>float64</th><th>float64</th><th>int32</th><th>int32</th><th>float64</th><th>float64</th><th>float64</th><th>float64</th><th>float64</th><th>object</th></tr></thead>\n",
       "<tr><td>187.706</td><td>12.391</td><td>12h30m49.43s</td><td>12d23m27.88s</td><td>0.16</td><td>0.14</td><td>179</td><td>12304942+1223278</td><td>11.439</td><td>0.109</td><td>0.109</td><td>926.5</td><td>11.284</td><td>0.222</td><td>0.222</td><td>441.9</td><td>10.733</td><td>0.151</td><td>0.152</td><td>510.8</td><td>EEE</td><td>222</td><td>111</td><td>000</td><td>666666</td><td>2</td><td>0</td><td>n</td><td>1999-12-07</td><td>151</td><td>283.778</td><td>74.491</td><td>0</td><td>--</td><td>--</td><td>--</td><td>--</td><td>0</td><td>--</td><td>0.162435</td><td>162.359481</td><td>0.155</td><td>0.551</td><td>0.706</td><td>0</td></tr>\n",
       "<tr><td>187.683</td><td>12.426</td><td>12h30m43.90s</td><td>12d25m32.43s</td><td>0.28</td><td>0.23</td><td>4</td><td>12304389+1225324</td><td>16.525</td><td>0.143</td><td>0.143</td><td>8.6</td><td>15.865</td><td>0.218</td><td>0.218</td><td>6.5</td><td>15.356</td><td>--</td><td>--</td><td>--</td><td>BDU</td><td>220</td><td>110</td><td>000</td><td>162600</td><td>2</td><td>0</td><td>n</td><td>1999-12-07</td><td>151</td><td>283.659</td><td>74.517</td><td>U</td><td>1.4</td><td>166</td><td>18.7</td><td>17.2</td><td>1</td><td>--</td><td>148.41493</td><td>326.953147</td><td>0.66</td><td>--</td><td>--</td><td>14</td></tr>\n",
       "<tr><td>187.659</td><td>12.376</td><td>12h30m38.08s</td><td>12d22m34.95s</td><td>0.16</td><td>0.13</td><td>0</td><td>12303807+1222349</td><td>14.46</td><td>0.03</td><td>0.032</td><td>57.3</td><td>13.979</td><td>0.037</td><td>0.038</td><td>36.9</td><td>14.021</td><td>0.048</td><td>0.049</td><td>24.7</td><td>AAA</td><td>222</td><td>111</td><td>000</td><td>666635</td><td>0</td><td>0</td><td>n</td><td>1999-12-07</td><td>151</td><td>283.63</td><td>74.463</td><td>U</td><td>0.8</td><td>148</td><td>16.4</td><td>15.5</td><td>1</td><td>--</td><td>174.51546</td><td>252.298202</td><td>0.481</td><td>-0.042</td><td>0.439</td><td>19</td></tr>\n",
       "<tr><td>187.766</td><td>12.425</td><td>12h31m03.93s</td><td>12d25m28.24s</td><td>0.15</td><td>0.07</td><td>0</td><td>12310392+1225282</td><td>13.141</td><td>0.021</td><td>0.025</td><td>200.0</td><td>12.651</td><td>0.031</td><td>0.032</td><td>125.5</td><td>12.542</td><td>0.031</td><td>0.032</td><td>96.5</td><td>AAA</td><td>222</td><td>111</td><td>000</td><td>666666</td><td>0</td><td>0</td><td>n</td><td>1999-12-07</td><td>152</td><td>283.952</td><td>74.541</td><td>U</td><td>2.0</td><td>291</td><td>15.0</td><td>14.4</td><td>1</td><td>--</td><td>244.148338</td><td>60.498038</td><td>0.49</td><td>0.109</td><td>0.599</td><td>26</td></tr>\n",
       "<tr><td>187.675</td><td>12.319</td><td>12h30m42.01s</td><td>12d19m06.83s</td><td>0.23</td><td>0.21</td><td>2</td><td>12304200+1219068</td><td>16.679</td><td>0.147</td><td>0.147</td><td>7.4</td><td>16.012</td><td>--</td><td>--</td><td>--</td><td>16.025</td><td>--</td><td>--</td><td>--</td><td>BUU</td><td>200</td><td>100</td><td>000</td><td>160000</td><td>0</td><td>0</td><td>n</td><td>1999-12-07</td><td>151</td><td>283.751</td><td>74.413</td><td>U</td><td>0.2</td><td>42</td><td>19.8</td><td>18.4</td><td>1</td><td>--</td><td>282.894154</td><td>202.585158</td><td>--</td><td>--</td><td>--</td><td>29</td></tr>\n",
       "<tr><td>187.647</td><td>12.332</td><td>12h30m35.28s</td><td>12d19m55.82s</td><td>0.23</td><td>0.21</td><td>178</td><td>12303527+1219558</td><td>16.603</td><td>0.14</td><td>0.14</td><td>8.0</td><td>15.688</td><td>0.164</td><td>0.164</td><td>7.7</td><td>15.115</td><td>0.125</td><td>0.125</td><td>9.0</td><td>BCB</td><td>222</td><td>111</td><td>000</td><td>160506</td><td>0</td><td>0</td><td>n</td><td>1999-12-07</td><td>151</td><td>283.639</td><td>74.418</td><td>U</td><td>0.4</td><td>352</td><td>19.0</td><td>18.8</td><td>1</td><td>--</td><td>296.628512</td><td>224.330002</td><td>0.915</td><td>0.573</td><td>1.488</td><td>32</td></tr>\n",
       "<tr><td>187.741</td><td>12.472</td><td>12h30m57.74s</td><td>12d28m17.97s</td><td>0.14</td><td>0.13</td><td>0</td><td>12305773+1228179</td><td>9.859</td><td>0.019</td><td>0.022</td><td>3970.4</td><td>9.251</td><td>0.032</td><td>0.033</td><td>2874.2</td><td>9.139</td><td>0.021</td><td>0.023</td><td>2217.3</td><td>AAA</td><td>222</td><td>111</td><td>000</td><td>666666</td><td>0</td><td>0</td><td>n</td><td>1999-12-07</td><td>151</td><td>283.809</td><td>74.578</td><td>0</td><td>--</td><td>--</td><td>--</td><td>--</td><td>0</td><td>--</td><td>314.483337</td><td>22.783954</td><td>0.608</td><td>0.112</td><td>0.72</td><td>35</td></tr>\n",
       "<tr><td>187.704</td><td>12.487</td><td>12h30m48.93s</td><td>12d29m12.13s</td><td>0.13</td><td>0.13</td><td>90</td><td>12304893+1229121</td><td>7.029</td><td>0.013</td><td>0.021</td><td>53805.9</td><td>6.635</td><td>0.047</td><td>0.049</td><td>31982.3</td><td>6.459</td><td>0.009</td><td>0.017</td><td>26171.0</td><td>AAA</td><td>111</td><td>111</td><td>000</td><td>666666</td><td>0</td><td>0</td><td>n</td><td>1999-12-07</td><td>151</td><td>283.663</td><td>74.582</td><td>T</td><td>0.1</td><td>201</td><td>9.55</td><td>8.65</td><td>2</td><td>--</td><td>344.169634</td><td>358.808578</td><td>0.394</td><td>0.176</td><td>0.57</td><td>41</td></tr>\n",
       "<tr><td>187.797</td><td>12.454</td><td>12h31m11.18s</td><td>12d27m14.32s</td><td>0.29</td><td>0.26</td><td>177</td><td>12311117+1227143</td><td>16.479</td><td>0.13</td><td>0.131</td><td>9.2</td><td>15.63</td><td>0.138</td><td>0.138</td><td>8.1</td><td>15.704</td><td>0.228</td><td>0.228</td><td>5.2</td><td>BBD</td><td>222</td><td>111</td><td>000</td><td>060606</td><td>0</td><td>0</td><td>n</td><td>1999-12-07</td><td>152</td><td>284.025</td><td>74.577</td><td>U</td><td>0.8</td><td>309</td><td>18.2</td><td>16.8</td><td>1</td><td>--</td><td>390.862917</td><td>54.613765</td><td>0.849</td><td>-0.074</td><td>0.775</td><td>50</td></tr>\n",
       "<tr><td>...</td><td>...</td><td>...</td><td>...</td><td>...</td><td>...</td><td>...</td><td>...</td><td>...</td><td>...</td><td>...</td><td>...</td><td>...</td><td>...</td><td>...</td><td>...</td><td>...</td><td>...</td><td>...</td><td>...</td><td>...</td><td>...</td><td>...</td><td>...</td><td>...</td><td>...</td><td>...</td><td>...</td><td>...</td><td>...</td><td>...</td><td>...</td><td>...</td><td>...</td><td>...</td><td>...</td><td>...</td><td>...</td><td>...</td><td>...</td><td>...</td><td>...</td><td>...</td><td>...</td><td>...</td></tr>\n",
       "<tr><td>187.875</td><td>12.321</td><td>12h31m30.11s</td><td>12d19m16.39s</td><td>0.17</td><td>0.07</td><td>180</td><td>12313011+1219163</td><td>15.031</td><td>0.044</td><td>0.045</td><td>35.1</td><td>14.566</td><td>0.062</td><td>0.063</td><td>21.5</td><td>14.592</td><td>0.086</td><td>0.086</td><td>14.6</td><td>AAA</td><td>222</td><td>111</td><td>000</td><td>665616</td><td>0</td><td>0</td><td>n</td><td>1999-12-07</td><td>152</td><td>284.446</td><td>74.473</td><td>U</td><td>0.9</td><td>207</td><td>16.7</td><td>15.7</td><td>1</td><td>--</td><td>647.162855</td><td>112.864258</td><td>0.465</td><td>-0.026</td><td>0.439</td><td>143</td></tr>\n",
       "<tr><td>187.783</td><td>12.228</td><td>12h31m08.02s</td><td>12d13m39.80s</td><td>0.19</td><td>0.08</td><td>0</td><td>12310802+1213397</td><td>10.329</td><td>0.018</td><td>0.022</td><td>2665.8</td><td>9.858</td><td>0.025</td><td>0.026</td><td>1643.3</td><td>9.767</td><td>0.021</td><td>0.023</td><td>1243.4</td><td>AAA</td><td>222</td><td>111</td><td>000</td><td>666655</td><td>0</td><td>0</td><td>n</td><td>1999-12-07</td><td>152</td><td>284.227</td><td>74.357</td><td>U</td><td>0.5</td><td>185</td><td>12.7</td><td>11.7</td><td>1</td><td>--</td><td>648.328968</td><td>155.127403</td><td>0.471</td><td>0.091</td><td>0.562</td><td>144</td></tr>\n",
       "<tr><td>187.787</td><td>12.223</td><td>12h31m08.94s</td><td>12d13m22.42s</td><td>0.19</td><td>0.08</td><td>0</td><td>12310893+1213224</td><td>11.769</td><td>0.018</td><td>0.022</td><td>707.7</td><td>11.53</td><td>0.025</td><td>0.026</td><td>352.3</td><td>11.479</td><td>0.021</td><td>0.023</td><td>256.9</td><td>AAA</td><td>222</td><td>111</td><td>000</td><td>666666</td><td>0</td><td>0</td><td>n</td><td>1999-12-07</td><td>152</td><td>284.245</td><td>74.354</td><td>U</td><td>0.3</td><td>317</td><td>13.2</td><td>12.1</td><td>1</td><td>--</td><td>669.74594</td><td>154.712938</td><td>0.239</td><td>0.051</td><td>0.29</td><td>154</td></tr>\n",
       "<tr><td>187.842</td><td>12.523</td><td>12h31m22.17s</td><td>12d31m22.16s</td><td>0.13</td><td>0.07</td><td>0</td><td>12312216+1231221</td><td>13.457</td><td>0.024</td><td>0.027</td><td>149.5</td><td>13.211</td><td>0.03</td><td>0.031</td><td>74.9</td><td>13.185</td><td>0.032</td><td>0.033</td><td>53.4</td><td>AAA</td><td>222</td><td>111</td><td>000</td><td>666666</td><td>0</td><td>0</td><td>n</td><td>1999-12-07</td><td>152</td><td>284.109</td><td>74.656</td><td>U</td><td>0.2</td><td>123</td><td>15.0</td><td>13.5</td><td>1</td><td>--</td><td>674.395163</td><td>45.314277</td><td>0.246</td><td>0.026</td><td>0.272</td><td>157</td></tr>\n",
       "<tr><td>187.896</td><td>12.359</td><td>12h31m34.96s</td><td>12d21m33.47s</td><td>0.13</td><td>0.07</td><td>0</td><td>12313496+1221334</td><td>14.705</td><td>0.028</td><td>0.03</td><td>54.4</td><td>14.318</td><td>0.038</td><td>0.039</td><td>31.0</td><td>14.381</td><td>0.055</td><td>0.055</td><td>20.4</td><td>AAA</td><td>222</td><td>111</td><td>000</td><td>666606</td><td>0</td><td>0</td><td>n</td><td>1998-01-15</td><td>51</td><td>284.476</td><td>74.515</td><td>U</td><td>0.1</td><td>163</td><td>16.2</td><td>15.2</td><td>1</td><td>--</td><td>677.012765</td><td>99.722017</td><td>0.387</td><td>-0.063</td><td>0.324</td><td>159</td></tr>\n",
       "<tr><td>187.551</td><td>12.508</td><td>12h30m12.35s</td><td>12d30m30.19s</td><td>0.09</td><td>0.07</td><td>89</td><td>12301235+1230301</td><td>13.285</td><td>0.023</td><td>0.026</td><td>169.2</td><td>12.943</td><td>0.03</td><td>0.031</td><td>95.9</td><td>12.865</td><td>0.028</td><td>0.029</td><td>71.7</td><td>AAA</td><td>222</td><td>111</td><td>000</td><td>666666</td><td>0</td><td>0</td><td>n</td><td>1999-12-07</td><td>150</td><td>283.106</td><td>74.557</td><td>U</td><td>1.1</td><td>258</td><td>14.5</td><td>13.9</td><td>1</td><td>--</td><td>687.807526</td><td>307.879432</td><td>0.342</td><td>0.078</td><td>0.42</td><td>163</td></tr>\n",
       "<tr><td>187.530</td><td>12.484</td><td>12h30m07.31s</td><td>12d29m03.56s</td><td>0.1</td><td>0.08</td><td>89</td><td>12300730+1229035</td><td>15.302</td><td>0.053</td><td>0.055</td><td>26.4</td><td>14.897</td><td>0.071</td><td>0.072</td><td>15.8</td><td>14.742</td><td>0.095</td><td>0.095</td><td>12.7</td><td>AAA</td><td>222</td><td>111</td><td>000</td><td>661616</td><td>0</td><td>0</td><td>n</td><td>1999-12-07</td><td>150</td><td>283.06</td><td>74.528</td><td>U</td><td>0.8</td><td>197</td><td>17.0</td><td>16.1</td><td>1</td><td>--</td><td>702.260851</td><td>298.559812</td><td>0.405</td><td>0.155</td><td>0.56</td><td>170</td></tr>\n",
       "<tr><td>187.539</td><td>12.283</td><td>12h30m09.31s</td><td>12d16m58.86s</td><td>0.1</td><td>0.07</td><td>90</td><td>12300931+1216588</td><td>12.034</td><td>0.019</td><td>0.022</td><td>535.6</td><td>11.728</td><td>0.034</td><td>0.035</td><td>293.6</td><td>11.626</td><td>0.018</td><td>0.02</td><td>224.4</td><td>AAA</td><td>222</td><td>111</td><td>000</td><td>666666</td><td>0</td><td>0</td><td>n</td><td>1999-12-07</td><td>150</td><td>283.32</td><td>74.339</td><td>U</td><td>1.4</td><td>187</td><td>13.7</td><td>12.7</td><td>1</td><td>--</td><td>704.914506</td><td>236.50825</td><td>0.306</td><td>0.102</td><td>0.408</td><td>173</td></tr>\n",
       "<tr><td>187.828</td><td>12.547</td><td>12h31m18.77s</td><td>12d32m48.06s</td><td>0.13</td><td>0.07</td><td>0</td><td>12311876+1232480</td><td>14.199</td><td>0.027</td><td>0.03</td><td>75.5</td><td>13.931</td><td>0.04</td><td>0.04</td><td>38.6</td><td>13.75</td><td>0.031</td><td>0.032</td><td>31.7</td><td>AAA</td><td>222</td><td>111</td><td>000</td><td>666655</td><td>0</td><td>0</td><td>n</td><td>1999-12-07</td><td>152</td><td>284.033</td><td>74.675</td><td>U</td><td>0.2</td><td>296</td><td>15.5</td><td>14.4</td><td>1</td><td>--</td><td>705.937076</td><td>37.490447</td><td>0.268</td><td>0.181</td><td>0.449</td><td>174</td></tr>\n",
       "<tr><td>187.899</td><td>12.458</td><td>12h31m35.76s</td><td>12d27m27.13s</td><td>0.1</td><td>0.07</td><td>179</td><td>12313576+1227271</td><td>15.158</td><td>0.037</td><td>0.039</td><td>35.8</td><td>14.725</td><td>0.055</td><td>0.056</td><td>21.3</td><td>14.64</td><td>0.071</td><td>0.071</td><td>16.1</td><td>AAA</td><td>222</td><td>111</td><td>000</td><td>663616</td><td>0</td><td>0</td><td>n</td><td>1998-01-15</td><td>51</td><td>284.381</td><td>74.61</td><td>U</td><td>0.7</td><td>236</td><td>16.7</td><td>15.7</td><td>1</td><td>--</td><td>719.694238</td><td>70.575607</td><td>0.433</td><td>0.085</td><td>0.518</td><td>181</td></tr>\n",
       "</table>"
      ],
      "text/plain": [
       "<Table masked=True length=43>\n",
       "   ra     dec       clon         clat     ...   j_h     h_k     j_k     id  \n",
       "  deg     deg                             ...                               \n",
       "float64 float64    object       object    ... float64 float64 float64 object\n",
       "------- ------- ------------ ------------ ... ------- ------- ------- ------\n",
       "187.706  12.391 12h30m49.43s 12d23m27.88s ...   0.155   0.551   0.706      0\n",
       "187.683  12.426 12h30m43.90s 12d25m32.43s ...    0.66      --      --     14\n",
       "187.659  12.376 12h30m38.08s 12d22m34.95s ...   0.481  -0.042   0.439     19\n",
       "187.766  12.425 12h31m03.93s 12d25m28.24s ...    0.49   0.109   0.599     26\n",
       "187.675  12.319 12h30m42.01s 12d19m06.83s ...      --      --      --     29\n",
       "187.647  12.332 12h30m35.28s 12d19m55.82s ...   0.915   0.573   1.488     32\n",
       "187.741  12.472 12h30m57.74s 12d28m17.97s ...   0.608   0.112    0.72     35\n",
       "187.704  12.487 12h30m48.93s 12d29m12.13s ...   0.394   0.176    0.57     41\n",
       "187.797  12.454 12h31m11.18s 12d27m14.32s ...   0.849  -0.074   0.775     50\n",
       "    ...     ...          ...          ... ...     ...     ...     ...    ...\n",
       "187.875  12.321 12h31m30.11s 12d19m16.39s ...   0.465  -0.026   0.439    143\n",
       "187.783  12.228 12h31m08.02s 12d13m39.80s ...   0.471   0.091   0.562    144\n",
       "187.787  12.223 12h31m08.94s 12d13m22.42s ...   0.239   0.051    0.29    154\n",
       "187.842  12.523 12h31m22.17s 12d31m22.16s ...   0.246   0.026   0.272    157\n",
       "187.896  12.359 12h31m34.96s 12d21m33.47s ...   0.387  -0.063   0.324    159\n",
       "187.551  12.508 12h30m12.35s 12d30m30.19s ...   0.342   0.078    0.42    163\n",
       "187.530  12.484 12h30m07.31s 12d29m03.56s ...   0.405   0.155    0.56    170\n",
       "187.539  12.283 12h30m09.31s 12d16m58.86s ...   0.306   0.102   0.408    173\n",
       "187.828  12.547 12h31m18.77s 12d32m48.06s ...   0.268   0.181   0.449    174\n",
       "187.899  12.458 12h31m35.76s 12d27m27.13s ...   0.433   0.085   0.518    181"
      ]
     },
     "execution_count": 41,
     "metadata": {},
     "output_type": "execute_result"
    }
   ],
   "source": [
    "idx_2mass, idx, d2d, d3d = match_all_coord.search_around_sky(c_2mass, sep_min)\n",
    "match_2mass = data_2mass[idx_2mass]\n",
    "match_2mass"
   ]
  },
  {
   "cell_type": "code",
   "execution_count": 43,
   "metadata": {},
   "outputs": [
    {
     "data": {
      "text/html": [
       "<i>Table masked=True length=43</i>\n",
       "<table id=\"table140651895484880\" class=\"table-striped table-bordered table-condensed\">\n",
       "<thead><tr><th>designation</th><th>ra</th><th>dec</th><th>clon</th><th>clat</th><th>sigra</th><th>sigdec</th><th>sigradec</th><th>w1mpro</th><th>w1sigmpro</th><th>w1snr</th><th>w1rchi2</th><th>w2mpro</th><th>w2sigmpro</th><th>w2snr</th><th>w2rchi2</th><th>w3mpro</th><th>w3sigmpro</th><th>w3snr</th><th>w3rchi2</th><th>w4mpro</th><th>w4sigmpro</th><th>w4snr</th><th>w4rchi2</th><th>nb</th><th>na</th><th>w1sat</th><th>w2sat</th><th>w3sat</th><th>w4sat</th><th>pmra</th><th>sigpmra</th><th>pmdec</th><th>sigpmdec</th><th>cc_flags</th><th>ext_flg</th><th>var_flg</th><th>ph_qual</th><th>moon_lev</th><th>w1nm</th><th>w1m</th><th>w2nm</th><th>w2m</th><th>w3nm</th><th>w3m</th><th>w4nm</th><th>w4m</th><th>dist</th><th>angle</th><th>id</th></tr></thead>\n",
       "<thead><tr><th></th><th>deg</th><th>deg</th><th></th><th></th><th>arcs</th><th>arcs</th><th>arcs</th><th>mag</th><th>mag</th><th></th><th></th><th>mag</th><th>mag</th><th></th><th></th><th>mag</th><th>mag</th><th></th><th></th><th>mag</th><th>mag</th><th></th><th></th><th></th><th></th><th></th><th></th><th></th><th></th><th>maspyr</th><th>maspyr</th><th>maspyr</th><th>maspyr</th><th></th><th></th><th></th><th></th><th></th><th></th><th></th><th></th><th></th><th></th><th></th><th></th><th></th><th>arcs</th><th>deg</th><th></th></tr></thead>\n",
       "<thead><tr><th>object</th><th>float64</th><th>float64</th><th>object</th><th>object</th><th>float64</th><th>float64</th><th>float64</th><th>float64</th><th>float64</th><th>float64</th><th>float64</th><th>float64</th><th>float64</th><th>float64</th><th>float64</th><th>float64</th><th>float64</th><th>float64</th><th>float64</th><th>float64</th><th>float64</th><th>float64</th><th>float64</th><th>int32</th><th>int32</th><th>float64</th><th>float64</th><th>float64</th><th>float64</th><th>int32</th><th>int32</th><th>int32</th><th>int32</th><th>object</th><th>int32</th><th>object</th><th>object</th><th>object</th><th>int32</th><th>int32</th><th>int32</th><th>int32</th><th>int32</th><th>int32</th><th>int32</th><th>int32</th><th>float64</th><th>float64</th><th>object</th></tr></thead>\n",
       "<tr><td>J123049.43+122328.0</td><td>187.706</td><td>12.391</td><td>12h30m49.43s</td><td>12d23m28.04s</td><td>0.0284</td><td>0.0291</td><td>-0.0055</td><td>8.237</td><td>0.022</td><td>49.1</td><td>111.9</td><td>8.159</td><td>0.019</td><td>57.1</td><td>78.62</td><td>6.975</td><td>0.014</td><td>75.5</td><td>21.24</td><td>5.046</td><td>0.035</td><td>31.3</td><td>5.511</td><td>1</td><td>0</td><td>0.0</td><td>0.0</td><td>0.0</td><td>0.0</td><td>-308</td><td>33</td><td>-586</td><td>33</td><td>0000</td><td>5</td><td>n211</td><td>AAAA</td><td>1222</td><td>30</td><td>30</td><td>25</td><td>25</td><td>13</td><td>13</td><td>14</td><td>14</td><td>0.122982</td><td>84.287626</td><td>0</td></tr>\n",
       "<tr><td>J123043.89+122533.2</td><td>187.683</td><td>12.426</td><td>12h30m43.90s</td><td>12d25m33.22s</td><td>0.0697</td><td>0.0732</td><td>-0.0059</td><td>14.213</td><td>0.031</td><td>35.4</td><td>4.326</td><td>14.475</td><td>0.061</td><td>17.7</td><td>0.8815</td><td>10.791</td><td>0.099</td><td>10.9</td><td>0.9511</td><td>8.591</td><td>--</td><td>1.3</td><td>0.9951</td><td>1</td><td>0</td><td>0.0</td><td>0.0</td><td>0.0</td><td>0.0</td><td>173</td><td>176</td><td>85</td><td>188</td><td>0000</td><td>3</td><td>000n</td><td>AAAU</td><td>1222</td><td>30</td><td>30</td><td>21</td><td>25</td><td>9</td><td>13</td><td>0</td><td>14</td><td>149.088795</td><td>327.109751</td><td>209</td></tr>\n",
       "<tr><td>J123038.08+122234.8</td><td>187.659</td><td>12.376</td><td>12h30m38.08s</td><td>12d22m34.86s</td><td>0.0653</td><td>0.0665</td><td>-0.0104</td><td>13.844</td><td>0.029</td><td>37.4</td><td>1.431</td><td>14.108</td><td>0.054</td><td>20.2</td><td>0.8868</td><td>12.452</td><td>--</td><td>0.0</td><td>0.9366</td><td>8.844</td><td>--</td><td>0.4</td><td>0.9972</td><td>1</td><td>0</td><td>0.0</td><td>0.0</td><td>0.0</td><td>0.0</td><td>0</td><td>110</td><td>0</td><td>119</td><td>0000</td><td>2</td><td>00nn</td><td>AAUU</td><td>1222</td><td>29</td><td>29</td><td>24</td><td>24</td><td>0</td><td>13</td><td>1</td><td>14</td><td>174.436209</td><td>252.255996</td><td>295</td></tr>\n",
       "<tr><td>J123103.89+122528.1</td><td>187.766</td><td>12.424</td><td>12h31m03.90s</td><td>12d25m28.14s</td><td>0.0439</td><td>0.0431</td><td>-0.0101</td><td>12.464</td><td>0.024</td><td>46.2</td><td>1.078</td><td>12.556</td><td>0.026</td><td>42.4</td><td>0.9662</td><td>12.533</td><td>0.49</td><td>2.2</td><td>0.9208</td><td>8.613</td><td>--</td><td>1.2</td><td>0.9314</td><td>1</td><td>0</td><td>0.0</td><td>0.001</td><td>0.0</td><td>0.0</td><td>28</td><td>53</td><td>-2</td><td>55</td><td>0000</td><td>2</td><td>11nn</td><td>AACU</td><td>1244</td><td>32</td><td>32</td><td>26</td><td>26</td><td>0</td><td>13</td><td>1</td><td>14</td><td>243.693475</td><td>60.464001</td><td>626</td></tr>\n",
       "<tr><td>J123042.01+121907.2</td><td>187.675</td><td>12.319</td><td>12h30m42.02s</td><td>12d19m07.30s</td><td>0.3143</td><td>0.3446</td><td>0.0604</td><td>16.858</td><td>0.107</td><td>10.1</td><td>0.8859</td><td>16.461</td><td>--</td><td>1.9</td><td>0.8657</td><td>12.558</td><td>--</td><td>-0.9</td><td>0.8696</td><td>9.052</td><td>--</td><td>-1.5</td><td>1.071</td><td>1</td><td>0</td><td>0.0</td><td>0.0</td><td>0.0</td><td>0.0</td><td>-164</td><td>1236</td><td>555</td><td>1348</td><td>0000</td><td>2</td><td>nnnn</td><td>AUUU</td><td>1222</td><td>7</td><td>31</td><td>0</td><td>25</td><td>0</td><td>12</td><td>0</td><td>14</td><td>282.405271</td><td>202.594872</td><td>708</td></tr>\n",
       "<tr><td>J123035.26+121955.4</td><td>187.647</td><td>12.332</td><td>12h30m35.27s</td><td>12d19m55.46s</td><td>0.0719</td><td>0.0762</td><td>-0.0017</td><td>14.723</td><td>0.032</td><td>34.1</td><td>1.051</td><td>14.428</td><td>0.051</td><td>21.3</td><td>0.9648</td><td>11.61</td><td>0.214</td><td>5.1</td><td>1.109</td><td>8.931</td><td>--</td><td>0.3</td><td>0.8999</td><td>1</td><td>0</td><td>0.0</td><td>0.0</td><td>0.0</td><td>0.0</td><td>51</td><td>189</td><td>271</td><td>204</td><td>0000</td><td>0</td><td>11nn</td><td>AABU</td><td>1222</td><td>31</td><td>31</td><td>25</td><td>26</td><td>2</td><td>13</td><td>0</td><td>14</td><td>296.974558</td><td>224.29915</td><td>740</td></tr>\n",
       "<tr><td>J123057.68+122816.4</td><td>187.740</td><td>12.471</td><td>12h30m57.68s</td><td>12d28m16.42s</td><td>0.0351</td><td>0.0345</td><td>-0.0065</td><td>9.057</td><td>0.023</td><td>47.2</td><td>1.36</td><td>9.122</td><td>0.019</td><td>55.7</td><td>1.511</td><td>9.025</td><td>0.031</td><td>35.1</td><td>0.7606</td><td>8.208</td><td>--</td><td>1.7</td><td>0.9555</td><td>1</td><td>0</td><td>0.0</td><td>0.0</td><td>0.0</td><td>0.0</td><td>8</td><td>35</td><td>-193</td><td>35</td><td>HH00</td><td>0</td><td>nn1n</td><td>AAAU</td><td>1244</td><td>31</td><td>31</td><td>25</td><td>25</td><td>12</td><td>12</td><td>0</td><td>13</td><td>312.73542</td><td>22.752056</td><td>780</td></tr>\n",
       "<tr><td>J123048.91+122912.0</td><td>187.704</td><td>12.487</td><td>12h30m48.91s</td><td>12d29m12.03s</td><td>0.0342</td><td>0.032</td><td>-0.007</td><td>6.395</td><td>0.084</td><td>13.0</td><td>0.277</td><td>6.402</td><td>0.024</td><td>46.1</td><td>1.76</td><td>6.446</td><td>0.016</td><td>66.9</td><td>1.251</td><td>6.37</td><td>0.059</td><td>18.4</td><td>1.038</td><td>1</td><td>0</td><td>0.117</td><td>0.053</td><td>0.0</td><td>0.0</td><td>-232</td><td>37</td><td>99</td><td>35</td><td>0000</td><td>0</td><td>0000</td><td>AAAA</td><td>1222</td><td>31</td><td>31</td><td>25</td><td>25</td><td>13</td><td>13</td><td>14</td><td>14</td><td>344.079121</td><td>358.753293</td><td>851</td></tr>\n",
       "<tr><td>J123111.14+122713.4</td><td>187.796</td><td>12.454</td><td>12h31m11.14s</td><td>12d27m13.41s</td><td>0.1499</td><td>0.1611</td><td>0.0212</td><td>15.986</td><td>0.053</td><td>20.3</td><td>0.9576</td><td>16.068</td><td>0.209</td><td>5.2</td><td>1.003</td><td>12.308</td><td>--</td><td>0.9</td><td>0.9276</td><td>9.129</td><td>0.528</td><td>2.1</td><td>1.121</td><td>1</td><td>0</td><td>0.0</td><td>0.0</td><td>0.0</td><td>0.0</td><td>-656</td><td>517</td><td>632</td><td>560</td><td>0000</td><td>0</td><td>0nnn</td><td>ABUC</td><td>1244</td><td>25</td><td>31</td><td>1</td><td>24</td><td>0</td><td>14</td><td>0</td><td>14</td><td>389.900466</td><td>54.677417</td><td>966</td></tr>\n",
       "<tr><td>...</td><td>...</td><td>...</td><td>...</td><td>...</td><td>...</td><td>...</td><td>...</td><td>...</td><td>...</td><td>...</td><td>...</td><td>...</td><td>...</td><td>...</td><td>...</td><td>...</td><td>...</td><td>...</td><td>...</td><td>...</td><td>...</td><td>...</td><td>...</td><td>...</td><td>...</td><td>...</td><td>...</td><td>...</td><td>...</td><td>...</td><td>...</td><td>...</td><td>...</td><td>...</td><td>...</td><td>...</td><td>...</td><td>...</td><td>...</td><td>...</td><td>...</td><td>...</td><td>...</td><td>...</td><td>...</td><td>...</td><td>...</td><td>...</td><td>...</td></tr>\n",
       "<tr><td>J123130.11+121915.9</td><td>187.875</td><td>12.321</td><td>12h31m30.12s</td><td>12d19m15.93s</td><td>0.0677</td><td>0.071</td><td>-0.0058</td><td>14.588</td><td>0.03</td><td>36.3</td><td>0.9465</td><td>14.526</td><td>0.054</td><td>20.2</td><td>1.016</td><td>12.732</td><td>--</td><td>-1.1</td><td>1.028</td><td>9.074</td><td>--</td><td>-1.3</td><td>0.9188</td><td>1</td><td>0</td><td>0.0</td><td>0.0</td><td>0.0</td><td>0.0</td><td>-108</td><td>156</td><td>-22</td><td>172</td><td>0000</td><td>0</td><td>00nn</td><td>AAUU</td><td>1244</td><td>34</td><td>34</td><td>26</td><td>27</td><td>0</td><td>16</td><td>0</td><td>17</td><td>647.35333</td><td>112.901658</td><td>1886</td></tr>\n",
       "<tr><td>J123108.01+121339.4</td><td>187.783</td><td>12.228</td><td>12h31m08.02s</td><td>12d13m39.44s</td><td>0.0378</td><td>0.0372</td><td>-0.0085</td><td>9.669</td><td>0.023</td><td>46.4</td><td>1.784</td><td>9.693</td><td>0.021</td><td>50.9</td><td>1.451</td><td>9.582</td><td>0.048</td><td>22.7</td><td>0.8688</td><td>8.849</td><td>--</td><td>0.2</td><td>1.045</td><td>1</td><td>0</td><td>0.0</td><td>0.0</td><td>0.0</td><td>0.0</td><td>14</td><td>35</td><td>-23</td><td>35</td><td>0000</td><td>0</td><td>000n</td><td>AAAU</td><td>1244</td><td>36</td><td>36</td><td>29</td><td>29</td><td>13</td><td>13</td><td>0</td><td>14</td><td>648.61707</td><td>155.147069</td><td>1891</td></tr>\n",
       "<tr><td>J123108.93+121322.3</td><td>187.787</td><td>12.223</td><td>12h31m08.93s</td><td>12d13m22.33s</td><td>0.0397</td><td>0.0394</td><td>-0.009</td><td>11.43</td><td>0.023</td><td>46.3</td><td>1.636</td><td>11.456</td><td>0.022</td><td>48.7</td><td>1.249</td><td>11.357</td><td>0.201</td><td>5.4</td><td>0.8062</td><td>8.482</td><td>--</td><td>1.3</td><td>0.9839</td><td>1</td><td>0</td><td>0.0</td><td>0.0</td><td>0.0</td><td>0.0</td><td>25</td><td>41</td><td>-79</td><td>42</td><td>hh00</td><td>0</td><td>01nn</td><td>AABU</td><td>1244</td><td>35</td><td>35</td><td>28</td><td>28</td><td>0</td><td>13</td><td>0</td><td>14</td><td>669.791617</td><td>154.72277</td><td>1975</td></tr>\n",
       "<tr><td>J123122.17+123121.8</td><td>187.842</td><td>12.523</td><td>12h31m22.17s</td><td>12d31m21.88s</td><td>0.0466</td><td>0.0477</td><td>-0.012</td><td>13.176</td><td>0.023</td><td>46.4</td><td>0.972</td><td>13.219</td><td>0.03</td><td>36.2</td><td>0.9041</td><td>11.92</td><td>--</td><td>1.8</td><td>0.9597</td><td>9.141</td><td>--</td><td>-0.3</td><td>0.9073</td><td>1</td><td>0</td><td>0.0</td><td>0.0</td><td>0.0</td><td>0.0</td><td>42</td><td>69</td><td>36</td><td>76</td><td>0000</td><td>0</td><td>00nn</td><td>AAUU</td><td>1244</td><td>30</td><td>30</td><td>24</td><td>24</td><td>0</td><td>14</td><td>0</td><td>14</td><td>674.264371</td><td>45.336534</td><td>2000</td></tr>\n",
       "<tr><td>J123134.96+122133.4</td><td>187.896</td><td>12.359</td><td>12h31m34.96s</td><td>12d21m33.47s</td><td>0.0621</td><td>0.063</td><td>-0.0056</td><td>14.258</td><td>0.028</td><td>39.3</td><td>0.8895</td><td>14.359</td><td>0.052</td><td>20.7</td><td>0.9663</td><td>12.548</td><td>--</td><td>0.2</td><td>0.9027</td><td>8.634</td><td>--</td><td>1.0</td><td>0.9683</td><td>1</td><td>0</td><td>0.0</td><td>0.0</td><td>0.0</td><td>0.0</td><td>7</td><td>122</td><td>55</td><td>134</td><td>0000</td><td>0</td><td>00nn</td><td>AAUU</td><td>1244</td><td>34</td><td>34</td><td>24</td><td>26</td><td>0</td><td>15</td><td>1</td><td>16</td><td>676.997557</td><td>99.722084</td><td>2012</td></tr>\n",
       "<tr><td>J123012.34+123030.0</td><td>187.551</td><td>12.508</td><td>12h30m12.34s</td><td>12d30m30.07s</td><td>0.0461</td><td>0.0457</td><td>-0.0091</td><td>12.83</td><td>0.024</td><td>45.4</td><td>1.414</td><td>12.847</td><td>0.027</td><td>39.7</td><td>1.045</td><td>12.533</td><td>0.494</td><td>2.2</td><td>0.9125</td><td>8.954</td><td>--</td><td>0.2</td><td>1.157</td><td>1</td><td>0</td><td>0.0</td><td>0.0</td><td>0.0</td><td>0.0</td><td>-44</td><td>63</td><td>-70</td><td>67</td><td>0000</td><td>0</td><td>11nn</td><td>AACU</td><td>1222</td><td>27</td><td>27</td><td>24</td><td>24</td><td>0</td><td>12</td><td>0</td><td>12</td><td>687.840739</td><td>307.864524</td><td>2067</td></tr>\n",
       "<tr><td>J123007.29+122903.4</td><td>187.530</td><td>12.484</td><td>12h30m07.30s</td><td>12d29m03.47s</td><td>0.0767</td><td>0.0809</td><td>-0.0061</td><td>14.766</td><td>0.032</td><td>34.4</td><td>1.055</td><td>14.821</td><td>0.071</td><td>15.3</td><td>0.9554</td><td>12.357</td><td>--</td><td>0.6</td><td>0.9839</td><td>8.935</td><td>--</td><td>0.1</td><td>0.9351</td><td>1</td><td>0</td><td>0.0</td><td>0.0</td><td>0.0</td><td>0.0</td><td>80</td><td>197</td><td>76</td><td>216</td><td>0000</td><td>0</td><td>00nn</td><td>AAUU</td><td>1222</td><td>26</td><td>26</td><td>17</td><td>23</td><td>0</td><td>12</td><td>0</td><td>12</td><td>702.344308</td><td>298.547957</td><td>2128</td></tr>\n",
       "<tr><td>J123009.31+121658.8</td><td>187.539</td><td>12.283</td><td>12h30m09.31s</td><td>12d16m58.83s</td><td>0.0404</td><td>0.0391</td><td>-0.0079</td><td>11.59</td><td>0.024</td><td>45.7</td><td>1.184</td><td>11.634</td><td>0.022</td><td>49.9</td><td>1.146</td><td>11.715</td><td>0.224</td><td>4.9</td><td>1.018</td><td>8.718</td><td>--</td><td>0.7</td><td>1.104</td><td>1</td><td>0</td><td>0.0</td><td>0.0</td><td>0.0</td><td>0.0</td><td>-54</td><td>44</td><td>-12</td><td>44</td><td>0000</td><td>0</td><td>11nn</td><td>AABU</td><td>1222</td><td>31</td><td>31</td><td>26</td><td>26</td><td>0</td><td>14</td><td>0</td><td>15</td><td>704.973852</td><td>236.508216</td><td>2139</td></tr>\n",
       "<tr><td>J123118.77+123247.9</td><td>187.828</td><td>12.547</td><td>12h31m18.77s</td><td>12d32m47.93s</td><td>0.0532</td><td>0.0549</td><td>-0.013</td><td>13.769</td><td>0.025</td><td>43.2</td><td>1.091</td><td>13.811</td><td>0.037</td><td>29.2</td><td>1.024</td><td>12.292</td><td>--</td><td>0.6</td><td>1.01</td><td>8.484</td><td>--</td><td>1.1</td><td>1.104</td><td>1</td><td>0</td><td>0.0</td><td>0.0</td><td>0.0</td><td>0.0</td><td>-83</td><td>98</td><td>-110</td><td>106</td><td>0000</td><td>0</td><td>01nn</td><td>AAUU</td><td>1244</td><td>28</td><td>28</td><td>23</td><td>23</td><td>0</td><td>12</td><td>0</td><td>13</td><td>705.856972</td><td>37.499684</td><td>2143</td></tr>\n",
       "<tr><td>J123135.75+122727.0</td><td>187.899</td><td>12.458</td><td>12h31m35.76s</td><td>12d27m27.07s</td><td>0.0738</td><td>0.0763</td><td>-0.0121</td><td>14.744</td><td>0.03</td><td>35.7</td><td>1.08</td><td>14.816</td><td>0.072</td><td>15.0</td><td>0.9809</td><td>12.109</td><td>--</td><td>0.4</td><td>0.8347</td><td>8.851</td><td>--</td><td>-0.8</td><td>1.026</td><td>1</td><td>0</td><td>0.0</td><td>0.0</td><td>0.0</td><td>0.0</td><td>102</td><td>179</td><td>93</td><td>195</td><td>0000</td><td>0</td><td>01nn</td><td>AAUU</td><td>1244</td><td>31</td><td>32</td><td>18</td><td>26</td><td>0</td><td>13</td><td>0</td><td>13</td><td>719.586478</td><td>70.577815</td><td>2222</td></tr>\n",
       "</table>"
      ],
      "text/plain": [
       "<Table masked=True length=43>\n",
       "    designation        ra     dec   ...    dist      angle      id  \n",
       "                      deg     deg   ...    arcs       deg           \n",
       "       object       float64 float64 ...  float64    float64   object\n",
       "------------------- ------- ------- ... ---------- ---------- ------\n",
       "J123049.43+122328.0 187.706  12.391 ...   0.122982  84.287626      0\n",
       "J123043.89+122533.2 187.683  12.426 ... 149.088795 327.109751    209\n",
       "J123038.08+122234.8 187.659  12.376 ... 174.436209 252.255996    295\n",
       "J123103.89+122528.1 187.766  12.424 ... 243.693475  60.464001    626\n",
       "J123042.01+121907.2 187.675  12.319 ... 282.405271 202.594872    708\n",
       "J123035.26+121955.4 187.647  12.332 ... 296.974558  224.29915    740\n",
       "J123057.68+122816.4 187.740  12.471 ...  312.73542  22.752056    780\n",
       "J123048.91+122912.0 187.704  12.487 ... 344.079121 358.753293    851\n",
       "J123111.14+122713.4 187.796  12.454 ... 389.900466  54.677417    966\n",
       "                ...     ...     ... ...        ...        ...    ...\n",
       "J123130.11+121915.9 187.875  12.321 ...  647.35333 112.901658   1886\n",
       "J123108.01+121339.4 187.783  12.228 ...  648.61707 155.147069   1891\n",
       "J123108.93+121322.3 187.787  12.223 ... 669.791617  154.72277   1975\n",
       "J123122.17+123121.8 187.842  12.523 ... 674.264371  45.336534   2000\n",
       "J123134.96+122133.4 187.896  12.359 ... 676.997557  99.722084   2012\n",
       "J123012.34+123030.0 187.551  12.508 ... 687.840739 307.864524   2067\n",
       "J123007.29+122903.4 187.530  12.484 ... 702.344308 298.547957   2128\n",
       "J123009.31+121658.8 187.539  12.283 ... 704.973852 236.508216   2139\n",
       "J123118.77+123247.9 187.828  12.547 ... 705.856972  37.499684   2143\n",
       "J123135.75+122727.0 187.899  12.458 ... 719.586478  70.577815   2222"
      ]
     },
     "execution_count": 43,
     "metadata": {},
     "output_type": "execute_result"
    }
   ],
   "source": [
    "ra_2mass = match_2mass['ra']\n",
    "dec_2mass = match_2mass['dec']\n",
    "c_2mass = coordinates.SkyCoord(ra=ra_2mass, dec=dec_2mass, unit=(u.deg, u.deg), frame=\"icrs\")\n",
    "\n",
    "\n",
    "idx_wise, idx, d2d, d3d = c_2mass.search_around_sky(c_wise, sep_min)\n",
    "match_wise = data_wise[idx_wise]\n",
    "match_wise"
   ]
  },
  {
   "cell_type": "markdown",
   "metadata": {},
   "source": [
    "## Join table"
   ]
  },
  {
   "cell_type": "code",
   "execution_count": 44,
   "metadata": {},
   "outputs": [],
   "source": [
    "# joindata = Table([match_2mass['j_m'], \n",
    "#                   match_2mass['j_m']-match_2mass['h_m'], \n",
    "#                   match_2mass['j_m']-match_2mass['k_m'],\n",
    "#                   match_2mass['j_m']-match_wise['w1mpro'], \n",
    "#                   match_2mass['j_m']-match_wise['w2mpro'],\n",
    "#                   match_2mass['j_m']-match_wise['w3mpro'],\n",
    "#                   match_2mass['j_m']-match_wise['w4mpro'],\n",
    "#                   match_2mass['j_m']-match_galex['NUVmag']], \n",
    "#                   names=('J', 'J-H', 'J-K', 'J-W1', 'J-W2', 'J-W3', 'J-W4', 'J-NUV'))"
   ]
  },
  {
   "cell_type": "code",
   "execution_count": 45,
   "metadata": {},
   "outputs": [],
   "source": [
    "joindata = np.array([match_2mass['j_m'], \n",
    "                  match_2mass['j_m']-match_2mass['h_m'], \n",
    "                  match_2mass['j_m']-match_2mass['k_m'],\n",
    "                  match_2mass['j_m']-match_wise['w1mpro'], \n",
    "                  match_2mass['j_m']-match_wise['w2mpro'],\n",
    "                  match_2mass['j_m']-match_wise['w3mpro'],\n",
    "                  match_2mass['j_m']-match_wise['w4mpro'],\n",
    "                  match_2mass['j_m']-match_galex['NUVmag']])\n",
    "\n",
    "joindata = joindata.T"
   ]
  },
  {
   "cell_type": "code",
   "execution_count": 46,
   "metadata": {},
   "outputs": [],
   "source": [
    "# joindata = np.array([match_2mass['j_m'], match_2mass['h_m'], match_2mass['k_m'], \n",
    "#                      match_wise['w1mpro'], match_wise['w2mpro'], match_wise['w3mpro'], match_wise['w4mpro'],\n",
    "#                      match_galex['NUVmag']])\n",
    "\n",
    "# joindata = joindata.T"
   ]
  },
  {
   "cell_type": "code",
   "execution_count": 47,
   "metadata": {},
   "outputs": [
    {
     "data": {
      "text/plain": [
       "43"
      ]
     },
     "execution_count": 47,
     "metadata": {},
     "output_type": "execute_result"
    }
   ],
   "source": [
    "len(match_2mass['j_m'])"
   ]
  },
  {
   "cell_type": "code",
   "execution_count": 48,
   "metadata": {},
   "outputs": [
    {
     "data": {
      "text/plain": [
       "43"
      ]
     },
     "execution_count": 48,
     "metadata": {},
     "output_type": "execute_result"
    }
   ],
   "source": [
    "len(match_wise['w3mpro'])"
   ]
  },
  {
   "cell_type": "markdown",
   "metadata": {},
   "source": [
    "# Analysis"
   ]
  },
  {
   "cell_type": "markdown",
   "metadata": {},
   "source": [
    "### PCA"
   ]
  },
  {
   "cell_type": "code",
   "execution_count": 49,
   "metadata": {},
   "outputs": [],
   "source": [
    "from sklearn import datasets\n",
    "from sklearn.decomposition import PCA\n",
    "from sklearn.preprocessing import scale\n",
    "\n",
    "X = scale(joindata)\n",
    "\n",
    "pca = PCA(n_components=2)\n",
    "X_r = pca.fit(X).transform(X)"
   ]
  },
  {
   "cell_type": "code",
   "execution_count": 50,
   "metadata": {},
   "outputs": [
    {
     "data": {
      "image/png": "[encoded data removed]",
      "text/plain": [
       "<Figure size 432x288 with 1 Axes>"
      ]
     },
     "metadata": {},
     "output_type": "display_data"
    }
   ],
   "source": [
    "plt.scatter(X_r[:,0], X_r[:,1])\n",
    "for i, name in enumerate(match_wise['designation']):\n",
    "    for galaxyname in galaxy['designation']:\n",
    "        if name == galaxyname:\n",
    "            plt.scatter(X_r[i,0], X_r[i,1], color=\"red\")  "
   ]
  },
  {
   "cell_type": "markdown",
   "metadata": {},
   "source": [
    "### DBSCAN"
   ]
  },
  {
   "cell_type": "code",
   "execution_count": 51,
   "metadata": {},
   "outputs": [
    {
     "name": "stdout",
     "output_type": "stream",
     "text": [
      "Estimated number of clusters: 2\n",
      "[-1 -1  0  0  1 -1  0  0  1  0 -1  0  0  0  0  0 -1  0 -1  0  0  0  0  0\n",
      "  0 -1  1  0  0  0  0  0  0  0  0  0  0  0  0  0  0  0  0]\n"
     ]
    }
   ],
   "source": [
    "from sklearn.cluster import DBSCAN\n",
    "from sklearn.preprocessing import StandardScaler\n",
    "\n",
    "X = scale(joindata)\n",
    "\n",
    "db = DBSCAN(eps=2, min_samples=3).fit(X)\n",
    "\n",
    "core_samples_mask = np.zeros_like(db.labels_, dtype=bool)\n",
    "core_samples_mask[db.core_sample_indices_] = True\n",
    "labels = db.labels_\n",
    "\n",
    "# Number of clusters in labels, ignoring noise if present.\n",
    "n_clusters_ = len(set(labels)) - (1 if -1 in labels else 0)\n",
    "\n",
    "print('Estimated number of clusters: %d' % n_clusters_)\n",
    "print(labels)"
   ]
  },
  {
   "cell_type": "markdown",
   "metadata": {},
   "source": [
    "#### Plot J-W1 vs J"
   ]
  },
  {
   "cell_type": "code",
   "execution_count": 52,
   "metadata": {},
   "outputs": [
    {
     "data": {
      "image/png": "[encoded data removed]",
      "text/plain": [
       "<Figure size 432x288 with 1 Axes>"
      ]
     },
     "metadata": {},
     "output_type": "display_data"
    }
   ],
   "source": [
    "# Black removed and is used for noise instead.\n",
    "unique_labels = set(labels)\n",
    "colors = [plt.cm.Spectral(each) for each in np.linspace(0, 1, len(unique_labels))]\n",
    "for k, col in zip(unique_labels, colors):\n",
    "    if k == -1:\n",
    "        # Black used for noise.\n",
    "        col = [0, 0, 0, 1]\n",
    "\n",
    "    class_member_mask = (labels == k)\n",
    "\n",
    "    \n",
    "    ## J vs J-W1\n",
    "    \n",
    "    xy = X[class_member_mask & core_samples_mask]\n",
    "    plt.plot(xy[:, 3], xy[:, 0], 'o', markerfacecolor=tuple(col), markeredgecolor='k', markersize=14)\n",
    "\n",
    "    xy = X[class_member_mask & ~core_samples_mask]\n",
    "    plt.plot(xy[:, 3], xy[:, 0], 'o', markerfacecolor=tuple(col), markeredgecolor='k', markersize=8)\n",
    "    \n",
    "    for i, name in enumerate(match_wise['designation']):\n",
    "        for galaxyname in galaxy['designation']:\n",
    "            if name == galaxyname:\n",
    "                plt.plot(X[i,3], X[i,0], marker=\"X\", markerfacecolor='red', markeredgecolor='none', markersize=8)  \n",
    "\n",
    "plt.title('Estimated number of clusters: %d' % n_clusters_)\n",
    "plt.show()"
   ]
  },
  {
   "cell_type": "markdown",
   "metadata": {},
   "source": [
    "### t-SNE"
   ]
  },
  {
   "cell_type": "code",
   "execution_count": 53,
   "metadata": {},
   "outputs": [],
   "source": [
    "from sklearn.manifold import TSNE\n",
    "X = scale(joindata)\n",
    "X_r = TSNE(n_components=2).fit_transform(X)"
   ]
  },
  {
   "cell_type": "code",
   "execution_count": 54,
   "metadata": {},
   "outputs": [
    {
     "data": {
      "image/png": "[encoded data removed]",
      "text/plain": [
       "<Figure size 432x288 with 1 Axes>"
      ]
     },
     "metadata": {},
     "output_type": "display_data"
    }
   ],
   "source": [
    "plt.scatter(X_r[:,0], X_r[:,1])\n",
    "for i, name in enumerate(match_wise['designation']):\n",
    "    for galaxyname in galaxy['designation']:\n",
    "        if name == galaxyname:\n",
    "            plt.scatter(X_r[i,0], X_r[i,1], color=\"red\")  "
   ]
  },
  {
   "cell_type": "code",
   "execution_count": null,
   "metadata": {},
   "outputs": [],
   "source": []
  },
  {
   "cell_type": "code",
   "execution_count": null,
   "metadata": {},
   "outputs": [],
   "source": []
  },
  {
   "cell_type": "code",
   "execution_count": null,
   "metadata": {},
   "outputs": [],
   "source": []
  }
 ],
 "metadata": {
  "kernelspec": {
   "display_name": "Python 3",
   "language": "python",
   "name": "python3"
  },
  "language_info": {
   "codemirror_mode": {
    "name": "ipython",
    "version": 3
   },
   "file_extension": ".py",
   "mimetype": "text/x-python",
   "name": "python",
   "nbconvert_exporter": "python",
   "pygments_lexer": "ipython3",
   "version": "3.6.5"
  }
 },
 "nbformat": 4,
 "nbformat_minor": 2
}
