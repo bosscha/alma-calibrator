{
 "cells": [
  {
   "cell_type": "code",
   "execution_count": 1,
   "metadata": {},
   "outputs": [],
   "source": [
    "import sys\n",
    "sys.path.append('../../src/utils/')\n",
    "\n",
    "from galenv import *\n",
    "\n",
    "from astroquery.irsa import Irsa\n",
    "Irsa.ROW_LIMIT = 10000\n",
    "\n",
    "%matplotlib inline"
   ]
  },
  {
   "cell_type": "code",
   "execution_count": 2,
   "metadata": {},
   "outputs": [],
   "source": [
    "def plot_cone(coord, theta, res, xSize=7.5, ySize=7.5, title='', show=True, savefig=False, imgname=\"plot.png\"):\n",
    "        '''Only cone\n",
    "        coord = astropy coordinates\n",
    "        theta = Cone angle\n",
    "        res = result catalog\n",
    "        '''\n",
    "        ra = coord.ra.value\n",
    "        dec = coord.dec.value\n",
    "\n",
    "        fig = plt.figure(figsize=(xSize, ySize))        \n",
    "        gs = gridspec.GridSpec(1, 1)\n",
    "        \n",
    "        ax = plt.subplot(gs[0])\n",
    "        # ax.axis('equal')\n",
    "        limangle = 1.5*theta\n",
    "        ax.set_xlim((ra-limangle, ra+limangle))\n",
    "        ax.set_ylim((dec-limangle, dec+limangle))\n",
    "        \n",
    "        # Central position/object\n",
    "        ax.plot(ra, dec, 'ro', alpha=0.5)\n",
    "        \n",
    "        # Catalog object\n",
    "        ax.plot(res['ra'], res['dec'], 'k.')\n",
    "        \n",
    "        plt.gca().invert_xaxis() # RA from E to W\n",
    "        ax.set_xlabel('RA (deg)')\n",
    "        ax.set_ylabel('DEC (deg)')\n",
    "        plt.title(title)\n",
    "\n",
    "        # Circle\n",
    "        # it is wrong if I draw a circle around (ra, dec) with radius theta\n",
    "        # due to small circle in celestial sphere for DEC\n",
    "        circle = plt.Circle((ra, dec), theta, fc='none', ec='black')\n",
    "        ax.add_artist(circle)\n",
    "        \n",
    "        fig.tight_layout()\n",
    "\n",
    "        if savefig:\n",
    "            plt.savefig(imgname)\n",
    "\n",
    "        if show:\n",
    "            plt.show()\n",
    "\n",
    "        plt.close()\n",
    "        \n"
   ]
  },
  {
   "cell_type": "code",
   "execution_count": 3,
   "metadata": {},
   "outputs": [],
   "source": [
    "ga = Galenv()"
   ]
  },
  {
   "cell_type": "markdown",
   "metadata": {},
   "source": [
    "## Check using name"
   ]
  },
  {
   "cell_type": "code",
   "execution_count": 4,
   "metadata": {},
   "outputs": [],
   "source": [
    "# objlist = ['J0541-0211', 'J1733-3722', 'J1610-3958', 'J1743-0350', 'J2253+1608', \n",
    "#            'J1851+0035', 'J0541-0541', 'J0601-7036', 'J1130-1449', 'J1305-4928', \n",
    "#            'J0336+3218', 'J0006-0623', 'J1717-3342', 'J1833-210B', 'J0237+2848', \n",
    "#            'J0750+1231', 'J1751+0939', 'J0948+0022', 'J1107-4449', 'J1256-0547', \n",
    "#            'J1830+0619', 'J1225+1253',\n",
    "#            'J0747-3310', 'J1516+1932', 'J0438+3004', 'J2134-0153', 'J2226+0052', \n",
    "#            'J0426+2327', 'J1626-2951', 'J1058-8003']\n",
    "\n",
    "#objlist = ['J2253+1608']\n",
    "# typical size (diameter) of galaxy cluster => 2 - 10 Mpc\n",
    "#tangential_dist = 0.05 # Mpc \n",
    "\n",
    "# objlist = ['WISE J161021.87-395858.4', '[HB89] 1741-038', '3C 454.3', 'PKS 0539-057', 'PKS 0601-70', 'SSTSL2 J113006.83-144912.6',\n",
    "#           'NGC 4945', '[HB89] 0333+321 ABS01', 'PKS 0003-066', 'PKS 1830-21', '[HB89] 0234+285', '[HB89] 0748+126',\n",
    "#           '[HB89] 1749+096', 'WISE J094857.31+002225.6', '[HB89] 1104-445', '3C 279', 'WISE J183005.92+061915.7', \n",
    "#           'MESSIER 084', '[HB89] 1514+197', 'LQAC 069+030 001', '[HB89] 2131-021', '4C +00.81', 'LQAC 066+023 001',\n",
    "#           'PKS 1622-29', 'PKS 1057-79']\n",
    "\n",
    "# for obj in objlist:\n",
    "#     objname = 'PKS ' + obj\n",
    "\n",
    "def search_and_plot(objname, ra, dec, tangential_dist, cat='fp_psc'):\n",
    "    try:\n",
    "        print(objname)\n",
    "        z, v0, _ra, _dec = ga.queryobject_byname(objname)\n",
    "        print(\"NED (z, v, ra, dec): \", z, v0, _ra, _dec)\n",
    "\n",
    "        obj_coord = coordinates.SkyCoord(ra=ra, dec=dec, unit=(u.deg, u.deg))\n",
    "\n",
    "        dA, theta = ga.calc_dA_theta(z, tangential_dist)\n",
    "        print(\"From redshift & tangential_dist (dA, theta):\", dA, theta)\n",
    "        \n",
    "        result = Irsa.query_region(obj_coord, catalog=cat, spatial=\"Cone\", radius= theta * u.deg)\n",
    "        \n",
    "        plot_cone(obj_coord, theta, result, savefig=True, imgname=objname + '.png')\n",
    "        \n",
    "        return result\n",
    "        print(\"----\")\n",
    "        \n",
    "    except:\n",
    "        print(\"error! maybe can not identify from name\") \n",
    "        print(\"----\")"
   ]
  },
  {
   "cell_type": "code",
   "execution_count": 8,
   "metadata": {},
   "outputs": [
    {
     "name": "stdout",
     "output_type": "stream",
     "text": [
      "PKS J2253+1608\n",
      "NED (z, v, ra, dec):  0.859 257522.0 343.49062 16.14821\n",
      "From redshift & tangential_dist (dA, theta): 1629.9307676687627 0.07030455605796143\n"
     ]
    },
    {
     "data": {
      "image/png": "[encoded data removed]",
      "text/plain": [
       "<Figure size 540x540 with 1 Axes>"
      ]
     },
     "metadata": {},
     "output_type": "display_data"
    }
   ],
   "source": [
    "data = search_and_plot('PKS J2253+1608', 343.49061, 16.148211, 2, 'fp_psc')"
   ]
  },
  {
   "cell_type": "code",
   "execution_count": 7,
   "metadata": {},
   "outputs": [
    {
     "data": {
      "text/plain": [
       "936.0"
      ]
     },
     "execution_count": 7,
     "metadata": {},
     "output_type": "execute_result"
    }
   ],
   "source": [
    "0.26*3600"
   ]
  },
  {
   "cell_type": "code",
   "execution_count": 6,
   "metadata": {},
   "outputs": [
    {
     "data": {
      "text/html": [
       "<i>Table masked=True length=676</i>\n",
       "<table id=\"table140028490072640\" class=\"table-striped table-bordered table-condensed\">\n",
       "<thead><tr><th>ra</th><th>dec</th><th>clon</th><th>clat</th><th>err_maj</th><th>err_min</th><th>err_ang</th><th>designation</th><th>j_m</th><th>j_cmsig</th><th>j_msigcom</th><th>j_snr</th><th>h_m</th><th>h_cmsig</th><th>h_msigcom</th><th>h_snr</th><th>k_m</th><th>k_cmsig</th><th>k_msigcom</th><th>k_snr</th><th>ph_qual</th><th>rd_flg</th><th>bl_flg</th><th>cc_flg</th><th>ndet</th><th>gal_contam</th><th>mp_flg</th><th>hemis</th><th>xdate</th><th>scan</th><th>glon</th><th>glat</th><th>a</th><th>dist_opt</th><th>phi_opt</th><th>b_m_opt</th><th>vr_m_opt</th><th>nopt_mchs</th><th>ext_key</th><th>dist</th><th>angle</th><th>j_h</th><th>h_k</th><th>j_k</th><th>id</th></tr></thead>\n",
       "<thead><tr><th>deg</th><th>deg</th><th></th><th></th><th>arcs</th><th>arcs</th><th>deg</th><th></th><th>mag</th><th>mag</th><th>mag</th><th></th><th>mag</th><th>mag</th><th>mag</th><th></th><th>mag</th><th>mag</th><th>mag</th><th></th><th></th><th></th><th></th><th></th><th></th><th></th><th></th><th></th><th></th><th></th><th>deg</th><th>deg</th><th></th><th>arcs</th><th>deg</th><th>mag</th><th>mag</th><th></th><th></th><th>arcs</th><th>deg</th><th></th><th></th><th></th><th></th></tr></thead>\n",
       "<thead><tr><th>float64</th><th>float64</th><th>object</th><th>object</th><th>float64</th><th>float64</th><th>int32</th><th>object</th><th>float64</th><th>float64</th><th>float64</th><th>float64</th><th>float64</th><th>float64</th><th>float64</th><th>float64</th><th>float64</th><th>float64</th><th>float64</th><th>float64</th><th>object</th><th>object</th><th>object</th><th>object</th><th>object</th><th>int32</th><th>int32</th><th>object</th><th>object</th><th>int32</th><th>float64</th><th>float64</th><th>object</th><th>float64</th><th>int32</th><th>float64</th><th>float64</th><th>int32</th><th>int32</th><th>float64</th><th>float64</th><th>float64</th><th>float64</th><th>float64</th><th>object</th></tr></thead>\n",
       "<tr><td>343.491</td><td>16.148</td><td>22h53m57.75s</td><td>16d08m53.63s</td><td>0.07</td><td>0.06</td><td>90</td><td>22535774+1608536</td><td>14.494</td><td>0.027</td><td>0.03</td><td>61.6</td><td>13.855</td><td>0.029</td><td>0.03</td><td>52.7</td><td>13.061</td><td>0.026</td><td>0.027</td><td>55.9</td><td>AAA</td><td>222</td><td>111</td><td>000</td><td>665566</td><td>0</td><td>0</td><td>n</td><td>1998-10-01</td><td>73</td><td>86.111</td><td>-38.184</td><td>U</td><td>0.0</td><td>115</td><td>14.8</td><td>14.1</td><td>1</td><td>--</td><td>0.083101</td><td>29.956018</td><td>0.639</td><td>0.794</td><td>1.433</td><td>0</td></tr>\n",
       "<tr><td>343.492</td><td>16.152</td><td>22h53m58.16s</td><td>16d09m06.78s</td><td>0.07</td><td>0.06</td><td>90</td><td>22535816+1609067</td><td>11.844</td><td>0.017</td><td>0.021</td><td>707.7</td><td>11.339</td><td>0.021</td><td>0.023</td><td>535.0</td><td>11.239</td><td>0.019</td><td>0.021</td><td>299.1</td><td>AAA</td><td>222</td><td>111</td><td>000</td><td>666666</td><td>0</td><td>0</td><td>n</td><td>1998-10-01</td><td>73</td><td>86.115</td><td>-38.182</td><td>U</td><td>0.8</td><td>104</td><td>14.3</td><td>13.0</td><td>1</td><td>--</td><td>14.524088</td><td>24.472708</td><td>0.505</td><td>0.1</td><td>0.605</td><td>1</td></tr>\n",
       "<tr><td>343.490</td><td>16.152</td><td>22h53m57.56s</td><td>16d09m08.57s</td><td>0.27</td><td>0.25</td><td>106</td><td>22535755+1609085</td><td>16.164</td><td>0.094</td><td>0.095</td><td>13.2</td><td>16.003</td><td>0.177</td><td>0.177</td><td>7.3</td><td>15.724</td><td>0.237</td><td>0.238</td><td>4.8</td><td>ACD</td><td>222</td><td>111</td><td>ccc</td><td>060606</td><td>0</td><td>0</td><td>n</td><td>1998-10-01</td><td>73</td><td>86.113</td><td>-38.18</td><td>U</td><td>1.2</td><td>284</td><td>16.7</td><td>16.1</td><td>1</td><td>--</td><td>15.262256</td><td>349.610108</td><td>0.161</td><td>0.279</td><td>0.44</td><td>2</td></tr>\n",
       "<tr><td>343.493</td><td>16.141</td><td>22h53m58.37s</td><td>16d08m27.05s</td><td>0.07</td><td>0.06</td><td>90</td><td>22535836+1608270</td><td>14.8</td><td>0.035</td><td>0.037</td><td>46.5</td><td>14.103</td><td>0.038</td><td>0.039</td><td>42.0</td><td>13.838</td><td>0.04</td><td>0.041</td><td>27.3</td><td>AAA</td><td>222</td><td>111</td><td>000</td><td>666646</td><td>0</td><td>0</td><td>n</td><td>1998-10-01</td><td>73</td><td>86.108</td><td>-38.191</td><td>U</td><td>1.0</td><td>172</td><td>18.7</td><td>16.9</td><td>1</td><td>--</td><td>27.969178</td><td>161.413114</td><td>0.697</td><td>0.265</td><td>0.962</td><td>3</td></tr>\n",
       "<tr><td>343.497</td><td>16.142</td><td>22h53m59.33s</td><td>16d08m32.80s</td><td>0.08</td><td>0.06</td><td>90</td><td>22535933+1608328</td><td>15.616</td><td>0.066</td><td>0.067</td><td>21.9</td><td>15.064</td><td>0.078</td><td>0.078</td><td>17.3</td><td>14.725</td><td>0.092</td><td>0.092</td><td>12.1</td><td>AAA</td><td>222</td><td>111</td><td>000</td><td>562616</td><td>0</td><td>0</td><td>n</td><td>1998-10-01</td><td>73</td><td>86.114</td><td>-38.192</td><td>U</td><td>0.5</td><td>93</td><td>19.7</td><td>17.8</td><td>1</td><td>--</td><td>30.858459</td><td>132.263622</td><td>0.552</td><td>0.339</td><td>0.891</td><td>4</td></tr>\n",
       "<tr><td>343.499</td><td>16.143</td><td>22h53m59.74s</td><td>16d08m33.12s</td><td>0.28</td><td>0.26</td><td>133</td><td>22535974+1608331</td><td>16.162</td><td>0.09</td><td>0.091</td><td>13.3</td><td>15.66</td><td>0.12</td><td>0.12</td><td>10.0</td><td>15.675</td><td>0.226</td><td>0.227</td><td>5.0</td><td>ABD</td><td>222</td><td>111</td><td>000</td><td>061606</td><td>0</td><td>0</td><td>n</td><td>1998-10-01</td><td>73</td><td>86.116</td><td>-38.193</td><td>U</td><td>0.5</td><td>142</td><td>17.4</td><td>16.7</td><td>1</td><td>--</td><td>35.299853</td><td>125.369099</td><td>0.502</td><td>-0.015</td><td>0.487</td><td>5</td></tr>\n",
       "<tr><td>343.501</td><td>16.158</td><td>22h54m00.21s</td><td>16d09m29.41s</td><td>0.22</td><td>0.21</td><td>86</td><td>22540021+1609294</td><td>16.827</td><td>0.154</td><td>0.155</td><td>7.2</td><td>16.046</td><td>0.163</td><td>0.164</td><td>7.0</td><td>15.275</td><td>--</td><td>--</td><td>--</td><td>BCU</td><td>220</td><td>110</td><td>000</td><td>060600</td><td>0</td><td>0</td><td>n</td><td>1998-10-01</td><td>73</td><td>86.129</td><td>-38.181</td><td>0</td><td>--</td><td>--</td><td>--</td><td>--</td><td>0</td><td>--</td><td>50.450937</td><td>44.711647</td><td>0.781</td><td>--</td><td>--</td><td>6</td></tr>\n",
       "<tr><td>343.500</td><td>16.165</td><td>22h53m59.94s</td><td>16d09m54.03s</td><td>0.07</td><td>0.06</td><td>90</td><td>22535994+1609540</td><td>14.215</td><td>0.025</td><td>0.028</td><td>79.7</td><td>13.795</td><td>0.026</td><td>0.027</td><td>55.7</td><td>13.641</td><td>0.046</td><td>0.047</td><td>32.7</td><td>AAA</td><td>222</td><td>111</td><td>000</td><td>666666</td><td>0</td><td>0</td><td>n</td><td>1998-10-01</td><td>73</td><td>86.132</td><td>-38.175</td><td>U</td><td>0.7</td><td>77</td><td>16.4</td><td>15.4</td><td>1</td><td>--</td><td>68.238247</td><td>27.605575</td><td>0.42</td><td>0.154</td><td>0.574</td><td>7</td></tr>\n",
       "<tr><td>343.511</td><td>16.150</td><td>22h54m02.65s</td><td>16d08m58.85s</td><td>0.11</td><td>0.11</td><td>83</td><td>22540264+1608588</td><td>15.912</td><td>0.071</td><td>0.072</td><td>16.7</td><td>15.491</td><td>0.1</td><td>0.1</td><td>11.7</td><td>15.456</td><td>0.203</td><td>0.203</td><td>6.2</td><td>AAC</td><td>222</td><td>111</td><td>000</td><td>260606</td><td>0</td><td>0</td><td>n</td><td>1998-10-01</td><td>73</td><td>86.133</td><td>-38.193</td><td>U</td><td>0.1</td><td>190</td><td>17.4</td><td>16.7</td><td>1</td><td>--</td><td>70.830343</td><td>85.709464</td><td>0.421</td><td>0.035</td><td>0.456</td><td>8</td></tr>\n",
       "<tr><td>...</td><td>...</td><td>...</td><td>...</td><td>...</td><td>...</td><td>...</td><td>...</td><td>...</td><td>...</td><td>...</td><td>...</td><td>...</td><td>...</td><td>...</td><td>...</td><td>...</td><td>...</td><td>...</td><td>...</td><td>...</td><td>...</td><td>...</td><td>...</td><td>...</td><td>...</td><td>...</td><td>...</td><td>...</td><td>...</td><td>...</td><td>...</td><td>...</td><td>...</td><td>...</td><td>...</td><td>...</td><td>...</td><td>...</td><td>...</td><td>...</td><td>...</td><td>...</td><td>...</td><td>...</td></tr>\n",
       "<tr><td>343.260</td><td>16.007</td><td>22h53m02.49s</td><td>16d00m26.05s</td><td>0.09</td><td>0.08</td><td>178</td><td>22530248+1600260</td><td>15.696</td><td>0.06</td><td>0.062</td><td>21.1</td><td>15.285</td><td>0.094</td><td>0.095</td><td>12.3</td><td>15.503</td><td>0.164</td><td>0.165</td><td>6.3</td><td>AAC</td><td>222</td><td>111</td><td>000</td><td>361606</td><td>0</td><td>0</td><td>n</td><td>1999-11-01</td><td>49</td><td>85.777</td><td>-38.177</td><td>U</td><td>0.4</td><td>191</td><td>17.0</td><td>16.5</td><td>1</td><td>--</td><td>944.42937</td><td>237.527268</td><td>0.411</td><td>-0.218</td><td>0.193</td><td>666</td></tr>\n",
       "<tr><td>343.243</td><td>16.038</td><td>22h52m58.24s</td><td>16d02m17.80s</td><td>0.28</td><td>0.26</td><td>158</td><td>22525823+1602177</td><td>17.06</td><td>0.179</td><td>0.179</td><td>6.0</td><td>16.314</td><td>0.188</td><td>0.188</td><td>4.8</td><td>15.874</td><td>0.241</td><td>0.241</td><td>4.5</td><td>CDD</td><td>222</td><td>111</td><td>000</td><td>060606</td><td>0</td><td>0</td><td>n</td><td>1999-11-01</td><td>49</td><td>85.782</td><td>-38.142</td><td>U</td><td>0.9</td><td>85</td><td>18.8</td><td>18.2</td><td>1</td><td>--</td><td>944.544798</td><td>245.263305</td><td>0.746</td><td>0.44</td><td>1.186</td><td>667</td></tr>\n",
       "<tr><td>343.453</td><td>15.888</td><td>22h53m48.73s</td><td>15d53m17.60s</td><td>0.08</td><td>0.08</td><td>90</td><td>22534873+1553175</td><td>15.627</td><td>0.059</td><td>0.06</td><td>21.7</td><td>15.102</td><td>0.074</td><td>0.074</td><td>16.7</td><td>15.13</td><td>0.132</td><td>0.132</td><td>8.3</td><td>AAB</td><td>222</td><td>111</td><td>000</td><td>560406</td><td>0</td><td>0</td><td>n</td><td>1998-10-01</td><td>73</td><td>85.889</td><td>-38.38</td><td>U</td><td>0.6</td><td>96</td><td>17.7</td><td>16.5</td><td>1</td><td>--</td><td>944.936468</td><td>187.908775</td><td>0.525</td><td>-0.028</td><td>0.497</td><td>668</td></tr>\n",
       "<tr><td>343.751</td><td>16.070</td><td>22h55m00.35s</td><td>16d04m12.21s</td><td>0.08</td><td>0.06</td><td>0</td><td>22550035+1604122</td><td>15.298</td><td>0.044</td><td>0.045</td><td>29.4</td><td>14.627</td><td>0.056</td><td>0.057</td><td>26.8</td><td>14.424</td><td>0.081</td><td>0.082</td><td>15.9</td><td>AAA</td><td>222</td><td>111</td><td>000</td><td>665626</td><td>0</td><td>0</td><td>n</td><td>1998-10-01</td><td>75</td><td>86.322</td><td>-38.388</td><td>U</td><td>0.6</td><td>288</td><td>16.7</td><td>16.2</td><td>1</td><td>--</td><td>945.057736</td><td>107.283285</td><td>0.671</td><td>0.203</td><td>0.874</td><td>669</td></tr>\n",
       "<tr><td>343.238</td><td>16.248</td><td>22h52m57.10s</td><td>16d14m54.33s</td><td>0.09</td><td>0.08</td><td>0</td><td>22525710+1614543</td><td>15.579</td><td>0.06</td><td>0.061</td><td>23.5</td><td>15.073</td><td>0.094</td><td>0.095</td><td>15.0</td><td>15.237</td><td>0.14</td><td>0.14</td><td>8.1</td><td>AAB</td><td>222</td><td>111</td><td>000</td><td>562606</td><td>0</td><td>0</td><td>n</td><td>1999-11-01</td><td>49</td><td>85.926</td><td>-37.965</td><td>U</td><td>0.6</td><td>184</td><td>17.7</td><td>16.5</td><td>1</td><td>--</td><td>945.11161</td><td>292.475862</td><td>0.506</td><td>-0.164</td><td>0.342</td><td>670</td></tr>\n",
       "<tr><td>343.733</td><td>16.270</td><td>22h54m55.99s</td><td>16d16m11.10s</td><td>0.31</td><td>0.24</td><td>90</td><td>22545599+1616110</td><td>16.587</td><td>0.128</td><td>0.128</td><td>9.0</td><td>16.016</td><td>0.15</td><td>0.15</td><td>7.5</td><td>15.704</td><td>0.221</td><td>0.221</td><td>4.9</td><td>BBD</td><td>222</td><td>111</td><td>000</td><td>060506</td><td>0</td><td>0</td><td>n</td><td>1998-10-01</td><td>75</td><td>86.444</td><td>-38.211</td><td>U</td><td>0.2</td><td>165</td><td>18.4</td><td>17.4</td><td>1</td><td>--</td><td>946.220436</td><td>62.423538</td><td>0.571</td><td>0.312</td><td>0.883</td><td>671</td></tr>\n",
       "<tr><td>343.256</td><td>16.284</td><td>22h53m01.40s</td><td>16d17m01.77s</td><td>0.09</td><td>0.08</td><td>3</td><td>22530140+1617017</td><td>16.119</td><td>0.078</td><td>0.079</td><td>14.3</td><td>15.384</td><td>0.098</td><td>0.098</td><td>11.2</td><td>15.159</td><td>0.127</td><td>0.127</td><td>8.7</td><td>AAB</td><td>222</td><td>111</td><td>000</td><td>060605</td><td>0</td><td>0</td><td>n</td><td>1999-11-01</td><td>49</td><td>85.969</td><td>-37.946</td><td>U</td><td>0.4</td><td>225</td><td>18.9</td><td>18.0</td><td>1</td><td>--</td><td>947.056875</td><td>301.064048</td><td>0.735</td><td>0.225</td><td>0.96</td><td>672</td></tr>\n",
       "<tr><td>343.764</td><td>16.168</td><td>22h55m03.38s</td><td>16d10m03.29s</td><td>0.06</td><td>0.06</td><td>90</td><td>22550338+1610032</td><td>14.979</td><td>0.032</td><td>0.034</td><td>38.1</td><td>14.202</td><td>0.032</td><td>0.033</td><td>38.3</td><td>14.078</td><td>0.054</td><td>0.055</td><td>21.9</td><td>AAA</td><td>222</td><td>111</td><td>000</td><td>666646</td><td>0</td><td>0</td><td>n</td><td>1998-10-01</td><td>76</td><td>86.403</td><td>-38.313</td><td>U</td><td>0.5</td><td>143</td><td>18.1</td><td>16.5</td><td>1</td><td>--</td><td>948.194755</td><td>85.744511</td><td>0.777</td><td>0.124</td><td>0.901</td><td>673</td></tr>\n",
       "<tr><td>343.225</td><td>16.213</td><td>22h52m53.93s</td><td>16d12m47.46s</td><td>0.08</td><td>0.06</td><td>0</td><td>22525393+1612474</td><td>14.804</td><td>0.03</td><td>0.032</td><td>48.0</td><td>14.38</td><td>0.05</td><td>0.051</td><td>28.3</td><td>14.373</td><td>0.068</td><td>0.068</td><td>17.9</td><td>AAA</td><td>222</td><td>111</td><td>000</td><td>663636</td><td>0</td><td>0</td><td>n</td><td>1999-11-01</td><td>49</td><td>85.888</td><td>-37.988</td><td>U</td><td>0.7</td><td>164</td><td>16.8</td><td>15.7</td><td>1</td><td>--</td><td>948.556183</td><td>284.312508</td><td>0.424</td><td>0.007</td><td>0.431</td><td>674</td></tr>\n",
       "<tr><td>343.747</td><td>16.054</td><td>22h54m59.20s</td><td>16d03m13.68s</td><td>0.23</td><td>0.2</td><td>4</td><td>22545919+1603136</td><td>16.879</td><td>0.165</td><td>0.166</td><td>6.9</td><td>15.781</td><td>0.134</td><td>0.134</td><td>9.3</td><td>15.274</td><td>0.167</td><td>0.167</td><td>7.3</td><td>CBC</td><td>222</td><td>111</td><td>000</td><td>060615</td><td>0</td><td>0</td><td>n</td><td>1998-10-01</td><td>75</td><td>86.305</td><td>-38.399</td><td>U</td><td>0.2</td><td>185</td><td>19.1</td><td>18.0</td><td>1</td><td>--</td><td>948.615207</td><td>110.959223</td><td>1.098</td><td>0.507</td><td>1.605</td><td>675</td></tr>\n",
       "</table>"
      ],
      "text/plain": [
       "<Table masked=True length=676>\n",
       "   ra     dec       clon         clat     ...   j_h     h_k     j_k     id  \n",
       "  deg     deg                             ...                               \n",
       "float64 float64    object       object    ... float64 float64 float64 object\n",
       "------- ------- ------------ ------------ ... ------- ------- ------- ------\n",
       "343.491  16.148 22h53m57.75s 16d08m53.63s ...   0.639   0.794   1.433      0\n",
       "343.492  16.152 22h53m58.16s 16d09m06.78s ...   0.505     0.1   0.605      1\n",
       "343.490  16.152 22h53m57.56s 16d09m08.57s ...   0.161   0.279    0.44      2\n",
       "343.493  16.141 22h53m58.37s 16d08m27.05s ...   0.697   0.265   0.962      3\n",
       "343.497  16.142 22h53m59.33s 16d08m32.80s ...   0.552   0.339   0.891      4\n",
       "343.499  16.143 22h53m59.74s 16d08m33.12s ...   0.502  -0.015   0.487      5\n",
       "343.501  16.158 22h54m00.21s 16d09m29.41s ...   0.781      --      --      6\n",
       "343.500  16.165 22h53m59.94s 16d09m54.03s ...    0.42   0.154   0.574      7\n",
       "343.511  16.150 22h54m02.65s 16d08m58.85s ...   0.421   0.035   0.456      8\n",
       "    ...     ...          ...          ... ...     ...     ...     ...    ...\n",
       "343.260  16.007 22h53m02.49s 16d00m26.05s ...   0.411  -0.218   0.193    666\n",
       "343.243  16.038 22h52m58.24s 16d02m17.80s ...   0.746    0.44   1.186    667\n",
       "343.453  15.888 22h53m48.73s 15d53m17.60s ...   0.525  -0.028   0.497    668\n",
       "343.751  16.070 22h55m00.35s 16d04m12.21s ...   0.671   0.203   0.874    669\n",
       "343.238  16.248 22h52m57.10s 16d14m54.33s ...   0.506  -0.164   0.342    670\n",
       "343.733  16.270 22h54m55.99s 16d16m11.10s ...   0.571   0.312   0.883    671\n",
       "343.256  16.284 22h53m01.40s 16d17m01.77s ...   0.735   0.225    0.96    672\n",
       "343.764  16.168 22h55m03.38s 16d10m03.29s ...   0.777   0.124   0.901    673\n",
       "343.225  16.213 22h52m53.93s 16d12m47.46s ...   0.424   0.007   0.431    674\n",
       "343.747  16.054 22h54m59.20s 16d03m13.68s ...   1.098   0.507   1.605    675"
      ]
     },
     "execution_count": 6,
     "metadata": {},
     "output_type": "execute_result"
    }
   ],
   "source": [
    "data"
   ]
  },
  {
   "cell_type": "markdown",
   "metadata": {},
   "source": [
    "- 0.5 Mpc is too small?\n",
    "- "
   ]
  }
 ],
 "metadata": {
  "kernelspec": {
   "display_name": "Python 3",
   "language": "python",
   "name": "python3"
  },
  "language_info": {
   "codemirror_mode": {
    "name": "ipython",
    "version": 3
   },
   "file_extension": ".py",
   "mimetype": "text/x-python",
   "name": "python",
   "nbconvert_exporter": "python",
   "pygments_lexer": "ipython3",
   "version": "3.6.5"
  }
 },
 "nbformat": 4,
 "nbformat_minor": 2
}
