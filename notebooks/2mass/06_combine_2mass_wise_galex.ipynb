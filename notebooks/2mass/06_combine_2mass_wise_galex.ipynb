{
 "cells": [
  {
   "cell_type": "code",
   "execution_count": 1,
   "metadata": {},
   "outputs": [],
   "source": [
    "import numpy as np\n",
    "import pandas as pd\n",
    "\n",
    "from astropy import coordinates\n",
    "import astropy.units as u\n",
    "import astroquery\n",
    "from astroquery.irsa import Irsa\n",
    "from astroquery.vizier import Vizier\n",
    "\n",
    "Vizier.ROW_LIMIT = -1\n",
    "\n",
    "import matplotlib.pyplot as plt\n",
    "\n",
    "%matplotlib inline"
   ]
  },
  {
   "cell_type": "markdown",
   "metadata": {},
   "source": [
    "# Get the data"
   ]
  },
  {
   "cell_type": "code",
   "execution_count": 2,
   "metadata": {},
   "outputs": [],
   "source": [
    "obj = [\"3C 454.3\", 343.49062, 16.14821, 4./60.]\n",
    "# name, ra, dec, radius of cone\n",
    "obj_name = obj[0]\n",
    "obj_ra   = obj[1]\n",
    "obj_dec  = obj[2]\n",
    "cone_radius  = obj[3]"
   ]
  },
  {
   "cell_type": "code",
   "execution_count": 3,
   "metadata": {},
   "outputs": [],
   "source": [
    "obj_coord = coordinates.SkyCoord(ra=obj_ra, dec=obj_dec, unit=(u.deg, u.deg), frame=\"icrs\")"
   ]
  },
  {
   "cell_type": "code",
   "execution_count": 4,
   "metadata": {},
   "outputs": [],
   "source": [
    "data_2mass = Irsa.query_region(obj_coord, catalog=\"fp_psc\", radius=cone_radius * u.deg)\n",
    "data_wise  = Irsa.query_region(obj_coord, catalog=\"allwise_p3as_psd\", radius=cone_radius * u.deg)\n",
    "data_galex = Vizier.query_region(obj_coord, catalog='II/335', radius=cone_radius * u.deg)\n",
    "data_galex = data_galex[0]"
   ]
  },
  {
   "cell_type": "code",
   "execution_count": 9,
   "metadata": {},
   "outputs": [
    {
     "name": "stdout",
     "output_type": "stream",
     "text": [
      "Number of object in (2MASS, WISE, GALE):  44 218 41\n"
     ]
    }
   ],
   "source": [
    "num_2mass = len(data_2mass)\n",
    "num_wise  = len(data_wise)\n",
    "num_galex = len(data_galex)\n",
    "\n",
    "print(\"Number of object in (2MASS, WISE, GALEX): \", num_2mass, num_wise, num_galex)"
   ]
  },
  {
   "cell_type": "code",
   "execution_count": 10,
   "metadata": {},
   "outputs": [
    {
     "name": "stdout",
     "output_type": "stream",
     "text": [
      "Coordinate Match (2MASS-WISE, 2MASS-GALEX, WISE-GALEX) 41 15 18\n"
     ]
    }
   ],
   "source": [
    "num_match_2mass_wise  = 0\n",
    "num_match_2mass_galex = 0\n",
    "num_match_wise_galex  = 0\n",
    "sep_min = 2 # minimum separation in arcsec\n",
    "\n",
    "## match: from 2MASS to WISE and GALEX\n",
    "for i, idata in enumerate(data_2mass):\n",
    "    ra_2mass  = idata['ra']\n",
    "    dec_2mass = idata['dec']\n",
    "    c_2mass = coordinates.SkyCoord(ra=ra_2mass, dec=dec_2mass, unit=(u.deg, u.deg), frame=\"icrs\")\n",
    "    \n",
    "    #####\n",
    "    # check in WISE cat\n",
    "    match_wise = False\n",
    "    for j, jdata in enumerate(data_wise):\n",
    "        ra_wise  = jdata['ra']\n",
    "        dec_wise = jdata['dec']\n",
    "        c_wise = coordinates.SkyCoord(ra=ra_wise, dec=dec_wise, unit=(u.deg, u.deg), frame=\"icrs\")\n",
    "        \n",
    "        sep_2mass_wise = c_2mass.separation(c_wise)\n",
    "        \n",
    "        if (sep_2mass_wise <= sep_min * u.arcsec):\n",
    "            match_wise = True\n",
    "            break\n",
    "    \n",
    "    if match_wise:\n",
    "        num_match_2mass_wise  += 1\n",
    "    \n",
    "    #####\n",
    "    # check in GALEX cat\n",
    "    match_galex = False\n",
    "    for k, kdata in enumerate(data_galex):\n",
    "        ra_galex  = kdata['RAJ2000']\n",
    "        dec_galex = kdata['DEJ2000']\n",
    "        c_galex = coordinates.SkyCoord(ra=ra_galex, dec=dec_galex, unit=(u.deg, u.deg), frame=\"icrs\")\n",
    "        \n",
    "        sep_2mass_galex = c_2mass.separation(c_galex)\n",
    "        \n",
    "        if (sep_2mass_galex < sep_min * u.arcsec):\n",
    "            match_galex = True\n",
    "            break\n",
    "    \n",
    "    if match_galex:\n",
    "        num_match_2mass_galex += 1\n",
    "\n",
    "#####\n",
    "# check WISE in GALEX cat\n",
    "for j, jdata in enumerate(data_wise):\n",
    "    ra_wise  = jdata['ra']\n",
    "    dec_wise = jdata['dec']\n",
    "    c_wise = coordinates.SkyCoord(ra=ra_wise, dec=dec_wise, unit=(u.deg, u.deg), frame=\"icrs\")\n",
    "    \n",
    "    match_wise_galex = False\n",
    "    for k, kdata in enumerate(data_galex):\n",
    "        ra_galex  = kdata['RAJ2000']\n",
    "        dec_galex = kdata['DEJ2000']\n",
    "        c_galex = coordinates.SkyCoord(ra=ra_galex, dec=dec_galex, unit=(u.deg, u.deg), frame=\"icrs\")\n",
    "    \n",
    "        sep_wise_galex = c_wise.separation(c_galex)\n",
    "        \n",
    "        if (sep_wise_galex <= sep_min * u.arcsec):\n",
    "            match_wise_galex = True\n",
    "            break\n",
    "    \n",
    "    if match_wise_galex:\n",
    "        num_match_wise_galex  += 1\n",
    "\n",
    "\n",
    "print(\"Coordinate Match (2MASS-WISE, 2MASS-GALEX, WISE-GALEX): \", num_match_2mass_wise, num_match_2mass_galex, num_match_wise_galex)"
   ]
  },
  {
   "cell_type": "code",
   "execution_count": 11,
   "metadata": {},
   "outputs": [
    {
     "data": {
      "text/html": [
       "<i>Table masked=True length=44</i>\n",
       "<table id=\"table140166112554736\" class=\"table-striped table-bordered table-condensed\">\n",
       "<thead><tr><th>ra</th><th>dec</th><th>clon</th><th>clat</th><th>err_maj</th><th>err_min</th><th>err_ang</th><th>designation</th><th>j_m</th><th>j_cmsig</th><th>j_msigcom</th><th>j_snr</th><th>h_m</th><th>h_cmsig</th><th>h_msigcom</th><th>h_snr</th><th>k_m</th><th>k_cmsig</th><th>k_msigcom</th><th>k_snr</th><th>ph_qual</th><th>rd_flg</th><th>bl_flg</th><th>cc_flg</th><th>ndet</th><th>gal_contam</th><th>mp_flg</th><th>hemis</th><th>xdate</th><th>scan</th><th>glon</th><th>glat</th><th>a</th><th>dist_opt</th><th>phi_opt</th><th>b_m_opt</th><th>vr_m_opt</th><th>nopt_mchs</th><th>ext_key</th><th>dist</th><th>angle</th><th>j_h</th><th>h_k</th><th>j_k</th><th>id</th></tr></thead>\n",
       "<thead><tr><th>deg</th><th>deg</th><th></th><th></th><th>arcs</th><th>arcs</th><th>deg</th><th></th><th>mag</th><th>mag</th><th>mag</th><th></th><th>mag</th><th>mag</th><th>mag</th><th></th><th>mag</th><th>mag</th><th>mag</th><th></th><th></th><th></th><th></th><th></th><th></th><th></th><th></th><th></th><th></th><th></th><th>deg</th><th>deg</th><th></th><th>arcs</th><th>deg</th><th>mag</th><th>mag</th><th></th><th></th><th>arcs</th><th>deg</th><th></th><th></th><th></th><th></th></tr></thead>\n",
       "<thead><tr><th>float64</th><th>float64</th><th>object</th><th>object</th><th>float64</th><th>float64</th><th>int32</th><th>object</th><th>float64</th><th>float64</th><th>float64</th><th>float64</th><th>float64</th><th>float64</th><th>float64</th><th>float64</th><th>float64</th><th>float64</th><th>float64</th><th>float64</th><th>object</th><th>object</th><th>object</th><th>object</th><th>object</th><th>int32</th><th>int32</th><th>object</th><th>object</th><th>int32</th><th>float64</th><th>float64</th><th>object</th><th>float64</th><th>int32</th><th>float64</th><th>float64</th><th>int32</th><th>int32</th><th>float64</th><th>float64</th><th>float64</th><th>float64</th><th>float64</th><th>object</th></tr></thead>\n",
       "<tr><td>343.491</td><td>16.148</td><td>22h53m57.75s</td><td>16d08m53.63s</td><td>0.07</td><td>0.06</td><td>90</td><td>22535774+1608536</td><td>14.494</td><td>0.027</td><td>0.03</td><td>61.6</td><td>13.855</td><td>0.029</td><td>0.03</td><td>52.7</td><td>13.061</td><td>0.026</td><td>0.027</td><td>55.9</td><td>AAA</td><td>222</td><td>111</td><td>000</td><td>665566</td><td>0</td><td>0</td><td>n</td><td>1998-10-01</td><td>73</td><td>86.111</td><td>-38.184</td><td>U</td><td>0.0</td><td>115</td><td>14.8</td><td>14.1</td><td>1</td><td>--</td><td>0.072344</td><td>5.486687</td><td>0.639</td><td>0.794</td><td>1.433</td><td>0</td></tr>\n",
       "<tr><td>343.492</td><td>16.152</td><td>22h53m58.16s</td><td>16d09m06.78s</td><td>0.07</td><td>0.06</td><td>90</td><td>22535816+1609067</td><td>11.844</td><td>0.017</td><td>0.021</td><td>707.7</td><td>11.339</td><td>0.021</td><td>0.023</td><td>535.0</td><td>11.239</td><td>0.019</td><td>0.021</td><td>299.1</td><td>AAA</td><td>222</td><td>111</td><td>000</td><td>666666</td><td>0</td><td>0</td><td>n</td><td>1998-10-01</td><td>73</td><td>86.115</td><td>-38.182</td><td>U</td><td>0.8</td><td>104</td><td>14.3</td><td>13.0</td><td>1</td><td>--</td><td>14.509797</td><td>24.348431</td><td>0.505</td><td>0.1</td><td>0.605</td><td>1</td></tr>\n",
       "<tr><td>343.490</td><td>16.152</td><td>22h53m57.56s</td><td>16d09m08.57s</td><td>0.27</td><td>0.25</td><td>106</td><td>22535755+1609085</td><td>16.164</td><td>0.094</td><td>0.095</td><td>13.2</td><td>16.003</td><td>0.177</td><td>0.177</td><td>7.3</td><td>15.724</td><td>0.237</td><td>0.238</td><td>4.8</td><td>ACD</td><td>222</td><td>111</td><td>ccc</td><td>060606</td><td>0</td><td>0</td><td>n</td><td>1998-10-01</td><td>73</td><td>86.113</td><td>-38.18</td><td>U</td><td>1.2</td><td>284</td><td>16.7</td><td>16.1</td><td>1</td><td>--</td><td>15.26853</td><td>349.482477</td><td>0.161</td><td>0.279</td><td>0.44</td><td>2</td></tr>\n",
       "<tr><td>343.493</td><td>16.141</td><td>22h53m58.37s</td><td>16d08m27.05s</td><td>0.07</td><td>0.06</td><td>90</td><td>22535836+1608270</td><td>14.8</td><td>0.035</td><td>0.037</td><td>46.5</td><td>14.103</td><td>0.038</td><td>0.039</td><td>42.0</td><td>13.838</td><td>0.04</td><td>0.041</td><td>27.3</td><td>AAA</td><td>222</td><td>111</td><td>000</td><td>666646</td><td>0</td><td>0</td><td>n</td><td>1998-10-01</td><td>73</td><td>86.108</td><td>-38.191</td><td>U</td><td>1.0</td><td>172</td><td>18.7</td><td>16.9</td><td>1</td><td>--</td><td>27.958175</td><td>161.480286</td><td>0.697</td><td>0.265</td><td>0.962</td><td>3</td></tr>\n",
       "<tr><td>343.497</td><td>16.142</td><td>22h53m59.33s</td><td>16d08m32.80s</td><td>0.08</td><td>0.06</td><td>90</td><td>22535933+1608328</td><td>15.616</td><td>0.066</td><td>0.067</td><td>21.9</td><td>15.064</td><td>0.078</td><td>0.078</td><td>17.3</td><td>14.725</td><td>0.092</td><td>0.092</td><td>12.1</td><td>AAA</td><td>222</td><td>111</td><td>000</td><td>562616</td><td>0</td><td>0</td><td>n</td><td>1998-10-01</td><td>73</td><td>86.114</td><td>-38.192</td><td>U</td><td>0.5</td><td>93</td><td>19.7</td><td>17.8</td><td>1</td><td>--</td><td>30.832877</td><td>132.306841</td><td>0.552</td><td>0.339</td><td>0.891</td><td>4</td></tr>\n",
       "<tr><td>343.499</td><td>16.143</td><td>22h53m59.74s</td><td>16d08m33.12s</td><td>0.28</td><td>0.26</td><td>133</td><td>22535974+1608331</td><td>16.162</td><td>0.09</td><td>0.091</td><td>13.3</td><td>15.66</td><td>0.12</td><td>0.12</td><td>10.0</td><td>15.675</td><td>0.226</td><td>0.227</td><td>5.0</td><td>ABD</td><td>222</td><td>111</td><td>000</td><td>061606</td><td>0</td><td>0</td><td>n</td><td>1998-10-01</td><td>73</td><td>86.116</td><td>-38.193</td><td>U</td><td>0.5</td><td>142</td><td>17.4</td><td>16.7</td><td>1</td><td>--</td><td>35.271661</td><td>125.401616</td><td>0.502</td><td>-0.015</td><td>0.487</td><td>5</td></tr>\n",
       "<tr><td>343.501</td><td>16.158</td><td>22h54m00.21s</td><td>16d09m29.41s</td><td>0.22</td><td>0.21</td><td>86</td><td>22540021+1609294</td><td>16.827</td><td>0.154</td><td>0.155</td><td>7.2</td><td>16.046</td><td>0.163</td><td>0.164</td><td>7.0</td><td>15.275</td><td>--</td><td>--</td><td>--</td><td>BCU</td><td>220</td><td>110</td><td>000</td><td>060600</td><td>0</td><td>0</td><td>n</td><td>1998-10-01</td><td>73</td><td>86.129</td><td>-38.181</td><td>0</td><td>--</td><td>--</td><td>--</td><td>--</td><td>0</td><td>--</td><td>50.426614</td><td>44.683728</td><td>0.781</td><td>--</td><td>--</td><td>6</td></tr>\n",
       "<tr><td>343.500</td><td>16.165</td><td>22h53m59.94s</td><td>16d09m54.03s</td><td>0.07</td><td>0.06</td><td>90</td><td>22535994+1609540</td><td>14.215</td><td>0.025</td><td>0.028</td><td>79.7</td><td>13.795</td><td>0.026</td><td>0.027</td><td>55.7</td><td>13.641</td><td>0.046</td><td>0.047</td><td>32.7</td><td>AAA</td><td>222</td><td>111</td><td>000</td><td>666666</td><td>0</td><td>0</td><td>n</td><td>1998-10-01</td><td>73</td><td>86.132</td><td>-38.175</td><td>U</td><td>0.7</td><td>77</td><td>16.4</td><td>15.4</td><td>1</td><td>--</td><td>68.22223</td><td>27.579842</td><td>0.42</td><td>0.154</td><td>0.574</td><td>7</td></tr>\n",
       "<tr><td>343.511</td><td>16.150</td><td>22h54m02.65s</td><td>16d08m58.85s</td><td>0.11</td><td>0.11</td><td>83</td><td>22540264+1608588</td><td>15.912</td><td>0.071</td><td>0.072</td><td>16.7</td><td>15.491</td><td>0.1</td><td>0.1</td><td>11.7</td><td>15.456</td><td>0.203</td><td>0.203</td><td>6.2</td><td>AAC</td><td>222</td><td>111</td><td>000</td><td>260606</td><td>0</td><td>0</td><td>n</td><td>1998-10-01</td><td>73</td><td>86.133</td><td>-38.193</td><td>U</td><td>0.1</td><td>190</td><td>17.4</td><td>16.7</td><td>1</td><td>--</td><td>70.795861</td><td>85.707373</td><td>0.421</td><td>0.035</td><td>0.456</td><td>8</td></tr>\n",
       "<tr><td>...</td><td>...</td><td>...</td><td>...</td><td>...</td><td>...</td><td>...</td><td>...</td><td>...</td><td>...</td><td>...</td><td>...</td><td>...</td><td>...</td><td>...</td><td>...</td><td>...</td><td>...</td><td>...</td><td>...</td><td>...</td><td>...</td><td>...</td><td>...</td><td>...</td><td>...</td><td>...</td><td>...</td><td>...</td><td>...</td><td>...</td><td>...</td><td>...</td><td>...</td><td>...</td><td>...</td><td>...</td><td>...</td><td>...</td><td>...</td><td>...</td><td>...</td><td>...</td><td>...</td><td>...</td></tr>\n",
       "<tr><td>343.483</td><td>16.208</td><td>22h53m55.92s</td><td>16d12m29.28s</td><td>0.07</td><td>0.06</td><td>90</td><td>22535591+1612292</td><td>14.178</td><td>0.036</td><td>0.038</td><td>82.5</td><td>13.626</td><td>0.044</td><td>0.045</td><td>65.1</td><td>13.401</td><td>0.044</td><td>0.045</td><td>40.8</td><td>AAA</td><td>222</td><td>211</td><td>c00</td><td>665566</td><td>0</td><td>0</td><td>n</td><td>1998-10-01</td><td>73</td><td>86.146</td><td>-38.13</td><td>U</td><td>1.8</td><td>209</td><td>17.6</td><td>16.1</td><td>2</td><td>--</td><td>217.332541</td><td>353.031029</td><td>0.552</td><td>0.225</td><td>0.777</td><td>34</td></tr>\n",
       "<tr><td>343.552</td><td>16.164</td><td>22h54m12.43s</td><td>16d09m49.15s</td><td>0.1</td><td>0.08</td><td>178</td><td>22541243+1609491</td><td>15.964</td><td>0.077</td><td>0.078</td><td>15.9</td><td>15.448</td><td>0.086</td><td>0.087</td><td>12.6</td><td>15.294</td><td>0.166</td><td>0.166</td><td>7.1</td><td>AAC</td><td>222</td><td>111</td><td>000</td><td>260606</td><td>0</td><td>0</td><td>n</td><td>1998-10-01</td><td>74</td><td>86.184</td><td>-38.203</td><td>U</td><td>0.6</td><td>149</td><td>17.6</td><td>16.8</td><td>1</td><td>--</td><td>218.770799</td><td>75.268859</td><td>0.516</td><td>0.154</td><td>0.67</td><td>35</td></tr>\n",
       "<tr><td>343.533</td><td>16.103</td><td>22h54m08.02s</td><td>16d06m09.33s</td><td>0.08</td><td>0.06</td><td>0</td><td>22540801+1606093</td><td>13.71</td><td>0.023</td><td>0.026</td><td>126.9</td><td>13.242</td><td>0.025</td><td>0.026</td><td>96.0</td><td>13.118</td><td>0.031</td><td>0.032</td><td>53.0</td><td>AAA</td><td>222</td><td>111</td><td>000</td><td>666666</td><td>0</td><td>0</td><td>n</td><td>1998-10-01</td><td>74</td><td>86.122</td><td>-38.244</td><td>U</td><td>0.2</td><td>47</td><td>15.8</td><td>14.8</td><td>1</td><td>--</td><td>221.053726</td><td>137.97464</td><td>0.468</td><td>0.124</td><td>0.592</td><td>36</td></tr>\n",
       "<tr><td>343.449</td><td>16.195</td><td>22h53m47.84s</td><td>16d11m42.44s</td><td>0.13</td><td>0.12</td><td>76</td><td>22534783+1611424</td><td>16.134</td><td>0.093</td><td>0.094</td><td>13.6</td><td>15.482</td><td>0.087</td><td>0.088</td><td>11.8</td><td>15.345</td><td>0.154</td><td>0.154</td><td>6.8</td><td>AAC</td><td>222</td><td>111</td><td>000</td><td>260406</td><td>0</td><td>0</td><td>n</td><td>1998-10-01</td><td>73</td><td>86.102</td><td>-38.123</td><td>0</td><td>--</td><td>--</td><td>--</td><td>--</td><td>0</td><td>--</td><td>221.166183</td><td>319.788633</td><td>0.652</td><td>0.137</td><td>0.789</td><td>37</td></tr>\n",
       "<tr><td>343.439</td><td>16.111</td><td>22h53m45.33s</td><td>16d06m38.56s</td><td>0.22</td><td>0.21</td><td>106</td><td>22534533+1606385</td><td>16.139</td><td>0.09</td><td>0.091</td><td>13.6</td><td>15.692</td><td>0.117</td><td>0.118</td><td>9.7</td><td>15.562</td><td>0.207</td><td>0.207</td><td>5.6</td><td>ABC</td><td>222</td><td>111</td><td>000</td><td>261506</td><td>0</td><td>0</td><td>n</td><td>1998-10-01</td><td>73</td><td>86.032</td><td>-38.187</td><td>U</td><td>0.8</td><td>74</td><td>18.0</td><td>16.9</td><td>1</td><td>--</td><td>224.121656</td><td>232.968696</td><td>0.447</td><td>0.13</td><td>0.577</td><td>38</td></tr>\n",
       "<tr><td>343.546</td><td>16.115</td><td>22h54m11.04s</td><td>16d06m54.63s</td><td>0.08</td><td>0.06</td><td>0</td><td>22541103+1606546</td><td>10.416</td><td>0.018</td><td>0.022</td><td>2636.5</td><td>9.833</td><td>0.018</td><td>0.02</td><td>2216.7</td><td>9.556</td><td>0.016</td><td>0.018</td><td>1409.4</td><td>AAA</td><td>222</td><td>111</td><td>000</td><td>666666</td><td>0</td><td>0</td><td>n</td><td>1998-10-01</td><td>74</td><td>86.144</td><td>-38.241</td><td>0</td><td>--</td><td>--</td><td>--</td><td>--</td><td>0</td><td>--</td><td>225.435611</td><td>121.831606</td><td>0.583</td><td>0.277</td><td>0.86</td><td>39</td></tr>\n",
       "<tr><td>343.473</td><td>16.087</td><td>22h53m53.58s</td><td>16d05m13.96s</td><td>0.07</td><td>0.06</td><td>90</td><td>22535358+1605139</td><td>11.8</td><td>0.015</td><td>0.02</td><td>736.9</td><td>11.192</td><td>0.019</td><td>0.021</td><td>612.5</td><td>11.07</td><td>0.017</td><td>0.019</td><td>349.5</td><td>AAA</td><td>222</td><td>111</td><td>000</td><td>665566</td><td>0</td><td>0</td><td>n</td><td>1998-10-01</td><td>73</td><td>86.05</td><td>-38.225</td><td>U</td><td>0.1</td><td>162</td><td>14.8</td><td>13.5</td><td>1</td><td>--</td><td>227.661794</td><td>195.302481</td><td>0.608</td><td>0.122</td><td>0.73</td><td>40</td></tr>\n",
       "<tr><td>343.451</td><td>16.097</td><td>22h53m48.18s</td><td>16d05m49.53s</td><td>0.23</td><td>0.21</td><td>81</td><td>22534818+1605495</td><td>16.834</td><td>0.155</td><td>0.156</td><td>7.1</td><td>16.962</td><td>--</td><td>--</td><td>--</td><td>17.215</td><td>--</td><td>--</td><td>--</td><td>CUU</td><td>200</td><td>100</td><td>000</td><td>060000</td><td>0</td><td>0</td><td>n</td><td>1998-10-01</td><td>73</td><td>86.034</td><td>-38.205</td><td>0</td><td>--</td><td>--</td><td>--</td><td>--</td><td>0</td><td>--</td><td>229.945724</td><td>216.847096</td><td>--</td><td>--</td><td>--</td><td>41</td></tr>\n",
       "<tr><td>343.521</td><td>16.205</td><td>22h54m04.97s</td><td>16d12m18.74s</td><td>0.21</td><td>0.21</td><td>34</td><td>22540497+1612187</td><td>16.816</td><td>0.142</td><td>0.143</td><td>7.3</td><td>16.228</td><td>0.175</td><td>0.175</td><td>6.1</td><td>15.166</td><td>--</td><td>--</td><td>--</td><td>BCU</td><td>220</td><td>110</td><td>000</td><td>060500</td><td>0</td><td>0</td><td>n</td><td>1998-10-01</td><td>74</td><td>86.182</td><td>-38.152</td><td>0</td><td>--</td><td>--</td><td>--</td><td>--</td><td>0</td><td>--</td><td>230.070321</td><td>26.890604</td><td>0.588</td><td>--</td><td>--</td><td>42</td></tr>\n",
       "<tr><td>343.442</td><td>16.193</td><td>22h53m46.10s</td><td>16d11m33.14s</td><td>0.07</td><td>0.06</td><td>90</td><td>22534609+1611331</td><td>13.943</td><td>0.022</td><td>0.025</td><td>102.4</td><td>13.44</td><td>0.028</td><td>0.029</td><td>77.2</td><td>13.328</td><td>0.032</td><td>0.033</td><td>43.7</td><td>AAA</td><td>222</td><td>111</td><td>000</td><td>664466</td><td>0</td><td>0</td><td>n</td><td>1998-10-01</td><td>73</td><td>86.093</td><td>-38.121</td><td>U</td><td>0.6</td><td>57</td><td>16.3</td><td>15.3</td><td>1</td><td>--</td><td>231.615942</td><td>313.558106</td><td>0.503</td><td>0.112</td><td>0.615</td><td>43</td></tr>\n",
       "</table>"
      ],
      "text/plain": [
       "<Table masked=True length=44>\n",
       "   ra     dec       clon         clat     ...   j_h     h_k     j_k     id  \n",
       "  deg     deg                             ...                               \n",
       "float64 float64    object       object    ... float64 float64 float64 object\n",
       "------- ------- ------------ ------------ ... ------- ------- ------- ------\n",
       "343.491  16.148 22h53m57.75s 16d08m53.63s ...   0.639   0.794   1.433      0\n",
       "343.492  16.152 22h53m58.16s 16d09m06.78s ...   0.505     0.1   0.605      1\n",
       "343.490  16.152 22h53m57.56s 16d09m08.57s ...   0.161   0.279    0.44      2\n",
       "343.493  16.141 22h53m58.37s 16d08m27.05s ...   0.697   0.265   0.962      3\n",
       "343.497  16.142 22h53m59.33s 16d08m32.80s ...   0.552   0.339   0.891      4\n",
       "343.499  16.143 22h53m59.74s 16d08m33.12s ...   0.502  -0.015   0.487      5\n",
       "343.501  16.158 22h54m00.21s 16d09m29.41s ...   0.781      --      --      6\n",
       "343.500  16.165 22h53m59.94s 16d09m54.03s ...    0.42   0.154   0.574      7\n",
       "343.511  16.150 22h54m02.65s 16d08m58.85s ...   0.421   0.035   0.456      8\n",
       "    ...     ...          ...          ... ...     ...     ...     ...    ...\n",
       "343.483  16.208 22h53m55.92s 16d12m29.28s ...   0.552   0.225   0.777     34\n",
       "343.552  16.164 22h54m12.43s 16d09m49.15s ...   0.516   0.154    0.67     35\n",
       "343.533  16.103 22h54m08.02s 16d06m09.33s ...   0.468   0.124   0.592     36\n",
       "343.449  16.195 22h53m47.84s 16d11m42.44s ...   0.652   0.137   0.789     37\n",
       "343.439  16.111 22h53m45.33s 16d06m38.56s ...   0.447    0.13   0.577     38\n",
       "343.546  16.115 22h54m11.04s 16d06m54.63s ...   0.583   0.277    0.86     39\n",
       "343.473  16.087 22h53m53.58s 16d05m13.96s ...   0.608   0.122    0.73     40\n",
       "343.451  16.097 22h53m48.18s 16d05m49.53s ...      --      --      --     41\n",
       "343.521  16.205 22h54m04.97s 16d12m18.74s ...   0.588      --      --     42\n",
       "343.442  16.193 22h53m46.10s 16d11m33.14s ...   0.503   0.112   0.615     43"
      ]
     },
     "execution_count": 11,
     "metadata": {},
     "output_type": "execute_result"
    }
   ],
   "source": [
    "data_2mass"
   ]
  },
  {
   "cell_type": "code",
   "execution_count": null,
   "metadata": {},
   "outputs": [],
   "source": []
  }
 ],
 "metadata": {
  "kernelspec": {
   "display_name": "Python 3",
   "language": "python",
   "name": "python3"
  },
  "language_info": {
   "codemirror_mode": {
    "name": "ipython",
    "version": 3
   },
   "file_extension": ".py",
   "mimetype": "text/x-python",
   "name": "python",
   "nbconvert_exporter": "python",
   "pygments_lexer": "ipython3",
   "version": "3.6.5"
  }
 },
 "nbformat": 4,
 "nbformat_minor": 2
}
