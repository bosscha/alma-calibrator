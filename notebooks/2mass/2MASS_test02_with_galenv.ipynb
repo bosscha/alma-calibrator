{
 "cells": [
  {
   "cell_type": "code",
   "execution_count": 1,
   "metadata": {},
   "outputs": [],
   "source": [
    "import sys\n",
    "sys.path.append('../alma-calibrator/src/utils/')\n",
    "\n",
    "from galenv import *\n",
    "\n",
    "from astroquery.irsa import Irsa\n",
    "\n",
    "%matplotlib inline"
   ]
  },
  {
   "cell_type": "code",
   "execution_count": 2,
   "metadata": {},
   "outputs": [],
   "source": [
    "def plot_cone(coord, theta, res, xSize=7.5, ySize=7.5, title='', show=True, savefig=False, imgname=\"plot.png\"):\n",
    "        '''Only cone\n",
    "        coord = astropy coordinates\n",
    "        theta = Cone angle\n",
    "        res = result catalog\n",
    "        '''\n",
    "        ra = coord.ra.value\n",
    "        dec = coord.dec.value\n",
    "\n",
    "        fig = plt.figure(figsize=(xSize, ySize))        \n",
    "        gs = gridspec.GridSpec(1, 1)\n",
    "        \n",
    "        ax = plt.subplot(gs[0])\n",
    "        # ax.axis('equal')\n",
    "        limangle = 1.5*theta\n",
    "        ax.set_xlim((ra-limangle, ra+limangle))\n",
    "        ax.set_ylim((dec-limangle, dec+limangle))\n",
    "        \n",
    "        # Central position/object\n",
    "        ax.plot(ra, dec, 'ro', alpha=0.5)\n",
    "        \n",
    "        # Catalog object\n",
    "        ax.plot(res['ra'], res['dec'], 'k.')\n",
    "        \n",
    "        plt.gca().invert_xaxis() # RA from E to W\n",
    "        ax.set_xlabel('RA (deg)')\n",
    "        ax.set_ylabel('DEC (deg)')\n",
    "        plt.title(title)\n",
    "\n",
    "        # Circle\n",
    "        # it is wrong if I draw a circle around (ra, dec) with radius theta\n",
    "        # due to small circle in celestial sphere for DEC\n",
    "        circle = plt.Circle((ra, dec), theta, fc='none', ec='black')\n",
    "        ax.add_artist(circle)\n",
    "        \n",
    "        fig.tight_layout()\n",
    "\n",
    "        if savefig:\n",
    "            plt.savefig(imgname)\n",
    "\n",
    "        if show:\n",
    "            plt.show()\n",
    "\n",
    "        plt.close()"
   ]
  },
  {
   "cell_type": "code",
   "execution_count": 3,
   "metadata": {},
   "outputs": [],
   "source": [
    "ga = Galenv()"
   ]
  },
  {
   "cell_type": "code",
   "execution_count": 4,
   "metadata": {},
   "outputs": [],
   "source": [
    "objname = \"3C 279\"\n",
    "tangential_dist = 5.0 # Mpc"
   ]
  },
  {
   "cell_type": "code",
   "execution_count": 5,
   "metadata": {},
   "outputs": [
    {
     "name": "stdout",
     "output_type": "stream",
     "text": [
      "0.5362 160749.0 194.04653 -5.78931\n",
      "1344.817110605312 0.21302442934895835\n"
     ]
    }
   ],
   "source": [
    "z, v0, ra, dec = ga.queryobject_byname(objname)\n",
    "print(z, v0, ra, dec)\n",
    "\n",
    "dA, theta = ga.calc_dA_theta(z, tangential_dist)\n",
    "print(dA, theta)"
   ]
  },
  {
   "cell_type": "code",
   "execution_count": 6,
   "metadata": {},
   "outputs": [
    {
     "data": {
      "text/html": [
       "<i>Table masked=True length=2</i>\n",
       "<table id=\"table140552182245472\" class=\"table-striped table-bordered table-condensed\">\n",
       "<thead><tr><th>designation</th><th>ra</th><th>dec</th><th>clon</th><th>clat</th><th>sup_ra</th><th>sup_dec</th><th>glon</th><th>glat</th><th>density</th><th>r_k20fe</th><th>j_m_k20fe</th><th>j_msig_k20fe</th><th>j_flg_k20fe</th><th>h_m_k20fe</th><th>h_msig_k20fe</th><th>h_flg_k20fe</th><th>k_m_k20fe</th><th>k_msig_k20fe</th><th>k_flg_k20fe</th><th>k_ba</th><th>k_phi</th><th>sup_ba</th><th>sup_phi</th><th>r_ext</th><th>j_m_ext</th><th>h_m_ext</th><th>h_msig_ext</th><th>k_m_ext</th><th>k_msig_ext</th><th>cc_flg</th><th>dist</th><th>angle</th><th>id</th></tr></thead>\n",
       "<thead><tr><th></th><th>deg</th><th>deg</th><th></th><th></th><th>deg</th><th>deg</th><th>deg</th><th>deg</th><th></th><th>arcs</th><th>mag</th><th>mag</th><th></th><th>mag</th><th>mag</th><th></th><th>mag</th><th>mag</th><th></th><th></th><th>deg</th><th></th><th>deg</th><th>arcs</th><th>mag</th><th>mag</th><th>mag</th><th>mag</th><th>mag</th><th></th><th>arcs</th><th>deg</th><th></th></tr></thead>\n",
       "<thead><tr><th>object</th><th>float64</th><th>float64</th><th>object</th><th>object</th><th>float64</th><th>float64</th><th>float64</th><th>float64</th><th>float64</th><th>float64</th><th>float64</th><th>float64</th><th>int32</th><th>float64</th><th>float64</th><th>int32</th><th>float64</th><th>float64</th><th>int32</th><th>float64</th><th>int32</th><th>float64</th><th>int32</th><th>float64</th><th>float64</th><th>float64</th><th>float64</th><th>float64</th><th>float64</th><th>object</th><th>float64</th><th>float64</th><th>object</th></tr></thead>\n",
       "<tr><td>12555264-0549194</td><td>193.969</td><td>-5.822</td><td>12h55m52.65s</td><td>-05d49m19.46s</td><td>193.969269</td><td>-5.822131</td><td>304.961</td><td>57.032</td><td>2.75</td><td>5.5</td><td>14.712</td><td>0.064</td><td>0</td><td>14.028</td><td>0.078</td><td>0</td><td>13.778</td><td>0.121</td><td>0</td><td>0.6</td><td>35</td><td>1.0</td><td>90</td><td>10.48</td><td>14.365</td><td>13.641</td><td>0.097</td><td>13.614</td><td>0.191</td><td>0</td><td>300.498795</td><td>246.887235</td><td>0</td></tr>\n",
       "<tr><td>12563258-0545041</td><td>194.136</td><td>-5.751</td><td>12h56m32.59s</td><td>-05d45m04.10s</td><td>194.135757</td><td>-5.751063</td><td>305.27</td><td>57.097</td><td>2.68</td><td>5.2</td><td>15.265</td><td>0.119</td><td>0</td><td>14.636</td><td>0.161</td><td>0</td><td>13.881</td><td>0.16</td><td>0</td><td>1.0</td><td>90</td><td>1.0</td><td>90</td><td>10.3</td><td>15.108</td><td>14.38</td><td>0.235</td><td>13.654</td><td>0.241</td><td>0</td><td>347.931335</td><td>66.742259</td><td>1</td></tr>\n",
       "</table>"
      ],
      "text/plain": [
       "<Table masked=True length=2>\n",
       "  designation       ra     dec       clon     ...    dist      angle      id  \n",
       "                   deg     deg                ...    arcs       deg           \n",
       "     object      float64 float64    object    ...  float64    float64   object\n",
       "---------------- ------- ------- ------------ ... ---------- ---------- ------\n",
       "12555264-0549194 193.969  -5.822 12h55m52.65s ... 300.498795 246.887235      0\n",
       "12563258-0545041 194.136  -5.751 12h56m32.59s ... 347.931335  66.742259      1"
      ]
     },
     "execution_count": 6,
     "metadata": {},
     "output_type": "execute_result"
    }
   ],
   "source": [
    "result = Irsa.query_region(objname, catalog=\"fp_xsc\", spatial=\"Cone\", radius= theta * u.deg)\n",
    "\n",
    "result"
   ]
  },
  {
   "cell_type": "code",
   "execution_count": 7,
   "metadata": {},
   "outputs": [],
   "source": [
    "coord = coordinates.SkyCoord(ra=ra, dec=dec, unit=(u.deg, u.deg))"
   ]
  },
  {
   "cell_type": "code",
   "execution_count": 8,
   "metadata": {},
   "outputs": [
    {
     "data": {
      "image/png": "[encoded data removed]",
      "text/plain": [
       "<Figure size 540x540 with 1 Axes>"
      ]
     },
     "metadata": {},
     "output_type": "display_data"
    }
   ],
   "source": [
    "plot_cone(coord, theta, result)"
   ]
  },
  {
   "cell_type": "code",
   "execution_count": null,
   "metadata": {},
   "outputs": [],
   "source": []
  }
 ],
 "metadata": {
  "kernelspec": {
   "display_name": "Python 3",
   "language": "python",
   "name": "python3"
  },
  "language_info": {
   "codemirror_mode": {
    "name": "ipython",
    "version": 3
   },
   "file_extension": ".py",
   "mimetype": "text/x-python",
   "name": "python",
   "nbconvert_exporter": "python",
   "pygments_lexer": "ipython3",
   "version": "3.6.5"
  }
 },
 "nbformat": 4,
 "nbformat_minor": 2
}
