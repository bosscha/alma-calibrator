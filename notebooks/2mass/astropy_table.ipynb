{
 "cells": [
  {
   "cell_type": "code",
   "execution_count": 16,
   "metadata": {},
   "outputs": [],
   "source": [
    "from astropy.table import Table, Column, hstack\n",
    "import numpy as np"
   ]
  },
  {
   "cell_type": "markdown",
   "metadata": {},
   "source": [
    "### Table manipulation"
   ]
  },
  {
   "cell_type": "code",
   "execution_count": 28,
   "metadata": {},
   "outputs": [
    {
     "name": "stdout",
     "output_type": "stream",
     "text": [
      "[[ 0  1  2]\n",
      " [ 3  4  5]\n",
      " [ 6  7  8]\n",
      " [ 9 10 11]\n",
      " [12 13 14]]\n",
      " a   b   c \n",
      "--- --- ---\n",
      "  0   1   2\n",
      "  3   4   5\n",
      "  6   7   8\n",
      "  9  10  11\n",
      " 12  13  14\n",
      " aa\n",
      "---\n",
      "  0\n",
      "  1\n",
      "  2\n",
      "  3\n",
      "  4\n",
      " aa  a   b   c \n",
      "--- --- --- ---\n",
      "  0   0   1   2\n",
      "  1   3   4   5\n",
      "  2   6   7   8\n",
      "  3   9  10  11\n",
      "  4  12  13  14\n",
      " aa  a   b   c   bb\n",
      "--- --- --- --- ---\n",
      "  0   0   1   2   0\n",
      "  1   3   4   5   1\n",
      "  2   6   7   8   2\n",
      "  3   9  10  11   3\n",
      "  4  12  13  14   4\n",
      " e   f   g   h   i \n",
      "--- --- --- --- ---\n",
      "  0   1   2   3   4\n",
      "  5   6   7   8   9\n",
      " 10  11  12  13  14\n",
      " 15  16  17  18  19\n",
      " 20  21  22  23  24\n",
      " aa  a   b   c   bb  e   f   g   h   i \n",
      "--- --- --- --- --- --- --- --- --- ---\n",
      "  0   0   1   2   0   0   1   2   3   4\n",
      "  1   3   4   5   1   5   6   7   8   9\n",
      "  2   6   7   8   2  10  11  12  13  14\n",
      "  3   9  10  11   3  15  16  17  18  19\n",
      "  4  12  13  14   4  20  21  22  23  24\n",
      " e   f   g   h   i \n",
      "--- --- --- --- ---\n",
      "  0   1   2   3   4\n",
      "  5   6   7   8   9\n",
      " 10  11  12  13  14\n",
      " 15  16  17  18  19\n",
      " 20  21  22  23  24\n"
     ]
    }
   ],
   "source": [
    "arr = np.arange(15).reshape(5, 3)\n",
    "print(arr)\n",
    "t = Table(arr, names=('a', 'b', 'c'), meta={'keywords': {'key1': 'val1'}})\n",
    "print(t)\n",
    "\n",
    "\n",
    "aa = Column(np.arange(5), name='aa')\n",
    "print(aa)\n",
    "\n",
    "t.add_column(aa, index=0)  # Insert before the first table column\n",
    "print(t)\n",
    "bb = Column(np.arange(5))\n",
    "t.add_column(bb, name='bb')  # Append unnamed column to the table with 'bb' as name\n",
    "print(t)\n",
    "\n",
    "t2 = Table(np.arange(25).reshape(5, 5), names=('e', 'f', 'g', 'h', 'i'))\n",
    "print(t2)\n",
    "t.add_columns(t2.columns.values())\n",
    "print(t)\n",
    "print(t2)"
   ]
  },
  {
   "cell_type": "code",
   "execution_count": 2,
   "metadata": {},
   "outputs": [
    {
     "data": {
      "text/plain": [
       "[<Column name='e' dtype='int64' length=5>\n",
       "  0\n",
       "  5\n",
       " 10\n",
       " 15\n",
       " 20, <Column name='f' dtype='int64' length=5>\n",
       "  1\n",
       "  6\n",
       " 11\n",
       " 16\n",
       " 21]"
      ]
     },
     "execution_count": 2,
     "metadata": {},
     "output_type": "execute_result"
    }
   ],
   "source": [
    "t2.columns['e', 'f'].values()"
   ]
  },
  {
   "cell_type": "code",
   "execution_count": 3,
   "metadata": {},
   "outputs": [
    {
     "data": {
      "text/html": [
       "<i>Table length=5</i>\n",
       "<table id=\"table140697230901488\" class=\"table-striped table-bordered table-condensed\">\n",
       "<thead><tr><th>a</th><th>b</th><th>c</th></tr></thead>\n",
       "<thead><tr><th>int64</th><th>int64</th><th>int64</th></tr></thead>\n",
       "<tr><td>0</td><td>1</td><td>2</td></tr>\n",
       "<tr><td>3</td><td>4</td><td>5</td></tr>\n",
       "<tr><td>6</td><td>7</td><td>8</td></tr>\n",
       "<tr><td>9</td><td>10</td><td>11</td></tr>\n",
       "<tr><td>12</td><td>13</td><td>14</td></tr>\n",
       "</table>"
      ],
      "text/plain": [
       "<Table length=5>\n",
       "  a     b     c  \n",
       "int64 int64 int64\n",
       "----- ----- -----\n",
       "    0     1     2\n",
       "    3     4     5\n",
       "    6     7     8\n",
       "    9    10    11\n",
       "   12    13    14"
      ]
     },
     "execution_count": 3,
     "metadata": {},
     "output_type": "execute_result"
    }
   ],
   "source": [
    "x = t['a', 'b', 'c']\n",
    "x"
   ]
  },
  {
   "cell_type": "code",
   "execution_count": 4,
   "metadata": {},
   "outputs": [
    {
     "data": {
      "text/html": [
       "<i>Table length=5</i>\n",
       "<table id=\"table140697230903224\" class=\"table-striped table-bordered table-condensed\">\n",
       "<thead><tr><th>aa</th><th>a</th><th>b</th><th>c</th><th>bb</th><th>e</th><th>f</th><th>g</th><th>h</th><th>i</th></tr></thead>\n",
       "<thead><tr><th>int64</th><th>int64</th><th>int64</th><th>int64</th><th>int64</th><th>int64</th><th>int64</th><th>int64</th><th>int64</th><th>int64</th></tr></thead>\n",
       "<tr><td>0</td><td>0</td><td>1</td><td>2</td><td>0</td><td>0</td><td>1</td><td>2</td><td>3</td><td>4</td></tr>\n",
       "<tr><td>1</td><td>3</td><td>4</td><td>5</td><td>1</td><td>5</td><td>6</td><td>7</td><td>8</td><td>9</td></tr>\n",
       "<tr><td>2</td><td>6</td><td>7</td><td>8</td><td>2</td><td>10</td><td>11</td><td>12</td><td>13</td><td>14</td></tr>\n",
       "<tr><td>3</td><td>9</td><td>10</td><td>11</td><td>3</td><td>15</td><td>16</td><td>17</td><td>18</td><td>19</td></tr>\n",
       "<tr><td>4</td><td>12</td><td>13</td><td>14</td><td>4</td><td>20</td><td>21</td><td>22</td><td>23</td><td>24</td></tr>\n",
       "</table>"
      ],
      "text/plain": [
       "<Table length=5>\n",
       "  aa    a     b     c     bb    e     f     g     h     i  \n",
       "int64 int64 int64 int64 int64 int64 int64 int64 int64 int64\n",
       "----- ----- ----- ----- ----- ----- ----- ----- ----- -----\n",
       "    0     0     1     2     0     0     1     2     3     4\n",
       "    1     3     4     5     1     5     6     7     8     9\n",
       "    2     6     7     8     2    10    11    12    13    14\n",
       "    3     9    10    11     3    15    16    17    18    19\n",
       "    4    12    13    14     4    20    21    22    23    24"
      ]
     },
     "execution_count": 4,
     "metadata": {},
     "output_type": "execute_result"
    }
   ],
   "source": [
    "t"
   ]
  },
  {
   "cell_type": "code",
   "execution_count": 5,
   "metadata": {},
   "outputs": [],
   "source": [
    "y = t.remove_column('a')\n",
    "y"
   ]
  },
  {
   "cell_type": "code",
   "execution_count": 6,
   "metadata": {},
   "outputs": [
    {
     "data": {
      "text/html": [
       "<i>Table length=5</i>\n",
       "<table id=\"table140697230903224\" class=\"table-striped table-bordered table-condensed\">\n",
       "<thead><tr><th>aa</th><th>b</th><th>c</th><th>bb</th><th>e</th><th>f</th><th>g</th><th>h</th><th>i</th></tr></thead>\n",
       "<thead><tr><th>int64</th><th>int64</th><th>int64</th><th>int64</th><th>int64</th><th>int64</th><th>int64</th><th>int64</th><th>int64</th></tr></thead>\n",
       "<tr><td>0</td><td>1</td><td>2</td><td>0</td><td>0</td><td>1</td><td>2</td><td>3</td><td>4</td></tr>\n",
       "<tr><td>1</td><td>4</td><td>5</td><td>1</td><td>5</td><td>6</td><td>7</td><td>8</td><td>9</td></tr>\n",
       "<tr><td>2</td><td>7</td><td>8</td><td>2</td><td>10</td><td>11</td><td>12</td><td>13</td><td>14</td></tr>\n",
       "<tr><td>3</td><td>10</td><td>11</td><td>3</td><td>15</td><td>16</td><td>17</td><td>18</td><td>19</td></tr>\n",
       "<tr><td>4</td><td>13</td><td>14</td><td>4</td><td>20</td><td>21</td><td>22</td><td>23</td><td>24</td></tr>\n",
       "</table>"
      ],
      "text/plain": [
       "<Table length=5>\n",
       "  aa    b     c     bb    e     f     g     h     i  \n",
       "int64 int64 int64 int64 int64 int64 int64 int64 int64\n",
       "----- ----- ----- ----- ----- ----- ----- ----- -----\n",
       "    0     1     2     0     0     1     2     3     4\n",
       "    1     4     5     1     5     6     7     8     9\n",
       "    2     7     8     2    10    11    12    13    14\n",
       "    3    10    11     3    15    16    17    18    19\n",
       "    4    13    14     4    20    21    22    23    24"
      ]
     },
     "execution_count": 6,
     "metadata": {},
     "output_type": "execute_result"
    }
   ],
   "source": [
    "t"
   ]
  },
  {
   "cell_type": "code",
   "execution_count": 7,
   "metadata": {},
   "outputs": [],
   "source": [
    "x = t"
   ]
  },
  {
   "cell_type": "code",
   "execution_count": 8,
   "metadata": {},
   "outputs": [
    {
     "data": {
      "text/html": [
       "<i>Table length=5</i>\n",
       "<table id=\"table140697230903224\" class=\"table-striped table-bordered table-condensed\">\n",
       "<thead><tr><th>aa</th><th>b</th><th>c</th><th>bb</th><th>e</th><th>f</th><th>g</th><th>h</th><th>i</th></tr></thead>\n",
       "<thead><tr><th>int64</th><th>int64</th><th>int64</th><th>int64</th><th>int64</th><th>int64</th><th>int64</th><th>int64</th><th>int64</th></tr></thead>\n",
       "<tr><td>0</td><td>1</td><td>2</td><td>0</td><td>0</td><td>1</td><td>2</td><td>3</td><td>4</td></tr>\n",
       "<tr><td>1</td><td>4</td><td>5</td><td>1</td><td>5</td><td>6</td><td>7</td><td>8</td><td>9</td></tr>\n",
       "<tr><td>2</td><td>7</td><td>8</td><td>2</td><td>10</td><td>11</td><td>12</td><td>13</td><td>14</td></tr>\n",
       "<tr><td>3</td><td>10</td><td>11</td><td>3</td><td>15</td><td>16</td><td>17</td><td>18</td><td>19</td></tr>\n",
       "<tr><td>4</td><td>13</td><td>14</td><td>4</td><td>20</td><td>21</td><td>22</td><td>23</td><td>24</td></tr>\n",
       "</table>"
      ],
      "text/plain": [
       "<Table length=5>\n",
       "  aa    b     c     bb    e     f     g     h     i  \n",
       "int64 int64 int64 int64 int64 int64 int64 int64 int64\n",
       "----- ----- ----- ----- ----- ----- ----- ----- -----\n",
       "    0     1     2     0     0     1     2     3     4\n",
       "    1     4     5     1     5     6     7     8     9\n",
       "    2     7     8     2    10    11    12    13    14\n",
       "    3    10    11     3    15    16    17    18    19\n",
       "    4    13    14     4    20    21    22    23    24"
      ]
     },
     "execution_count": 8,
     "metadata": {},
     "output_type": "execute_result"
    }
   ],
   "source": [
    "x"
   ]
  },
  {
   "cell_type": "code",
   "execution_count": 9,
   "metadata": {},
   "outputs": [],
   "source": [
    "t.remove_column('f')"
   ]
  },
  {
   "cell_type": "code",
   "execution_count": 10,
   "metadata": {},
   "outputs": [
    {
     "data": {
      "text/html": [
       "<i>Table length=5</i>\n",
       "<table id=\"table140697230903224\" class=\"table-striped table-bordered table-condensed\">\n",
       "<thead><tr><th>aa</th><th>b</th><th>c</th><th>bb</th><th>e</th><th>g</th><th>h</th><th>i</th></tr></thead>\n",
       "<thead><tr><th>int64</th><th>int64</th><th>int64</th><th>int64</th><th>int64</th><th>int64</th><th>int64</th><th>int64</th></tr></thead>\n",
       "<tr><td>0</td><td>1</td><td>2</td><td>0</td><td>0</td><td>2</td><td>3</td><td>4</td></tr>\n",
       "<tr><td>1</td><td>4</td><td>5</td><td>1</td><td>5</td><td>7</td><td>8</td><td>9</td></tr>\n",
       "<tr><td>2</td><td>7</td><td>8</td><td>2</td><td>10</td><td>12</td><td>13</td><td>14</td></tr>\n",
       "<tr><td>3</td><td>10</td><td>11</td><td>3</td><td>15</td><td>17</td><td>18</td><td>19</td></tr>\n",
       "<tr><td>4</td><td>13</td><td>14</td><td>4</td><td>20</td><td>22</td><td>23</td><td>24</td></tr>\n",
       "</table>"
      ],
      "text/plain": [
       "<Table length=5>\n",
       "  aa    b     c     bb    e     g     h     i  \n",
       "int64 int64 int64 int64 int64 int64 int64 int64\n",
       "----- ----- ----- ----- ----- ----- ----- -----\n",
       "    0     1     2     0     0     2     3     4\n",
       "    1     4     5     1     5     7     8     9\n",
       "    2     7     8     2    10    12    13    14\n",
       "    3    10    11     3    15    17    18    19\n",
       "    4    13    14     4    20    22    23    24"
      ]
     },
     "execution_count": 10,
     "metadata": {},
     "output_type": "execute_result"
    }
   ],
   "source": [
    "x"
   ]
  },
  {
   "cell_type": "code",
   "execution_count": 11,
   "metadata": {},
   "outputs": [],
   "source": [
    "y = x[[True, False, True, False, True]]"
   ]
  },
  {
   "cell_type": "code",
   "execution_count": 12,
   "metadata": {},
   "outputs": [
    {
     "data": {
      "text/html": [
       "<i>Table length=3</i>\n",
       "<table id=\"table140696571482352\" class=\"table-striped table-bordered table-condensed\">\n",
       "<thead><tr><th>aa</th><th>b</th><th>c</th><th>bb</th><th>e</th><th>g</th><th>h</th><th>i</th></tr></thead>\n",
       "<thead><tr><th>int64</th><th>int64</th><th>int64</th><th>int64</th><th>int64</th><th>int64</th><th>int64</th><th>int64</th></tr></thead>\n",
       "<tr><td>0</td><td>1</td><td>2</td><td>0</td><td>0</td><td>2</td><td>3</td><td>4</td></tr>\n",
       "<tr><td>2</td><td>7</td><td>8</td><td>2</td><td>10</td><td>12</td><td>13</td><td>14</td></tr>\n",
       "<tr><td>4</td><td>13</td><td>14</td><td>4</td><td>20</td><td>22</td><td>23</td><td>24</td></tr>\n",
       "</table>"
      ],
      "text/plain": [
       "<Table length=3>\n",
       "  aa    b     c     bb    e     g     h     i  \n",
       "int64 int64 int64 int64 int64 int64 int64 int64\n",
       "----- ----- ----- ----- ----- ----- ----- -----\n",
       "    0     1     2     0     0     2     3     4\n",
       "    2     7     8     2    10    12    13    14\n",
       "    4    13    14     4    20    22    23    24"
      ]
     },
     "execution_count": 12,
     "metadata": {},
     "output_type": "execute_result"
    }
   ],
   "source": [
    "y"
   ]
  },
  {
   "cell_type": "code",
   "execution_count": 13,
   "metadata": {},
   "outputs": [
    {
     "data": {
      "text/html": [
       "<i>Table length=5</i>\n",
       "<table id=\"table140697230903224\" class=\"table-striped table-bordered table-condensed\">\n",
       "<thead><tr><th>aa</th><th>b</th><th>c</th><th>bb</th><th>e</th><th>g</th><th>h</th><th>i</th></tr></thead>\n",
       "<thead><tr><th>int64</th><th>int64</th><th>int64</th><th>int64</th><th>int64</th><th>int64</th><th>int64</th><th>int64</th></tr></thead>\n",
       "<tr><td>0</td><td>1</td><td>2</td><td>0</td><td>0</td><td>2</td><td>3</td><td>4</td></tr>\n",
       "<tr><td>1</td><td>4</td><td>5</td><td>1</td><td>5</td><td>7</td><td>8</td><td>9</td></tr>\n",
       "<tr><td>2</td><td>7</td><td>8</td><td>2</td><td>10</td><td>12</td><td>13</td><td>14</td></tr>\n",
       "<tr><td>3</td><td>10</td><td>11</td><td>3</td><td>15</td><td>17</td><td>18</td><td>19</td></tr>\n",
       "<tr><td>4</td><td>13</td><td>14</td><td>4</td><td>20</td><td>22</td><td>23</td><td>24</td></tr>\n",
       "</table>"
      ],
      "text/plain": [
       "<Table length=5>\n",
       "  aa    b     c     bb    e     g     h     i  \n",
       "int64 int64 int64 int64 int64 int64 int64 int64\n",
       "----- ----- ----- ----- ----- ----- ----- -----\n",
       "    0     1     2     0     0     2     3     4\n",
       "    1     4     5     1     5     7     8     9\n",
       "    2     7     8     2    10    12    13    14\n",
       "    3    10    11     3    15    17    18    19\n",
       "    4    13    14     4    20    22    23    24"
      ]
     },
     "execution_count": 13,
     "metadata": {},
     "output_type": "execute_result"
    }
   ],
   "source": [
    "x"
   ]
  },
  {
   "cell_type": "code",
   "execution_count": 14,
   "metadata": {},
   "outputs": [],
   "source": [
    "t1 = Table.read(\"\"\"a   b    c\n",
    "                   1   foo  1.4\n",
    "                   2   bar  2.1\n",
    "                   3   baz  2.8\"\"\", format='ascii')\n",
    "t2 = Table.read(\"\"\"d     e\n",
    "                   ham   eggs\n",
    "                   spam  toast\"\"\", format='ascii')\n",
    "\n",
    "t3 = Table.read(\"\"\"a    b\n",
    "                   M45  2012-02-03\"\"\", format='ascii')"
   ]
  },
  {
   "cell_type": "code",
   "execution_count": 19,
   "metadata": {},
   "outputs": [
    {
     "name": "stdout",
     "output_type": "stream",
     "text": [
      "a_1 b_1  c   d     e   a_3    b_3    \n",
      "--- --- --- ---- ----- --- ----------\n",
      "  1 foo 1.4  ham  eggs M45 2012-02-03\n",
      "  2 bar 2.1 spam toast  --         --\n",
      "  3 baz 2.8   --    --  --         --\n"
     ]
    }
   ],
   "source": [
    "x = hstack([t1, t2, t3])\n",
    "print(x)"
   ]
  },
  {
   "cell_type": "markdown",
   "metadata": {},
   "source": [
    "### Masked array"
   ]
  },
  {
   "cell_type": "code",
   "execution_count": 21,
   "metadata": {},
   "outputs": [],
   "source": [
    "import numpy.ma as ma"
   ]
  },
  {
   "cell_type": "code",
   "execution_count": 22,
   "metadata": {},
   "outputs": [],
   "source": [
    "x = np.array([1, 2, 3, -1, 5])"
   ]
  },
  {
   "cell_type": "code",
   "execution_count": 23,
   "metadata": {},
   "outputs": [
    {
     "data": {
      "text/plain": [
       "masked_array(data=[1, 2, 3, --, 5],\n",
       "             mask=[False, False, False,  True, False],\n",
       "       fill_value=999999)"
      ]
     },
     "execution_count": 23,
     "metadata": {},
     "output_type": "execute_result"
    }
   ],
   "source": [
    "mx = ma.masked_array(x, mask=[0, 0, 0, 1, 0])\n",
    "mx"
   ]
  },
  {
   "cell_type": "code",
   "execution_count": 24,
   "metadata": {},
   "outputs": [
    {
     "data": {
      "text/plain": [
       "array([ 1,  2,  3, -1,  5])"
      ]
     },
     "execution_count": 24,
     "metadata": {},
     "output_type": "execute_result"
    }
   ],
   "source": [
    "mx.data"
   ]
  },
  {
   "cell_type": "code",
   "execution_count": 25,
   "metadata": {},
   "outputs": [
    {
     "data": {
      "text/plain": [
       "2.0"
      ]
     },
     "execution_count": 25,
     "metadata": {},
     "output_type": "execute_result"
    }
   ],
   "source": [
    "np.mean(mx.data)"
   ]
  },
  {
   "cell_type": "code",
   "execution_count": 26,
   "metadata": {},
   "outputs": [
    {
     "data": {
      "text/plain": [
       "2.75"
      ]
     },
     "execution_count": 26,
     "metadata": {},
     "output_type": "execute_result"
    }
   ],
   "source": [
    "np.mean(mx)"
   ]
  },
  {
   "cell_type": "code",
   "execution_count": 27,
   "metadata": {},
   "outputs": [
    {
     "name": "stdout",
     "output_type": "stream",
     "text": [
      "[1 2 3 -- 5]\n",
      "[ 1  2  3 -1  5]\n"
     ]
    }
   ],
   "source": [
    "print(mx)\n",
    "print(x)"
   ]
  },
  {
   "cell_type": "code",
   "execution_count": null,
   "metadata": {},
   "outputs": [],
   "source": []
  }
 ],
 "metadata": {
  "kernelspec": {
   "display_name": "Python 3",
   "language": "python",
   "name": "python3"
  },
  "language_info": {
   "codemirror_mode": {
    "name": "ipython",
    "version": 3
   },
   "file_extension": ".py",
   "mimetype": "text/x-python",
   "name": "python",
   "nbconvert_exporter": "python",
   "pygments_lexer": "ipython3",
   "version": "3.6.5"
  }
 },
 "nbformat": 4,
 "nbformat_minor": 2
}
