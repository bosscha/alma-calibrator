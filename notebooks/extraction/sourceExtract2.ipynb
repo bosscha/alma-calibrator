{
 "cells": [
  {
   "cell_type": "markdown",
   "metadata": {},
   "source": [
    "# Extracting sources\n",
    "\n",
    "* Extracting sources from a fits file (SExtractor via sewpy)"
   ]
  },
  {
   "cell_type": "code",
   "execution_count": 10,
   "metadata": {},
   "outputs": [],
   "source": [
    "import os , glob\n",
    "import os.path as path\n",
    "import pandas as pd\n",
    "\n",
    "import matplotlib.pyplot as plt\n",
    "import sewpy\n",
    "import random\n",
    "import numpy as np\n",
    "\n",
    "from scipy.stats import sigmaclip\n",
    "from astropy.io import fits\n",
    "from math import *\n",
    "from sklearn.cluster import KMeans\n",
    "from scipy.spatial import distance_matrix\n",
    "\n",
    "import networkx as nx\n",
    "\n",
    "## Constants\n",
    "DEG2ARCSEC= 3600."
   ]
  },
  {
   "cell_type": "markdown",
   "metadata": {},
   "source": [
    "## Functions\n",
    "\n",
    "* In  ubuntu you can use: \"sudo apt install sextractor\" to install sextractor\n",
    "* In runsextractor, set the path for the binary of SExtractor ($>  which sextractor)"
   ]
  },
  {
   "cell_type": "code",
   "execution_count": 11,
   "metadata": {},
   "outputs": [],
   "source": [
    "def runsextractor(image_file, wdir=\"./\", detect_thresh=3.5, analysis_thresh=3.0):\n",
    "    params = ['NUMBER', 'FLUX_ISO', 'FLUXERR_ISO', 'FLUX_AUTO', 'FLUXERR_AUTO', 'FLUX_BEST', 'FLUXERR_BEST', 'BACKGROUND', \n",
    "              'THRESHOLD', 'FLUX_MAX', 'XMAX_IMAGE', 'YMAX_IMAGE', 'XPEAK_IMAGE', 'YPEAK_IMAGE', 'ALPHAPEAK_J2000', \n",
    "              'DELTAPEAK_J2000', 'X_IMAGE', 'Y_IMAGE', 'ALPHA_SKY', 'DELTA_SKY', 'ALPHA_J2000', 'DELTA_J2000']\n",
    "\n",
    "    convfile= \"/usr/share/source-extractor/gauss_2.0_5x5.conv\"\n",
    "    config = {\"DETECT_THRESH\":detect_thresh, \"ANALYSIS_THRESH\":analysis_thresh, \"FILTER_NAME\":convfile}\n",
    "\n",
    "    sew = sewpy.SEW(workdir=wdir, sexpath=\"/usr/bin/sextractor\",params=params, config=config)\n",
    "\n",
    "    out = sew(image_file)\n",
    "    data = out[\"table\"]\n",
    "    \n",
    "    ra, dec, flux, label = data['ALPHA_J2000'], data['DELTA_J2000'], data['FLUX_MAX'], data['NUMBER'].astype('int')\n",
    "    \n",
    "    return ra, dec, flux, label\n",
    "\n",
    "\n",
    "## get some parameters from the fits.\n",
    "def getInfoFits(fitsimage):\n",
    "    hdulist = fits.open(fitsimage)\n",
    "    \n",
    "    hdr = hdulist[0].header\n",
    "    nx = int(hdr['NAXIS1'])\n",
    "    ny = int(hdr['NAXIS2'])\n",
    "    bmin = float(hdr['BMIN']) * DEG2ARCSEC\n",
    "    bmaj = float(hdr['BMAJ']) * DEG2ARCSEC\n",
    "    ar = sqrt(bmin*bmaj)\n",
    "    lonpole = float(hdr['CRVAL1'])\n",
    "    latpole = float(hdr['CRVAL2'])\n",
    "    \n",
    "    freq = float(hdr['CRVAL3']) / 1e9     ### frequency in GHz\n",
    "    dx = abs(float(hdr['CDELT1'])) * DEG2ARCSEC ## dx in arcsec\n",
    "    \n",
    "    return(freq)\n",
    "\n",
    "\n",
    "## RMS estimation\n",
    "def getRMSfits(fitsimage , nsample=40 , size= 20):\n",
    "    \n",
    "    random.seed()\n",
    "    \n",
    "    hdulist = fits.open(fitsimage)\n",
    "    \n",
    "    hdr = hdulist[0].header\n",
    "    nx = int(hdr['NAXIS1'])\n",
    "    ny = int(hdr['NAXIS2'])\n",
    "    \n",
    "    data = hdulist[0].data\n",
    "    \n",
    "    rms = []\n",
    "    for i in range(nsample):\n",
    "        ix = random.randint(size,int(nx/2)-size)\n",
    "        iy = random.randint(size,int(ny/2)-size)\n",
    "        fx = random.random()\n",
    "        fy = random.random()\n",
    "        \n",
    "        if fx < 0.5:\n",
    "            ixcenter = ix\n",
    "        else:\n",
    "            ixcenter = nx - ix\n",
    "            \n",
    "        if fy < 0.5:\n",
    "            iycenter = iy\n",
    "        else:\n",
    "            iycenter = ny - iy\n",
    "            \n",
    "        datrms = data[0, 0, ixcenter-size:ixcenter+size, iycenter-size:iycenter+size]\n",
    "        rms.append(np.std(datrms))\n",
    "        \n",
    "    \n",
    "    c, low, upp = sigmaclip(rms , 3.0 , 3.0)\n",
    "\n",
    "    rmsestimated = np.median(c)    \n",
    "    return(rmsestimated)   \n",
    "\n",
    "## estimatng the best RMS noise for all fits file in a directory\n",
    "def getBestRMS(direc, ext):\n",
    "    files = glob.glob(\"%s/%s\"%(direc,ext))\n",
    "    \n",
    "    bestrms= 1e9\n",
    "    bestfile= \"\"\n",
    "    for f in files:\n",
    "        rms=  getRMSfits(\"%s/%s\"%(direc,f))*1e3     ### RMS noise in mJy\n",
    "        if rms < bestrms:\n",
    "            bestrms = rms\n",
    "            bestfile= f\n",
    "            \n",
    "    return(bestfile, bestrms)\n",
    "        "
   ]
  },
  {
   "cell_type": "markdown",
   "metadata": {},
   "source": [
    "## Main\n",
    "\n",
    "* Extract the sources for each band\n",
    "* The SIGMA value for the detection can be set. As a default it is set to 3.5.\n",
    "* The flux indicated is in Jy/b\n",
    "* The frequency (GHz) of each band is obtained by getInfoFits(band) where band is the fits file\n",
    "* Note that SExtractor estimates various flux (different methods).\n",
    "* In case of several images we estimate the best rms noise.\n",
    "\n",
    "**In the example below we take the source J0811-4929**\n",
    "The image with the best RMS noise is selected (bestfile) but it could be changed manually if needed."
   ]
  },
  {
   "cell_type": "code",
   "execution_count": 12,
   "metadata": {
    "scrolled": true
   },
   "outputs": [],
   "source": [
    "## Directories\n",
    "wdir =  \"/home/stephane/Science/RadioGalaxy/DeepField/bosscha/analysis/catalog\"\n",
    "datadir=  \"/home/stephane/Science/RadioGalaxy/DeepField/bosscha/sources_final2\"\n",
    "## detection sigma\n",
    "SIGMA= 5.0\n",
    "\n",
    "\n",
    "##############################\n",
    "## extract one RG\n",
    "\n",
    "def extractRG(sourcedir):\n",
    "    bands= [\"Band 3\",\"Band 4\" ,\"Band 6\" ,  \"Band 7\" ,  \"Band 8\" , \"Band 9\" ]\n",
    "    bands= [\"Band3\",\"Band4\" ,\"Band6\" ,  \"Band7\" ,  \"Band8\" , \"Band9\" ]\n",
    "    \n",
    "    field= sourcedir.split(\"/\")[-1]\n",
    "    print(field)\n",
    "    \n",
    "    ra= []\n",
    "    dec= []\n",
    "    label=[]\n",
    "    flux=[]\n",
    "    frequency=[]\n",
    "    rmsa= []\n",
    "    fielda= []\n",
    "\n",
    "    print(\"## source : %s\"%(sourcedir))\n",
    "    for band in bands:\n",
    "        print(\"### %s\"%(band))\n",
    "        dirs= \"%s/%s\"%(sourcedir, band)\n",
    "        if path.exists(dirs):\n",
    "            dirw= os.path.join(sourcedir, band)\n",
    "            os.chdir(dirw)\n",
    "        \n",
    "            files= glob.glob(\"%s/%s\"%(dirs,\"*cont4.image.fits\"))\n",
    "            if len(files) > 0:\n",
    "                frqb= []\n",
    "                rmsb= []\n",
    "                \n",
    "                bestfile ,rms = getBestRMS(\"./\", \"*cont4.image.fits\") \n",
    "                print(\"### Best rms noise for file: %s (%3.3f mJy)\"%(bestfile, rms))\n",
    "                \n",
    "                bestfits= os.path.join(dirw, bestfile[2:])\n",
    "                print(bestfits)\n",
    "                rab, decb , fluxb , labelb = runsextractor(bestfits,detect_thresh=SIGMA)\n",
    "                print(\"### %d sources detected...\"%(len(rab)))\n",
    "                \n",
    "                freq= getInfoFits(bestfile)\n",
    "                for i in range(len(fluxb)):\n",
    "                    frqb.append(freq)\n",
    "                    rmsb.append(rms/1e3)\n",
    "                \n",
    "                print(\"### Freq: %3.3f GHz\"%(freq))\n",
    "            \n",
    "                ## Concat all...\n",
    "                for i in range(len(fluxb)):\n",
    "                    ra.append(rab[i])\n",
    "                    dec.append(decb[i])\n",
    "                    label.append(band)\n",
    "                    flux.append(fluxb[i])\n",
    "                    frequency.append(freq)\n",
    "                    rmsa.append(rms/1e3)\n",
    "                    fielda.append(field)\n",
    "                    \n",
    "    \n",
    "    print(\"##\\n\")\n",
    "    return(ra,dec, label, frequency, flux, rmsa , fielda)\n",
    "                \n",
    "\n"
   ]
  },
  {
   "cell_type": "code",
   "execution_count": 13,
   "metadata": {},
   "outputs": [
    {
     "name": "stderr",
     "output_type": "stream",
     "text": [
      "Output catalog ./uid___A002_Xb68dbd_X5eee.ms.split.cal-CALIBRATE_PHASE-J1118+1234.ms.cont4.image.cat.txt already exists, I will overwrite it\n",
      "Output catalog ./uid___A002_Xa45c3f_X252f.ms.split.cal-CALIBRATE_PHASE-J1118+1234.ms.cont4.image.cat.txt already exists, I will overwrite it\n"
     ]
    },
    {
     "name": "stdout",
     "output_type": "stream",
     "text": [
      "J1118+1234\n",
      "## source : /home/stephane/Science/RadioGalaxy/DeepField/bosscha/sources_final2/J1118+1234\n",
      "### Band3\n",
      "### Best rms noise for file: ./uid___A002_Xb68dbd_X5eee.ms.split.cal-CALIBRATE_PHASE-J1118+1234.ms.cont4.image.fits (0.078 mJy)\n",
      "/home/stephane/Science/RadioGalaxy/DeepField/bosscha/sources_final2/J1118+1234/Band3/uid___A002_Xb68dbd_X5eee.ms.split.cal-CALIBRATE_PHASE-J1118+1234.ms.cont4.image.fits\n",
      "### 2 sources detected...\n",
      "### Freq: 107.801 GHz\n",
      "### Band4\n",
      "### Band6\n",
      "### Best rms noise for file: ./uid___A002_Xa45c3f_X252f.ms.split.cal-CALIBRATE_PHASE-J1118+1234.ms.cont4.image.fits (0.103 mJy)\n",
      "/home/stephane/Science/RadioGalaxy/DeepField/bosscha/sources_final2/J1118+1234/Band6/uid___A002_Xa45c3f_X252f.ms.split.cal-CALIBRATE_PHASE-J1118+1234.ms.cont4.image.fits\n"
     ]
    },
    {
     "name": "stderr",
     "output_type": "stream",
     "text": [
      "Output catalog ./uid___A002_Xd09670_X44ca.ms.split.cal-CALIBRATE_PHASE-J1118+1234.ms.cont4.image.cat.txt already exists, I will overwrite it\n",
      "Output catalog ./uid___A002_X856bb8_Xb43.ms.split.cal-CALIBRATE_BANDPASS-J1058+0133.ms.cont4.image.cat.txt already exists, I will overwrite it\n",
      "Output catalog ./uid___A002_Xb09eed_X1df8.ms.split.cal-CALIBRATE_BANDPASS-J1058+0133.ms.cont4.image.cat.txt already exists, I will overwrite it\n",
      "Output catalog ./uid___A002_Xb09eed_X1df8.ms.split.cal-CALIBRATE_BANDPASS-J1058+0133.ms.cont4.image.cat.txt already exists, I will overwrite it\n"
     ]
    },
    {
     "name": "stdout",
     "output_type": "stream",
     "text": [
      "### 1 sources detected...\n",
      "### Freq: 227.399 GHz\n",
      "### Band7\n",
      "### Best rms noise for file: ./uid___A002_Xd09670_X44ca.ms.split.cal-CALIBRATE_PHASE-J1118+1234.ms.cont4.image.fits (0.123 mJy)\n",
      "/home/stephane/Science/RadioGalaxy/DeepField/bosscha/sources_final2/J1118+1234/Band7/uid___A002_Xd09670_X44ca.ms.split.cal-CALIBRATE_PHASE-J1118+1234.ms.cont4.image.fits\n",
      "### 3 sources detected...\n",
      "### Freq: 335.219 GHz\n",
      "### Band8\n",
      "### Band9\n",
      "##\n",
      "\n",
      "J1058+0133\n",
      "## source : /home/stephane/Science/RadioGalaxy/DeepField/bosscha/sources_final2/J1058+0133\n",
      "### Band3\n",
      "### Best rms noise for file: ./uid___A002_X856bb8_Xb43.ms.split.cal-CALIBRATE_BANDPASS-J1058+0133.ms.cont4.image.fits (0.101 mJy)\n",
      "/home/stephane/Science/RadioGalaxy/DeepField/bosscha/sources_final2/J1058+0133/Band3/uid___A002_X856bb8_Xb43.ms.split.cal-CALIBRATE_BANDPASS-J1058+0133.ms.cont4.image.fits\n",
      "### 1 sources detected...\n",
      "### Freq: 101.534 GHz\n",
      "### Band4\n",
      "### Best rms noise for file: ./uid___A002_Xb09eed_X1df8.ms.split.cal-CALIBRATE_BANDPASS-J1058+0133.ms.cont4.image.fits (0.353 mJy)\n",
      "/home/stephane/Science/RadioGalaxy/DeepField/bosscha/sources_final2/J1058+0133/Band4/uid___A002_Xb09eed_X1df8.ms.split.cal-CALIBRATE_BANDPASS-J1058+0133.ms.cont4.image.fits\n",
      "### 1 sources detected...\n",
      "### Freq: 136.696 GHz\n",
      "### Band6\n",
      "### Best rms noise for file: ./uid___A002_Xb09eed_X1df8.ms.split.cal-CALIBRATE_BANDPASS-J1058+0133.ms.cont4.image.fits (0.320 mJy)\n",
      "/home/stephane/Science/RadioGalaxy/DeepField/bosscha/sources_final2/J1058+0133/Band6/uid___A002_Xb09eed_X1df8.ms.split.cal-CALIBRATE_BANDPASS-J1058+0133.ms.cont4.image.fits\n"
     ]
    },
    {
     "name": "stderr",
     "output_type": "stream",
     "text": [
      "Output catalog ./uid___A002_X96e770_Xe53.ms.split.cal-CALIBRATE_BANDPASS-J1058+0133.ms.cont4.image.cat.txt already exists, I will overwrite it\n",
      "Output catalog ./uid___A002_Xb10f33_Xa627.ms.split.cal-CALIBRATE_FLUX-J1058+0133.ms.cont4.image.cat.txt already exists, I will overwrite it\n",
      "Output catalog ./uid___A002_Xbb0685_X4f03.ms.split.cal-CALIBRATE_BANDPASS-J1058+0133.ms.cont4.image.cat.txt already exists, I will overwrite it\n"
     ]
    },
    {
     "name": "stdout",
     "output_type": "stream",
     "text": [
      "### 1 sources detected...\n",
      "### Freq: 136.696 GHz\n",
      "### Band7\n",
      "### Best rms noise for file: ./uid___A002_X96e770_Xe53.ms.split.cal-CALIBRATE_BANDPASS-J1058+0133.ms.cont4.image.fits (0.126 mJy)\n",
      "/home/stephane/Science/RadioGalaxy/DeepField/bosscha/sources_final2/J1058+0133/Band7/uid___A002_X96e770_Xe53.ms.split.cal-CALIBRATE_BANDPASS-J1058+0133.ms.cont4.image.fits\n",
      "### 2 sources detected...\n",
      "### Freq: 344.795 GHz\n",
      "### Band8\n",
      "### Best rms noise for file: ./uid___A002_Xb10f33_Xa627.ms.split.cal-CALIBRATE_FLUX-J1058+0133.ms.cont4.image.fits (0.285 mJy)\n",
      "/home/stephane/Science/RadioGalaxy/DeepField/bosscha/sources_final2/J1058+0133/Band8/uid___A002_Xb10f33_Xa627.ms.split.cal-CALIBRATE_FLUX-J1058+0133.ms.cont4.image.fits\n",
      "### 3 sources detected...\n",
      "### Freq: 397.388 GHz\n",
      "### Band9\n",
      "### Best rms noise for file: ./uid___A002_Xbb0685_X4f03.ms.split.cal-CALIBRATE_BANDPASS-J1058+0133.ms.cont4.image.fits (1.101 mJy)\n",
      "/home/stephane/Science/RadioGalaxy/DeepField/bosscha/sources_final2/J1058+0133/Band9/uid___A002_Xbb0685_X4f03.ms.split.cal-CALIBRATE_BANDPASS-J1058+0133.ms.cont4.image.fits\n",
      "### 3 sources detected...\n",
      "### Freq: 681.549 GHz\n",
      "##\n",
      "\n"
     ]
    },
    {
     "name": "stderr",
     "output_type": "stream",
     "text": [
      "Output catalog ./uid___A002_X87f18c_X1b1d.ms.split.cal-CALIBRATE_FLUX-J0238+1636.ms.cont4.image.cat.txt already exists, I will overwrite it\n",
      "Output catalog ./uid___A002_Xc86fe5_X2ee.ms.split.cal-CALIBRATE_BANDPASS-J0238+1636.ms.cont4.image.cat.txt already exists, I will overwrite it\n",
      "Output catalog ./uid___A002_X7c8369_Xda.ms.split.cal-CALIBRATE_FLUX-J0238+166.ms.cont4.image.cat.txt already exists, I will overwrite it\n"
     ]
    },
    {
     "name": "stdout",
     "output_type": "stream",
     "text": [
      "J0238+1636\n",
      "## source : /home/stephane/Science/RadioGalaxy/DeepField/bosscha/sources_final2/J0238+1636\n",
      "### Band3\n",
      "### Best rms noise for file: ./uid___A002_X87f18c_X1b1d.ms.split.cal-CALIBRATE_FLUX-J0238+1636.ms.cont4.image.fits (0.068 mJy)\n",
      "/home/stephane/Science/RadioGalaxy/DeepField/bosscha/sources_final2/J0238+1636/Band3/uid___A002_X87f18c_X1b1d.ms.split.cal-CALIBRATE_FLUX-J0238+1636.ms.cont4.image.fits\n",
      "### 1 sources detected...\n",
      "### Freq: 103.057 GHz\n",
      "### Band4\n",
      "### Best rms noise for file: ./uid___A002_Xc86fe5_X2ee.ms.split.cal-CALIBRATE_BANDPASS-J0238+1636.ms.cont4.image.fits (0.139 mJy)\n",
      "/home/stephane/Science/RadioGalaxy/DeepField/bosscha/sources_final2/J0238+1636/Band4/uid___A002_Xc86fe5_X2ee.ms.split.cal-CALIBRATE_BANDPASS-J0238+1636.ms.cont4.image.fits\n",
      "### 6 sources detected...\n",
      "### Freq: 144.995 GHz\n",
      "### Band6\n",
      "### Best rms noise for file: ./uid___A002_X7c8369_Xda.ms.split.cal-CALIBRATE_FLUX-J0238+166.ms.cont4.image.fits (0.178 mJy)\n",
      "/home/stephane/Science/RadioGalaxy/DeepField/bosscha/sources_final2/J0238+1636/Band6/uid___A002_X7c8369_Xda.ms.split.cal-CALIBRATE_FLUX-J0238+166.ms.cont4.image.fits\n",
      "### 1 sources detected...\n",
      "### Freq: 262.629 GHz\n",
      "### Band7\n",
      "### Best rms noise for file: ./uid___A002_X89252c_X54a.ms.split.cal-CALIBRATE_FLUX-J0238+166.ms.cont4.image.fits (0.156 mJy)\n",
      "/home/stephane/Science/RadioGalaxy/DeepField/bosscha/sources_final2/J0238+1636/Band7/uid___A002_X89252c_X54a.ms.split.cal-CALIBRATE_FLUX-J0238+166.ms.cont4.image.fits\n"
     ]
    },
    {
     "name": "stderr",
     "output_type": "stream",
     "text": [
      "Output catalog ./uid___A002_X89252c_X54a.ms.split.cal-CALIBRATE_FLUX-J0238+166.ms.cont4.image.cat.txt already exists, I will overwrite it\n",
      "Output catalog ./uid___A002_Xac3e1a_X43aa.ms.split.cal-CALIBRATE_PHASE-J1208-7809.ms.cont4.image.cat.txt already exists, I will overwrite it\n"
     ]
    },
    {
     "name": "stdout",
     "output_type": "stream",
     "text": [
      "### 1 sources detected...\n",
      "### Freq: 344.995 GHz\n",
      "### Band8\n",
      "### Band9\n",
      "##\n",
      "\n",
      "J1208-7809\n",
      "## source : /home/stephane/Science/RadioGalaxy/DeepField/bosscha/sources_final2/J1208-7809\n",
      "### Band3\n",
      "### Best rms noise for file: ./uid___A002_Xac3e1a_X43aa.ms.split.cal-CALIBRATE_PHASE-J1208-7809.ms.cont4.image.fits (0.024 mJy)\n",
      "/home/stephane/Science/RadioGalaxy/DeepField/bosscha/sources_final2/J1208-7809/Band3/uid___A002_Xac3e1a_X43aa.ms.split.cal-CALIBRATE_PHASE-J1208-7809.ms.cont4.image.fits\n"
     ]
    },
    {
     "name": "stderr",
     "output_type": "stream",
     "text": [
      "Output catalog ./uid___A002_Xa25bbf_X59df.ms.split.cal-CALIBRATE_PHASE-J1208-7809.ms.cont4.image.cat.txt already exists, I will overwrite it\n",
      "Output catalog ./uid___A002_Xae5b1d_X1b91.ms.split.cal-CALIBRATE_PHASE-J1208-7809.ms.cont4.image.cat.txt already exists, I will overwrite it\n",
      "Output catalog ./uid___A002_Xc8592e_Xa046.ms.split.cal-CALIBRATE_PHASE-J0208-0047.ms.cont4.image.cat.txt already exists, I will overwrite it\n"
     ]
    },
    {
     "name": "stdout",
     "output_type": "stream",
     "text": [
      "### 1 sources detected...\n",
      "### Freq: 97.489 GHz\n",
      "### Band4\n",
      "### Band6\n",
      "### Best rms noise for file: ./uid___A002_Xa25bbf_X59df.ms.split.cal-CALIBRATE_PHASE-J1208-7809.ms.cont4.image.fits (0.062 mJy)\n",
      "/home/stephane/Science/RadioGalaxy/DeepField/bosscha/sources_final2/J1208-7809/Band6/uid___A002_Xa25bbf_X59df.ms.split.cal-CALIBRATE_PHASE-J1208-7809.ms.cont4.image.fits\n",
      "### 1 sources detected...\n",
      "### Freq: 235.712 GHz\n",
      "### Band7\n",
      "### Best rms noise for file: ./uid___A002_Xae5b1d_X1b91.ms.split.cal-CALIBRATE_PHASE-J1208-7809.ms.cont4.image.fits (0.257 mJy)\n",
      "/home/stephane/Science/RadioGalaxy/DeepField/bosscha/sources_final2/J1208-7809/Band7/uid___A002_Xae5b1d_X1b91.ms.split.cal-CALIBRATE_PHASE-J1208-7809.ms.cont4.image.fits\n",
      "### 1 sources detected...\n",
      "### Freq: 338.179 GHz\n",
      "### Band8\n",
      "### Band9\n",
      "##\n",
      "\n",
      "J0208-0047\n",
      "## source : /home/stephane/Science/RadioGalaxy/DeepField/bosscha/sources_final2/J0208-0047\n",
      "### Band3\n",
      "### Best rms noise for file: ./uid___A002_Xc8592e_Xa046.ms.split.cal-CALIBRATE_PHASE-J0208-0047.ms.cont4.image.fits (0.057 mJy)\n",
      "/home/stephane/Science/RadioGalaxy/DeepField/bosscha/sources_final2/J0208-0047/Band3/uid___A002_Xc8592e_Xa046.ms.split.cal-CALIBRATE_PHASE-J0208-0047.ms.cont4.image.fits\n"
     ]
    },
    {
     "name": "stderr",
     "output_type": "stream",
     "text": [
      "Output catalog ./uid___A002_Xa24618_X2ab6.ms.split.cal-CALIBRATE_PHASE-J0208-0047.ms.cont4.image.cat.txt already exists, I will overwrite it\n",
      "Output catalog ./uid___A002_Xa44acb_X1135.ms.split.cal-CALIBRATE_PHASE-J0208-0047.ms.cont4.image.cat.txt already exists, I will overwrite it\n",
      "Output catalog ./uid___A002_Xc99ad7_X3a86.ms.split.cal-CALIBRATE_BANDPASS-J1550+0527.ms.cont4.image.cat.txt already exists, I will overwrite it\n",
      "Output catalog ./uid___A002_Xae4720_X3bec.ms.split.cal-CALIBRATE_BANDPASS-J1550+0527.ms.cont4.image.cat.txt already exists, I will overwrite it\n"
     ]
    },
    {
     "name": "stdout",
     "output_type": "stream",
     "text": [
      "### 2 sources detected...\n",
      "### Freq: 102.457 GHz\n",
      "### Band4\n",
      "### Band6\n",
      "### Best rms noise for file: ./uid___A002_Xa24618_X2ab6.ms.split.cal-CALIBRATE_PHASE-J0208-0047.ms.cont4.image.fits (0.077 mJy)\n",
      "/home/stephane/Science/RadioGalaxy/DeepField/bosscha/sources_final2/J0208-0047/Band6/uid___A002_Xa24618_X2ab6.ms.split.cal-CALIBRATE_PHASE-J0208-0047.ms.cont4.image.fits\n",
      "### 1 sources detected...\n",
      "### Freq: 262.571 GHz\n",
      "### Band7\n",
      "### Best rms noise for file: ./uid___A002_Xa44acb_X1135.ms.split.cal-CALIBRATE_PHASE-J0208-0047.ms.cont4.image.fits (0.041 mJy)\n",
      "/home/stephane/Science/RadioGalaxy/DeepField/bosscha/sources_final2/J0208-0047/Band7/uid___A002_Xa44acb_X1135.ms.split.cal-CALIBRATE_PHASE-J0208-0047.ms.cont4.image.fits\n",
      "### 1 sources detected...\n",
      "### Freq: 344.995 GHz\n",
      "### Band8\n",
      "### Band9\n",
      "##\n",
      "\n",
      "J1550+0527\n",
      "## source : /home/stephane/Science/RadioGalaxy/DeepField/bosscha/sources_final2/J1550+0527\n",
      "### Band3\n",
      "### Best rms noise for file: ./uid___A002_Xc99ad7_X3a86.ms.split.cal-CALIBRATE_BANDPASS-J1550+0527.ms.cont4.image.fits (0.084 mJy)\n",
      "/home/stephane/Science/RadioGalaxy/DeepField/bosscha/sources_final2/J1550+0527/Band3/uid___A002_Xc99ad7_X3a86.ms.split.cal-CALIBRATE_BANDPASS-J1550+0527.ms.cont4.image.fits\n",
      "### 1 sources detected...\n",
      "### Freq: 106.221 GHz\n",
      "### Band4\n",
      "### Best rms noise for file: ./uid___A002_Xae4720_X3bec.ms.split.cal-CALIBRATE_BANDPASS-J1550+0527.ms.cont4.image.fits (0.089 mJy)\n",
      "/home/stephane/Science/RadioGalaxy/DeepField/bosscha/sources_final2/J1550+0527/Band4/uid___A002_Xae4720_X3bec.ms.split.cal-CALIBRATE_BANDPASS-J1550+0527.ms.cont4.image.fits\n"
     ]
    },
    {
     "name": "stderr",
     "output_type": "stream",
     "text": [
      "Output catalog ./uid___A002_X864236_X69b.ms.split.cal-CALIBRATE_BANDPASS-J1550+0527.ms.cont4.image.cat.txt already exists, I will overwrite it\n",
      "Output catalog ./uid___A002_X829c4c_X2ed.ms.split.cal-CALIBRATE_BANDPASS-J1550+0527.ms.cont4.image.cat.txt already exists, I will overwrite it\n",
      "Output catalog ./uid___A002_Xa9a44e_X13b3.ms.split.cal-CALIBRATE_PHASE-J0219+0120.ms.cont4.image.cat.txt already exists, I will overwrite it\n",
      "Output catalog ./uid___A002_Xa8666f_X1217.ms.split.cal-CALIBRATE_PHASE-J0219+0120.ms.cont4.image.cat.txt already exists, I will overwrite it\n"
     ]
    },
    {
     "name": "stdout",
     "output_type": "stream",
     "text": [
      "### 1 sources detected...\n",
      "### Freq: 145.376 GHz\n",
      "### Band6\n",
      "### Best rms noise for file: ./uid___A002_X864236_X69b.ms.split.cal-CALIBRATE_BANDPASS-J1550+0527.ms.cont4.image.fits (0.109 mJy)\n",
      "/home/stephane/Science/RadioGalaxy/DeepField/bosscha/sources_final2/J1550+0527/Band6/uid___A002_X864236_X69b.ms.split.cal-CALIBRATE_BANDPASS-J1550+0527.ms.cont4.image.fits\n",
      "### 1 sources detected...\n",
      "### Freq: 254.834 GHz\n",
      "### Band7\n",
      "### Best rms noise for file: ./uid___A002_X829c4c_X2ed.ms.split.cal-CALIBRATE_BANDPASS-J1550+0527.ms.cont4.image.fits (0.084 mJy)\n",
      "/home/stephane/Science/RadioGalaxy/DeepField/bosscha/sources_final2/J1550+0527/Band7/uid___A002_X829c4c_X2ed.ms.split.cal-CALIBRATE_BANDPASS-J1550+0527.ms.cont4.image.fits\n",
      "### 1 sources detected...\n",
      "### Freq: 348.940 GHz\n",
      "### Band8\n",
      "### Band9\n",
      "##\n",
      "\n",
      "J0219+0120\n",
      "## source : /home/stephane/Science/RadioGalaxy/DeepField/bosscha/sources_final2/J0219+0120\n",
      "### Band3\n",
      "### Best rms noise for file: ./uid___A002_Xa9a44e_X13b3.ms.split.cal-CALIBRATE_PHASE-J0219+0120.ms.cont4.image.fits (0.057 mJy)\n",
      "/home/stephane/Science/RadioGalaxy/DeepField/bosscha/sources_final2/J0219+0120/Band3/uid___A002_Xa9a44e_X13b3.ms.split.cal-CALIBRATE_PHASE-J0219+0120.ms.cont4.image.fits\n",
      "### 2 sources detected...\n",
      "### Freq: 92.623 GHz\n",
      "### Band4\n",
      "### Band6\n",
      "### Best rms noise for file: ./uid___A002_Xa8666f_X1217.ms.split.cal-CALIBRATE_PHASE-J0219+0120.ms.cont4.image.fits (0.071 mJy)\n",
      "/home/stephane/Science/RadioGalaxy/DeepField/bosscha/sources_final2/J0219+0120/Band6/uid___A002_Xa8666f_X1217.ms.split.cal-CALIBRATE_PHASE-J0219+0120.ms.cont4.image.fits\n"
     ]
    },
    {
     "name": "stderr",
     "output_type": "stream",
     "text": [
      "Output catalog ./uid___A002_Xaab3b0_X118d.ms.split.cal-CALIBRATE_PHASE-J0219+0120.ms.cont4.image.cat.txt already exists, I will overwrite it\n",
      "Output catalog ./uid___A002_X87f18c_X17a3.ms.split.cal-CALIBRATE_BANDPASS-J0241-0815.ms.cont4.image.cat.txt already exists, I will overwrite it\n",
      "Output catalog ./uid___A002_X8081ba_Xce2.ms.split.cal-CALIBRATE_BANDPASS-J0241-0815.ms.cont4.image.cat.txt already exists, I will overwrite it\n"
     ]
    },
    {
     "name": "stdout",
     "output_type": "stream",
     "text": [
      "### 1 sources detected...\n",
      "### Freq: 262.576 GHz\n",
      "### Band7\n",
      "### Best rms noise for file: ./uid___A002_Xaab3b0_X118d.ms.split.cal-CALIBRATE_PHASE-J0219+0120.ms.cont4.image.fits (0.157 mJy)\n",
      "/home/stephane/Science/RadioGalaxy/DeepField/bosscha/sources_final2/J0219+0120/Band7/uid___A002_Xaab3b0_X118d.ms.split.cal-CALIBRATE_PHASE-J0219+0120.ms.cont4.image.fits\n",
      "### 1 sources detected...\n",
      "### Freq: 346.315 GHz\n",
      "### Band8\n",
      "### Band9\n",
      "##\n",
      "\n",
      "J0241-0815\n",
      "## source : /home/stephane/Science/RadioGalaxy/DeepField/bosscha/sources_final2/J0241-0815\n",
      "### Band3\n",
      "### Best rms noise for file: ./uid___A002_X87f18c_X17a3.ms.split.cal-CALIBRATE_BANDPASS-J0241-0815.ms.cont4.image.fits (0.037 mJy)\n",
      "/home/stephane/Science/RadioGalaxy/DeepField/bosscha/sources_final2/J0241-0815/Band3/uid___A002_X87f18c_X17a3.ms.split.cal-CALIBRATE_BANDPASS-J0241-0815.ms.cont4.image.fits\n",
      "### 1 sources detected...\n",
      "### Freq: 103.057 GHz\n",
      "### Band4\n",
      "### Band6\n",
      "### Best rms noise for file: ./uid___A002_X8081ba_Xce2.ms.split.cal-CALIBRATE_BANDPASS-J0241-0815.ms.cont4.image.fits (0.091 mJy)\n",
      "/home/stephane/Science/RadioGalaxy/DeepField/bosscha/sources_final2/J0241-0815/Band6/uid___A002_X8081ba_Xce2.ms.split.cal-CALIBRATE_BANDPASS-J0241-0815.ms.cont4.image.fits\n"
     ]
    },
    {
     "name": "stderr",
     "output_type": "stream",
     "text": [
      "Output catalog ./uid___A002_Xa6ef71_Xc9c.ms.split.cal-CALIBRATE_PHASE-J0241-0815.ms.cont4.image.cat.txt already exists, I will overwrite it\n",
      "Output catalog ./uid___A002_Xba9cdb_X772.ms.split.cal-CALIBRATE_PHASE-J2226+0052.ms.cont4.image.cat.txt already exists, I will overwrite it\n",
      "Output catalog ./uid___A002_Xb23e87_X2ba9.ms.split.cal-CALIBRATE_PHASE-J2226+0052.ms.cont4.image.cat.txt already exists, I will overwrite it\n"
     ]
    },
    {
     "name": "stdout",
     "output_type": "stream",
     "text": [
      "### 2 sources detected...\n",
      "### Freq: 224.941 GHz\n",
      "### Band7\n",
      "### Best rms noise for file: ./uid___A002_Xa6ef71_Xc9c.ms.split.cal-CALIBRATE_PHASE-J0241-0815.ms.cont4.image.fits (0.082 mJy)\n",
      "/home/stephane/Science/RadioGalaxy/DeepField/bosscha/sources_final2/J0241-0815/Band7/uid___A002_Xa6ef71_Xc9c.ms.split.cal-CALIBRATE_PHASE-J0241-0815.ms.cont4.image.fits\n",
      "### 2 sources detected...\n",
      "### Freq: 353.995 GHz\n",
      "### Band8\n",
      "### Band9\n",
      "##\n",
      "\n",
      "J2226+0052\n",
      "## source : /home/stephane/Science/RadioGalaxy/DeepField/bosscha/sources_final2/J2226+0052\n",
      "### Band3\n",
      "### Best rms noise for file: ./uid___A002_Xba9cdb_X772.ms.split.cal-CALIBRATE_PHASE-J2226+0052.ms.cont4.image.fits (0.037 mJy)\n",
      "/home/stephane/Science/RadioGalaxy/DeepField/bosscha/sources_final2/J2226+0052/Band3/uid___A002_Xba9cdb_X772.ms.split.cal-CALIBRATE_PHASE-J2226+0052.ms.cont4.image.fits\n",
      "### 1 sources detected...\n",
      "### Freq: 105.376 GHz\n",
      "### Band4\n",
      "### Band6\n",
      "### Best rms noise for file: ./uid___A002_Xb23e87_X2ba9.ms.split.cal-CALIBRATE_PHASE-J2226+0052.ms.cont4.image.fits (0.061 mJy)\n",
      "/home/stephane/Science/RadioGalaxy/DeepField/bosscha/sources_final2/J2226+0052/Band6/uid___A002_Xb23e87_X2ba9.ms.split.cal-CALIBRATE_PHASE-J2226+0052.ms.cont4.image.fits\n"
     ]
    },
    {
     "name": "stderr",
     "output_type": "stream",
     "text": [
      "Output catalog ./uid___A002_Xb5bd46_X8c00.ms.split.cal-CALIBRATE_PHASE-J2226+0052.ms.cont4.image.cat.txt already exists, I will overwrite it\n",
      "Output catalog ./uid___A002_Xba9cdb_X13f6.ms.split.cal-CALIBRATE_FLUX-J0006-0623.ms.cont4.image.cat.txt already exists, I will overwrite it\n",
      "Output catalog ./uid___A002_Xae4720_X49e7.ms.split.cal-CALIBRATE_BANDPASS-J0006-0623.ms.cont4.image.cat.txt already exists, I will overwrite it\n",
      "Output catalog ./uid___A002_Xb60be4_X1dbb.ms.split.cal-CALIBRATE_BANDPASS-J0006-0623.ms.cont4.image.cat.txt already exists, I will overwrite it\n"
     ]
    },
    {
     "name": "stdout",
     "output_type": "stream",
     "text": [
      "### 2 sources detected...\n",
      "### Freq: 257.270 GHz\n",
      "### Band7\n",
      "### Best rms noise for file: ./uid___A002_Xb5bd46_X8c00.ms.split.cal-CALIBRATE_PHASE-J2226+0052.ms.cont4.image.fits (0.088 mJy)\n",
      "/home/stephane/Science/RadioGalaxy/DeepField/bosscha/sources_final2/J2226+0052/Band7/uid___A002_Xb5bd46_X8c00.ms.split.cal-CALIBRATE_PHASE-J2226+0052.ms.cont4.image.fits\n",
      "### 1 sources detected...\n",
      "### Freq: 343.495 GHz\n",
      "### Band8\n",
      "### Band9\n",
      "##\n",
      "\n",
      "J0006-0623\n",
      "## source : /home/stephane/Science/RadioGalaxy/DeepField/bosscha/sources_final2/J0006-0623\n",
      "### Band3\n",
      "### Best rms noise for file: ./uid___A002_Xba9cdb_X13f6.ms.split.cal-CALIBRATE_FLUX-J0006-0623.ms.cont4.image.fits (0.461 mJy)\n",
      "/home/stephane/Science/RadioGalaxy/DeepField/bosscha/sources_final2/J0006-0623/Band3/uid___A002_Xba9cdb_X13f6.ms.split.cal-CALIBRATE_FLUX-J0006-0623.ms.cont4.image.fits\n",
      "### 1 sources detected...\n",
      "### Freq: 105.376 GHz\n",
      "### Band4\n",
      "### Best rms noise for file: ./uid___A002_Xae4720_X49e7.ms.split.cal-CALIBRATE_BANDPASS-J0006-0623.ms.cont4.image.fits (0.315 mJy)\n",
      "/home/stephane/Science/RadioGalaxy/DeepField/bosscha/sources_final2/J0006-0623/Band4/uid___A002_Xae4720_X49e7.ms.split.cal-CALIBRATE_BANDPASS-J0006-0623.ms.cont4.image.fits\n",
      "### 1 sources detected...\n",
      "### Freq: 137.917 GHz\n",
      "### Band6\n",
      "### Best rms noise for file: ./uid___A002_Xb60be4_X1dbb.ms.split.cal-CALIBRATE_BANDPASS-J0006-0623.ms.cont4.image.fits (0.677 mJy)\n",
      "/home/stephane/Science/RadioGalaxy/DeepField/bosscha/sources_final2/J0006-0623/Band6/uid___A002_Xb60be4_X1dbb.ms.split.cal-CALIBRATE_BANDPASS-J0006-0623.ms.cont4.image.fits\n"
     ]
    },
    {
     "name": "stderr",
     "output_type": "stream",
     "text": [
      "Output catalog ./uid___A002_Xaab3b0_X679.ms.split.cal-CALIBRATE_BANDPASS-J0006-0623.ms.cont4.image.cat.txt already exists, I will overwrite it\n",
      "Output catalog ./uid___A002_Xaec9ef_Xc9f.ms.split.cal-CALIBRATE_BANDPASS-J0750+1231.ms.cont4.image.cat.txt already exists, I will overwrite it\n",
      "Output catalog ./uid___A002_Xa9c359_X218.ms.split.cal-CALIBRATE_BANDPASS-J0750+1231.ms.cont4.image.cat.txt already exists, I will overwrite it\n"
     ]
    },
    {
     "name": "stdout",
     "output_type": "stream",
     "text": [
      "### 1 sources detected...\n",
      "### Freq: 233.000 GHz\n",
      "### Band7\n",
      "### Best rms noise for file: ./uid___A002_Xaab3b0_X679.ms.split.cal-CALIBRATE_BANDPASS-J0006-0623.ms.cont4.image.fits (0.153 mJy)\n",
      "/home/stephane/Science/RadioGalaxy/DeepField/bosscha/sources_final2/J0006-0623/Band7/uid___A002_Xaab3b0_X679.ms.split.cal-CALIBRATE_BANDPASS-J0006-0623.ms.cont4.image.fits\n",
      "### 3 sources detected...\n",
      "### Freq: 343.495 GHz\n",
      "### Band8\n",
      "### Band9\n",
      "##\n",
      "\n",
      "J0750+1231\n",
      "## source : /home/stephane/Science/RadioGalaxy/DeepField/bosscha/sources_final2/J0750+1231\n",
      "### Band3\n",
      "### Best rms noise for file: ./uid___A002_Xaec9ef_Xc9f.ms.split.cal-CALIBRATE_BANDPASS-J0750+1231.ms.cont4.image.fits (0.072 mJy)\n",
      "/home/stephane/Science/RadioGalaxy/DeepField/bosscha/sources_final2/J0750+1231/Band3/uid___A002_Xaec9ef_Xc9f.ms.split.cal-CALIBRATE_BANDPASS-J0750+1231.ms.cont4.image.fits\n",
      "### 1 sources detected...\n",
      "### Freq: 110.048 GHz\n",
      "### Band4\n",
      "### Band6\n",
      "### Best rms noise for file: ./uid___A002_Xa9c359_X218.ms.split.cal-CALIBRATE_BANDPASS-J0750+1231.ms.cont4.image.fits (0.256 mJy)\n",
      "/home/stephane/Science/RadioGalaxy/DeepField/bosscha/sources_final2/J0750+1231/Band6/uid___A002_Xa9c359_X218.ms.split.cal-CALIBRATE_BANDPASS-J0750+1231.ms.cont4.image.fits\n"
     ]
    },
    {
     "name": "stderr",
     "output_type": "stream",
     "text": [
      "Output catalog ./uid___A002_X988073_X1ba4.ms.split.cal-CALIBRATE_FLUX-J0750+125.ms.cont4.image.cat.txt already exists, I will overwrite it\n",
      "Output catalog ./uid___A002_Xa78e41_X1864.ms.split.cal-CALIBRATE_BANDPASS-J0224+0659.ms.cont4.image.cat.txt already exists, I will overwrite it\n",
      "Output catalog ./uid___A002_Xa8666f_X1217.ms.split.cal-CALIBRATE_BANDPASS-J0224+0659.ms.cont4.image.cat.txt already exists, I will overwrite it\n"
     ]
    },
    {
     "name": "stdout",
     "output_type": "stream",
     "text": [
      "### 5 sources detected...\n",
      "### Freq: 258.253 GHz\n",
      "### Band7\n",
      "### Best rms noise for file: ./uid___A002_X988073_X1ba4.ms.split.cal-CALIBRATE_FLUX-J0750+125.ms.cont4.image.fits (0.166 mJy)\n",
      "/home/stephane/Science/RadioGalaxy/DeepField/bosscha/sources_final2/J0750+1231/Band7/uid___A002_X988073_X1ba4.ms.split.cal-CALIBRATE_FLUX-J0750+125.ms.cont4.image.fits\n",
      "### 1 sources detected...\n",
      "### Freq: 355.222 GHz\n",
      "### Band8\n",
      "### Band9\n",
      "##\n",
      "\n",
      "J0224+0659\n",
      "## source : /home/stephane/Science/RadioGalaxy/DeepField/bosscha/sources_final2/J0224+0659\n",
      "### Band3\n",
      "### Best rms noise for file: ./uid___A002_Xa78e41_X1864.ms.split.cal-CALIBRATE_BANDPASS-J0224+0659.ms.cont4.image.fits (0.068 mJy)\n",
      "/home/stephane/Science/RadioGalaxy/DeepField/bosscha/sources_final2/J0224+0659/Band3/uid___A002_Xa78e41_X1864.ms.split.cal-CALIBRATE_BANDPASS-J0224+0659.ms.cont4.image.fits\n",
      "### 3 sources detected...\n",
      "### Freq: 92.052 GHz\n",
      "### Band4\n",
      "### Band6\n",
      "### Best rms noise for file: ./uid___A002_Xa8666f_X1217.ms.split.cal-CALIBRATE_BANDPASS-J0224+0659.ms.cont4.image.fits (0.060 mJy)\n",
      "/home/stephane/Science/RadioGalaxy/DeepField/bosscha/sources_final2/J0224+0659/Band6/uid___A002_Xa8666f_X1217.ms.split.cal-CALIBRATE_BANDPASS-J0224+0659.ms.cont4.image.fits\n",
      "### 1 sources detected...\n",
      "### Freq: 262.576 GHz\n",
      "### Band7\n"
     ]
    },
    {
     "name": "stderr",
     "output_type": "stream",
     "text": [
      "Output catalog ./uid___A002_X856bb8_X33b1.ms.split.cal-CALIBRATE_BANDPASS-J0224+0659.ms.cont4.image.cat.txt already exists, I will overwrite it\n",
      "Output catalog ./uid___A002_X7c3a52_X904.ms.split.cal-CALIBRATE_PHASE-J0506-6109.ms.cont4.image.cat.txt already exists, I will overwrite it\n",
      "Output catalog ./uid___A002_Xaf9ce7_X3877.ms.split.cal-CALIBRATE_PHASE-J0506-6109.ms.cont4.image.cat.txt already exists, I will overwrite it\n",
      "Output catalog ./uid___A002_Xa9617a_X20d3.ms.split.cal-CALIBRATE_PHASE-J0506-6109.ms.cont4.image.cat.txt already exists, I will overwrite it\n"
     ]
    },
    {
     "name": "stdout",
     "output_type": "stream",
     "text": [
      "### Best rms noise for file: ./uid___A002_X856bb8_X33b1.ms.split.cal-CALIBRATE_BANDPASS-J0224+0659.ms.cont4.image.fits (0.103 mJy)\n",
      "/home/stephane/Science/RadioGalaxy/DeepField/bosscha/sources_final2/J0224+0659/Band7/uid___A002_X856bb8_X33b1.ms.split.cal-CALIBRATE_BANDPASS-J0224+0659.ms.cont4.image.fits\n",
      "### 1 sources detected...\n",
      "### Freq: 343.495 GHz\n",
      "### Band8\n",
      "### Band9\n",
      "##\n",
      "\n",
      "J0506-6109\n",
      "## source : /home/stephane/Science/RadioGalaxy/DeepField/bosscha/sources_final2/J0506-6109\n",
      "### Band3\n",
      "### Best rms noise for file: ./uid___A002_X7c3a52_X904.ms.split.cal-CALIBRATE_PHASE-J0506-6109.ms.cont4.image.fits (0.246 mJy)\n",
      "/home/stephane/Science/RadioGalaxy/DeepField/bosscha/sources_final2/J0506-6109/Band3/uid___A002_X7c3a52_X904.ms.split.cal-CALIBRATE_PHASE-J0506-6109.ms.cont4.image.fits\n",
      "### 1 sources detected...\n",
      "### Freq: 107.647 GHz\n",
      "### Band4\n",
      "### Band6\n",
      "### Best rms noise for file: ./uid___A002_Xaf9ce7_X3877.ms.split.cal-CALIBRATE_PHASE-J0506-6109.ms.cont4.image.fits (0.091 mJy)\n",
      "/home/stephane/Science/RadioGalaxy/DeepField/bosscha/sources_final2/J0506-6109/Band6/uid___A002_Xaf9ce7_X3877.ms.split.cal-CALIBRATE_PHASE-J0506-6109.ms.cont4.image.fits\n",
      "### 2 sources detected...\n",
      "### Freq: 223.295 GHz\n",
      "### Band7\n",
      "### Best rms noise for file: ./uid___A002_Xa9617a_X20d3.ms.split.cal-CALIBRATE_PHASE-J0506-6109.ms.cont4.image.fits (0.176 mJy)\n",
      "/home/stephane/Science/RadioGalaxy/DeepField/bosscha/sources_final2/J0506-6109/Band7/uid___A002_Xa9617a_X20d3.ms.split.cal-CALIBRATE_PHASE-J0506-6109.ms.cont4.image.fits\n",
      "### 1 sources detected...\n",
      "### Freq: 354.125 GHz\n",
      "### Band8\n",
      "### Band9\n",
      "##\n",
      "\n",
      "J1058-8003\n",
      "## source : /home/stephane/Science/RadioGalaxy/DeepField/bosscha/sources_final2/J1058-8003\n",
      "### Band3\n",
      "### Best rms noise for file: ./uid___A002_Xbc19b1_X2b1d.ms.split.cal-CALIBRATE_PHASE-J1058-8003.ms.cont4.image.fits (0.092 mJy)\n",
      "/home/stephane/Science/RadioGalaxy/DeepField/bosscha/sources_final2/J1058-8003/Band3/uid___A002_Xbc19b1_X2b1d.ms.split.cal-CALIBRATE_PHASE-J1058-8003.ms.cont4.image.fits\n"
     ]
    },
    {
     "name": "stderr",
     "output_type": "stream",
     "text": [
      "Output catalog ./uid___A002_Xbc19b1_X2b1d.ms.split.cal-CALIBRATE_PHASE-J1058-8003.ms.cont4.image.cat.txt already exists, I will overwrite it\n",
      "Output catalog ./uid___A002_Xb1d975_X2145.ms.split.cal-CALIBRATE_PHASE-J1058-8003.ms.cont4.image.cat.txt already exists, I will overwrite it\n",
      "Output catalog ./uid___A002_Xbbcb1f_X73d3.ms.split.cal-CALIBRATE_PHASE-J1058-8003.ms.cont4.image.cat.txt already exists, I will overwrite it\n",
      "Output catalog ./uid___A002_X7e4988_X61e.ms.split.cal-CALIBRATE_BANDPASS-J0922-3959.ms.cont4.image.cat.txt already exists, I will overwrite it\n"
     ]
    },
    {
     "name": "stdout",
     "output_type": "stream",
     "text": [
      "### 1 sources detected...\n",
      "### Freq: 93.177 GHz\n",
      "### Band4\n",
      "### Band6\n",
      "### Best rms noise for file: ./uid___A002_Xb1d975_X2145.ms.split.cal-CALIBRATE_PHASE-J1058-8003.ms.cont4.image.fits (0.083 mJy)\n",
      "/home/stephane/Science/RadioGalaxy/DeepField/bosscha/sources_final2/J1058-8003/Band6/uid___A002_Xb1d975_X2145.ms.split.cal-CALIBRATE_PHASE-J1058-8003.ms.cont4.image.fits\n",
      "### 1 sources detected...\n",
      "### Freq: 233.000 GHz\n",
      "### Band7\n",
      "### Best rms noise for file: ./uid___A002_Xbbcb1f_X73d3.ms.split.cal-CALIBRATE_PHASE-J1058-8003.ms.cont4.image.fits (0.139 mJy)\n",
      "/home/stephane/Science/RadioGalaxy/DeepField/bosscha/sources_final2/J1058-8003/Band7/uid___A002_Xbbcb1f_X73d3.ms.split.cal-CALIBRATE_PHASE-J1058-8003.ms.cont4.image.fits\n",
      "### 1 sources detected...\n",
      "### Freq: 340.770 GHz\n",
      "### Band8\n",
      "### Band9\n",
      "##\n",
      "\n",
      "J0922-3959\n",
      "## source : /home/stephane/Science/RadioGalaxy/DeepField/bosscha/sources_final2/J0922-3959\n",
      "### Band3\n",
      "### Best rms noise for file: ./uid___A002_X7e4988_X61e.ms.split.cal-CALIBRATE_BANDPASS-J0922-3959.ms.cont4.image.fits (0.166 mJy)\n",
      "/home/stephane/Science/RadioGalaxy/DeepField/bosscha/sources_final2/J0922-3959/Band3/uid___A002_X7e4988_X61e.ms.split.cal-CALIBRATE_BANDPASS-J0922-3959.ms.cont4.image.fits\n",
      "### 2 sources detected...\n",
      "### Freq: 107.520 GHz\n",
      "### Band4\n"
     ]
    },
    {
     "name": "stderr",
     "output_type": "stream",
     "text": [
      "Output catalog ./uid___A002_X7ebc8f_Xc3b.ms.split.cal-CALIBRATE_BANDPASS-J0922-3959.ms.cont4.image.cat.txt already exists, I will overwrite it\n",
      "Output catalog ./uid___A002_Xa916fc_X3533.ms.split.cal-CALIBRATE_PHASE-J0922-3959.ms.cont4.image.cat.txt already exists, I will overwrite it\n",
      "Output catalog ./uid___A002_Xd8978c_X1b73.ms.split.cal-CALIBRATE_PHASE-J1038+0512.ms.cont4.image.cat.txt already exists, I will overwrite it\n",
      "Output catalog ./uid___A002_Xb55f4e_X38bf.ms.split.cal-CALIBRATE_PHASE-J1038+0512.ms.cont4.image.cat.txt already exists, I will overwrite it\n"
     ]
    },
    {
     "name": "stdout",
     "output_type": "stream",
     "text": [
      "### Band6\n",
      "### Best rms noise for file: ./uid___A002_X7ebc8f_Xc3b.ms.split.cal-CALIBRATE_BANDPASS-J0922-3959.ms.cont4.image.fits (0.066 mJy)\n",
      "/home/stephane/Science/RadioGalaxy/DeepField/bosscha/sources_final2/J0922-3959/Band6/uid___A002_X7ebc8f_Xc3b.ms.split.cal-CALIBRATE_BANDPASS-J0922-3959.ms.cont4.image.fits\n",
      "### 3 sources detected...\n",
      "### Freq: 238.000 GHz\n",
      "### Band7\n",
      "### Best rms noise for file: ./uid___A002_Xa916fc_X3533.ms.split.cal-CALIBRATE_PHASE-J0922-3959.ms.cont4.image.fits (0.269 mJy)\n",
      "/home/stephane/Science/RadioGalaxy/DeepField/bosscha/sources_final2/J0922-3959/Band7/uid___A002_Xa916fc_X3533.ms.split.cal-CALIBRATE_PHASE-J0922-3959.ms.cont4.image.fits\n",
      "### 2 sources detected...\n",
      "### Freq: 338.124 GHz\n",
      "### Band8\n",
      "### Band9\n",
      "##\n",
      "\n",
      "J1038+0512\n",
      "## source : /home/stephane/Science/RadioGalaxy/DeepField/bosscha/sources_final2/J1038+0512\n",
      "### Band3\n",
      "### Best rms noise for file: ./uid___A002_Xd8978c_X1b73.ms.split.cal-CALIBRATE_PHASE-J1038+0512.ms.cont4.image.fits (0.044 mJy)\n",
      "/home/stephane/Science/RadioGalaxy/DeepField/bosscha/sources_final2/J1038+0512/Band3/uid___A002_Xd8978c_X1b73.ms.split.cal-CALIBRATE_PHASE-J1038+0512.ms.cont4.image.fits\n",
      "### 1 sources detected...\n",
      "### Freq: 95.842 GHz\n",
      "### Band4\n",
      "### Best rms noise for file: ./uid___A002_Xb55f4e_X38bf.ms.split.cal-CALIBRATE_PHASE-J1038+0512.ms.cont4.image.fits (0.060 mJy)\n",
      "/home/stephane/Science/RadioGalaxy/DeepField/bosscha/sources_final2/J1038+0512/Band4/uid___A002_Xb55f4e_X38bf.ms.split.cal-CALIBRATE_PHASE-J1038+0512.ms.cont4.image.fits\n",
      "### 1 sources detected...\n",
      "### Freq: 147.524 GHz\n",
      "### Band6\n",
      "### Best rms noise for file: ./uid___A002_Xaf985b_X4e6.ms.split.cal-CALIBRATE_PHASE-J1038+0512.ms.cont4.image.fits (0.116 mJy)\n",
      "/home/stephane/Science/RadioGalaxy/DeepField/bosscha/sources_final2/J1038+0512/Band6/uid___A002_Xaf985b_X4e6.ms.split.cal-CALIBRATE_PHASE-J1038+0512.ms.cont4.image.fits\n"
     ]
    },
    {
     "name": "stderr",
     "output_type": "stream",
     "text": [
      "Output catalog ./uid___A002_Xaf985b_X4e6.ms.split.cal-CALIBRATE_PHASE-J1038+0512.ms.cont4.image.cat.txt already exists, I will overwrite it\n",
      "Output catalog ./uid___A002_Xba839d_X483e.ms.split.cal-CALIBRATE_PHASE-J1038+0512.ms.cont4.image.cat.txt already exists, I will overwrite it\n",
      "Output catalog ./uid___A002_X79d509_X1261.ms.split.cal-CALIBRATE_BANDPASS-J1626-2951.ms.cont4.image.cat.txt already exists, I will overwrite it\n",
      "Output catalog ./uid___A002_X7b492c_Xf92.ms.split.cal-CALIBRATE_BANDPASS-J1626-2951.ms.cont4.image.cat.txt already exists, I will overwrite it\n",
      "Output catalog ./uid___A002_X7fc9da_Xc11.ms.split.cal-CALIBRATE_PHASE-J1626-2951.ms.cont4.image.cat.txt already exists, I will overwrite it\n"
     ]
    },
    {
     "name": "stdout",
     "output_type": "stream",
     "text": [
      "### 1 sources detected...\n",
      "### Freq: 252.056 GHz\n",
      "### Band7\n",
      "### Best rms noise for file: ./uid___A002_Xba839d_X483e.ms.split.cal-CALIBRATE_PHASE-J1038+0512.ms.cont4.image.fits (0.080 mJy)\n",
      "/home/stephane/Science/RadioGalaxy/DeepField/bosscha/sources_final2/J1038+0512/Band7/uid___A002_Xba839d_X483e.ms.split.cal-CALIBRATE_PHASE-J1038+0512.ms.cont4.image.fits\n",
      "### 1 sources detected...\n",
      "### Freq: 325.802 GHz\n",
      "### Band8\n",
      "### Band9\n",
      "##\n",
      "\n",
      "J1626-2951\n",
      "## source : /home/stephane/Science/RadioGalaxy/DeepField/bosscha/sources_final2/J1626-2951\n",
      "### Band3\n",
      "### Best rms noise for file: ./uid___A002_X79d509_X1261.ms.split.cal-CALIBRATE_BANDPASS-J1626-2951.ms.cont4.image.fits (0.041 mJy)\n",
      "/home/stephane/Science/RadioGalaxy/DeepField/bosscha/sources_final2/J1626-2951/Band3/uid___A002_X79d509_X1261.ms.split.cal-CALIBRATE_BANDPASS-J1626-2951.ms.cont4.image.fits\n",
      "### 1 sources detected...\n",
      "### Freq: 100.019 GHz\n",
      "### Band4\n",
      "### Band6\n",
      "### Best rms noise for file: ./uid___A002_X7b492c_Xf92.ms.split.cal-CALIBRATE_BANDPASS-J1626-2951.ms.cont4.image.fits (0.069 mJy)\n",
      "/home/stephane/Science/RadioGalaxy/DeepField/bosscha/sources_final2/J1626-2951/Band6/uid___A002_X7b492c_Xf92.ms.split.cal-CALIBRATE_BANDPASS-J1626-2951.ms.cont4.image.fits\n",
      "### 1 sources detected...\n",
      "### Freq: 239.435 GHz\n",
      "### Band7\n",
      "### Best rms noise for file: ./uid___A002_X7fc9da_Xc11.ms.split.cal-CALIBRATE_PHASE-J1626-2951.ms.cont4.image.fits (0.106 mJy)\n",
      "/home/stephane/Science/RadioGalaxy/DeepField/bosscha/sources_final2/J1626-2951/Band7/uid___A002_X7fc9da_Xc11.ms.split.cal-CALIBRATE_PHASE-J1626-2951.ms.cont4.image.fits\n"
     ]
    },
    {
     "name": "stderr",
     "output_type": "stream",
     "text": [
      "Output catalog ./uid___A002_Xb52d1b_X1ff2.ms.split.cal-CALIBRATE_PHASE-J1626-2951.ms.cont4.image.cat.txt already exists, I will overwrite it\n",
      "Output catalog ./uid___A002_X83bead_X1202.ms.split.cal-CALIBRATE_PHASE-J1626-2951.ms.cont4.image.cat.txt already exists, I will overwrite it\n",
      "Output catalog ./uid___A002_Xb87877_X6e9d.ms.split.cal-OBSERVE_TARGET-4C_28.07.ms.cont4.image.cat.txt already exists, I will overwrite it\n"
     ]
    },
    {
     "name": "stdout",
     "output_type": "stream",
     "text": [
      "### 1 sources detected...\n",
      "### Freq: 337.792 GHz\n",
      "### Band8\n",
      "### Best rms noise for file: ./uid___A002_Xb52d1b_X1ff2.ms.split.cal-CALIBRATE_PHASE-J1626-2951.ms.cont4.image.fits (2.553 mJy)\n",
      "/home/stephane/Science/RadioGalaxy/DeepField/bosscha/sources_final2/J1626-2951/Band8/uid___A002_Xb52d1b_X1ff2.ms.split.cal-CALIBRATE_PHASE-J1626-2951.ms.cont4.image.fits\n",
      "### 1 sources detected...\n",
      "### Freq: 490.947 GHz\n",
      "### Band9\n",
      "### Best rms noise for file: ./uid___A002_X83bead_X1202.ms.split.cal-CALIBRATE_PHASE-J1626-2951.ms.cont4.image.fits (0.603 mJy)\n",
      "/home/stephane/Science/RadioGalaxy/DeepField/bosscha/sources_final2/J1626-2951/Band9/uid___A002_X83bead_X1202.ms.split.cal-CALIBRATE_PHASE-J1626-2951.ms.cont4.image.fits\n",
      "### 1 sources detected...\n",
      "### Freq: 666.683 GHz\n",
      "##\n",
      "\n",
      "J0237+2848\n",
      "## source : /home/stephane/Science/RadioGalaxy/DeepField/bosscha/sources_final2/J0237+2848\n",
      "### Band3\n",
      "### Best rms noise for file: ./uid___A002_Xb87877_X6e9d.ms.split.cal-OBSERVE_TARGET-4C_28.07.ms.cont4.image.fits (0.301 mJy)\n",
      "/home/stephane/Science/RadioGalaxy/DeepField/bosscha/sources_final2/J0237+2848/Band3/uid___A002_Xb87877_X6e9d.ms.split.cal-OBSERVE_TARGET-4C_28.07.ms.cont4.image.fits\n",
      "### 45 sources detected...\n",
      "### Freq: 97.495 GHz\n",
      "### Band4\n",
      "### Band6\n"
     ]
    },
    {
     "name": "stderr",
     "output_type": "stream",
     "text": [
      "Output catalog ./uid___A002_Xb825df_X6f06.ms.split.cal-OBSERVE_TARGET-4C_28.07.ms.cont4.image.cat.txt already exists, I will overwrite it\n",
      "Output catalog ./uid___A002_Xb9cc97_X6e00.ms.split.cal-CALIBRATE_BANDPASS-J0237+2848.ms.cont4.image.cat.txt already exists, I will overwrite it\n",
      "Output catalog ./uid___A002_X85b7b2_X935.ms.split.cal-CALIBRATE_PHASE-J0348-2749.ms.cont4.image.cat.txt already exists, I will overwrite it\n"
     ]
    },
    {
     "name": "stdout",
     "output_type": "stream",
     "text": [
      "### Best rms noise for file: ./uid___A002_Xb825df_X6f06.ms.split.cal-OBSERVE_TARGET-4C_28.07.ms.cont4.image.fits (0.133 mJy)\n",
      "/home/stephane/Science/RadioGalaxy/DeepField/bosscha/sources_final2/J0237+2848/Band6/uid___A002_Xb825df_X6f06.ms.split.cal-OBSERVE_TARGET-4C_28.07.ms.cont4.image.fits\n",
      "### 77 sources detected...\n",
      "### Freq: 233.000 GHz\n",
      "### Band7\n",
      "### Best rms noise for file: ./uid___A002_Xb9cc97_X6e00.ms.split.cal-CALIBRATE_BANDPASS-J0237+2848.ms.cont4.image.fits (0.224 mJy)\n",
      "/home/stephane/Science/RadioGalaxy/DeepField/bosscha/sources_final2/J0237+2848/Band7/uid___A002_Xb9cc97_X6e00.ms.split.cal-CALIBRATE_BANDPASS-J0237+2848.ms.cont4.image.fits\n",
      "### 1 sources detected...\n",
      "### Freq: 350.914 GHz\n",
      "### Band8\n",
      "### Band9\n",
      "##\n",
      "\n",
      "J0348-2749\n",
      "## source : /home/stephane/Science/RadioGalaxy/DeepField/bosscha/sources_final2/J0348-2749\n",
      "### Band3\n",
      "### Best rms noise for file: ./uid___A002_X85b7b2_X935.ms.split.cal-CALIBRATE_PHASE-J0348-2749.ms.cont4.image.fits (0.075 mJy)\n",
      "/home/stephane/Science/RadioGalaxy/DeepField/bosscha/sources_final2/J0348-2749/Band3/uid___A002_X85b7b2_X935.ms.split.cal-CALIBRATE_PHASE-J0348-2749.ms.cont4.image.fits\n",
      "### 1 sources detected...\n",
      "### Freq: 95.825 GHz\n",
      "### Band4\n",
      "### Band6\n",
      "### Best rms noise for file: ./uid___A002_X96e770_X378.ms.split.cal-CALIBRATE_PHASE-J0348-2749.ms.cont4.image.fits (0.083 mJy)\n",
      "/home/stephane/Science/RadioGalaxy/DeepField/bosscha/sources_final2/J0348-2749/Band6/uid___A002_X96e770_X378.ms.split.cal-CALIBRATE_PHASE-J0348-2749.ms.cont4.image.fits\n"
     ]
    },
    {
     "name": "stderr",
     "output_type": "stream",
     "text": [
      "Output catalog ./uid___A002_X96e770_X378.ms.split.cal-CALIBRATE_PHASE-J0348-2749.ms.cont4.image.cat.txt already exists, I will overwrite it\n",
      "Output catalog ./uid___A002_X8602fa_X54eb.ms.split.cal-CALIBRATE_PHASE-J0348-2749.ms.cont4.image.cat.txt already exists, I will overwrite it\n",
      "Output catalog ./uid___A002_Xbc9c9e_X14ee.ms.split.cal-CALIBRATE_BANDPASS-J0538-4405.ms.cont4.image.cat.txt already exists, I will overwrite it\n",
      "Output catalog ./uid___A002_X9a5759_X306.ms.split.cal-CALIBRATE_BANDPASS-J0108+0135.ms.cont4.image.cat.txt already exists, I will overwrite it\n",
      "Output catalog ./uid___A002_X96bfab_X68.ms.split.cal-CALIBRATE_BANDPASS-J0108+0135.ms.cont4.image.cat.txt already exists, I will overwrite it\n",
      "Output catalog ./uid___A002_X4b58a4_X373.ms.split.cal-CALIBRATE_BANDPASS-J0538-4405.ms.cont4.image.cat.txt already exists, I will overwrite it\n"
     ]
    },
    {
     "name": "stdout",
     "output_type": "stream",
     "text": [
      "### 1 sources detected...\n",
      "### Freq: 262.660 GHz\n",
      "### Band7\n",
      "### Best rms noise for file: ./uid___A002_X8602fa_X54eb.ms.split.cal-CALIBRATE_PHASE-J0348-2749.ms.cont4.image.fits (0.100 mJy)\n",
      "/home/stephane/Science/RadioGalaxy/DeepField/bosscha/sources_final2/J0348-2749/Band7/uid___A002_X8602fa_X54eb.ms.split.cal-CALIBRATE_PHASE-J0348-2749.ms.cont4.image.fits\n",
      "### 1 sources detected...\n",
      "### Freq: 344.795 GHz\n",
      "### Band8\n",
      "### Band9\n",
      "##\n",
      "\n",
      "J0538-4405\n",
      "## source : /home/stephane/Science/RadioGalaxy/DeepField/bosscha/sources_final2/J0538-4405\n",
      "### Band3\n",
      "### Best rms noise for file: ./uid___A002_Xbc9c9e_X14ee.ms.split.cal-CALIBRATE_BANDPASS-J0538-4405.ms.cont4.image.fits (0.104 mJy)\n",
      "/home/stephane/Science/RadioGalaxy/DeepField/bosscha/sources_final2/J0538-4405/Band3/uid___A002_Xbc9c9e_X14ee.ms.split.cal-CALIBRATE_BANDPASS-J0538-4405.ms.cont4.image.fits\n",
      "### 2 sources detected...\n",
      "### Freq: 101.303 GHz\n",
      "### Band4\n",
      "### Band6\n",
      "### Best rms noise for file: ./uid___A002_X9a5759_X306.ms.split.cal-CALIBRATE_BANDPASS-J0108+0135.ms.cont4.image.fits (0.088 mJy)\n",
      "/home/stephane/Science/RadioGalaxy/DeepField/bosscha/sources_final2/J0538-4405/Band6/uid___A002_X9a5759_X306.ms.split.cal-CALIBRATE_BANDPASS-J0108+0135.ms.cont4.image.fits\n",
      "### 2 sources detected...\n",
      "### Freq: 233.000 GHz\n",
      "### Band7\n",
      "### Best rms noise for file: ./uid___A002_X96bfab_X68.ms.split.cal-CALIBRATE_BANDPASS-J0108+0135.ms.cont4.image.fits (0.159 mJy)\n",
      "/home/stephane/Science/RadioGalaxy/DeepField/bosscha/sources_final2/J0538-4405/Band7/uid___A002_X96bfab_X68.ms.split.cal-CALIBRATE_BANDPASS-J0108+0135.ms.cont4.image.fits\n",
      "### 2 sources detected...\n",
      "### Freq: 344.795 GHz\n",
      "### Band8\n",
      "### Band9\n",
      "### Best rms noise for file: ./uid___A002_X4b58a4_X373.ms.split.cal-CALIBRATE_BANDPASS-J0538-4405.ms.cont4.image.fits (2.300 mJy)\n",
      "/home/stephane/Science/RadioGalaxy/DeepField/bosscha/sources_final2/J0538-4405/Band9/uid___A002_X4b58a4_X373.ms.split.cal-CALIBRATE_BANDPASS-J0538-4405.ms.cont4.image.fits\n",
      "### 1 sources detected...\n",
      "### Freq: 688.661 GHz\n",
      "##\n",
      "\n",
      "J1700-2610\n",
      "## source : /home/stephane/Science/RadioGalaxy/DeepField/bosscha/sources_final2/J1700-2610\n",
      "### Band3\n"
     ]
    },
    {
     "name": "stderr",
     "output_type": "stream",
     "text": [
      "Output catalog ./uid___A002_X95e355_X1f13.ms.split.cal-CALIBRATE_BANDPASS-J1700-2610.ms.cont4.image.cat.txt already exists, I will overwrite it\n",
      "Output catalog ./uid___A002_X7b13df_Xf8a.ms.split.cal-CALIBRATE_PHASE-J1700-261.ms.cont4.image.cat.txt already exists, I will overwrite it\n",
      "Output catalog ./uid___A002_X7d2ec1_Xa80.ms.split.cal-CALIBRATE_BANDPASS-J1700-2610.ms.cont4.image.cat.txt already exists, I will overwrite it\n",
      "Output catalog ./uid___A002_X87f18c_X17a3.ms.split.cal-CALIBRATE_PHASE-J0217+0144.ms.cont4.image.cat.txt already exists, I will overwrite it\n",
      "Output catalog ./uid___A002_X83bead_X2002.ms.split.cal-CALIBRATE_PHASE-J0217+0144.ms.cont4.image.cat.txt already exists, I will overwrite it\n",
      "Output catalog ./uid___A002_X89252c_X54a.ms.split.cal-CALIBRATE_PHASE-J0217+0144.ms.cont4.image.cat.txt already exists, I will overwrite it\n"
     ]
    },
    {
     "name": "stdout",
     "output_type": "stream",
     "text": [
      "### Best rms noise for file: ./uid___A002_X95e355_X1f13.ms.split.cal-CALIBRATE_BANDPASS-J1700-2610.ms.cont4.image.fits (0.078 mJy)\n",
      "/home/stephane/Science/RadioGalaxy/DeepField/bosscha/sources_final2/J1700-2610/Band3/uid___A002_X95e355_X1f13.ms.split.cal-CALIBRATE_BANDPASS-J1700-2610.ms.cont4.image.fits\n",
      "### 1 sources detected...\n",
      "### Freq: 96.353 GHz\n",
      "### Band4\n",
      "### Band6\n",
      "### Best rms noise for file: ./uid___A002_X7b13df_Xf8a.ms.split.cal-CALIBRATE_PHASE-J1700-261.ms.cont4.image.fits (0.223 mJy)\n",
      "/home/stephane/Science/RadioGalaxy/DeepField/bosscha/sources_final2/J1700-2610/Band6/uid___A002_X7b13df_Xf8a.ms.split.cal-CALIBRATE_PHASE-J1700-261.ms.cont4.image.fits\n",
      "### 1 sources detected...\n",
      "### Freq: 284.806 GHz\n",
      "### Band7\n",
      "### Best rms noise for file: ./uid___A002_X7d2ec1_Xa80.ms.split.cal-CALIBRATE_BANDPASS-J1700-2610.ms.cont4.image.fits (0.153 mJy)\n",
      "/home/stephane/Science/RadioGalaxy/DeepField/bosscha/sources_final2/J1700-2610/Band7/uid___A002_X7d2ec1_Xa80.ms.split.cal-CALIBRATE_BANDPASS-J1700-2610.ms.cont4.image.fits\n",
      "### 1 sources detected...\n",
      "### Freq: 344.995 GHz\n",
      "### Band8\n",
      "### Band9\n",
      "##\n",
      "\n",
      "J0217+0144\n",
      "## source : /home/stephane/Science/RadioGalaxy/DeepField/bosscha/sources_final2/J0217+0144\n",
      "### Band3\n",
      "### Best rms noise for file: ./uid___A002_X87f18c_X17a3.ms.split.cal-CALIBRATE_PHASE-J0217+0144.ms.cont4.image.fits (0.045 mJy)\n",
      "/home/stephane/Science/RadioGalaxy/DeepField/bosscha/sources_final2/J0217+0144/Band3/uid___A002_X87f18c_X17a3.ms.split.cal-CALIBRATE_PHASE-J0217+0144.ms.cont4.image.fits\n",
      "### 1 sources detected...\n",
      "### Freq: 103.057 GHz\n",
      "### Band4\n",
      "### Band6\n",
      "### Best rms noise for file: ./uid___A002_X83bead_X2002.ms.split.cal-CALIBRATE_PHASE-J0217+0144.ms.cont4.image.fits (0.095 mJy)\n",
      "/home/stephane/Science/RadioGalaxy/DeepField/bosscha/sources_final2/J0217+0144/Band6/uid___A002_X83bead_X2002.ms.split.cal-CALIBRATE_PHASE-J0217+0144.ms.cont4.image.fits\n",
      "### 1 sources detected...\n",
      "### Freq: 251.764 GHz\n",
      "### Band7\n",
      "### Best rms noise for file: ./uid___A002_X89252c_X54a.ms.split.cal-CALIBRATE_PHASE-J0217+0144.ms.cont4.image.fits (0.103 mJy)\n",
      "/home/stephane/Science/RadioGalaxy/DeepField/bosscha/sources_final2/J0217+0144/Band7/uid___A002_X89252c_X54a.ms.split.cal-CALIBRATE_PHASE-J0217+0144.ms.cont4.image.fits\n"
     ]
    },
    {
     "name": "stderr",
     "output_type": "stream",
     "text": [
      "Output catalog ./uid___A002_Xd659d4_X2a8c.ms.split.cal-CALIBRATE_PHASE-J0541-0211.ms.cont4.image.cat.txt already exists, I will overwrite it\n",
      "Output catalog ./uid___A002_Xd6ebab_X2240.ms.split.cal-CALIBRATE_PHASE-J0541-0211.ms.cont4.image.cat.txt already exists, I will overwrite it\n"
     ]
    },
    {
     "name": "stdout",
     "output_type": "stream",
     "text": [
      "### 1 sources detected...\n",
      "### Freq: 344.995 GHz\n",
      "### Band8\n",
      "### Band9\n",
      "##\n",
      "\n",
      "J0541-0211\n",
      "## source : /home/stephane/Science/RadioGalaxy/DeepField/bosscha/sources_final2/J0541-0211\n",
      "### Band3\n",
      "### Best rms noise for file: ./uid___A002_Xd659d4_X2a8c.ms.split.cal-CALIBRATE_PHASE-J0541-0211.ms.cont4.image.fits (0.083 mJy)\n",
      "/home/stephane/Science/RadioGalaxy/DeepField/bosscha/sources_final2/J0541-0211/Band3/uid___A002_Xd659d4_X2a8c.ms.split.cal-CALIBRATE_PHASE-J0541-0211.ms.cont4.image.fits\n",
      "### 1 sources detected...\n",
      "### Freq: 95.499 GHz\n",
      "### Band4\n",
      "### Band6\n",
      "### Best rms noise for file: ./uid___A002_Xd6ebab_X2240.ms.split.cal-CALIBRATE_PHASE-J0541-0211.ms.cont4.image.fits (0.058 mJy)\n",
      "/home/stephane/Science/RadioGalaxy/DeepField/bosscha/sources_final2/J0541-0211/Band6/uid___A002_Xd6ebab_X2240.ms.split.cal-CALIBRATE_PHASE-J0541-0211.ms.cont4.image.fits\n",
      "### 1 sources detected...\n",
      "### Freq: 229.842 GHz\n",
      "### Band7\n"
     ]
    },
    {
     "name": "stderr",
     "output_type": "stream",
     "text": [
      "Output catalog ./uid___A002_Xad6824_X1211.ms.split.cal-CALIBRATE_PHASE-J0541-0211.ms.cont4.image.cat.txt already exists, I will overwrite it\n"
     ]
    },
    {
     "name": "stdout",
     "output_type": "stream",
     "text": [
      "### Best rms noise for file: ./uid___A002_Xad6824_X1211.ms.split.cal-CALIBRATE_PHASE-J0541-0211.ms.cont4.image.fits (0.125 mJy)\n",
      "/home/stephane/Science/RadioGalaxy/DeepField/bosscha/sources_final2/J0541-0211/Band7/uid___A002_Xad6824_X1211.ms.split.cal-CALIBRATE_PHASE-J0541-0211.ms.cont4.image.fits\n"
     ]
    },
    {
     "name": "stderr",
     "output_type": "stream",
     "text": [
      "Output catalog ./uid___A002_X95e355_X1f13.ms.split.cal-CALIBRATE_PHASE-J1744-3116.ms.cont4.image.cat.txt already exists, I will overwrite it\n",
      "Output catalog ./uid___A002_X6a533e_X123c.ms.split.cal-CALIBRATE_PHASE-J1744-3116.ms.cont4.image.cat.txt already exists, I will overwrite it\n",
      "Output catalog ./uid___A002_Xb7d0ee_Xdcfd.ms.split.cal-CALIBRATE_PHASE-J1744-3116.ms.cont4.image.cat.txt already exists, I will overwrite it\n"
     ]
    },
    {
     "name": "stdout",
     "output_type": "stream",
     "text": [
      "### 1 sources detected...\n",
      "### Freq: 351.440 GHz\n",
      "### Band8\n",
      "### Band9\n",
      "##\n",
      "\n",
      "J1744-3116\n",
      "## source : /home/stephane/Science/RadioGalaxy/DeepField/bosscha/sources_final2/J1744-3116\n",
      "### Band3\n",
      "### Best rms noise for file: ./uid___A002_X95e355_X1f13.ms.split.cal-CALIBRATE_PHASE-J1744-3116.ms.cont4.image.fits (0.093 mJy)\n",
      "/home/stephane/Science/RadioGalaxy/DeepField/bosscha/sources_final2/J1744-3116/Band3/uid___A002_X95e355_X1f13.ms.split.cal-CALIBRATE_PHASE-J1744-3116.ms.cont4.image.fits\n",
      "### 2 sources detected...\n",
      "### Freq: 96.353 GHz\n",
      "### Band4\n",
      "### Band6\n",
      "### Best rms noise for file: ./uid___A002_X6a533e_X123c.ms.split.cal-CALIBRATE_PHASE-J1744-3116.ms.cont4.image.fits (0.186 mJy)\n",
      "/home/stephane/Science/RadioGalaxy/DeepField/bosscha/sources_final2/J1744-3116/Band6/uid___A002_X6a533e_X123c.ms.split.cal-CALIBRATE_PHASE-J1744-3116.ms.cont4.image.fits\n",
      "### 2 sources detected...\n",
      "### Freq: 218.914 GHz\n",
      "### Band7\n",
      "### Best rms noise for file: ./uid___A002_Xb7d0ee_Xdcfd.ms.split.cal-CALIBRATE_PHASE-J1744-3116.ms.cont4.image.fits (0.091 mJy)\n",
      "/home/stephane/Science/RadioGalaxy/DeepField/bosscha/sources_final2/J1744-3116/Band7/uid___A002_Xb7d0ee_Xdcfd.ms.split.cal-CALIBRATE_PHASE-J1744-3116.ms.cont4.image.fits\n"
     ]
    },
    {
     "name": "stderr",
     "output_type": "stream",
     "text": [
      "Output catalog ./uid___A002_Xaf05a3_X379c.ms.split.cal-CALIBRATE_PHASE-J1717-3342.ms.cont4.image.cat.txt already exists, I will overwrite it\n",
      "Output catalog ./uid___A002_Xb1cc39_X32b4.ms.split.cal-CALIBRATE_PHASE-J1717-3342.ms.cont4.image.cat.txt already exists, I will overwrite it\n",
      "Output catalog ./uid___A002_Xb21481_X6195.ms.split.cal-CALIBRATE_PHASE-J1717-3342.ms.cont4.image.cat.txt already exists, I will overwrite it\n",
      "Output catalog ./uid___A002_Xb5bd46_Xaa31.ms.split.cal-CALIBRATE_BANDPASS-J0423-0120.ms.cont4.image.cat.txt already exists, I will overwrite it\n"
     ]
    },
    {
     "name": "stdout",
     "output_type": "stream",
     "text": [
      "### 1 sources detected...\n",
      "### Freq: 343.495 GHz\n",
      "### Band8\n",
      "### Band9\n",
      "##\n",
      "\n",
      "J1717-3342\n",
      "## source : /home/stephane/Science/RadioGalaxy/DeepField/bosscha/sources_final2/J1717-3342\n",
      "### Band3\n",
      "### Best rms noise for file: ./uid___A002_Xaf05a3_X379c.ms.split.cal-CALIBRATE_PHASE-J1717-3342.ms.cont4.image.fits (0.084 mJy)\n",
      "/home/stephane/Science/RadioGalaxy/DeepField/bosscha/sources_final2/J1717-3342/Band3/uid___A002_Xaf05a3_X379c.ms.split.cal-CALIBRATE_PHASE-J1717-3342.ms.cont4.image.fits\n",
      "### 1 sources detected...\n",
      "### Freq: 91.935 GHz\n",
      "### Band4\n",
      "### Band6\n",
      "### Best rms noise for file: ./uid___A002_Xb1cc39_X32b4.ms.split.cal-CALIBRATE_PHASE-J1717-3342.ms.cont4.image.fits (0.035 mJy)\n",
      "/home/stephane/Science/RadioGalaxy/DeepField/bosscha/sources_final2/J1717-3342/Band6/uid___A002_Xb1cc39_X32b4.ms.split.cal-CALIBRATE_PHASE-J1717-3342.ms.cont4.image.fits\n",
      "### 1 sources detected...\n",
      "### Freq: 224.232 GHz\n",
      "### Band7\n",
      "### Best rms noise for file: ./uid___A002_Xb21481_X6195.ms.split.cal-CALIBRATE_PHASE-J1717-3342.ms.cont4.image.fits (0.089 mJy)\n",
      "/home/stephane/Science/RadioGalaxy/DeepField/bosscha/sources_final2/J1717-3342/Band7/uid___A002_Xb21481_X6195.ms.split.cal-CALIBRATE_PHASE-J1717-3342.ms.cont4.image.fits\n",
      "### 1 sources detected...\n",
      "### Freq: 343.495 GHz\n",
      "### Band8\n",
      "### Band9\n",
      "##\n",
      "\n",
      "J0423-0120\n",
      "## source : /home/stephane/Science/RadioGalaxy/DeepField/bosscha/sources_final2/J0423-0120\n",
      "### Band3\n",
      "### Best rms noise for file: ./uid___A002_Xb5bd46_Xaa31.ms.split.cal-CALIBRATE_BANDPASS-J0423-0120.ms.cont4.image.fits (0.063 mJy)\n",
      "/home/stephane/Science/RadioGalaxy/DeepField/bosscha/sources_final2/J0423-0120/Band3/uid___A002_Xb5bd46_Xaa31.ms.split.cal-CALIBRATE_BANDPASS-J0423-0120.ms.cont4.image.fits\n"
     ]
    },
    {
     "name": "stderr",
     "output_type": "stream",
     "text": [
      "Output catalog ./uid___A002_Xc37375_X289e.ms.split.cal-CALIBRATE_BANDPASS-J0423-0120.ms.cont4.image.cat.txt already exists, I will overwrite it\n"
     ]
    },
    {
     "name": "stdout",
     "output_type": "stream",
     "text": [
      "### 2 sources detected...\n",
      "### Freq: 95.352 GHz\n",
      "### Band4\n",
      "### Band6\n",
      "### Best rms noise for file: ./uid___A002_Xc37375_X289e.ms.split.cal-CALIBRATE_BANDPASS-J0423-0120.ms.cont4.image.fits (0.000 mJy)\n",
      "/home/stephane/Science/RadioGalaxy/DeepField/bosscha/sources_final2/J0423-0120/Band6/uid___A002_Xc37375_X289e.ms.split.cal-CALIBRATE_BANDPASS-J0423-0120.ms.cont4.image.fits\n"
     ]
    },
    {
     "name": "stderr",
     "output_type": "stream",
     "text": [
      "Output catalog ./uid___A002_X8917e8_X516.ms.split.cal-CALIBRATE_BANDPASS-J0423-0120.ms.cont4.image.cat.txt already exists, I will overwrite it\n",
      "Output catalog ./uid___A002_Xb2b000_X23bf.ms.split.cal-CALIBRATE_PHASE-J0040-3243.ms.cont4.image.cat.txt already exists, I will overwrite it\n",
      "Output catalog ./uid___A002_Xaad35a_X102a.ms.split.cal-CALIBRATE_PHASE-J0040-3243.ms.cont4.image.cat.txt already exists, I will overwrite it\n"
     ]
    },
    {
     "name": "stdout",
     "output_type": "stream",
     "text": [
      "### 1 sources detected...\n",
      "### Freq: 212.169 GHz\n",
      "### Band7\n",
      "### Best rms noise for file: ./uid___A002_X8917e8_X516.ms.split.cal-CALIBRATE_BANDPASS-J0423-0120.ms.cont4.image.fits (0.076 mJy)\n",
      "/home/stephane/Science/RadioGalaxy/DeepField/bosscha/sources_final2/J0423-0120/Band7/uid___A002_X8917e8_X516.ms.split.cal-CALIBRATE_BANDPASS-J0423-0120.ms.cont4.image.fits\n",
      "### 1 sources detected...\n",
      "### Freq: 349.177 GHz\n",
      "### Band8\n",
      "### Band9\n",
      "##\n",
      "\n",
      "J0040-3243\n",
      "## source : /home/stephane/Science/RadioGalaxy/DeepField/bosscha/sources_final2/J0040-3243\n",
      "### Band3\n",
      "### Best rms noise for file: ./uid___A002_Xb2b000_X23bf.ms.split.cal-CALIBRATE_PHASE-J0040-3243.ms.cont4.image.fits (0.059 mJy)\n",
      "/home/stephane/Science/RadioGalaxy/DeepField/bosscha/sources_final2/J0040-3243/Band3/uid___A002_Xb2b000_X23bf.ms.split.cal-CALIBRATE_PHASE-J0040-3243.ms.cont4.image.fits\n",
      "### 1 sources detected...\n",
      "### Freq: 105.927 GHz\n",
      "### Band4\n",
      "### Band6\n",
      "### Best rms noise for file: ./uid___A002_Xaad35a_X102a.ms.split.cal-CALIBRATE_PHASE-J0040-3243.ms.cont4.image.fits (0.075 mJy)\n",
      "/home/stephane/Science/RadioGalaxy/DeepField/bosscha/sources_final2/J0040-3243/Band6/uid___A002_Xaad35a_X102a.ms.split.cal-CALIBRATE_PHASE-J0040-3243.ms.cont4.image.fits\n"
     ]
    },
    {
     "name": "stderr",
     "output_type": "stream",
     "text": [
      "Output catalog ./uid___A002_Xba035e_X15b1.ms.split.cal-CALIBRATE-PHASE-J0040-3243.ms.cont4.image.cat.txt already exists, I will overwrite it\n",
      "Output catalog ./uid___A002_Xa4dcb9_X2297.ms.split.cal-CALIBRATE_PHASE-J0108+0135.ms.cont4.image.cat.txt already exists, I will overwrite it\n"
     ]
    },
    {
     "name": "stdout",
     "output_type": "stream",
     "text": [
      "### 1 sources detected...\n",
      "### Freq: 222.204 GHz\n",
      "### Band7\n",
      "### Best rms noise for file: ./uid___A002_Xba035e_X15b1.ms.split.cal-CALIBRATE-PHASE-J0040-3243.ms.cont4.image.fits (0.086 mJy)\n",
      "/home/stephane/Science/RadioGalaxy/DeepField/bosscha/sources_final2/J0040-3243/Band7/uid___A002_Xba035e_X15b1.ms.split.cal-CALIBRATE-PHASE-J0040-3243.ms.cont4.image.fits\n",
      "### 1 sources detected...\n",
      "### Freq: 343.495 GHz\n",
      "### Band8\n",
      "### Band9\n",
      "##\n",
      "\n",
      "J0108+0135\n",
      "## source : /home/stephane/Science/RadioGalaxy/DeepField/bosscha/sources_final2/J0108+0135\n",
      "### Band3\n",
      "### Best rms noise for file: ./uid___A002_Xa4dcb9_X2297.ms.split.cal-CALIBRATE_PHASE-J0108+0135.ms.cont4.image.fits (0.081 mJy)\n",
      "/home/stephane/Science/RadioGalaxy/DeepField/bosscha/sources_final2/J0108+0135/Band3/uid___A002_Xa4dcb9_X2297.ms.split.cal-CALIBRATE_PHASE-J0108+0135.ms.cont4.image.fits\n",
      "### 2 sources detected...\n",
      "### Freq: 96.320 GHz\n",
      "### Band4\n",
      "### Band6\n",
      "### Band7\n",
      "### Band8\n",
      "### Band9\n",
      "##\n",
      "\n"
     ]
    },
    {
     "name": "stderr",
     "output_type": "stream",
     "text": [
      "Output catalog ./uid___A002_Xb7d0ee_X8273.ms.split.cal-CALIBRATE_PHASE-J0113+0222.ms.cont4.image.cat.txt already exists, I will overwrite it\n",
      "Output catalog ./uid___A002_Xb60be4_X1dbb.ms.split.cal-CALIBRATE_PHASE-J0113+0222.ms.cont4.image.cat.txt already exists, I will overwrite it\n"
     ]
    },
    {
     "name": "stdout",
     "output_type": "stream",
     "text": [
      "J0113+0222\n",
      "## source : /home/stephane/Science/RadioGalaxy/DeepField/bosscha/sources_final2/J0113+0222\n",
      "### Band3\n",
      "### Best rms noise for file: ./uid___A002_Xb7d0ee_X8273.ms.split.cal-CALIBRATE_PHASE-J0113+0222.ms.cont4.image.fits (0.076 mJy)\n",
      "/home/stephane/Science/RadioGalaxy/DeepField/bosscha/sources_final2/J0113+0222/Band3/uid___A002_Xb7d0ee_X8273.ms.split.cal-CALIBRATE_PHASE-J0113+0222.ms.cont4.image.fits\n",
      "### 1 sources detected...\n",
      "### Freq: 97.495 GHz\n",
      "### Band4\n",
      "### Band6\n",
      "### Best rms noise for file: ./uid___A002_Xb60be4_X1dbb.ms.split.cal-CALIBRATE_PHASE-J0113+0222.ms.cont4.image.fits (0.096 mJy)\n",
      "/home/stephane/Science/RadioGalaxy/DeepField/bosscha/sources_final2/J0113+0222/Band6/uid___A002_Xb60be4_X1dbb.ms.split.cal-CALIBRATE_PHASE-J0113+0222.ms.cont4.image.fits\n",
      "### 1 sources detected...\n",
      "### Freq: 233.000 GHz\n",
      "### Band7\n",
      "### Best rms noise for file: ./uid___A002_Xb5fdce_Xd9d.ms.split.cal-CALIBRATE_PHASE-J0113+0222.ms.cont4.image.fits (0.175 mJy)\n",
      "/home/stephane/Science/RadioGalaxy/DeepField/bosscha/sources_final2/J0113+0222/Band7/uid___A002_Xb5fdce_Xd9d.ms.split.cal-CALIBRATE_PHASE-J0113+0222.ms.cont4.image.fits\n"
     ]
    },
    {
     "name": "stderr",
     "output_type": "stream",
     "text": [
      "Output catalog ./uid___A002_Xb5fdce_Xd9d.ms.split.cal-CALIBRATE_PHASE-J0113+0222.ms.cont4.image.cat.txt already exists, I will overwrite it\n",
      "Output catalog ./uid___A002_Xa9a44e_X1225.ms.split.cal-CALIBRATE_BANDPASS-J2158-1501.ms.cont4.image.cat.txt already exists, I will overwrite it\n",
      "Output catalog ./uid___A002_Xaa8932_X2ac2.ms.split.cal-CALIBRATE_PHASE-J2158-1501.ms.cont4.image.cat.txt already exists, I will overwrite it\n"
     ]
    },
    {
     "name": "stdout",
     "output_type": "stream",
     "text": [
      "### 1 sources detected...\n",
      "### Freq: 343.495 GHz\n",
      "### Band8\n",
      "### Band9\n",
      "##\n",
      "\n",
      "J2158-1501\n",
      "## source : /home/stephane/Science/RadioGalaxy/DeepField/bosscha/sources_final2/J2158-1501\n",
      "### Band3\n",
      "### Best rms noise for file: ./uid___A002_Xa9a44e_X1225.ms.split.cal-CALIBRATE_BANDPASS-J2158-1501.ms.cont4.image.fits (0.103 mJy)\n",
      "/home/stephane/Science/RadioGalaxy/DeepField/bosscha/sources_final2/J2158-1501/Band3/uid___A002_Xa9a44e_X1225.ms.split.cal-CALIBRATE_BANDPASS-J2158-1501.ms.cont4.image.fits\n",
      "### 3 sources detected...\n",
      "### Freq: 89.001 GHz\n",
      "### Band4\n",
      "### Band6\n",
      "### Best rms noise for file: ./uid___A002_Xaa8932_X2ac2.ms.split.cal-CALIBRATE_PHASE-J2158-1501.ms.cont4.image.fits (0.227 mJy)\n",
      "/home/stephane/Science/RadioGalaxy/DeepField/bosscha/sources_final2/J2158-1501/Band6/uid___A002_Xaa8932_X2ac2.ms.split.cal-CALIBRATE_PHASE-J2158-1501.ms.cont4.image.fits\n"
     ]
    },
    {
     "name": "stderr",
     "output_type": "stream",
     "text": [
      "Output catalog ./uid___A002_Xa7f9e3_X210.ms.split.cal-CALIBRATE_BANDPASS-J2158-1501.ms.cont4.image.cat.txt already exists, I will overwrite it\n",
      "Output catalog ./uid___A002_Xa6c1df_X1062.ms.split.cal-CALIBRATE_PHASE-J2158-1501.ms.cont4.image.cat.txt already exists, I will overwrite it\n"
     ]
    },
    {
     "name": "stdout",
     "output_type": "stream",
     "text": [
      "### 1 sources detected...\n",
      "### Freq: 242.512 GHz\n",
      "### Band7\n",
      "### Best rms noise for file: ./uid___A002_Xa7f9e3_X210.ms.split.cal-CALIBRATE_BANDPASS-J2158-1501.ms.cont4.image.fits (0.077 mJy)\n",
      "/home/stephane/Science/RadioGalaxy/DeepField/bosscha/sources_final2/J2158-1501/Band7/uid___A002_Xa7f9e3_X210.ms.split.cal-CALIBRATE_BANDPASS-J2158-1501.ms.cont4.image.fits\n",
      "### 1 sources detected...\n",
      "### Freq: 342.995 GHz\n",
      "### Band8\n",
      "### Band9\n",
      "### Best rms noise for file: ./uid___A002_Xa6c1df_X1062.ms.split.cal-CALIBRATE_PHASE-J2158-1501.ms.cont4.image.fits (0.555 mJy)\n",
      "/home/stephane/Science/RadioGalaxy/DeepField/bosscha/sources_final2/J2158-1501/Band9/uid___A002_Xa6c1df_X1062.ms.split.cal-CALIBRATE_PHASE-J2158-1501.ms.cont4.image.fits\n"
     ]
    },
    {
     "name": "stderr",
     "output_type": "stream",
     "text": [
      "Output catalog ./uid___A002_Xbc68a1_X1315.ms.split.cal-CALIBRATE_BANDPASS-J1924-2914.ms.cont4.image.cat.txt already exists, I will overwrite it\n",
      "Output catalog ./uid___A002_X7c5411_X1b70.ms.split.cal-CALIBRATE_BANDPASS-J1924-2914.ms.cont4.image.cat.txt already exists, I will overwrite it\n",
      "Output catalog ./uid___A002_Xb21481_X6195.ms.split.cal-CALIBRATE_BANDPASS-J1924-2914.ms.cont4.image.cat.txt already exists, I will overwrite it\n"
     ]
    },
    {
     "name": "stdout",
     "output_type": "stream",
     "text": [
      "### 1 sources detected...\n",
      "### Freq: 642.396 GHz\n",
      "##\n",
      "\n",
      "J1924-2914\n",
      "## source : /home/stephane/Science/RadioGalaxy/DeepField/bosscha/sources_final2/J1924-2914\n",
      "### Band3\n",
      "### Best rms noise for file: ./uid___A002_Xbc68a1_X1315.ms.split.cal-CALIBRATE_BANDPASS-J1924-2914.ms.cont4.image.fits (0.163 mJy)\n",
      "/home/stephane/Science/RadioGalaxy/DeepField/bosscha/sources_final2/J1924-2914/Band3/uid___A002_Xbc68a1_X1315.ms.split.cal-CALIBRATE_BANDPASS-J1924-2914.ms.cont4.image.fits\n",
      "### 1 sources detected...\n",
      "### Freq: 93.178 GHz\n",
      "### Band4\n",
      "### Band6\n",
      "### Best rms noise for file: ./uid___A002_X7c5411_X1b70.ms.split.cal-CALIBRATE_BANDPASS-J1924-2914.ms.cont4.image.fits (0.209 mJy)\n",
      "/home/stephane/Science/RadioGalaxy/DeepField/bosscha/sources_final2/J1924-2914/Band6/uid___A002_X7c5411_X1b70.ms.split.cal-CALIBRATE_BANDPASS-J1924-2914.ms.cont4.image.fits\n",
      "### 6 sources detected...\n",
      "### Freq: 221.524 GHz\n",
      "### Band7\n",
      "### Best rms noise for file: ./uid___A002_Xb21481_X6195.ms.split.cal-CALIBRATE_BANDPASS-J1924-2914.ms.cont4.image.fits (0.052 mJy)\n",
      "/home/stephane/Science/RadioGalaxy/DeepField/bosscha/sources_final2/J1924-2914/Band7/uid___A002_Xb21481_X6195.ms.split.cal-CALIBRATE_BANDPASS-J1924-2914.ms.cont4.image.fits\n"
     ]
    },
    {
     "name": "stderr",
     "output_type": "stream",
     "text": [
      "Output catalog ./uid___A002_Xaf4574_X4aa.ms.split.cal-CALIBRATE_PHASE-J0541-0541.ms.cont4.image.cat.txt already exists, I will overwrite it\n",
      "Output catalog ./uid___A002_X9707f1_Xfee.ms.split.cal-CALIBRATE_PHASE-J0541-0541.ms.cont4.image.cat.txt already exists, I will overwrite it\n",
      "Output catalog ./uid___A002_X72d23d_X75f.ms.split.cal-CALIBRATE_PHASE-J0541-0541.ms.cont4.image.cat.txt already exists, I will overwrite it\n",
      "Output catalog ./uid___A002_X71e4ae_X58e.ms.split.cal-CALIBRATE_PHASE-J0215-0222.ms.cont4.image.cat.txt already exists, I will overwrite it\n",
      "Output catalog ./uid___A002_X8081ba_X3d24.ms.split.cal-CALIBRATE_PHASE-J0215-0222.ms.cont4.image.cat.txt already exists, I will overwrite it\n"
     ]
    },
    {
     "name": "stdout",
     "output_type": "stream",
     "text": [
      "### 1 sources detected...\n",
      "### Freq: 343.495 GHz\n",
      "### Band8\n",
      "### Band9\n",
      "##\n",
      "\n",
      "J0541-0541\n",
      "## source : /home/stephane/Science/RadioGalaxy/DeepField/bosscha/sources_final2/J0541-0541\n",
      "### Band3\n",
      "### Best rms noise for file: ./uid___A002_Xaf4574_X4aa.ms.split.cal-CALIBRATE_PHASE-J0541-0541.ms.cont4.image.fits (0.081 mJy)\n",
      "/home/stephane/Science/RadioGalaxy/DeepField/bosscha/sources_final2/J0541-0541/Band3/uid___A002_Xaf4574_X4aa.ms.split.cal-CALIBRATE_PHASE-J0541-0541.ms.cont4.image.fits\n",
      "### 1 sources detected...\n",
      "### Freq: 86.285 GHz\n",
      "### Band4\n",
      "### Band6\n",
      "### Best rms noise for file: ./uid___A002_X9707f1_Xfee.ms.split.cal-CALIBRATE_PHASE-J0541-0541.ms.cont4.image.fits (0.072 mJy)\n",
      "/home/stephane/Science/RadioGalaxy/DeepField/bosscha/sources_final2/J0541-0541/Band6/uid___A002_X9707f1_Xfee.ms.split.cal-CALIBRATE_PHASE-J0541-0541.ms.cont4.image.fits\n",
      "### 1 sources detected...\n",
      "### Freq: 225.182 GHz\n",
      "### Band7\n",
      "### Best rms noise for file: ./uid___A002_X72d23d_X75f.ms.split.cal-CALIBRATE_PHASE-J0541-0541.ms.cont4.image.fits (0.900 mJy)\n",
      "/home/stephane/Science/RadioGalaxy/DeepField/bosscha/sources_final2/J0541-0541/Band7/uid___A002_X72d23d_X75f.ms.split.cal-CALIBRATE_PHASE-J0541-0541.ms.cont4.image.fits\n",
      "### 1 sources detected...\n",
      "### Freq: 344.995 GHz\n",
      "### Band8\n",
      "### Band9\n",
      "##\n",
      "\n",
      "J0215-0222\n",
      "## source : /home/stephane/Science/RadioGalaxy/DeepField/bosscha/sources_final2/J0215-0222\n",
      "### Band3\n",
      "### Best rms noise for file: ./uid___A002_X71e4ae_X58e.ms.split.cal-CALIBRATE_PHASE-J0215-0222.ms.cont4.image.fits (0.679 mJy)\n",
      "/home/stephane/Science/RadioGalaxy/DeepField/bosscha/sources_final2/J0215-0222/Band3/uid___A002_X71e4ae_X58e.ms.split.cal-CALIBRATE_PHASE-J0215-0222.ms.cont4.image.fits\n",
      "### 1 sources detected...\n",
      "### Freq: 93.679 GHz\n",
      "### Band4\n",
      "### Band6\n",
      "### Best rms noise for file: ./uid___A002_X8081ba_X3d24.ms.split.cal-CALIBRATE_PHASE-J0215-0222.ms.cont4.image.fits (0.101 mJy)\n",
      "/home/stephane/Science/RadioGalaxy/DeepField/bosscha/sources_final2/J0215-0222/Band6/uid___A002_X8081ba_X3d24.ms.split.cal-CALIBRATE_PHASE-J0215-0222.ms.cont4.image.fits\n"
     ]
    },
    {
     "name": "stderr",
     "output_type": "stream",
     "text": [
      "Output catalog ./uid___A002_Xb57286_X319.ms.split.cal-CALIBRATE_PHASE-J0215-0222.ms.cont4.image.cat.txt already exists, I will overwrite it\n",
      "Output catalog ./uid___A002_Xc2b007_X69e.ms.split.cal-CALIBRATE_PHASE-J2246-1206.ms.cont4.image.cat.txt already exists, I will overwrite it\n"
     ]
    },
    {
     "name": "stdout",
     "output_type": "stream",
     "text": [
      "### 1 sources detected...\n",
      "### Freq: 224.941 GHz\n",
      "### Band7\n",
      "### Best rms noise for file: ./uid___A002_Xb57286_X319.ms.split.cal-CALIBRATE_PHASE-J0215-0222.ms.cont4.image.fits (0.074 mJy)\n",
      "/home/stephane/Science/RadioGalaxy/DeepField/bosscha/sources_final2/J0215-0222/Band7/uid___A002_Xb57286_X319.ms.split.cal-CALIBRATE_PHASE-J0215-0222.ms.cont4.image.fits\n",
      "### 1 sources detected...\n",
      "### Freq: 343.495 GHz\n",
      "### Band8\n",
      "### Band9\n",
      "##\n",
      "\n",
      "J2246-1206\n",
      "## source : /home/stephane/Science/RadioGalaxy/DeepField/bosscha/sources_final2/J2246-1206\n",
      "### Band3\n",
      "### Best rms noise for file: ./uid___A002_Xc2b007_X69e.ms.split.cal-CALIBRATE_PHASE-J2246-1206.ms.cont4.image.fits (0.034 mJy)\n",
      "/home/stephane/Science/RadioGalaxy/DeepField/bosscha/sources_final2/J2246-1206/Band3/uid___A002_Xc2b007_X69e.ms.split.cal-CALIBRATE_PHASE-J2246-1206.ms.cont4.image.fits\n"
     ]
    },
    {
     "name": "stderr",
     "output_type": "stream",
     "text": [
      "Output catalog ./uid___A002_Xb925ef_Xf8c.ms.split.cal-CALIBRATE_PHASE-J2246-1206.ms.cont4.image.cat.txt already exists, I will overwrite it\n",
      "Output catalog ./uid___A002_Xb9cc97_X6f0.ms.split.cal-CALIBRATE_PHASE-J2246-1206.ms.cont4.image.cat.txt already exists, I will overwrite it\n"
     ]
    },
    {
     "name": "stdout",
     "output_type": "stream",
     "text": [
      "### 273 sources detected...\n",
      "### Freq: 102.012 GHz\n",
      "### Band4\n",
      "### Best rms noise for file: ./uid___A002_Xb925ef_Xf8c.ms.split.cal-CALIBRATE_PHASE-J2246-1206.ms.cont4.image.fits (0.084 mJy)\n",
      "/home/stephane/Science/RadioGalaxy/DeepField/bosscha/sources_final2/J2246-1206/Band4/uid___A002_Xb925ef_Xf8c.ms.split.cal-CALIBRATE_PHASE-J2246-1206.ms.cont4.image.fits\n",
      "### 6 sources detected...\n",
      "### Freq: 142.986 GHz\n",
      "### Band6\n",
      "### Best rms noise for file: ./uid___A002_Xb9cc97_X6f0.ms.split.cal-CALIBRATE_PHASE-J2246-1206.ms.cont4.image.fits (0.134 mJy)\n",
      "/home/stephane/Science/RadioGalaxy/DeepField/bosscha/sources_final2/J2246-1206/Band6/uid___A002_Xb9cc97_X6f0.ms.split.cal-CALIBRATE_PHASE-J2246-1206.ms.cont4.image.fits\n",
      "### 1 sources detected...\n",
      "### Freq: 232.982 GHz\n",
      "### Band7\n",
      "### Best rms noise for file: ./uid___A002_Xa7f9e3_X210.ms.split.cal-CALIBRATE_PHASE-J2246-1206.ms.cont4.image.fits (0.103 mJy)\n",
      "/home/stephane/Science/RadioGalaxy/DeepField/bosscha/sources_final2/J2246-1206/Band7/uid___A002_Xa7f9e3_X210.ms.split.cal-CALIBRATE_PHASE-J2246-1206.ms.cont4.image.fits\n"
     ]
    },
    {
     "name": "stderr",
     "output_type": "stream",
     "text": [
      "Output catalog ./uid___A002_Xa7f9e3_X210.ms.split.cal-CALIBRATE_PHASE-J2246-1206.ms.cont4.image.cat.txt already exists, I will overwrite it\n",
      "Output catalog ./uid___A002_Xb7a3f8_X161a.ms.split.cal-CALIBRATE_PHASE-J0426+2327.ms.cont4.image.cat.txt already exists, I will overwrite it\n"
     ]
    },
    {
     "name": "stdout",
     "output_type": "stream",
     "text": [
      "### 1 sources detected...\n",
      "### Freq: 342.995 GHz\n",
      "### Band8\n",
      "### Band9\n",
      "##\n",
      "\n",
      "J0426+2327\n",
      "## source : /home/stephane/Science/RadioGalaxy/DeepField/bosscha/sources_final2/J0426+2327\n",
      "### Band3\n",
      "### Best rms noise for file: ./uid___A002_Xb7a3f8_X161a.ms.split.cal-CALIBRATE_PHASE-J0426+2327.ms.cont4.image.fits (0.059 mJy)\n",
      "/home/stephane/Science/RadioGalaxy/DeepField/bosscha/sources_final2/J0426+2327/Band3/uid___A002_Xb7a3f8_X161a.ms.split.cal-CALIBRATE_PHASE-J0426+2327.ms.cont4.image.fits\n",
      "### 1 sources detected...\n",
      "### Freq: 107.802 GHz\n",
      "### Band4\n",
      "### Band6\n"
     ]
    },
    {
     "name": "stderr",
     "output_type": "stream",
     "text": [
      "Output catalog ./uid___A002_Xbb44e1_X8cec.ms.split.cal-CALIBRATE_PHASE-J0426+2327.ms.cont4.image.cat.txt already exists, I will overwrite it\n",
      "Output catalog ./uid___A002_Xbb0685_X1b34.ms.split.cal-CALIBRATE_PHASE-J0426+2327.ms.cont4.image.cat.txt already exists, I will overwrite it\n",
      "Output catalog ./uid___A002_Xc7a409_X4d98.ms.split.cal-CALIBRATE_BANDPASS-J2134-0153.ms.cont4.image.cat.txt already exists, I will overwrite it\n"
     ]
    },
    {
     "name": "stdout",
     "output_type": "stream",
     "text": [
      "### Best rms noise for file: ./uid___A002_Xbb44e1_X8cec.ms.split.cal-CALIBRATE_PHASE-J0426+2327.ms.cont4.image.fits (0.018 mJy)\n",
      "/home/stephane/Science/RadioGalaxy/DeepField/bosscha/sources_final2/J0426+2327/Band6/uid___A002_Xbb44e1_X8cec.ms.split.cal-CALIBRATE_PHASE-J0426+2327.ms.cont4.image.fits\n",
      "### 19 sources detected...\n",
      "### Freq: 251.980 GHz\n",
      "### Band7\n",
      "### Best rms noise for file: ./uid___A002_Xbb0685_X1b34.ms.split.cal-CALIBRATE_PHASE-J0426+2327.ms.cont4.image.fits (0.162 mJy)\n",
      "/home/stephane/Science/RadioGalaxy/DeepField/bosscha/sources_final2/J0426+2327/Band7/uid___A002_Xbb0685_X1b34.ms.split.cal-CALIBRATE_PHASE-J0426+2327.ms.cont4.image.fits\n",
      "### 1 sources detected...\n",
      "### Freq: 338.618 GHz\n",
      "### Band8\n",
      "### Band9\n",
      "##\n",
      "\n",
      "J2134-0153\n",
      "## source : /home/stephane/Science/RadioGalaxy/DeepField/bosscha/sources_final2/J2134-0153\n",
      "### Band3\n",
      "### Best rms noise for file: ./uid___A002_Xc7a409_X4d98.ms.split.cal-CALIBRATE_BANDPASS-J2134-0153.ms.cont4.image.fits (0.048 mJy)\n",
      "/home/stephane/Science/RadioGalaxy/DeepField/bosscha/sources_final2/J2134-0153/Band3/uid___A002_Xc7a409_X4d98.ms.split.cal-CALIBRATE_BANDPASS-J2134-0153.ms.cont4.image.fits\n"
     ]
    },
    {
     "name": "stderr",
     "output_type": "stream",
     "text": [
      "Output catalog ./uid___A002_Xbdcd3c_X2b86.ms.split.cal-CALIBRATE_PHASE-J2134-0153.ms.cont4.image.cat.txt already exists, I will overwrite it\n",
      "Output catalog ./uid___A002_Xb9c01c_X127a.ms.split.cal-CALIBRATE_PHASE-J2134-0153.ms.cont4.image.cat.txt already exists, I will overwrite it\n",
      "Output catalog ./uid___A002_Xa42f75_X73e.ms.split.cal-CALIBRATE_BANDPASS-J2134-0153.ms.cont4.image.cat.txt already exists, I will overwrite it\n"
     ]
    },
    {
     "name": "stdout",
     "output_type": "stream",
     "text": [
      "### 12 sources detected...\n",
      "### Freq: 97.902 GHz\n",
      "### Band4\n",
      "### Best rms noise for file: ./uid___A002_Xbdcd3c_X2b86.ms.split.cal-CALIBRATE_PHASE-J2134-0153.ms.cont4.image.fits (0.113 mJy)\n",
      "/home/stephane/Science/RadioGalaxy/DeepField/bosscha/sources_final2/J2134-0153/Band4/uid___A002_Xbdcd3c_X2b86.ms.split.cal-CALIBRATE_PHASE-J2134-0153.ms.cont4.image.fits\n",
      "### 1 sources detected...\n",
      "### Freq: 151.029 GHz\n",
      "### Band6\n",
      "### Best rms noise for file: ./uid___A002_Xb9c01c_X127a.ms.split.cal-CALIBRATE_PHASE-J2134-0153.ms.cont4.image.fits (0.083 mJy)\n",
      "/home/stephane/Science/RadioGalaxy/DeepField/bosscha/sources_final2/J2134-0153/Band6/uid___A002_Xb9c01c_X127a.ms.split.cal-CALIBRATE_PHASE-J2134-0153.ms.cont4.image.fits\n",
      "### 7 sources detected...\n",
      "### Freq: 251.002 GHz\n",
      "### Band7\n",
      "### Best rms noise for file: ./uid___A002_Xa42f75_X73e.ms.split.cal-CALIBRATE_BANDPASS-J2134-0153.ms.cont4.image.fits (0.107 mJy)\n",
      "/home/stephane/Science/RadioGalaxy/DeepField/bosscha/sources_final2/J2134-0153/Band7/uid___A002_Xa42f75_X73e.ms.split.cal-CALIBRATE_BANDPASS-J2134-0153.ms.cont4.image.fits\n"
     ]
    },
    {
     "name": "stderr",
     "output_type": "stream",
     "text": [
      "Output catalog ./uid___A002_Xc6d2f9_X31a7.ms.split.cal-CALIBRATE_BANDPASS-J0904-5735.ms.cont4.image.cat.txt already exists, I will overwrite it\n"
     ]
    },
    {
     "name": "stdout",
     "output_type": "stream",
     "text": [
      "### 1 sources detected...\n",
      "### Freq: 344.995 GHz\n",
      "### Band8\n",
      "### Band9\n",
      "##\n",
      "\n",
      "J0904-5735\n",
      "## source : /home/stephane/Science/RadioGalaxy/DeepField/bosscha/sources_final2/J0904-5735\n",
      "### Band3\n",
      "### Best rms noise for file: ./uid___A002_Xc6d2f9_X31a7.ms.split.cal-CALIBRATE_BANDPASS-J0904-5735.ms.cont4.image.fits (0.066 mJy)\n",
      "/home/stephane/Science/RadioGalaxy/DeepField/bosscha/sources_final2/J0904-5735/Band3/uid___A002_Xc6d2f9_X31a7.ms.split.cal-CALIBRATE_BANDPASS-J0904-5735.ms.cont4.image.fits\n"
     ]
    },
    {
     "name": "stderr",
     "output_type": "stream",
     "text": [
      "Output catalog ./uid___A002_Xaea19c_X2cb3.ms.split.cal-CALIBRATE_PHASE-J0904-5735.ms.cont4.image.cat.txt already exists, I will overwrite it\n",
      "Output catalog ./uid___A002_Xd23397_X51bb.ms.split.cal-CALIBRATE_FLUX-J0904-5735.ms.cont4.image.cat.txt already exists, I will overwrite it\n",
      "Output catalog ./uid___A002_Xbab09c_X36f0.ms.split.cal-CALIBRATE_PHASE-J0904-5735.ms.cont4.image.cat.txt already exists, I will overwrite it\n",
      "Output catalog ./uid___A002_Xac2df7_X127c.ms.split.cal-CALIBRATE_BANDPASS-J0635-7516.ms.cont4.image.cat.txt already exists, I will overwrite it\n"
     ]
    },
    {
     "name": "stdout",
     "output_type": "stream",
     "text": [
      "### 381 sources detected...\n",
      "### Freq: 99.063 GHz\n",
      "### Band4\n",
      "### Band6\n",
      "### Best rms noise for file: ./uid___A002_Xaea19c_X2cb3.ms.split.cal-CALIBRATE_PHASE-J0904-5735.ms.cont4.image.fits (0.206 mJy)\n",
      "/home/stephane/Science/RadioGalaxy/DeepField/bosscha/sources_final2/J0904-5735/Band6/uid___A002_Xaea19c_X2cb3.ms.split.cal-CALIBRATE_PHASE-J0904-5735.ms.cont4.image.fits\n",
      "### 1 sources detected...\n",
      "### Freq: 225.443 GHz\n",
      "### Band7\n",
      "### Best rms noise for file: ./uid___A002_Xd23397_X51bb.ms.split.cal-CALIBRATE_FLUX-J0904-5735.ms.cont4.image.fits (0.217 mJy)\n",
      "/home/stephane/Science/RadioGalaxy/DeepField/bosscha/sources_final2/J0904-5735/Band7/uid___A002_Xd23397_X51bb.ms.split.cal-CALIBRATE_FLUX-J0904-5735.ms.cont4.image.fits\n",
      "### 4 sources detected...\n",
      "### Freq: 284.368 GHz\n",
      "### Band8\n",
      "### Best rms noise for file: ./uid___A002_Xbab09c_X36f0.ms.split.cal-CALIBRATE_PHASE-J0904-5735.ms.cont4.image.fits (0.516 mJy)\n",
      "/home/stephane/Science/RadioGalaxy/DeepField/bosscha/sources_final2/J0904-5735/Band8/uid___A002_Xbab09c_X36f0.ms.split.cal-CALIBRATE_PHASE-J0904-5735.ms.cont4.image.fits\n",
      "### 1 sources detected...\n",
      "### Freq: 484.649 GHz\n",
      "### Band9\n",
      "##\n",
      "\n",
      "J0635-7516\n",
      "## source : /home/stephane/Science/RadioGalaxy/DeepField/bosscha/sources_final2/J0635-7516\n",
      "### Band3\n",
      "### Best rms noise for file: ./uid___A002_Xac2df7_X127c.ms.split.cal-CALIBRATE_BANDPASS-J0635-7516.ms.cont4.image.fits (0.034 mJy)\n",
      "/home/stephane/Science/RadioGalaxy/DeepField/bosscha/sources_final2/J0635-7516/Band3/uid___A002_Xac2df7_X127c.ms.split.cal-CALIBRATE_BANDPASS-J0635-7516.ms.cont4.image.fits\n"
     ]
    },
    {
     "name": "stderr",
     "output_type": "stream",
     "text": [
      "Output catalog ./uid___A002_Xac2df7_X127c.ms.split.cal-CALIBRATE_BANDPASS-J0635-7516.ms.cont4.image.cat.txt already exists, I will overwrite it\n"
     ]
    },
    {
     "name": "stdout",
     "output_type": "stream",
     "text": [
      "### 567 sources detected...\n",
      "### Freq: 97.489 GHz\n",
      "### Band4\n",
      "### Band6\n",
      "### Best rms noise for file: ./uid___A002_Xac2df7_X127c.ms.split.cal-CALIBRATE_BANDPASS-J0635-7516.ms.cont4.image.fits (0.034 mJy)\n",
      "/home/stephane/Science/RadioGalaxy/DeepField/bosscha/sources_final2/J0635-7516/Band6/uid___A002_Xac2df7_X127c.ms.split.cal-CALIBRATE_BANDPASS-J0635-7516.ms.cont4.image.fits\n"
     ]
    },
    {
     "name": "stderr",
     "output_type": "stream",
     "text": [
      "Output catalog ./uid___A002_X87c075_Xba1.ms.split.cal-CALIBRATE_BANDPASS-J0635-7516.ms.cont4.image.cat.txt already exists, I will overwrite it\n",
      "Output catalog ./uid___A002_X7330a2_X11b5.ms.split.cal-CALIBRATE_PHASE-J0532+0732.ms.cont4.image.cat.txt already exists, I will overwrite it\n",
      "Output catalog ./uid___A002_Xc38bff_Xda2.ms.split.cal-CALIBRATE_PHASE-J0532+0732.ms.cont4.image.cat.txt already exists, I will overwrite it\n"
     ]
    },
    {
     "name": "stdout",
     "output_type": "stream",
     "text": [
      "### 567 sources detected...\n",
      "### Freq: 97.489 GHz\n",
      "### Band7\n",
      "### Best rms noise for file: ./uid___A002_X87c075_Xba1.ms.split.cal-CALIBRATE_BANDPASS-J0635-7516.ms.cont4.image.fits (0.092 mJy)\n",
      "/home/stephane/Science/RadioGalaxy/DeepField/bosscha/sources_final2/J0635-7516/Band7/uid___A002_X87c075_Xba1.ms.split.cal-CALIBRATE_BANDPASS-J0635-7516.ms.cont4.image.fits\n",
      "### 3 sources detected...\n",
      "### Freq: 344.977 GHz\n",
      "### Band8\n",
      "### Band9\n",
      "##\n",
      "\n",
      "J0532+0732\n",
      "## source : /home/stephane/Science/RadioGalaxy/DeepField/bosscha/sources_final2/J0532+0732\n",
      "### Band3\n",
      "### Best rms noise for file: ./uid___A002_X7330a2_X11b5.ms.split.cal-CALIBRATE_PHASE-J0532+0732.ms.cont4.image.fits (0.149 mJy)\n",
      "/home/stephane/Science/RadioGalaxy/DeepField/bosscha/sources_final2/J0532+0732/Band3/uid___A002_X7330a2_X11b5.ms.split.cal-CALIBRATE_PHASE-J0532+0732.ms.cont4.image.fits\n",
      "### 2 sources detected...\n",
      "### Freq: 99.995 GHz\n",
      "### Band4\n",
      "### Band6\n",
      "### Best rms noise for file: ./uid___A002_Xc38bff_Xda2.ms.split.cal-CALIBRATE_PHASE-J0532+0732.ms.cont4.image.fits (0.116 mJy)\n",
      "/home/stephane/Science/RadioGalaxy/DeepField/bosscha/sources_final2/J0532+0732/Band6/uid___A002_Xc38bff_Xda2.ms.split.cal-CALIBRATE_PHASE-J0532+0732.ms.cont4.image.fits\n"
     ]
    },
    {
     "name": "stderr",
     "output_type": "stream",
     "text": [
      "Output catalog ./uid___A002_X89252c_X852.ms.split.cal-CALIBRATE_PHASE-J0532+0732.ms.cont4.image.cat.txt already exists, I will overwrite it\n",
      "Output catalog ./uid___A002_Xad2439_X1769.ms.split.cal-CALIBRATE_PHASE-J1625-2527.ms.cont4.image.cat.txt already exists, I will overwrite it\n"
     ]
    },
    {
     "name": "stdout",
     "output_type": "stream",
     "text": [
      "### 21 sources detected...\n",
      "### Freq: 225.507 GHz\n",
      "### Band7\n",
      "### Best rms noise for file: ./uid___A002_X89252c_X852.ms.split.cal-CALIBRATE_PHASE-J0532+0732.ms.cont4.image.fits (0.116 mJy)\n",
      "/home/stephane/Science/RadioGalaxy/DeepField/bosscha/sources_final2/J0532+0732/Band7/uid___A002_X89252c_X852.ms.split.cal-CALIBRATE_PHASE-J0532+0732.ms.cont4.image.fits\n",
      "### 1 sources detected...\n",
      "### Freq: 337.471 GHz\n",
      "### Band8\n",
      "### Band9\n",
      "##\n",
      "\n",
      "J1625-2527\n",
      "## source : /home/stephane/Science/RadioGalaxy/DeepField/bosscha/sources_final2/J1625-2527\n",
      "### Band3\n",
      "### Best rms noise for file: ./uid___A002_Xad2439_X1769.ms.split.cal-CALIBRATE_PHASE-J1625-2527.ms.cont4.image.fits (0.032 mJy)\n",
      "/home/stephane/Science/RadioGalaxy/DeepField/bosscha/sources_final2/J1625-2527/Band3/uid___A002_Xad2439_X1769.ms.split.cal-CALIBRATE_PHASE-J1625-2527.ms.cont4.image.fits\n"
     ]
    },
    {
     "name": "stderr",
     "output_type": "stream",
     "text": [
      "Output catalog ./uid___A002_X9fddd8_X2738.ms.split.cal-CALIBRATE_PHASE-J1625-2527.ms.cont4.image.cat.txt already exists, I will overwrite it\n",
      "Output catalog ./uid___A002_Xa13953_X1b89.ms.split.cal-CALIBRATE_PHASE-J1625-2527.ms.cont4.image.cat.txt already exists, I will overwrite it\n",
      "Output catalog ./uid___A002_X46457e_X2ec.ms.split.cal-CALIBRATE_PHASE-J1625-254.ms.cont4.image.cat.txt already exists, I will overwrite it\n",
      "Output catalog ./uid___A002_Xa0b40d_Xab92.ms.split.cal-CALIBRATE_BANDPASS-J2232+1143.ms.cont4.image.cat.txt already exists, I will overwrite it\n",
      "Output catalog ./uid___A002_Xbbdc51_Xd7.ms.split.cal-CALIBRATE_FLUX-J2232+1143.ms.cont4.image.cat.txt already exists, I will overwrite it\n",
      "Output catalog ./uid___A002_Xa39269_X2760.ms.split.cal-CALIBRATE_BANDPASS-J2232+1143.ms.cont4.image.cat.txt already exists, I will overwrite it\n"
     ]
    },
    {
     "name": "stdout",
     "output_type": "stream",
     "text": [
      "### 215 sources detected...\n",
      "### Freq: 97.495 GHz\n",
      "### Band4\n",
      "### Band6\n",
      "### Best rms noise for file: ./uid___A002_X9fddd8_X2738.ms.split.cal-CALIBRATE_PHASE-J1625-2527.ms.cont4.image.fits (0.078 mJy)\n",
      "/home/stephane/Science/RadioGalaxy/DeepField/bosscha/sources_final2/J1625-2527/Band6/uid___A002_X9fddd8_X2738.ms.split.cal-CALIBRATE_PHASE-J1625-2527.ms.cont4.image.fits\n",
      "### 1 sources detected...\n",
      "### Freq: 225.688 GHz\n",
      "### Band7\n",
      "### Best rms noise for file: ./uid___A002_Xa13953_X1b89.ms.split.cal-CALIBRATE_PHASE-J1625-2527.ms.cont4.image.fits (0.224 mJy)\n",
      "/home/stephane/Science/RadioGalaxy/DeepField/bosscha/sources_final2/J1625-2527/Band7/uid___A002_Xa13953_X1b89.ms.split.cal-CALIBRATE_PHASE-J1625-2527.ms.cont4.image.fits\n",
      "### 1 sources detected...\n",
      "### Freq: 343.331 GHz\n",
      "### Band8\n",
      "### Band9\n",
      "### Best rms noise for file: ./uid___A002_X46457e_X2ec.ms.split.cal-CALIBRATE_PHASE-J1625-254.ms.cont4.image.fits (1.975 mJy)\n",
      "/home/stephane/Science/RadioGalaxy/DeepField/bosscha/sources_final2/J1625-2527/Band9/uid___A002_X46457e_X2ec.ms.split.cal-CALIBRATE_PHASE-J1625-254.ms.cont4.image.fits\n",
      "### 1 sources detected...\n",
      "### Freq: 688.661 GHz\n",
      "##\n",
      "\n",
      "J2232+1143\n",
      "## source : /home/stephane/Science/RadioGalaxy/DeepField/bosscha/sources_final2/J2232+1143\n",
      "### Band3\n",
      "### Best rms noise for file: ./uid___A002_Xa0b40d_Xab92.ms.split.cal-CALIBRATE_BANDPASS-J2232+1143.ms.cont4.image.fits (0.069 mJy)\n",
      "/home/stephane/Science/RadioGalaxy/DeepField/bosscha/sources_final2/J2232+1143/Band3/uid___A002_Xa0b40d_Xab92.ms.split.cal-CALIBRATE_BANDPASS-J2232+1143.ms.cont4.image.fits\n",
      "### 1 sources detected...\n",
      "### Freq: 95.549 GHz\n",
      "### Band4\n",
      "### Band6\n",
      "### Best rms noise for file: ./uid___A002_Xbbdc51_Xd7.ms.split.cal-CALIBRATE_FLUX-J2232+1143.ms.cont4.image.fits (1.454 mJy)\n",
      "/home/stephane/Science/RadioGalaxy/DeepField/bosscha/sources_final2/J2232+1143/Band6/uid___A002_Xbbdc51_Xd7.ms.split.cal-CALIBRATE_FLUX-J2232+1143.ms.cont4.image.fits\n",
      "### 1 sources detected...\n",
      "### Freq: 225.690 GHz\n",
      "### Band7\n",
      "### Best rms noise for file: ./uid___A002_Xa39269_X2760.ms.split.cal-CALIBRATE_BANDPASS-J2232+1143.ms.cont4.image.fits (0.080 mJy)\n",
      "/home/stephane/Science/RadioGalaxy/DeepField/bosscha/sources_final2/J2232+1143/Band7/uid___A002_Xa39269_X2760.ms.split.cal-CALIBRATE_BANDPASS-J2232+1143.ms.cont4.image.fits\n"
     ]
    },
    {
     "name": "stderr",
     "output_type": "stream",
     "text": [
      "Output catalog ./uid___A002_Xbcb16f_X26e3.ms.split.cal-CALIBRATE_BANDPASS-J1256-0547.ms.cont4.image.cat.txt already exists, I will overwrite it\n",
      "Output catalog ./uid___A002_Xbe025c_X460.ms.split.cal-CALIBRATE_BANDPASS-J1256-0547.ms.cont4.image.cat.txt already exists, I will overwrite it\n",
      "Output catalog ./uid___A002_Xa24618_X11ff.ms.split.cal-CALIBRATE_BANDPASS-J1256-0547.ms.cont4.image.cat.txt already exists, I will overwrite it\n",
      "Output catalog ./uid___A002_Xbcb16f_X26e3.ms.split.cal-CALIBRATE_PHASE-J1319-0049.ms.cont4.image.cat.txt already exists, I will overwrite it\n",
      "Output catalog ./uid___A002_Xbd203b_X1a7d.ms.split.cal-CALIBRATE_PHASE-J1319-0049.ms.cont4.image.cat.txt already exists, I will overwrite it\n"
     ]
    },
    {
     "name": "stdout",
     "output_type": "stream",
     "text": [
      "### 2 sources detected...\n",
      "### Freq: 343.495 GHz\n",
      "### Band8\n",
      "### Band9\n",
      "##\n",
      "\n",
      "J1256-0547\n",
      "## source : /home/stephane/Science/RadioGalaxy/DeepField/bosscha/sources_final2/J1256-0547\n",
      "### Band3\n",
      "### Best rms noise for file: ./uid___A002_Xbcb16f_X26e3.ms.split.cal-CALIBRATE_BANDPASS-J1256-0547.ms.cont4.image.fits (0.317 mJy)\n",
      "/home/stephane/Science/RadioGalaxy/DeepField/bosscha/sources_final2/J1256-0547/Band3/uid___A002_Xbcb16f_X26e3.ms.split.cal-CALIBRATE_BANDPASS-J1256-0547.ms.cont4.image.fits\n",
      "### 2 sources detected...\n",
      "### Freq: 92.788 GHz\n",
      "### Band4\n",
      "### Band6\n",
      "### Best rms noise for file: ./uid___A002_Xbe025c_X460.ms.split.cal-CALIBRATE_BANDPASS-J1256-0547.ms.cont4.image.fits (0.594 mJy)\n",
      "/home/stephane/Science/RadioGalaxy/DeepField/bosscha/sources_final2/J1256-0547/Band6/uid___A002_Xbe025c_X460.ms.split.cal-CALIBRATE_BANDPASS-J1256-0547.ms.cont4.image.fits\n",
      "### 1 sources detected...\n",
      "### Freq: 229.423 GHz\n",
      "### Band7\n",
      "### Best rms noise for file: ./uid___A002_Xa24618_X11ff.ms.split.cal-CALIBRATE_BANDPASS-J1256-0547.ms.cont4.image.fits (0.159 mJy)\n",
      "/home/stephane/Science/RadioGalaxy/DeepField/bosscha/sources_final2/J1256-0547/Band7/uid___A002_Xa24618_X11ff.ms.split.cal-CALIBRATE_BANDPASS-J1256-0547.ms.cont4.image.fits\n",
      "### 1 sources detected...\n",
      "### Freq: 342.767 GHz\n",
      "### Band8\n",
      "### Band9\n",
      "##\n",
      "\n",
      "J1319-0049\n",
      "## source : /home/stephane/Science/RadioGalaxy/DeepField/bosscha/sources_final2/J1319-0049\n",
      "### Band3\n",
      "### Best rms noise for file: ./uid___A002_Xbcb16f_X26e3.ms.split.cal-CALIBRATE_PHASE-J1319-0049.ms.cont4.image.fits (0.038 mJy)\n",
      "/home/stephane/Science/RadioGalaxy/DeepField/bosscha/sources_final2/J1319-0049/Band3/uid___A002_Xbcb16f_X26e3.ms.split.cal-CALIBRATE_PHASE-J1319-0049.ms.cont4.image.fits\n",
      "### 1 sources detected...\n",
      "### Freq: 92.788 GHz\n",
      "### Band4\n",
      "### Best rms noise for file: ./uid___A002_Xbd203b_X1a7d.ms.split.cal-CALIBRATE_PHASE-J1319-0049.ms.cont4.image.fits (0.045 mJy)\n",
      "/home/stephane/Science/RadioGalaxy/DeepField/bosscha/sources_final2/J1319-0049/Band4/uid___A002_Xbd203b_X1a7d.ms.split.cal-CALIBRATE_PHASE-J1319-0049.ms.cont4.image.fits\n"
     ]
    },
    {
     "name": "stderr",
     "output_type": "stream",
     "text": [
      "Output catalog ./uid___A002_Xbe025c_X460.ms.split.cal-CALIBRATE_PHASE-J1319-0049.ms.cont4.image.cat.txt already exists, I will overwrite it\n",
      "Output catalog ./uid___A002_Xa24618_X11ff.ms.split.cal-CALIBRATE_PHASE-J1319-0049.ms.cont4.image.cat.txt already exists, I will overwrite it\n",
      "Output catalog ./uid___A002_X71e4ae_X1388.ms.split.cal-CALIBRATE_PHASE-J0510+1800.ms.cont4.image.cat.txt already exists, I will overwrite it\n"
     ]
    },
    {
     "name": "stdout",
     "output_type": "stream",
     "text": [
      "### 1 sources detected...\n",
      "### Freq: 154.968 GHz\n",
      "### Band6\n",
      "### Best rms noise for file: ./uid___A002_Xbe025c_X460.ms.split.cal-CALIBRATE_PHASE-J1319-0049.ms.cont4.image.fits (0.081 mJy)\n",
      "/home/stephane/Science/RadioGalaxy/DeepField/bosscha/sources_final2/J1319-0049/Band6/uid___A002_Xbe025c_X460.ms.split.cal-CALIBRATE_PHASE-J1319-0049.ms.cont4.image.fits\n",
      "### 1 sources detected...\n",
      "### Freq: 229.423 GHz\n",
      "### Band7\n",
      "### Best rms noise for file: ./uid___A002_Xa24618_X11ff.ms.split.cal-CALIBRATE_PHASE-J1319-0049.ms.cont4.image.fits (0.074 mJy)\n",
      "/home/stephane/Science/RadioGalaxy/DeepField/bosscha/sources_final2/J1319-0049/Band7/uid___A002_Xa24618_X11ff.ms.split.cal-CALIBRATE_PHASE-J1319-0049.ms.cont4.image.fits\n",
      "### 2 sources detected...\n",
      "### Freq: 342.767 GHz\n",
      "### Band8\n",
      "### Band9\n",
      "##\n",
      "\n",
      "J0510+1800\n",
      "## source : /home/stephane/Science/RadioGalaxy/DeepField/bosscha/sources_final2/J0510+1800\n",
      "### Band3\n",
      "### Best rms noise for file: ./uid___A002_X71e4ae_X1388.ms.split.cal-CALIBRATE_PHASE-J0510+1800.ms.cont4.image.fits (0.073 mJy)\n",
      "/home/stephane/Science/RadioGalaxy/DeepField/bosscha/sources_final2/J0510+1800/Band3/uid___A002_X71e4ae_X1388.ms.split.cal-CALIBRATE_PHASE-J0510+1800.ms.cont4.image.fits\n",
      "### 1 sources detected...\n",
      "### Freq: 99.995 GHz\n",
      "### Band4\n",
      "### Band6\n"
     ]
    },
    {
     "name": "stderr",
     "output_type": "stream",
     "text": [
      "Output catalog ./uid___A002_Xab1be6_X1e6c.ms.split.cal-CALIBRATE_BANDPASS-J0510+1800.ms.cont4.image.cat.txt already exists, I will overwrite it\n",
      "Output catalog ./uid___A002_Xb825df_X78f8.ms.split.cal-CALIBRATE_BANDPASS-J0510+1800.ms.cont4.image.cat.txt already exists, I will overwrite it\n"
     ]
    },
    {
     "name": "stdout",
     "output_type": "stream",
     "text": [
      "### Best rms noise for file: ./uid___A002_Xab1be6_X1e6c.ms.split.cal-CALIBRATE_BANDPASS-J0510+1800.ms.cont4.image.fits (0.119 mJy)\n",
      "/home/stephane/Science/RadioGalaxy/DeepField/bosscha/sources_final2/J0510+1800/Band6/uid___A002_Xab1be6_X1e6c.ms.split.cal-CALIBRATE_BANDPASS-J0510+1800.ms.cont4.image.fits\n",
      "### 1 sources detected...\n",
      "### Freq: 261.413 GHz\n",
      "### Band7\n",
      "### Best rms noise for file: ./uid___A002_Xb825df_X78f8.ms.split.cal-CALIBRATE_BANDPASS-J0510+1800.ms.cont4.image.fits (0.265 mJy)\n",
      "/home/stephane/Science/RadioGalaxy/DeepField/bosscha/sources_final2/J0510+1800/Band7/uid___A002_Xb825df_X78f8.ms.split.cal-CALIBRATE_BANDPASS-J0510+1800.ms.cont4.image.fits\n"
     ]
    },
    {
     "name": "stderr",
     "output_type": "stream",
     "text": [
      "Output catalog ./uid___A002_X7c3a52_X904.ms.split.cal-CALIBRATE_BANDPASS-J0747-3310.ms.cont4.image.cat.txt already exists, I will overwrite it\n",
      "Output catalog ./uid___A002_Xb25e1a_X72c.ms.split.cal-CALIBRATE_PHASE-J0747-3310.ms.cont4.image.cat.txt already exists, I will overwrite it\n",
      "Output catalog ./uid___A002_X79b541_X804.ms.split.cal-CALIBRATE_BANDPASS-J0747-3310.ms.cont4.image.cat.txt already exists, I will overwrite it\n",
      "Output catalog ./uid___A002_X7c3a52_X4a9.ms.split.cal-CALIBRATE_BANDPASS-J0519-4546.ms.cont4.image.cat.txt already exists, I will overwrite it\n",
      "Output catalog ./uid___A002_Xb499c3_Xadd0.ms.split.cal-CALIBRATE_BANDPASS-J0519-4546.ms.cont4.image.cat.txt already exists, I will overwrite it\n"
     ]
    },
    {
     "name": "stdout",
     "output_type": "stream",
     "text": [
      "### 3 sources detected...\n",
      "### Freq: 349.910 GHz\n",
      "### Band8\n",
      "### Band9\n",
      "##\n",
      "\n",
      "J0747-3310\n",
      "## source : /home/stephane/Science/RadioGalaxy/DeepField/bosscha/sources_final2/J0747-3310\n",
      "### Band3\n",
      "### Best rms noise for file: ./uid___A002_X7c3a52_X904.ms.split.cal-CALIBRATE_BANDPASS-J0747-3310.ms.cont4.image.fits (0.071 mJy)\n",
      "/home/stephane/Science/RadioGalaxy/DeepField/bosscha/sources_final2/J0747-3310/Band3/uid___A002_X7c3a52_X904.ms.split.cal-CALIBRATE_BANDPASS-J0747-3310.ms.cont4.image.fits\n",
      "### 1 sources detected...\n",
      "### Freq: 107.647 GHz\n",
      "### Band4\n",
      "### Band6\n",
      "### Best rms noise for file: ./uid___A002_Xb25e1a_X72c.ms.split.cal-CALIBRATE_PHASE-J0747-3310.ms.cont4.image.fits (0.052 mJy)\n",
      "/home/stephane/Science/RadioGalaxy/DeepField/bosscha/sources_final2/J0747-3310/Band6/uid___A002_Xb25e1a_X72c.ms.split.cal-CALIBRATE_PHASE-J0747-3310.ms.cont4.image.fits\n",
      "### 3 sources detected...\n",
      "### Freq: 233.000 GHz\n",
      "### Band7\n",
      "### Best rms noise for file: ./uid___A002_X79b541_X804.ms.split.cal-CALIBRATE_BANDPASS-J0747-3310.ms.cont4.image.fits (0.112 mJy)\n",
      "/home/stephane/Science/RadioGalaxy/DeepField/bosscha/sources_final2/J0747-3310/Band7/uid___A002_X79b541_X804.ms.split.cal-CALIBRATE_BANDPASS-J0747-3310.ms.cont4.image.fits\n",
      "### 1 sources detected...\n",
      "### Freq: 345.026 GHz\n",
      "### Band8\n",
      "### Band9\n",
      "##\n",
      "\n",
      "J0519-4546\n",
      "## source : /home/stephane/Science/RadioGalaxy/DeepField/bosscha/sources_final2/J0519-4546\n",
      "### Band3\n",
      "### Best rms noise for file: ./uid___A002_X7c3a52_X4a9.ms.split.cal-CALIBRATE_BANDPASS-J0519-4546.ms.cont4.image.fits (0.025 mJy)\n",
      "/home/stephane/Science/RadioGalaxy/DeepField/bosscha/sources_final2/J0519-4546/Band3/uid___A002_X7c3a52_X4a9.ms.split.cal-CALIBRATE_BANDPASS-J0519-4546.ms.cont4.image.fits\n",
      "### 0 sources detected...\n",
      "### Freq: 107.652 GHz\n",
      "### Band4\n",
      "### Band6\n",
      "### Best rms noise for file: ./uid___A002_Xb499c3_Xadd0.ms.split.cal-CALIBRATE_BANDPASS-J0519-4546.ms.cont4.image.fits (0.194 mJy)\n",
      "/home/stephane/Science/RadioGalaxy/DeepField/bosscha/sources_final2/J0519-4546/Band6/uid___A002_Xb499c3_Xadd0.ms.split.cal-CALIBRATE_BANDPASS-J0519-4546.ms.cont4.image.fits\n"
     ]
    },
    {
     "name": "stderr",
     "output_type": "stream",
     "text": [
      "Output catalog ./uid___A002_Xb9c01c_X3502.ms.split.cal-CALIBRATE_FLUX-J0519-4546.ms.cont4.image.cat.txt already exists, I will overwrite it\n",
      "Output catalog ./uid___A002_X8081ba_X1cab.ms.split.cal-CALIBRATE_BANDPASS-J0607-0834.ms.cont4.image.cat.txt already exists, I will overwrite it\n",
      "Output catalog ./uid___A002_X9707f1_Xfee.ms.split.cal-CALIBRATE_BANDPASS-J0607-0834.ms.cont4.image.cat.txt already exists, I will overwrite it\n",
      "Output catalog ./uid___A002_X96bfab_Xf0b.ms.split.cal-CALIBRATE_BANDPASS-J0607-0834.ms.cont4.image.cat.txt already exists, I will overwrite it\n"
     ]
    },
    {
     "name": "stdout",
     "output_type": "stream",
     "text": [
      "### 0 sources detected...\n",
      "### Freq: 223.798 GHz\n",
      "### Band7\n",
      "### Best rms noise for file: ./uid___A002_Xb9c01c_X3502.ms.split.cal-CALIBRATE_FLUX-J0519-4546.ms.cont4.image.fits (0.045 mJy)\n",
      "/home/stephane/Science/RadioGalaxy/DeepField/bosscha/sources_final2/J0519-4546/Band7/uid___A002_Xb9c01c_X3502.ms.split.cal-CALIBRATE_FLUX-J0519-4546.ms.cont4.image.fits\n",
      "### 0 sources detected...\n",
      "### Freq: 341.082 GHz\n",
      "### Band8\n",
      "### Band9\n",
      "##\n",
      "\n",
      "J0607-0834\n",
      "## source : /home/stephane/Science/RadioGalaxy/DeepField/bosscha/sources_final2/J0607-0834\n",
      "### Band3\n",
      "### Best rms noise for file: ./uid___A002_X8081ba_X1cab.ms.split.cal-CALIBRATE_BANDPASS-J0607-0834.ms.cont4.image.fits (0.030 mJy)\n",
      "/home/stephane/Science/RadioGalaxy/DeepField/bosscha/sources_final2/J0607-0834/Band3/uid___A002_X8081ba_X1cab.ms.split.cal-CALIBRATE_BANDPASS-J0607-0834.ms.cont4.image.fits\n",
      "### 1 sources detected...\n",
      "### Freq: 107.908 GHz\n",
      "### Band4\n",
      "### Band6\n",
      "### Best rms noise for file: ./uid___A002_X9707f1_Xfee.ms.split.cal-CALIBRATE_BANDPASS-J0607-0834.ms.cont4.image.fits (0.077 mJy)\n",
      "/home/stephane/Science/RadioGalaxy/DeepField/bosscha/sources_final2/J0607-0834/Band6/uid___A002_X9707f1_Xfee.ms.split.cal-CALIBRATE_BANDPASS-J0607-0834.ms.cont4.image.fits\n",
      "### 1 sources detected...\n",
      "### Freq: 225.182 GHz\n",
      "### Band7\n",
      "### Best rms noise for file: ./uid___A002_X96bfab_Xf0b.ms.split.cal-CALIBRATE_BANDPASS-J0607-0834.ms.cont4.image.fits (0.101 mJy)\n",
      "/home/stephane/Science/RadioGalaxy/DeepField/bosscha/sources_final2/J0607-0834/Band7/uid___A002_X96bfab_Xf0b.ms.split.cal-CALIBRATE_BANDPASS-J0607-0834.ms.cont4.image.fits\n",
      "### 1 sources detected...\n"
     ]
    },
    {
     "name": "stderr",
     "output_type": "stream",
     "text": [
      "Output catalog ./uid___A002_Xb88fca_X7ab1.ms.split.cal-CALIBRATE_FLUX-J1107-4449.ms.cont4.image.cat.txt already exists, I will overwrite it\n",
      "Output catalog ./uid___A002_Xb0be8b_X1f86.ms.split.cal-CALIBRATE_FLUX-J1107-4449.ms.cont4.image.cat.txt already exists, I will overwrite it\n",
      "Output catalog ./uid___A002_Xbab09c_X3b21.ms.split.cal-CALIBRATE_FLUX-J1107-4449.ms.cont4.image.cat.txt already exists, I will overwrite it\n"
     ]
    },
    {
     "name": "stdout",
     "output_type": "stream",
     "text": [
      "### Freq: 337.450 GHz\n",
      "### Band8\n",
      "### Band9\n",
      "##\n",
      "\n",
      "J1107-4449\n",
      "## source : /home/stephane/Science/RadioGalaxy/DeepField/bosscha/sources_final2/J1107-4449\n",
      "### Band3\n",
      "### Best rms noise for file: ./uid___A002_Xb88fca_X7ab1.ms.split.cal-CALIBRATE_FLUX-J1107-4449.ms.cont4.image.fits (0.140 mJy)\n",
      "/home/stephane/Science/RadioGalaxy/DeepField/bosscha/sources_final2/J1107-4449/Band3/uid___A002_Xb88fca_X7ab1.ms.split.cal-CALIBRATE_FLUX-J1107-4449.ms.cont4.image.fits\n",
      "### 2 sources detected...\n",
      "### Freq: 97.495 GHz\n",
      "### Band4\n",
      "### Band6\n",
      "### Best rms noise for file: ./uid___A002_Xb0be8b_X1f86.ms.split.cal-CALIBRATE_FLUX-J1107-4449.ms.cont4.image.fits (0.056 mJy)\n",
      "/home/stephane/Science/RadioGalaxy/DeepField/bosscha/sources_final2/J1107-4449/Band6/uid___A002_Xb0be8b_X1f86.ms.split.cal-CALIBRATE_FLUX-J1107-4449.ms.cont4.image.fits\n",
      "### 1 sources detected...\n",
      "### Freq: 233.000 GHz\n",
      "### Band7\n",
      "### Best rms noise for file: ./uid___A002_Xbab09c_X3b21.ms.split.cal-CALIBRATE_FLUX-J1107-4449.ms.cont4.image.fits (0.074 mJy)\n",
      "/home/stephane/Science/RadioGalaxy/DeepField/bosscha/sources_final2/J1107-4449/Band7/uid___A002_Xbab09c_X3b21.ms.split.cal-CALIBRATE_FLUX-J1107-4449.ms.cont4.image.fits\n",
      "### 1 sources detected...\n",
      "### Freq: 343.495 GHz\n",
      "### Band8\n",
      "### Band9\n",
      "##\n",
      "\n",
      "3c454.3\n",
      "## source : /home/stephane/Science/RadioGalaxy/DeepField/bosscha/sources_final2/3c454.3\n",
      "### Band3\n"
     ]
    },
    {
     "name": "stderr",
     "output_type": "stream",
     "text": [
      "Output catalog ./uid___A002_Xb7d0ee_X8304.ms.split.cal-CALIBRATE_BANDPASS-J2253+1608.ms.cont4.image.cat.txt already exists, I will overwrite it\n",
      "Output catalog ./uid___A002_Xb5fdce_Xc64.ms.split.cal-CALIBRATE_BANDPASS-J2253+1608.ms.cont4.image.cat.txt already exists, I will overwrite it\n",
      "Output catalog ./uid___A002_X856bb8_X33b1.ms.split.cal-CALIBRATE_FLUX-3c454.3.ms.cont4.image.cat.txt already exists, I will overwrite it\n",
      "Output catalog ./uid___A002_Xb87877_X4255.ms.split.cal-OBSERVE_TARGET-4C_-02.55.ms.cont4.image.cat.txt already exists, I will overwrite it\n"
     ]
    },
    {
     "name": "stdout",
     "output_type": "stream",
     "text": [
      "### Best rms noise for file: ./uid___A002_Xb7d0ee_X8304.ms.split.cal-CALIBRATE_BANDPASS-J2253+1608.ms.cont4.image.fits (0.269 mJy)\n",
      "/home/stephane/Science/RadioGalaxy/DeepField/bosscha/sources_final2/3c454.3/Band3/uid___A002_Xb7d0ee_X8304.ms.split.cal-CALIBRATE_BANDPASS-J2253+1608.ms.cont4.image.fits\n",
      "### 2 sources detected...\n",
      "### Freq: 97.495 GHz\n",
      "### Band4\n",
      "### Band6\n",
      "### Best rms noise for file: ./uid___A002_Xb5fdce_Xc64.ms.split.cal-CALIBRATE_BANDPASS-J2253+1608.ms.cont4.image.fits (0.170 mJy)\n",
      "/home/stephane/Science/RadioGalaxy/DeepField/bosscha/sources_final2/3c454.3/Band6/uid___A002_Xb5fdce_Xc64.ms.split.cal-CALIBRATE_BANDPASS-J2253+1608.ms.cont4.image.fits\n",
      "### 2 sources detected...\n",
      "### Freq: 233.000 GHz\n",
      "### Band7\n",
      "### Best rms noise for file: ./uid___A002_X856bb8_X33b1.ms.split.cal-CALIBRATE_FLUX-3c454.3.ms.cont4.image.fits (0.413 mJy)\n",
      "/home/stephane/Science/RadioGalaxy/DeepField/bosscha/sources_final2/3c454.3/Band7/uid___A002_X856bb8_X33b1.ms.split.cal-CALIBRATE_FLUX-3c454.3.ms.cont4.image.fits\n",
      "### 1 sources detected...\n",
      "### Freq: 343.495 GHz\n",
      "### Band8\n",
      "### Band9\n",
      "##\n",
      "\n",
      "4C_-02.55\n",
      "## source : /home/stephane/Science/RadioGalaxy/DeepField/bosscha/sources_final2/4C_-02.55\n",
      "### Band3\n",
      "### Best rms noise for file: ./uid___A002_Xb87877_X4255.ms.split.cal-OBSERVE_TARGET-4C_-02.55.ms.cont4.image.fits (0.113 mJy)\n",
      "/home/stephane/Science/RadioGalaxy/DeepField/bosscha/sources_final2/4C_-02.55/Band3/uid___A002_Xb87877_X4255.ms.split.cal-OBSERVE_TARGET-4C_-02.55.ms.cont4.image.fits\n"
     ]
    },
    {
     "name": "stderr",
     "output_type": "stream",
     "text": [
      "Output catalog ./uid___A002_Xb0ebd1_Xb6cc.ms.split.cal-OBSERVE_TARGET-4C_-02.55.ms.cont4.image.cat.txt already exists, I will overwrite it\n",
      "Output catalog ./uid___A002_Xb33b61_X341.ms.split.cal-OBSERVE_CHECK-J1232-0224.ms.cont4.image.cat.txt already exists, I will overwrite it\n",
      "Output catalog ./uid___A002_X99c183_X47fd.ms.split.cal-CALIBRATE_BANDPASS-J2258-2758.ms.cont4.image.cat.txt already exists, I will overwrite it\n",
      "Output catalog ./uid___A002_Xb9cc97_X6f0.ms.split.cal-CALIBRATE_BANDPASS-J2258-2758.ms.cont4.image.cat.txt already exists, I will overwrite it\n",
      "Output catalog ./uid___A002_Xb9dfa4_X5f9.ms.split.cal-CALIBRATE_FLUX-J2258-2758.ms.cont4.image.cat.txt already exists, I will overwrite it\n"
     ]
    },
    {
     "name": "stdout",
     "output_type": "stream",
     "text": [
      "### 4 sources detected...\n",
      "### Freq: 97.495 GHz\n",
      "### Band4\n",
      "### Band6\n",
      "### Best rms noise for file: ./uid___A002_Xb0ebd1_Xb6cc.ms.split.cal-OBSERVE_TARGET-4C_-02.55.ms.cont4.image.fits (0.053 mJy)\n",
      "/home/stephane/Science/RadioGalaxy/DeepField/bosscha/sources_final2/4C_-02.55/Band6/uid___A002_Xb0ebd1_Xb6cc.ms.split.cal-OBSERVE_TARGET-4C_-02.55.ms.cont4.image.fits\n",
      "### 2 sources detected...\n",
      "### Freq: 233.000 GHz\n",
      "### Band7\n",
      "### Best rms noise for file: ./uid___A002_Xb33b61_X341.ms.split.cal-OBSERVE_CHECK-J1232-0224.ms.cont4.image.fits (0.158 mJy)\n",
      "/home/stephane/Science/RadioGalaxy/DeepField/bosscha/sources_final2/4C_-02.55/Band7/uid___A002_Xb33b61_X341.ms.split.cal-OBSERVE_CHECK-J1232-0224.ms.cont4.image.fits\n",
      "### 2 sources detected...\n",
      "### Freq: 338.884 GHz\n",
      "### Band8\n",
      "### Band9\n",
      "##\n",
      "\n",
      "J2258-2758\n",
      "## source : /home/stephane/Science/RadioGalaxy/DeepField/bosscha/sources_final2/J2258-2758\n",
      "### Band3\n",
      "### Best rms noise for file: ./uid___A002_X99c183_X47fd.ms.split.cal-CALIBRATE_BANDPASS-J2258-2758.ms.cont4.image.fits (0.060 mJy)\n",
      "/home/stephane/Science/RadioGalaxy/DeepField/bosscha/sources_final2/J2258-2758/Band3/uid___A002_X99c183_X47fd.ms.split.cal-CALIBRATE_BANDPASS-J2258-2758.ms.cont4.image.fits\n",
      "### 1 sources detected...\n",
      "### Freq: 93.477 GHz\n",
      "### Band4\n",
      "### Band6\n",
      "### Best rms noise for file: ./uid___A002_Xb9cc97_X6f0.ms.split.cal-CALIBRATE_BANDPASS-J2258-2758.ms.cont4.image.fits (0.206 mJy)\n",
      "/home/stephane/Science/RadioGalaxy/DeepField/bosscha/sources_final2/J2258-2758/Band6/uid___A002_Xb9cc97_X6f0.ms.split.cal-CALIBRATE_BANDPASS-J2258-2758.ms.cont4.image.fits\n",
      "### 2 sources detected...\n",
      "### Freq: 232.982 GHz\n",
      "### Band7\n",
      "### Best rms noise for file: ./uid___A002_Xb9dfa4_X5f9.ms.split.cal-CALIBRATE_FLUX-J2258-2758.ms.cont4.image.fits (0.155 mJy)\n",
      "/home/stephane/Science/RadioGalaxy/DeepField/bosscha/sources_final2/J2258-2758/Band7/uid___A002_Xb9dfa4_X5f9.ms.split.cal-CALIBRATE_FLUX-J2258-2758.ms.cont4.image.fits\n"
     ]
    },
    {
     "name": "stderr",
     "output_type": "stream",
     "text": [
      "Output catalog ./uid___A002_X7330a2_X11b5.ms.split.cal-CALIBRATE_BANDPASS-J0522-3627.ms.cont4.image.cat.txt already exists, I will overwrite it\n",
      "Output catalog ./uid___A002_X74a173_X1bba.ms.split.cal-CALIBRATE_BANDPASS-J0522-3627.ms.cont4.image.cat.txt already exists, I will overwrite it\n",
      "Output catalog ./uid___A002_X96bfab_X68.ms.split.cal-CALIBRATE_BANDPASS-J0108+0135.ms.cont4.image.cat.txt already exists, I will overwrite it\n",
      "Output catalog ./uid___A002_Xb52d1b_X403.ms.split.cal-CALIBRATE_BANDPASS-J0522-3627.ms.cont4.image.cat.txt already exists, I will overwrite it\n",
      "Output catalog ./uid___A002_Xbabd27_X41de.ms.split.cal-CALIBRATE_BANDPASS-J0522-3627.ms.cont4.image.cat.txt already exists, I will overwrite it\n"
     ]
    },
    {
     "name": "stdout",
     "output_type": "stream",
     "text": [
      "### 5 sources detected...\n",
      "### Freq: 343.495 GHz\n",
      "### Band8\n",
      "### Band9\n",
      "##\n",
      "\n",
      "J0522-3627\n",
      "## source : /home/stephane/Science/RadioGalaxy/DeepField/bosscha/sources_final2/J0522-3627\n",
      "### Band3\n",
      "### Best rms noise for file: ./uid___A002_X7330a2_X11b5.ms.split.cal-CALIBRATE_BANDPASS-J0522-3627.ms.cont4.image.fits (0.029 mJy)\n",
      "/home/stephane/Science/RadioGalaxy/DeepField/bosscha/sources_final2/J0522-3627/Band3/uid___A002_X7330a2_X11b5.ms.split.cal-CALIBRATE_BANDPASS-J0522-3627.ms.cont4.image.fits\n",
      "### 6 sources detected...\n",
      "### Freq: 99.995 GHz\n",
      "### Band4\n",
      "### Band6\n",
      "### Best rms noise for file: ./uid___A002_X74a173_X1bba.ms.split.cal-CALIBRATE_BANDPASS-J0522-3627.ms.cont4.image.fits (0.049 mJy)\n",
      "/home/stephane/Science/RadioGalaxy/DeepField/bosscha/sources_final2/J0522-3627/Band6/uid___A002_X74a173_X1bba.ms.split.cal-CALIBRATE_BANDPASS-J0522-3627.ms.cont4.image.fits\n",
      "### 2 sources detected...\n",
      "### Freq: 222.018 GHz\n",
      "### Band7\n",
      "### Best rms noise for file: ./uid___A002_X96bfab_X68.ms.split.cal-CALIBRATE_BANDPASS-J0108+0135.ms.cont4.image.fits (0.159 mJy)\n",
      "/home/stephane/Science/RadioGalaxy/DeepField/bosscha/sources_final2/J0522-3627/Band7/uid___A002_X96bfab_X68.ms.split.cal-CALIBRATE_BANDPASS-J0108+0135.ms.cont4.image.fits\n",
      "### 2 sources detected...\n",
      "### Freq: 344.795 GHz\n",
      "### Band8\n",
      "### Best rms noise for file: ./uid___A002_Xb52d1b_X403.ms.split.cal-CALIBRATE_BANDPASS-J0522-3627.ms.cont4.image.fits (0.933 mJy)\n",
      "/home/stephane/Science/RadioGalaxy/DeepField/bosscha/sources_final2/J0522-3627/Band8/uid___A002_Xb52d1b_X403.ms.split.cal-CALIBRATE_BANDPASS-J0522-3627.ms.cont4.image.fits\n",
      "### 1 sources detected...\n",
      "### Freq: 484.615 GHz\n",
      "### Band9\n",
      "### Best rms noise for file: ./uid___A002_Xbabd27_X41de.ms.split.cal-CALIBRATE_BANDPASS-J0522-3627.ms.cont4.image.fits (1.085 mJy)\n",
      "/home/stephane/Science/RadioGalaxy/DeepField/bosscha/sources_final2/J0522-3627/Band9/uid___A002_Xbabd27_X41de.ms.split.cal-CALIBRATE_BANDPASS-J0522-3627.ms.cont4.image.fits\n"
     ]
    },
    {
     "name": "stderr",
     "output_type": "stream",
     "text": [
      "Output catalog ./uid___A002_Xb3b3c9_X147c.ms.split.cal-CALIBRATE_PHASE-J1007-0207.ms.cont4.image.cat.txt already exists, I will overwrite it\n",
      "Output catalog ./uid___A002_Xb09eed_X269f.ms.split.cal-CALIBRATE_PHASE-J1007-0207.ms.cont4.image.cat.txt already exists, I will overwrite it\n",
      "Output catalog ./uid___A002_X71a45c_X1d24.ms.split.cal-CALIBRATE_PHASE-J1007-0207.ms.cont4.image.cat.txt already exists, I will overwrite it\n",
      "Output catalog ./uid___A002_X75ab74_Xf8d.ms.split.cal-CALIBRATE_PHASE-J1007-0207.ms.cont4.image.cat.txt already exists, I will overwrite it\n",
      "Output catalog ./uid___A002_Xa4b3e9_X146.ms.split.cal-CALIBRATE_PHASE-J0854+2006.ms.cont4.image.cat.txt already exists, I will overwrite it\n"
     ]
    },
    {
     "name": "stdout",
     "output_type": "stream",
     "text": [
      "### 1 sources detected...\n",
      "### Freq: 681.549 GHz\n",
      "##\n",
      "\n",
      "J1007-0207\n",
      "## source : /home/stephane/Science/RadioGalaxy/DeepField/bosscha/sources_final2/J1007-0207\n",
      "### Band3\n",
      "### Best rms noise for file: ./uid___A002_Xb3b3c9_X147c.ms.split.cal-CALIBRATE_PHASE-J1007-0207.ms.cont4.image.fits (0.106 mJy)\n",
      "/home/stephane/Science/RadioGalaxy/DeepField/bosscha/sources_final2/J1007-0207/Band3/uid___A002_Xb3b3c9_X147c.ms.split.cal-CALIBRATE_PHASE-J1007-0207.ms.cont4.image.fits\n",
      "### 1 sources detected...\n",
      "### Freq: 101.549 GHz\n",
      "### Band4\n",
      "### Best rms noise for file: ./uid___A002_Xb09eed_X269f.ms.split.cal-CALIBRATE_PHASE-J1007-0207.ms.cont4.image.fits (0.073 mJy)\n",
      "/home/stephane/Science/RadioGalaxy/DeepField/bosscha/sources_final2/J1007-0207/Band4/uid___A002_Xb09eed_X269f.ms.split.cal-CALIBRATE_PHASE-J1007-0207.ms.cont4.image.fits\n",
      "### 1 sources detected...\n",
      "### Freq: 136.695 GHz\n",
      "### Band6\n",
      "### Best rms noise for file: ./uid___A002_X71a45c_X1d24.ms.split.cal-CALIBRATE_PHASE-J1007-0207.ms.cont4.image.fits (0.049 mJy)\n",
      "/home/stephane/Science/RadioGalaxy/DeepField/bosscha/sources_final2/J1007-0207/Band6/uid___A002_X71a45c_X1d24.ms.split.cal-CALIBRATE_PHASE-J1007-0207.ms.cont4.image.fits\n",
      "### 1 sources detected...\n",
      "### Freq: 230.000 GHz\n",
      "### Band7\n",
      "### Best rms noise for file: ./uid___A002_X75ab74_Xf8d.ms.split.cal-CALIBRATE_PHASE-J1007-0207.ms.cont4.image.fits (0.305 mJy)\n",
      "/home/stephane/Science/RadioGalaxy/DeepField/bosscha/sources_final2/J1007-0207/Band7/uid___A002_X75ab74_Xf8d.ms.split.cal-CALIBRATE_PHASE-J1007-0207.ms.cont4.image.fits\n",
      "### 1 sources detected...\n",
      "### Freq: 355.229 GHz\n",
      "### Band8\n",
      "### Band9\n",
      "##\n",
      "\n",
      "J0854+2006\n",
      "## source : /home/stephane/Science/RadioGalaxy/DeepField/bosscha/sources_final2/J0854+2006\n",
      "### Band3\n",
      "### Best rms noise for file: ./uid___A002_Xa4b3e9_X146.ms.split.cal-CALIBRATE_PHASE-J0854+2006.ms.cont4.image.fits (0.397 mJy)\n",
      "/home/stephane/Science/RadioGalaxy/DeepField/bosscha/sources_final2/J0854+2006/Band3/uid___A002_Xa4b3e9_X146.ms.split.cal-CALIBRATE_PHASE-J0854+2006.ms.cont4.image.fits\n"
     ]
    },
    {
     "name": "stderr",
     "output_type": "stream",
     "text": [
      "Output catalog ./uid___A002_X7310ce_X1b62.ms.split.cal-CALIBRATE_PHASE-J0854+2006.ms.cont4.image.cat.txt already exists, I will overwrite it\n",
      "Output catalog ./uid___A002_Xb9cc97_X2197.ms.split.cal-CALIBRATE_BANDPASS-J0854+2006.ms.cont4.image.cat.txt already exists, I will overwrite it\n",
      "Output catalog ./uid___A002_Xbaa732_X3e11.ms.split.cal-CALIBRATE_FLUX-J0854+2006.ms.cont4.image.cat.txt already exists, I will overwrite it\n",
      "Output catalog ./uid___A002_Xbab09c_X3143.ms.split.cal-CALIBRATE_BANDPASS-J0854+2006.ms.cont4.image.cat.txt already exists, I will overwrite it\n"
     ]
    },
    {
     "name": "stdout",
     "output_type": "stream",
     "text": [
      "### 27 sources detected...\n",
      "### Freq: 107.512 GHz\n",
      "### Band4\n",
      "### Band6\n",
      "### Best rms noise for file: ./uid___A002_X7310ce_X1b62.ms.split.cal-CALIBRATE_PHASE-J0854+2006.ms.cont4.image.fits (0.185 mJy)\n",
      "/home/stephane/Science/RadioGalaxy/DeepField/bosscha/sources_final2/J0854+2006/Band6/uid___A002_X7310ce_X1b62.ms.split.cal-CALIBRATE_PHASE-J0854+2006.ms.cont4.image.fits\n",
      "### 1 sources detected...\n",
      "### Freq: 222.018 GHz\n",
      "### Band7\n",
      "### Best rms noise for file: ./uid___A002_Xb9cc97_X2197.ms.split.cal-CALIBRATE_BANDPASS-J0854+2006.ms.cont4.image.fits (0.412 mJy)\n",
      "/home/stephane/Science/RadioGalaxy/DeepField/bosscha/sources_final2/J0854+2006/Band7/uid___A002_Xb9cc97_X2197.ms.split.cal-CALIBRATE_BANDPASS-J0854+2006.ms.cont4.image.fits\n",
      "### 1 sources detected...\n",
      "### Freq: 343.495 GHz\n",
      "### Band8\n",
      "### Best rms noise for file: ./uid___A002_Xbaa732_X3e11.ms.split.cal-CALIBRATE_FLUX-J0854+2006.ms.cont4.image.fits (0.630 mJy)\n",
      "/home/stephane/Science/RadioGalaxy/DeepField/bosscha/sources_final2/J0854+2006/Band8/uid___A002_Xbaa732_X3e11.ms.split.cal-CALIBRATE_FLUX-J0854+2006.ms.cont4.image.fits\n",
      "### 1 sources detected...\n",
      "### Freq: 410.391 GHz\n",
      "### Band9\n",
      "### Best rms noise for file: ./uid___A002_Xbab09c_X3143.ms.split.cal-CALIBRATE_BANDPASS-J0854+2006.ms.cont4.image.fits (1.352 mJy)\n",
      "/home/stephane/Science/RadioGalaxy/DeepField/bosscha/sources_final2/J0854+2006/Band9/uid___A002_Xbab09c_X3143.ms.split.cal-CALIBRATE_BANDPASS-J0854+2006.ms.cont4.image.fits\n",
      "### 1 sources detected...\n",
      "### Freq: 669.591 GHz\n",
      "##\n",
      "\n",
      "J0601-7036\n",
      "## source : /home/stephane/Science/RadioGalaxy/DeepField/bosscha/sources_final2/J0601-7036\n",
      "### Band3\n",
      "### Best rms noise for file: ./uid___A002_Xbc9c9e_X1005.ms.split.cal-CALIBRATE_PHASE-J0601-7036.ms.cont4.image.fits (0.166 mJy)\n",
      "/home/stephane/Science/RadioGalaxy/DeepField/bosscha/sources_final2/J0601-7036/Band3/uid___A002_Xbc9c9e_X1005.ms.split.cal-CALIBRATE_PHASE-J0601-7036.ms.cont4.image.fits\n"
     ]
    },
    {
     "name": "stderr",
     "output_type": "stream",
     "text": [
      "Output catalog ./uid___A002_Xbc9c9e_X1005.ms.split.cal-CALIBRATE_PHASE-J0601-7036.ms.cont4.image.cat.txt already exists, I will overwrite it\n",
      "Output catalog ./uid___A002_Xac5575_Xa01b.ms.split.cal-CALIBRATE_PHASE-J0601-7036.ms.cont4.image.cat.txt already exists, I will overwrite it\n"
     ]
    },
    {
     "name": "stdout",
     "output_type": "stream",
     "text": [
      "### 1 sources detected...\n",
      "### Freq: 103.189 GHz\n",
      "### Band4\n",
      "### Band6\n",
      "### Best rms noise for file: ./uid___A002_Xac5575_Xa01b.ms.split.cal-CALIBRATE_PHASE-J0601-7036.ms.cont4.image.fits (0.060 mJy)\n",
      "/home/stephane/Science/RadioGalaxy/DeepField/bosscha/sources_final2/J0601-7036/Band6/uid___A002_Xac5575_Xa01b.ms.split.cal-CALIBRATE_PHASE-J0601-7036.ms.cont4.image.fits\n"
     ]
    },
    {
     "name": "stderr",
     "output_type": "stream",
     "text": [
      "Output catalog ./uid___A002_X7b492c_X37f.ms.split.cal-CALIBRATE_PHASE-J0601-7036.ms.cont4.image.cat.txt already exists, I will overwrite it\n",
      "Output catalog ./uid___A002_Xb3b3c9_X147c.ms.split.cal-CALIBRATE_FLUX-J1037-2934.ms.cont4.image.cat.txt already exists, I will overwrite it\n",
      "Output catalog ./uid___A002_Xad47ae_X846.ms.split.cal-CALIBRATE_FLUX-J1037-2934.ms.cont4.image.cat.txt already exists, I will overwrite it\n"
     ]
    },
    {
     "name": "stdout",
     "output_type": "stream",
     "text": [
      "### 1 sources detected...\n",
      "### Freq: 252.791 GHz\n",
      "### Band7\n",
      "### Best rms noise for file: ./uid___A002_X7b492c_X37f.ms.split.cal-CALIBRATE_PHASE-J0601-7036.ms.cont4.image.fits (0.453 mJy)\n",
      "/home/stephane/Science/RadioGalaxy/DeepField/bosscha/sources_final2/J0601-7036/Band7/uid___A002_X7b492c_X37f.ms.split.cal-CALIBRATE_PHASE-J0601-7036.ms.cont4.image.fits\n",
      "### 1 sources detected...\n",
      "### Freq: 352.270 GHz\n",
      "### Band8\n",
      "### Band9\n",
      "##\n",
      "\n",
      "J1037-2934\n",
      "## source : /home/stephane/Science/RadioGalaxy/DeepField/bosscha/sources_final2/J1037-2934\n",
      "### Band3\n",
      "### Best rms noise for file: ./uid___A002_Xb3b3c9_X147c.ms.split.cal-CALIBRATE_FLUX-J1037-2934.ms.cont4.image.fits (0.157 mJy)\n",
      "/home/stephane/Science/RadioGalaxy/DeepField/bosscha/sources_final2/J1037-2934/Band3/uid___A002_Xb3b3c9_X147c.ms.split.cal-CALIBRATE_FLUX-J1037-2934.ms.cont4.image.fits\n",
      "### 1 sources detected...\n",
      "### Freq: 101.549 GHz\n",
      "### Band4\n",
      "### Band6\n",
      "### Best rms noise for file: ./uid___A002_Xad47ae_X846.ms.split.cal-CALIBRATE_FLUX-J1037-2934.ms.cont4.image.fits (1.204 mJy)\n",
      "/home/stephane/Science/RadioGalaxy/DeepField/bosscha/sources_final2/J1037-2934/Band6/uid___A002_Xad47ae_X846.ms.split.cal-CALIBRATE_FLUX-J1037-2934.ms.cont4.image.fits\n"
     ]
    },
    {
     "name": "stderr",
     "output_type": "stream",
     "text": [
      "Output catalog ./uid___A002_Xa3aadb_X267.ms.split.cal-CALIBRATE_PHASE-J1037-2934.ms.cont4.image.cat.txt already exists, I will overwrite it\n",
      "Output catalog ./uid___A002_Xacb746_X8db.ms.split.cal-CALIBRATE_BANDPASS-J1229+0203.ms.cont4.image.cat.txt already exists, I will overwrite it\n"
     ]
    },
    {
     "name": "stdout",
     "output_type": "stream",
     "text": [
      "### 240 sources detected...\n",
      "### Freq: 233.000 GHz\n",
      "### Band7\n",
      "### Best rms noise for file: ./uid___A002_Xa3aadb_X267.ms.split.cal-CALIBRATE_PHASE-J1037-2934.ms.cont4.image.fits (0.220 mJy)\n",
      "/home/stephane/Science/RadioGalaxy/DeepField/bosscha/sources_final2/J1037-2934/Band7/uid___A002_Xa3aadb_X267.ms.split.cal-CALIBRATE_PHASE-J1037-2934.ms.cont4.image.fits\n",
      "### 1 sources detected...\n",
      "### Freq: 344.745 GHz\n",
      "### Band8\n",
      "### Band9\n",
      "##\n",
      "\n",
      "J1229+0203\n",
      "## source : /home/stephane/Science/RadioGalaxy/DeepField/bosscha/sources_final2/J1229+0203\n",
      "### Band3\n",
      "### Best rms noise for file: ./uid___A002_Xacb746_X8db.ms.split.cal-CALIBRATE_BANDPASS-J1229+0203.ms.cont4.image.fits (0.142 mJy)\n",
      "/home/stephane/Science/RadioGalaxy/DeepField/bosscha/sources_final2/J1229+0203/Band3/uid___A002_Xacb746_X8db.ms.split.cal-CALIBRATE_BANDPASS-J1229+0203.ms.cont4.image.fits\n"
     ]
    },
    {
     "name": "stderr",
     "output_type": "stream",
     "text": [
      "Output catalog ./uid___A002_Xa830fc_X47e0.ms.split.cal-CALIBRATE_BANDPASS-J1229+0203.ms.cont4.image.cat.txt already exists, I will overwrite it\n",
      "Output catalog ./uid___A002_X79b541_X13a0.ms.split.cal-CALIBRATE_BANDPASS-J1229+0203.ms.cont4.image.cat.txt already exists, I will overwrite it\n",
      "Output catalog ./uid___A002_Xb10f33_Xa627.ms.split.cal-CALIBRATE_BANDPASS-J1229+0203.ms.cont4.image.cat.txt already exists, I will overwrite it\n",
      "Output catalog ./uid___A002_Xa0f8da_X10b0.ms.split.cal-CALIBRATE_PHASE-J1229+0203.ms.cont4.image.cat.txt already exists, I will overwrite it\n"
     ]
    },
    {
     "name": "stdout",
     "output_type": "stream",
     "text": [
      "### 6507 sources detected...\n",
      "### Freq: 97.495 GHz\n",
      "### Band4\n",
      "### Band6\n",
      "### Best rms noise for file: ./uid___A002_Xa830fc_X47e0.ms.split.cal-CALIBRATE_BANDPASS-J1229+0203.ms.cont4.image.fits (0.990 mJy)\n",
      "/home/stephane/Science/RadioGalaxy/DeepField/bosscha/sources_final2/J1229+0203/Band6/uid___A002_Xa830fc_X47e0.ms.split.cal-CALIBRATE_BANDPASS-J1229+0203.ms.cont4.image.fits\n",
      "### 13 sources detected...\n",
      "### Freq: 236.883 GHz\n",
      "### Band7\n",
      "### Best rms noise for file: ./uid___A002_X79b541_X13a0.ms.split.cal-CALIBRATE_BANDPASS-J1229+0203.ms.cont4.image.fits (0.080 mJy)\n",
      "/home/stephane/Science/RadioGalaxy/DeepField/bosscha/sources_final2/J1229+0203/Band7/uid___A002_X79b541_X13a0.ms.split.cal-CALIBRATE_BANDPASS-J1229+0203.ms.cont4.image.fits\n",
      "### 1 sources detected...\n",
      "### Freq: 339.425 GHz\n",
      "### Band8\n",
      "### Best rms noise for file: ./uid___A002_Xb10f33_Xa627.ms.split.cal-CALIBRATE_BANDPASS-J1229+0203.ms.cont4.image.fits (1.479 mJy)\n",
      "/home/stephane/Science/RadioGalaxy/DeepField/bosscha/sources_final2/J1229+0203/Band8/uid___A002_Xb10f33_Xa627.ms.split.cal-CALIBRATE_BANDPASS-J1229+0203.ms.cont4.image.fits\n",
      "### 1 sources detected...\n",
      "### Freq: 397.388 GHz\n",
      "### Band9\n",
      "### Best rms noise for file: ./uid___A002_Xa0f8da_X10b0.ms.split.cal-CALIBRATE_PHASE-J1229+0203.ms.cont4.image.fits (0.887 mJy)\n",
      "/home/stephane/Science/RadioGalaxy/DeepField/bosscha/sources_final2/J1229+0203/Band9/uid___A002_Xa0f8da_X10b0.ms.split.cal-CALIBRATE_PHASE-J1229+0203.ms.cont4.image.fits\n"
     ]
    },
    {
     "name": "stderr",
     "output_type": "stream",
     "text": [
      "Output catalog ./uid___A002_X7fc9da_X3149.ms.split.cal-CALIBRATE_BANDPASS-J0730-1141.ms.cont4.image.cat.txt already exists, I will overwrite it\n",
      "Output catalog ./uid___A002_Xc5b7d7_X6983.ms.split.cal-CALIBRATE_PHASE-J0730-1141.ms.cont4.image.cat.txt already exists, I will overwrite it\n"
     ]
    },
    {
     "name": "stdout",
     "output_type": "stream",
     "text": [
      "### 1 sources detected...\n",
      "### Freq: 684.451 GHz\n",
      "##\n",
      "\n",
      "J0730-1141\n",
      "## source : /home/stephane/Science/RadioGalaxy/DeepField/bosscha/sources_final2/J0730-1141\n",
      "### Band3\n",
      "### Best rms noise for file: ./uid___A002_X7fc9da_X3149.ms.split.cal-CALIBRATE_BANDPASS-J0730-1141.ms.cont4.image.fits (0.116 mJy)\n",
      "/home/stephane/Science/RadioGalaxy/DeepField/bosscha/sources_final2/J0730-1141/Band3/uid___A002_X7fc9da_X3149.ms.split.cal-CALIBRATE_BANDPASS-J0730-1141.ms.cont4.image.fits\n",
      "### 1 sources detected...\n",
      "### Freq: 103.537 GHz\n",
      "### Band4\n",
      "### Band6\n",
      "### Best rms noise for file: ./uid___A002_Xc5b7d7_X6983.ms.split.cal-CALIBRATE_PHASE-J0730-1141.ms.cont4.image.fits (0.044 mJy)\n",
      "/home/stephane/Science/RadioGalaxy/DeepField/bosscha/sources_final2/J0730-1141/Band6/uid___A002_Xc5b7d7_X6983.ms.split.cal-CALIBRATE_PHASE-J0730-1141.ms.cont4.image.fits\n"
     ]
    },
    {
     "name": "stderr",
     "output_type": "stream",
     "text": [
      "Output catalog ./uid___A002_X89b926_X142.ms.split.cal-CALIBRATE_PHASE-J0730-1141.ms.cont4.image.cat.txt already exists, I will overwrite it\n",
      "Output catalog ./uid___A002_Xb5bd46_X55ee.ms.split.cal-CALIBRATE_PHASE-J0811-4929.ms.cont4.image.cat.txt already exists, I will overwrite it\n",
      "Output catalog ./uid___A002_Xb55f4e_X36b4.ms.split.cal-CALIBRATE_PHASE-J0811-4929.ms.cont4.image.cat.txt already exists, I will overwrite it\n"
     ]
    },
    {
     "name": "stdout",
     "output_type": "stream",
     "text": [
      "### 6 sources detected...\n",
      "### Freq: 225.498 GHz\n",
      "### Band7\n",
      "### Best rms noise for file: ./uid___A002_X89b926_X142.ms.split.cal-CALIBRATE_PHASE-J0730-1141.ms.cont4.image.fits (0.115 mJy)\n",
      "/home/stephane/Science/RadioGalaxy/DeepField/bosscha/sources_final2/J0730-1141/Band7/uid___A002_X89b926_X142.ms.split.cal-CALIBRATE_PHASE-J0730-1141.ms.cont4.image.fits\n",
      "### 1 sources detected...\n",
      "### Freq: 314.582 GHz\n",
      "### Band8\n",
      "### Band9\n",
      "##\n",
      "\n",
      "J0811-4929\n",
      "## source : /home/stephane/Science/RadioGalaxy/DeepField/bosscha/sources_final2/J0811-4929\n",
      "### Band3\n",
      "### Best rms noise for file: ./uid___A002_Xb5bd46_X55ee.ms.split.cal-CALIBRATE_PHASE-J0811-4929.ms.cont4.image.fits (0.076 mJy)\n",
      "/home/stephane/Science/RadioGalaxy/DeepField/bosscha/sources_final2/J0811-4929/Band3/uid___A002_Xb5bd46_X55ee.ms.split.cal-CALIBRATE_PHASE-J0811-4929.ms.cont4.image.fits\n",
      "### 1 sources detected...\n",
      "### Freq: 97.495 GHz\n",
      "### Band4\n",
      "### Best rms noise for file: ./uid___A002_Xb55f4e_X36b4.ms.split.cal-CALIBRATE_PHASE-J0811-4929.ms.cont4.image.fits (0.071 mJy)\n",
      "/home/stephane/Science/RadioGalaxy/DeepField/bosscha/sources_final2/J0811-4929/Band4/uid___A002_Xb55f4e_X36b4.ms.split.cal-CALIBRATE_PHASE-J0811-4929.ms.cont4.image.fits\n",
      "### 1 sources detected...\n",
      "### Freq: 144.995 GHz\n",
      "### Band6\n",
      "### Best rms noise for file: ./uid___A002_Xc3c940_X18d2.ms.split.cal-CALIBRATE_PHASE-J0811-4929.ms.cont4.image.fits (0.045 mJy)\n",
      "/home/stephane/Science/RadioGalaxy/DeepField/bosscha/sources_final2/J0811-4929/Band6/uid___A002_Xc3c940_X18d2.ms.split.cal-CALIBRATE_PHASE-J0811-4929.ms.cont4.image.fits\n"
     ]
    },
    {
     "name": "stderr",
     "output_type": "stream",
     "text": [
      "Output catalog ./uid___A002_Xc3c940_X18d2.ms.split.cal-CALIBRATE_PHASE-J0811-4929.ms.cont4.image.cat.txt already exists, I will overwrite it\n",
      "Output catalog ./uid___A002_Xb05734_X632.ms.split.cal-CALIBRATE_PHASE-J0811-4929.ms.cont4.image.cat.txt already exists, I will overwrite it\n",
      "Output catalog ./uid___A002_Xba4d35_Xca1b.ms.split.cal-CALIBRATE_PHASE-J0811-4929.ms.cont4.image.cat.txt already exists, I will overwrite it\n",
      "Output catalog ./uid___A002_X8254f0_X79b.ms.split.cal-CALIBRATE_BANDPASS-J1427-4206.ms.cont4.image.cat.txt already exists, I will overwrite it\n",
      "Output catalog ./uid___A002_Xa50ce2_X6b4.ms.split.cal-CALIBRATE_FLUX-J1427-421.ms.cont4.image.cat.txt already exists, I will overwrite it\n"
     ]
    },
    {
     "name": "stdout",
     "output_type": "stream",
     "text": [
      "### 2 sources detected...\n",
      "### Freq: 225.487 GHz\n",
      "### Band7\n",
      "### Best rms noise for file: ./uid___A002_Xb05734_X632.ms.split.cal-CALIBRATE_PHASE-J0811-4929.ms.cont4.image.fits (0.106 mJy)\n",
      "/home/stephane/Science/RadioGalaxy/DeepField/bosscha/sources_final2/J0811-4929/Band7/uid___A002_Xb05734_X632.ms.split.cal-CALIBRATE_PHASE-J0811-4929.ms.cont4.image.fits\n",
      "### 1 sources detected...\n",
      "### Freq: 343.495 GHz\n",
      "### Band8\n",
      "### Best rms noise for file: ./uid___A002_Xba4d35_Xca1b.ms.split.cal-CALIBRATE_PHASE-J0811-4929.ms.cont4.image.fits (0.693 mJy)\n",
      "/home/stephane/Science/RadioGalaxy/DeepField/bosscha/sources_final2/J0811-4929/Band8/uid___A002_Xba4d35_Xca1b.ms.split.cal-CALIBRATE_PHASE-J0811-4929.ms.cont4.image.fits\n",
      "### 1 sources detected...\n",
      "### Freq: 484.649 GHz\n",
      "### Band9\n",
      "##\n",
      "\n",
      "J1427-4206\n",
      "## source : /home/stephane/Science/RadioGalaxy/DeepField/bosscha/sources_final2/J1427-4206\n",
      "### Band3\n",
      "### Best rms noise for file: ./uid___A002_X8254f0_X79b.ms.split.cal-CALIBRATE_BANDPASS-J1427-4206.ms.cont4.image.fits (191.235 mJy)\n",
      "/home/stephane/Science/RadioGalaxy/DeepField/bosscha/sources_final2/J1427-4206/Band3/uid___A002_X8254f0_X79b.ms.split.cal-CALIBRATE_BANDPASS-J1427-4206.ms.cont4.image.fits\n",
      "### 20 sources detected...\n",
      "### Freq: 107.995 GHz\n",
      "### Band4\n",
      "### Band6\n",
      "### Best rms noise for file: ./uid___A002_Xa50ce2_X6b4.ms.split.cal-CALIBRATE_FLUX-J1427-421.ms.cont4.image.fits (0.094 mJy)\n",
      "/home/stephane/Science/RadioGalaxy/DeepField/bosscha/sources_final2/J1427-4206/Band6/uid___A002_Xa50ce2_X6b4.ms.split.cal-CALIBRATE_FLUX-J1427-421.ms.cont4.image.fits\n"
     ]
    },
    {
     "name": "stderr",
     "output_type": "stream",
     "text": [
      "Output catalog ./uid___A002_X807059_X213.ms.split.cal-CALIBRATE_BANDPASS-J1427-4206.ms.cont4.image.cat.txt already exists, I will overwrite it\n",
      "Output catalog ./uid___A002_X83b318_X43a.ms.split.cal-CALIBRATE_BANDPASS-J1427-4206.ms.cont4.image.cat.txt already exists, I will overwrite it\n",
      "Output catalog ./uid___A002_Xa0b40d_X67c5.ms.split.cal-CALIBRATE_PHASE-J0239-0234.ms.cont4.image.cat.txt already exists, I will overwrite it\n",
      "Output catalog ./uid___A002_X7c8369_X374.ms.split.cal-CALIBRATE_PHASE-J0239-0234.ms.cont4.image.cat.txt already exists, I will overwrite it\n",
      "Output catalog ./uid___A002_Xb9cc97_X6e00.ms.split.cal-CALIBRATE_PHASE-J0239-0234.ms.cont4.image.cat.txt already exists, I will overwrite it\n"
     ]
    },
    {
     "name": "stdout",
     "output_type": "stream",
     "text": [
      "### 1 sources detected...\n",
      "### Freq: 103.360 GHz\n",
      "### Band7\n",
      "### Best rms noise for file: ./uid___A002_X807059_X213.ms.split.cal-CALIBRATE_BANDPASS-J1427-4206.ms.cont4.image.fits (0.060 mJy)\n",
      "/home/stephane/Science/RadioGalaxy/DeepField/bosscha/sources_final2/J1427-4206/Band7/uid___A002_X807059_X213.ms.split.cal-CALIBRATE_BANDPASS-J1427-4206.ms.cont4.image.fits\n",
      "### 1 sources detected...\n",
      "### Freq: 336.496 GHz\n",
      "### Band8\n",
      "### Band9\n",
      "### Best rms noise for file: ./uid___A002_X83b318_X43a.ms.split.cal-CALIBRATE_BANDPASS-J1427-4206.ms.cont4.image.fits (0.661 mJy)\n",
      "/home/stephane/Science/RadioGalaxy/DeepField/bosscha/sources_final2/J1427-4206/Band9/uid___A002_X83b318_X43a.ms.split.cal-CALIBRATE_BANDPASS-J1427-4206.ms.cont4.image.fits\n",
      "### 1 sources detected...\n",
      "### Freq: 666.684 GHz\n",
      "##\n",
      "\n",
      "J0239-0234\n",
      "## source : /home/stephane/Science/RadioGalaxy/DeepField/bosscha/sources_final2/J0239-0234\n",
      "### Band3\n",
      "### Best rms noise for file: ./uid___A002_Xa0b40d_X67c5.ms.split.cal-CALIBRATE_PHASE-J0239-0234.ms.cont4.image.fits (0.128 mJy)\n",
      "/home/stephane/Science/RadioGalaxy/DeepField/bosscha/sources_final2/J0239-0234/Band3/uid___A002_Xa0b40d_X67c5.ms.split.cal-CALIBRATE_PHASE-J0239-0234.ms.cont4.image.fits\n",
      "### 1 sources detected...\n",
      "### Freq: 103.149 GHz\n",
      "### Band4\n",
      "### Band6\n",
      "### Best rms noise for file: ./uid___A002_X7c8369_X374.ms.split.cal-CALIBRATE_PHASE-J0239-0234.ms.cont4.image.fits (0.141 mJy)\n",
      "/home/stephane/Science/RadioGalaxy/DeepField/bosscha/sources_final2/J0239-0234/Band6/uid___A002_X7c8369_X374.ms.split.cal-CALIBRATE_PHASE-J0239-0234.ms.cont4.image.fits\n",
      "### 1 sources detected...\n",
      "### Freq: 262.629 GHz\n",
      "### Band7\n",
      "### Best rms noise for file: ./uid___A002_Xb9cc97_X6e00.ms.split.cal-CALIBRATE_PHASE-J0239-0234.ms.cont4.image.fits (0.186 mJy)\n",
      "/home/stephane/Science/RadioGalaxy/DeepField/bosscha/sources_final2/J0239-0234/Band7/uid___A002_Xb9cc97_X6e00.ms.split.cal-CALIBRATE_PHASE-J0239-0234.ms.cont4.image.fits\n"
     ]
    },
    {
     "name": "stderr",
     "output_type": "stream",
     "text": [
      "Output catalog ./uid___A002_X877956_X176e.ms.split.cal-CALIBRATE_PHASE-J0309+1029.ms.cont4.image.cat.txt already exists, I will overwrite it\n",
      "Output catalog ./uid___A002_Xc7bfc7_X4e4.ms.split.cal-CALIBRATE_PHASE-J0309+1029.ms.cont4.image.cat.txt already exists, I will overwrite it\n"
     ]
    },
    {
     "name": "stdout",
     "output_type": "stream",
     "text": [
      "### 1 sources detected...\n",
      "### Freq: 350.914 GHz\n",
      "### Band8\n",
      "### Band9\n",
      "##\n",
      "\n",
      "J0309+1029\n",
      "## source : /home/stephane/Science/RadioGalaxy/DeepField/bosscha/sources_final2/J0309+1029\n",
      "### Band3\n",
      "### Best rms noise for file: ./uid___A002_X877956_X176e.ms.split.cal-CALIBRATE_PHASE-J0309+1029.ms.cont4.image.fits (0.092 mJy)\n",
      "/home/stephane/Science/RadioGalaxy/DeepField/bosscha/sources_final2/J0309+1029/Band3/uid___A002_X877956_X176e.ms.split.cal-CALIBRATE_PHASE-J0309+1029.ms.cont4.image.fits\n",
      "### 1 sources detected...\n",
      "### Freq: 110.387 GHz\n",
      "### Band4\n",
      "### Band6\n",
      "### Best rms noise for file: ./uid___A002_Xc7bfc7_X4e4.ms.split.cal-CALIBRATE_PHASE-J0309+1029.ms.cont4.image.fits (0.127 mJy)\n",
      "/home/stephane/Science/RadioGalaxy/DeepField/bosscha/sources_final2/J0309+1029/Band6/uid___A002_Xc7bfc7_X4e4.ms.split.cal-CALIBRATE_PHASE-J0309+1029.ms.cont4.image.fits\n"
     ]
    },
    {
     "name": "stderr",
     "output_type": "stream",
     "text": [
      "Output catalog ./uid___A002_X8917e8_Xee5.ms.split.cal-CALIBRATE_PHASE-J0309+1029.ms.cont4.image.cat.txt already exists, I will overwrite it\n",
      "Output catalog ./uid___A002_Xb7d0ee_X516a.ms.split.cal-CALIBRATE_PHASE-J1315-5334.ms.cont4.image.cat.txt already exists, I will overwrite it\n",
      "Output catalog ./uid___A002_X98124f_X2127.ms.split.cal-CALIBRATE_PHASE-J1315-5334.ms.cont4.image.cat.txt already exists, I will overwrite it\n"
     ]
    },
    {
     "name": "stdout",
     "output_type": "stream",
     "text": [
      "### 8 sources detected...\n",
      "### Freq: 237.104 GHz\n",
      "### Band7\n",
      "### Best rms noise for file: ./uid___A002_X8917e8_Xee5.ms.split.cal-CALIBRATE_PHASE-J0309+1029.ms.cont4.image.fits (0.108 mJy)\n",
      "/home/stephane/Science/RadioGalaxy/DeepField/bosscha/sources_final2/J0309+1029/Band7/uid___A002_X8917e8_Xee5.ms.split.cal-CALIBRATE_PHASE-J0309+1029.ms.cont4.image.fits\n",
      "### 1 sources detected...\n",
      "### Freq: 335.149 GHz\n",
      "### Band8\n",
      "### Band9\n",
      "##\n",
      "\n",
      "J1315-5334\n",
      "## source : /home/stephane/Science/RadioGalaxy/DeepField/bosscha/sources_final2/J1315-5334\n",
      "### Band3\n",
      "### Best rms noise for file: ./uid___A002_Xb7d0ee_X516a.ms.split.cal-CALIBRATE_PHASE-J1315-5334.ms.cont4.image.fits (0.092 mJy)\n",
      "/home/stephane/Science/RadioGalaxy/DeepField/bosscha/sources_final2/J1315-5334/Band3/uid___A002_Xb7d0ee_X516a.ms.split.cal-CALIBRATE_PHASE-J1315-5334.ms.cont4.image.fits\n",
      "### 4 sources detected...\n",
      "### Freq: 101.798 GHz\n",
      "### Band4\n",
      "### Band6\n",
      "### Best rms noise for file: ./uid___A002_X98124f_X2127.ms.split.cal-CALIBRATE_PHASE-J1315-5334.ms.cont4.image.fits (0.091 mJy)\n",
      "/home/stephane/Science/RadioGalaxy/DeepField/bosscha/sources_final2/J1315-5334/Band6/uid___A002_X98124f_X2127.ms.split.cal-CALIBRATE_PHASE-J1315-5334.ms.cont4.image.fits\n",
      "### 2 sources detected...\n",
      "### Freq: 226.102 GHz\n",
      "### Band7\n"
     ]
    },
    {
     "name": "stderr",
     "output_type": "stream",
     "text": [
      "Output catalog ./uid___A002_Xb402ff_X142d.ms.split.cal-CALIBRATE_PHASE-J1315-5334.ms.cont4.image.cat.txt already exists, I will overwrite it\n",
      "Output catalog ./uid___A002_Xa4dcb9_X8ac.ms.split.cal-CALIBRATE_PHASE-J1752-2956.ms.cont4.image.cat.txt already exists, I will overwrite it\n",
      "Output catalog ./uid___A002_Xa09b0b_X7.ms.split.cal-CALIBRATE_PHASE-J1752-2956.ms.cont4.image.cat.txt already exists, I will overwrite it\n",
      "Output catalog ./uid___A002_Xb76b01_X10c2.ms.split.cal-CALIBRATE_PHASE-J1752-2956.ms.cont4.image.cat.txt already exists, I will overwrite it\n"
     ]
    },
    {
     "name": "stdout",
     "output_type": "stream",
     "text": [
      "### Best rms noise for file: ./uid___A002_Xb402ff_X142d.ms.split.cal-CALIBRATE_PHASE-J1315-5334.ms.cont4.image.fits (0.636 mJy)\n",
      "/home/stephane/Science/RadioGalaxy/DeepField/bosscha/sources_final2/J1315-5334/Band7/uid___A002_Xb402ff_X142d.ms.split.cal-CALIBRATE_PHASE-J1315-5334.ms.cont4.image.fits\n",
      "### 1 sources detected...\n",
      "### Freq: 328.038 GHz\n",
      "### Band8\n",
      "### Band9\n",
      "##\n",
      "\n",
      "J1752-2956\n",
      "## source : /home/stephane/Science/RadioGalaxy/DeepField/bosscha/sources_final2/J1752-2956\n",
      "### Band3\n",
      "### Best rms noise for file: ./uid___A002_Xa4dcb9_X8ac.ms.split.cal-CALIBRATE_PHASE-J1752-2956.ms.cont4.image.fits (0.059 mJy)\n",
      "/home/stephane/Science/RadioGalaxy/DeepField/bosscha/sources_final2/J1752-2956/Band3/uid___A002_Xa4dcb9_X8ac.ms.split.cal-CALIBRATE_PHASE-J1752-2956.ms.cont4.image.fits\n",
      "### 1 sources detected...\n",
      "### Freq: 96.353 GHz\n",
      "### Band4\n",
      "### Band6\n",
      "### Best rms noise for file: ./uid___A002_Xa09b0b_X7.ms.split.cal-CALIBRATE_PHASE-J1752-2956.ms.cont4.image.fits (0.053 mJy)\n",
      "/home/stephane/Science/RadioGalaxy/DeepField/bosscha/sources_final2/J1752-2956/Band6/uid___A002_Xa09b0b_X7.ms.split.cal-CALIBRATE_PHASE-J1752-2956.ms.cont4.image.fits\n",
      "### 1 sources detected...\n",
      "### Freq: 228.438 GHz\n",
      "### Band7\n",
      "### Best rms noise for file: ./uid___A002_Xb76b01_X10c2.ms.split.cal-CALIBRATE_PHASE-J1752-2956.ms.cont4.image.fits (0.127 mJy)\n",
      "/home/stephane/Science/RadioGalaxy/DeepField/bosscha/sources_final2/J1752-2956/Band7/uid___A002_Xb76b01_X10c2.ms.split.cal-CALIBRATE_PHASE-J1752-2956.ms.cont4.image.fits\n"
     ]
    },
    {
     "name": "stderr",
     "output_type": "stream",
     "text": [
      "Output catalog ./uid___A002_Xac5575_X3946.ms.split.cal-CALIBRATE_BANDPASS-J1517-2422.ms.cont4.image.cat.txt already exists, I will overwrite it\n"
     ]
    },
    {
     "name": "stdout",
     "output_type": "stream",
     "text": [
      "### 1 sources detected...\n",
      "### Freq: 343.495 GHz\n",
      "### Band8\n",
      "### Band9\n",
      "##\n",
      "\n",
      "J1517-2422\n",
      "## source : /home/stephane/Science/RadioGalaxy/DeepField/bosscha/sources_final2/J1517-2422\n",
      "### Band3\n",
      "### Best rms noise for file: ./uid___A002_Xac5575_X3946.ms.split.cal-CALIBRATE_BANDPASS-J1517-2422.ms.cont4.image.fits (0.052 mJy)\n",
      "/home/stephane/Science/RadioGalaxy/DeepField/bosscha/sources_final2/J1517-2422/Band3/uid___A002_Xac5575_X3946.ms.split.cal-CALIBRATE_BANDPASS-J1517-2422.ms.cont4.image.fits\n"
     ]
    },
    {
     "name": "stderr",
     "output_type": "stream",
     "text": [
      "Output catalog ./uid___A002_X9fddd8_X2738.ms.split.cal-CALIBRATE_BANDPASS-J1517-2422.ms.cont4.image.cat.txt already exists, I will overwrite it\n",
      "Output catalog ./uid___A002_X7d194b_Xbdb.ms.split.cal-CALIBRATE_BANDPASS-J1517-2422.ms.cont4.image.cat.txt already exists, I will overwrite it\n",
      "Output catalog ./uid___A002_Xb6e0b3_X15e9.ms.split.cal-CALIBRATE_BANDPASS-J1517-2422.ms.cont4.image.cat.txt already exists, I will overwrite it\n",
      "Output catalog ./uid___A002_X83b318_X43a.ms.split.cal-CALIBRATE_FLUX-J1517-243.ms.cont4.image.cat.txt already exists, I will overwrite it\n"
     ]
    },
    {
     "name": "stdout",
     "output_type": "stream",
     "text": [
      "### 7771 sources detected...\n",
      "### Freq: 97.495 GHz\n",
      "### Band4\n",
      "### Band6\n",
      "### Best rms noise for file: ./uid___A002_X9fddd8_X2738.ms.split.cal-CALIBRATE_BANDPASS-J1517-2422.ms.cont4.image.fits (0.084 mJy)\n",
      "/home/stephane/Science/RadioGalaxy/DeepField/bosscha/sources_final2/J1517-2422/Band6/uid___A002_X9fddd8_X2738.ms.split.cal-CALIBRATE_BANDPASS-J1517-2422.ms.cont4.image.fits\n",
      "### 1 sources detected...\n",
      "### Freq: 225.688 GHz\n",
      "### Band7\n",
      "### Best rms noise for file: ./uid___A002_X7d194b_Xbdb.ms.split.cal-CALIBRATE_BANDPASS-J1517-2422.ms.cont4.image.fits (0.133 mJy)\n",
      "/home/stephane/Science/RadioGalaxy/DeepField/bosscha/sources_final2/J1517-2422/Band7/uid___A002_X7d194b_Xbdb.ms.split.cal-CALIBRATE_BANDPASS-J1517-2422.ms.cont4.image.fits\n",
      "### 1 sources detected...\n",
      "### Freq: 338.823 GHz\n",
      "### Band8\n",
      "### Best rms noise for file: ./uid___A002_Xb6e0b3_X15e9.ms.split.cal-CALIBRATE_BANDPASS-J1517-2422.ms.cont4.image.fits (0.886 mJy)\n",
      "/home/stephane/Science/RadioGalaxy/DeepField/bosscha/sources_final2/J1517-2422/Band8/uid___A002_Xb6e0b3_X15e9.ms.split.cal-CALIBRATE_BANDPASS-J1517-2422.ms.cont4.image.fits\n",
      "### 1 sources detected...\n",
      "### Freq: 427.818 GHz\n",
      "### Band9\n",
      "### Best rms noise for file: ./uid___A002_X83b318_X43a.ms.split.cal-CALIBRATE_FLUX-J1517-243.ms.cont4.image.fits (1.339 mJy)\n",
      "/home/stephane/Science/RadioGalaxy/DeepField/bosscha/sources_final2/J1517-2422/Band9/uid___A002_X83b318_X43a.ms.split.cal-CALIBRATE_FLUX-J1517-243.ms.cont4.image.fits\n"
     ]
    },
    {
     "name": "stderr",
     "output_type": "stream",
     "text": [
      "Output catalog ./uid___A002_Xa4b3e9_X171a.ms.split.cal-CALIBRATE_BANDPASS-J1751+0939.ms.cont4.image.cat.txt already exists, I will overwrite it\n",
      "Output catalog ./uid___A002_Xb09eed_Xe65d.ms.split.cal-CALIBRATE_PHASE-J0315-1656.ms.cont4.image.cat.txt already exists, I will overwrite it\n",
      "Output catalog ./uid___A002_Xc2bb44_X22b8.ms.split.cal-CALIBRATE_PHASE-J0315-1656.ms.cont4.image.cat.txt already exists, I will overwrite it\n"
     ]
    },
    {
     "name": "stdout",
     "output_type": "stream",
     "text": [
      "### 1 sources detected...\n",
      "### Freq: 666.684 GHz\n",
      "##\n",
      "\n",
      "J1751+0939\n",
      "## source : /home/stephane/Science/RadioGalaxy/DeepField/bosscha/sources_final2/J1751+0939\n",
      "### Band3\n",
      "### Best rms noise for file: ./uid___A002_Xa4b3e9_X171a.ms.split.cal-CALIBRATE_BANDPASS-J1751+0939.ms.cont4.image.fits (0.272 mJy)\n",
      "/home/stephane/Science/RadioGalaxy/DeepField/bosscha/sources_final2/J1751+0939/Band3/uid___A002_Xa4b3e9_X171a.ms.split.cal-CALIBRATE_BANDPASS-J1751+0939.ms.cont4.image.fits\n",
      "### 31 sources detected...\n",
      "### Freq: 106.275 GHz\n",
      "### Band4\n",
      "### Band6\n",
      "### Band7\n",
      "### Band8\n",
      "### Band9\n",
      "##\n",
      "\n",
      "J0315-1656\n",
      "## source : /home/stephane/Science/RadioGalaxy/DeepField/bosscha/sources_final2/J0315-1656\n",
      "### Band3\n",
      "### Best rms noise for file: ./uid___A002_Xb09eed_Xe65d.ms.split.cal-CALIBRATE_PHASE-J0315-1656.ms.cont4.image.fits (0.071 mJy)\n",
      "/home/stephane/Science/RadioGalaxy/DeepField/bosscha/sources_final2/J0315-1656/Band3/uid___A002_Xb09eed_Xe65d.ms.split.cal-CALIBRATE_PHASE-J0315-1656.ms.cont4.image.fits\n",
      "### 1 sources detected...\n",
      "### Freq: 106.895 GHz\n",
      "### Band4\n",
      "### Band6\n",
      "### Best rms noise for file: ./uid___A002_Xc2bb44_X22b8.ms.split.cal-CALIBRATE_PHASE-J0315-1656.ms.cont4.image.fits (0.000 mJy)\n",
      "/home/stephane/Science/RadioGalaxy/DeepField/bosscha/sources_final2/J0315-1656/Band6/uid___A002_Xc2bb44_X22b8.ms.split.cal-CALIBRATE_PHASE-J0315-1656.ms.cont4.image.fits\n"
     ]
    },
    {
     "name": "stderr",
     "output_type": "stream",
     "text": [
      "Output catalog ./uid___A002_Xd4e157_X1817.ms.split.cal-CALIBRATE_PHASE-J0315-1656.ms.cont4.image.cat.txt already exists, I will overwrite it\n",
      "Output catalog ./uid___A002_Xb6a8c1_Xa7bd.ms.split.cal-CALIBRATE_PHASE-J2056-5820.ms.cont4.image.cat.txt already exists, I will overwrite it\n",
      "Output catalog ./uid___A002_Xb33b61_X2aa4.ms.split.cal-CALIBRATE_PHASE-J2056-5820.ms.cont4.image.cat.txt already exists, I will overwrite it\n"
     ]
    },
    {
     "name": "stdout",
     "output_type": "stream",
     "text": [
      "### 36 sources detected...\n",
      "### Freq: 207.076 GHz\n",
      "### Band7\n",
      "### Best rms noise for file: ./uid___A002_Xd4e157_X1817.ms.split.cal-CALIBRATE_PHASE-J0315-1656.ms.cont4.image.fits (0.095 mJy)\n",
      "/home/stephane/Science/RadioGalaxy/DeepField/bosscha/sources_final2/J0315-1656/Band7/uid___A002_Xd4e157_X1817.ms.split.cal-CALIBRATE_PHASE-J0315-1656.ms.cont4.image.fits\n",
      "### 1 sources detected...\n",
      "### Freq: 340.351 GHz\n",
      "### Band8\n",
      "### Band9\n",
      "##\n",
      "\n",
      "J2056-5820\n",
      "## source : /home/stephane/Science/RadioGalaxy/DeepField/bosscha/sources_final2/J2056-5820\n",
      "### Band3\n",
      "### Best rms noise for file: ./uid___A002_Xb6a8c1_Xa7bd.ms.split.cal-CALIBRATE_PHASE-J2056-5820.ms.cont4.image.fits (0.039 mJy)\n",
      "/home/stephane/Science/RadioGalaxy/DeepField/bosscha/sources_final2/J2056-5820/Band3/uid___A002_Xb6a8c1_Xa7bd.ms.split.cal-CALIBRATE_PHASE-J2056-5820.ms.cont4.image.fits\n",
      "### 2 sources detected...\n",
      "### Freq: 107.000 GHz\n",
      "### Band4\n",
      "### Band6\n",
      "### Best rms noise for file: ./uid___A002_Xb33b61_X2aa4.ms.split.cal-CALIBRATE_PHASE-J2056-5820.ms.cont4.image.fits (0.057 mJy)\n",
      "/home/stephane/Science/RadioGalaxy/DeepField/bosscha/sources_final2/J2056-5820/Band6/uid___A002_Xb33b61_X2aa4.ms.split.cal-CALIBRATE_PHASE-J2056-5820.ms.cont4.image.fits\n",
      "### 2 sources detected...\n",
      "### Freq: 223.960 GHz\n",
      "### Band7\n",
      "### Best rms noise for file: ./uid___A002_Xb1cc39_X3edc.ms.split.cal-CALIBRATE_PHASE-J2056-5820.ms.cont4.image.fits (0.140 mJy)\n",
      "/home/stephane/Science/RadioGalaxy/DeepField/bosscha/sources_final2/J2056-5820/Band7/uid___A002_Xb1cc39_X3edc.ms.split.cal-CALIBRATE_PHASE-J2056-5820.ms.cont4.image.fits\n"
     ]
    },
    {
     "name": "stderr",
     "output_type": "stream",
     "text": [
      "Output catalog ./uid___A002_Xb1cc39_X3edc.ms.split.cal-CALIBRATE_PHASE-J2056-5820.ms.cont4.image.cat.txt already exists, I will overwrite it\n",
      "Output catalog ./uid___A002_X9d26c8_Xc30.ms.split.cal-CALIBRATE_PHASE-J1516+1932.ms.cont4.image.cat.txt already exists, I will overwrite it\n",
      "Output catalog ./uid___A002_Xa2300a_Xa8a.ms.split.cal-CALIBRATE_PHASE-J1516+1932.ms.cont4.image.cat.txt already exists, I will overwrite it\n",
      "Output catalog ./uid___A002_X8440e0_X3617.ms.split.cal-CALIBRATE_PHASE-J1516+1932.ms.cont4.image.cat.txt already exists, I will overwrite it\n"
     ]
    },
    {
     "name": "stdout",
     "output_type": "stream",
     "text": [
      "### 1 sources detected...\n",
      "### Freq: 347.347 GHz\n",
      "### Band8\n",
      "### Band9\n",
      "##\n",
      "\n",
      "J1516+1932\n",
      "## source : /home/stephane/Science/RadioGalaxy/DeepField/bosscha/sources_final2/J1516+1932\n",
      "### Band3\n",
      "### Best rms noise for file: ./uid___A002_X9d26c8_Xc30.ms.split.cal-CALIBRATE_PHASE-J1516+1932.ms.cont4.image.fits (0.039 mJy)\n",
      "/home/stephane/Science/RadioGalaxy/DeepField/bosscha/sources_final2/J1516+1932/Band3/uid___A002_X9d26c8_Xc30.ms.split.cal-CALIBRATE_PHASE-J1516+1932.ms.cont4.image.fits\n",
      "### 1 sources detected...\n",
      "### Freq: 97.495 GHz\n",
      "### Band4\n",
      "### Band6\n",
      "### Best rms noise for file: ./uid___A002_Xa2300a_Xa8a.ms.split.cal-CALIBRATE_PHASE-J1516+1932.ms.cont4.image.fits (0.000 mJy)\n",
      "/home/stephane/Science/RadioGalaxy/DeepField/bosscha/sources_final2/J1516+1932/Band6/uid___A002_Xa2300a_Xa8a.ms.split.cal-CALIBRATE_PHASE-J1516+1932.ms.cont4.image.fits\n",
      "### 10 sources detected...\n",
      "### Freq: 212.169 GHz\n",
      "### Band7\n",
      "### Best rms noise for file: ./uid___A002_X8440e0_X3617.ms.split.cal-CALIBRATE_PHASE-J1516+1932.ms.cont4.image.fits (0.004 mJy)\n",
      "/home/stephane/Science/RadioGalaxy/DeepField/bosscha/sources_final2/J1516+1932/Band7/uid___A002_X8440e0_X3617.ms.split.cal-CALIBRATE_PHASE-J1516+1932.ms.cont4.image.fits\n"
     ]
    },
    {
     "name": "stderr",
     "output_type": "stream",
     "text": [
      "Output catalog ./uid___A002_Xb60be4_X390.ms.split.cal-CALIBRATE_PHASE-J1516+1932.ms.cont4.image.cat.txt already exists, I will overwrite it\n",
      "Output catalog ./uid___A002_X83bead_X968.ms.split.cal-CALIBRATE_PHASE-J1516+1932.ms.cont4.image.cat.txt already exists, I will overwrite it\n",
      "Output catalog ./uid___A002_Xb60831_X486.ms.split.cal-CALIBRATE_PHASE-J2035+1056.ms.cont4.image.cat.txt already exists, I will overwrite it\n",
      "Output catalog ./uid___A002_Xb3e112_X1b95.ms.split.cal-CALIBRATE_PHASE-J2035+1056.ms.cont4.image.cat.txt already exists, I will overwrite it\n"
     ]
    },
    {
     "name": "stdout",
     "output_type": "stream",
     "text": [
      "### 1 sources detected...\n",
      "### Freq: 282.869 GHz\n",
      "### Band8\n",
      "### Best rms noise for file: ./uid___A002_Xb60be4_X390.ms.split.cal-CALIBRATE_PHASE-J1516+1932.ms.cont4.image.fits (0.311 mJy)\n",
      "/home/stephane/Science/RadioGalaxy/DeepField/bosscha/sources_final2/J1516+1932/Band8/uid___A002_Xb60be4_X390.ms.split.cal-CALIBRATE_PHASE-J1516+1932.ms.cont4.image.fits\n",
      "### 1 sources detected...\n",
      "### Freq: 427.818 GHz\n",
      "### Band9\n",
      "### Best rms noise for file: ./uid___A002_X83bead_X968.ms.split.cal-CALIBRATE_PHASE-J1516+1932.ms.cont4.image.fits (0.693 mJy)\n",
      "/home/stephane/Science/RadioGalaxy/DeepField/bosscha/sources_final2/J1516+1932/Band9/uid___A002_X83bead_X968.ms.split.cal-CALIBRATE_PHASE-J1516+1932.ms.cont4.image.fits\n",
      "### 1 sources detected...\n",
      "### Freq: 627.474 GHz\n",
      "##\n",
      "\n",
      "J2035+1056\n",
      "## source : /home/stephane/Science/RadioGalaxy/DeepField/bosscha/sources_final2/J2035+1056\n",
      "### Band3\n",
      "### Best rms noise for file: ./uid___A002_Xb60831_X486.ms.split.cal-CALIBRATE_PHASE-J2035+1056.ms.cont4.image.fits (0.061 mJy)\n",
      "/home/stephane/Science/RadioGalaxy/DeepField/bosscha/sources_final2/J2035+1056/Band3/uid___A002_Xb60831_X486.ms.split.cal-CALIBRATE_PHASE-J2035+1056.ms.cont4.image.fits\n",
      "### 1 sources detected...\n",
      "### Freq: 97.495 GHz\n",
      "### Band4\n",
      "### Band6\n",
      "### Best rms noise for file: ./uid___A002_Xb3e112_X1b95.ms.split.cal-CALIBRATE_PHASE-J2035+1056.ms.cont4.image.fits (0.164 mJy)\n",
      "/home/stephane/Science/RadioGalaxy/DeepField/bosscha/sources_final2/J2035+1056/Band6/uid___A002_Xb3e112_X1b95.ms.split.cal-CALIBRATE_PHASE-J2035+1056.ms.cont4.image.fits\n"
     ]
    },
    {
     "name": "stderr",
     "output_type": "stream",
     "text": [
      "Output catalog ./uid___A002_Xb60831_X17.ms.split.cal-CALIBRATE_PHASE-J2035+1056.ms.cont4.image.cat.txt already exists, I will overwrite it\n",
      "Output catalog ./uid___A002_X85b7b2_X935.ms.split.cal-CALIBRATE_BANDPASS-J0334-4008.ms.cont4.image.cat.txt already exists, I will overwrite it\n",
      "Output catalog ./uid___A002_X9630c0_X4d3.ms.split.cal-CALIBRATE_BANDPASS-J0334-4008.ms.cont4.image.cat.txt already exists, I will overwrite it\n",
      "Output catalog ./uid___A002_X84187d_X2c04.ms.split.cal-CALIBRATE_FLUX-J0334-401.ms.cont4.image.cat.txt already exists, I will overwrite it\n",
      "Output catalog ./uid___A002_Xb09eed_X2f8.ms.split.cal-CALIBRATE_PHASE-J0438+3004.ms.cont4.image.cat.txt already exists, I will overwrite it\n"
     ]
    },
    {
     "name": "stdout",
     "output_type": "stream",
     "text": [
      "### 1 sources detected...\n",
      "### Freq: 252.894 GHz\n",
      "### Band7\n",
      "### Best rms noise for file: ./uid___A002_Xb60831_X17.ms.split.cal-CALIBRATE_PHASE-J2035+1056.ms.cont4.image.fits (0.101 mJy)\n",
      "/home/stephane/Science/RadioGalaxy/DeepField/bosscha/sources_final2/J2035+1056/Band7/uid___A002_Xb60831_X17.ms.split.cal-CALIBRATE_PHASE-J2035+1056.ms.cont4.image.fits\n",
      "### 1 sources detected...\n",
      "### Freq: 343.495 GHz\n",
      "### Band8\n",
      "### Band9\n",
      "##\n",
      "\n",
      "J0334-4008\n",
      "## source : /home/stephane/Science/RadioGalaxy/DeepField/bosscha/sources_final2/J0334-4008\n",
      "### Band3\n",
      "### Best rms noise for file: ./uid___A002_X85b7b2_X935.ms.split.cal-CALIBRATE_BANDPASS-J0334-4008.ms.cont4.image.fits (0.059 mJy)\n",
      "/home/stephane/Science/RadioGalaxy/DeepField/bosscha/sources_final2/J0334-4008/Band3/uid___A002_X85b7b2_X935.ms.split.cal-CALIBRATE_BANDPASS-J0334-4008.ms.cont4.image.fits\n",
      "### 1 sources detected...\n",
      "### Freq: 95.825 GHz\n",
      "### Band4\n",
      "### Band6\n",
      "### Best rms noise for file: ./uid___A002_X9630c0_X4d3.ms.split.cal-CALIBRATE_BANDPASS-J0334-4008.ms.cont4.image.fits (0.110 mJy)\n",
      "/home/stephane/Science/RadioGalaxy/DeepField/bosscha/sources_final2/J0334-4008/Band6/uid___A002_X9630c0_X4d3.ms.split.cal-CALIBRATE_BANDPASS-J0334-4008.ms.cont4.image.fits\n",
      "### 1 sources detected...\n",
      "### Freq: 225.834 GHz\n",
      "### Band7\n",
      "### Best rms noise for file: ./uid___A002_X84187d_X2c04.ms.split.cal-CALIBRATE_FLUX-J0334-401.ms.cont4.image.fits (0.197 mJy)\n",
      "/home/stephane/Science/RadioGalaxy/DeepField/bosscha/sources_final2/J0334-4008/Band7/uid___A002_X84187d_X2c04.ms.split.cal-CALIBRATE_FLUX-J0334-401.ms.cont4.image.fits\n",
      "### 1 sources detected...\n",
      "### Freq: 348.348 GHz\n",
      "### Band8\n",
      "### Band9\n",
      "##\n",
      "\n",
      "J0438+3004\n",
      "## source : /home/stephane/Science/RadioGalaxy/DeepField/bosscha/sources_final2/J0438+3004\n",
      "### Band3\n",
      "### Best rms noise for file: ./uid___A002_Xb09eed_X2f8.ms.split.cal-CALIBRATE_PHASE-J0438+3004.ms.cont4.image.fits (0.167 mJy)\n",
      "/home/stephane/Science/RadioGalaxy/DeepField/bosscha/sources_final2/J0438+3004/Band3/uid___A002_Xb09eed_X2f8.ms.split.cal-CALIBRATE_PHASE-J0438+3004.ms.cont4.image.fits\n"
     ]
    },
    {
     "name": "stderr",
     "output_type": "stream",
     "text": [
      "Output catalog ./uid___A002_Xd61e68_X8594.ms.split.cal-CALIBRATE_PHASE-J0438+3004.ms.cont4.image.cat.txt already exists, I will overwrite it\n",
      "Output catalog ./uid___A002_Xd51939_X2623.ms.split.cal-CALIBRATE_PHASE-J0438+3004.ms.cont4.image.cat.txt already exists, I will overwrite it\n",
      "Output catalog ./uid___A002_Xaebbcb_X29e3.ms.split.cal-CALIBRATE_BANDPASS-J2056-4714.ms.cont4.image.cat.txt already exists, I will overwrite it\n",
      "Output catalog ./uid___A002_X899169_X1838.ms.split.cal-CALIBRATE_BANDPASS-J2056-4714.ms.cont4.image.cat.txt already exists, I will overwrite it\n"
     ]
    },
    {
     "name": "stdout",
     "output_type": "stream",
     "text": [
      "### 1 sources detected...\n",
      "### Freq: 90.034 GHz\n",
      "### Band4\n",
      "### Band6\n",
      "### Best rms noise for file: ./uid___A002_Xd61e68_X8594.ms.split.cal-CALIBRATE_PHASE-J0438+3004.ms.cont4.image.fits (0.075 mJy)\n",
      "/home/stephane/Science/RadioGalaxy/DeepField/bosscha/sources_final2/J0438+3004/Band6/uid___A002_Xd61e68_X8594.ms.split.cal-CALIBRATE_PHASE-J0438+3004.ms.cont4.image.fits\n",
      "### 2 sources detected...\n",
      "### Freq: 225.252 GHz\n",
      "### Band7\n",
      "### Best rms noise for file: ./uid___A002_Xd51939_X2623.ms.split.cal-CALIBRATE_PHASE-J0438+3004.ms.cont4.image.fits (0.317 mJy)\n",
      "/home/stephane/Science/RadioGalaxy/DeepField/bosscha/sources_final2/J0438+3004/Band7/uid___A002_Xd51939_X2623.ms.split.cal-CALIBRATE_PHASE-J0438+3004.ms.cont4.image.fits\n",
      "### 4 sources detected...\n",
      "### Freq: 338.191 GHz\n",
      "### Band8\n",
      "### Band9\n",
      "##\n",
      "\n",
      "J2056-4714\n",
      "## source : /home/stephane/Science/RadioGalaxy/DeepField/bosscha/sources_final2/J2056-4714\n",
      "### Band3\n",
      "### Best rms noise for file: ./uid___A002_Xaebbcb_X29e3.ms.split.cal-CALIBRATE_BANDPASS-J2056-4714.ms.cont4.image.fits (0.025 mJy)\n",
      "/home/stephane/Science/RadioGalaxy/DeepField/bosscha/sources_final2/J2056-4714/Band3/uid___A002_Xaebbcb_X29e3.ms.split.cal-CALIBRATE_BANDPASS-J2056-4714.ms.cont4.image.fits\n",
      "### 1 sources detected...\n",
      "### Freq: 97.875 GHz\n",
      "### Band4\n",
      "### Band6\n",
      "### Best rms noise for file: ./uid___A002_X899169_X1838.ms.split.cal-CALIBRATE_BANDPASS-J2056-4714.ms.cont4.image.fits (0.062 mJy)\n",
      "/home/stephane/Science/RadioGalaxy/DeepField/bosscha/sources_final2/J2056-4714/Band6/uid___A002_X899169_X1838.ms.split.cal-CALIBRATE_BANDPASS-J2056-4714.ms.cont4.image.fits\n"
     ]
    },
    {
     "name": "stderr",
     "output_type": "stream",
     "text": [
      "Output catalog ./uid___A002_Xb1cc39_X3edc.ms.split.cal-CALIBRATE_BANDPASS-J2056-4714.ms.cont4.image.cat.txt already exists, I will overwrite it\n",
      "Output catalog ./uid___A002_Xa789ca_X259.ms.split.cal-CALIBRATE_PHASE-J0340-2119.ms.cont4.image.cat.txt already exists, I will overwrite it\n",
      "Output catalog ./uid___A002_Xa7dc73_X2319.ms.split.cal-CALIBRATE_PHASE-J0340-2119.ms.cont4.image.cat.txt already exists, I will overwrite it\n"
     ]
    },
    {
     "name": "stdout",
     "output_type": "stream",
     "text": [
      "### 1 sources detected...\n",
      "### Freq: 221.984 GHz\n",
      "### Band7\n",
      "### Best rms noise for file: ./uid___A002_Xb1cc39_X3edc.ms.split.cal-CALIBRATE_BANDPASS-J2056-4714.ms.cont4.image.fits (0.109 mJy)\n",
      "/home/stephane/Science/RadioGalaxy/DeepField/bosscha/sources_final2/J2056-4714/Band7/uid___A002_Xb1cc39_X3edc.ms.split.cal-CALIBRATE_BANDPASS-J2056-4714.ms.cont4.image.fits\n",
      "### 1 sources detected...\n",
      "### Freq: 347.347 GHz\n",
      "### Band8\n",
      "### Band9\n",
      "##\n",
      "\n",
      "J0340-2119\n",
      "## source : /home/stephane/Science/RadioGalaxy/DeepField/bosscha/sources_final2/J0340-2119\n",
      "### Band3\n",
      "### Best rms noise for file: ./uid___A002_Xa789ca_X259.ms.split.cal-CALIBRATE_PHASE-J0340-2119.ms.cont4.image.fits (0.067 mJy)\n",
      "/home/stephane/Science/RadioGalaxy/DeepField/bosscha/sources_final2/J0340-2119/Band3/uid___A002_Xa789ca_X259.ms.split.cal-CALIBRATE_PHASE-J0340-2119.ms.cont4.image.fits\n",
      "### 1 sources detected...\n",
      "### Freq: 94.751 GHz\n",
      "### Band4\n",
      "### Band6\n",
      "### Best rms noise for file: ./uid___A002_Xa7dc73_X2319.ms.split.cal-CALIBRATE_PHASE-J0340-2119.ms.cont4.image.fits (0.154 mJy)\n",
      "/home/stephane/Science/RadioGalaxy/DeepField/bosscha/sources_final2/J0340-2119/Band6/uid___A002_Xa7dc73_X2319.ms.split.cal-CALIBRATE_PHASE-J0340-2119.ms.cont4.image.fits\n"
     ]
    },
    {
     "name": "stderr",
     "output_type": "stream",
     "text": [
      "Output catalog ./uid___A002_X8917e8_X516.ms.split.cal-CALIBRATE_PHASE-J0340-2119.ms.cont4.image.cat.txt already exists, I will overwrite it\n",
      "Output catalog ./uid___A002_X8a3bdd_X16b.ms.split.cal-OBSERVE_TARGET-PKS1830-211.ms.cont4.image.cat.txt already exists, I will overwrite it\n",
      "Output catalog ./uid___A002_X836a4d_Xc23.ms.split.cal-OBSERVE_TARGET-PKS1830-211.ms.cont4.image.cat.txt already exists, I will overwrite it\n"
     ]
    },
    {
     "name": "stdout",
     "output_type": "stream",
     "text": [
      "### 2 sources detected...\n",
      "### Freq: 249.793 GHz\n",
      "### Band7\n",
      "### Best rms noise for file: ./uid___A002_X8917e8_X516.ms.split.cal-CALIBRATE_PHASE-J0340-2119.ms.cont4.image.fits (0.081 mJy)\n",
      "/home/stephane/Science/RadioGalaxy/DeepField/bosscha/sources_final2/J0340-2119/Band7/uid___A002_X8917e8_X516.ms.split.cal-CALIBRATE_PHASE-J0340-2119.ms.cont4.image.fits\n",
      "### 1 sources detected...\n",
      "### Freq: 349.177 GHz\n",
      "### Band8\n",
      "### Band9\n",
      "##\n",
      "\n",
      "J1833-2103\n",
      "## source : /home/stephane/Science/RadioGalaxy/DeepField/bosscha/sources_final2/J1833-2103\n",
      "### Band3\n",
      "### Best rms noise for file: ./uid___A002_X8a3bdd_X16b.ms.split.cal-OBSERVE_TARGET-PKS1830-211.ms.cont4.image.fits (0.217 mJy)\n",
      "/home/stephane/Science/RadioGalaxy/DeepField/bosscha/sources_final2/J1833-2103/Band3/uid___A002_X8a3bdd_X16b.ms.split.cal-OBSERVE_TARGET-PKS1830-211.ms.cont4.image.fits\n",
      "### 136 sources detected...\n",
      "### Freq: 94.576 GHz\n",
      "### Band4\n",
      "### Band6\n",
      "### Best rms noise for file: ./uid___A002_X836a4d_Xc23.ms.split.cal-OBSERVE_TARGET-PKS1830-211.ms.cont4.image.fits (0.346 mJy)\n",
      "/home/stephane/Science/RadioGalaxy/DeepField/bosscha/sources_final2/J1833-2103/Band6/uid___A002_X836a4d_Xc23.ms.split.cal-OBSERVE_TARGET-PKS1830-211.ms.cont4.image.fits\n"
     ]
    },
    {
     "name": "stderr",
     "output_type": "stream",
     "text": [
      "Output catalog ./uid___A002_X80e1ef_X15d0.ms.split.cal-CALIBRATE_PHASE-J1833-2103.ms.cont4.image.cat.txt already exists, I will overwrite it\n",
      "Output catalog ./uid___A002_Xa068cb_X2156.ms.split.cal-CALIBRATE_PHASE-J1833-2103.ms.cont4.image.cat.txt already exists, I will overwrite it\n",
      "Output catalog ./uid___A002_Xa0f8da_X1c08.ms.split.cal-OBSERVE_TARGET-PKS1830-211.ms.cont4.image.cat.txt already exists, I will overwrite it\n",
      "Output catalog ./uid___A002_Xbc9c9e_X1593.ms.split.cal-CALIBRATE_PHASE-J0531-4827.ms.cont4.image.cat.txt already exists, I will overwrite it\n"
     ]
    },
    {
     "name": "stdout",
     "output_type": "stream",
     "text": [
      "### 3 sources detected...\n",
      "### Freq: 248.409 GHz\n",
      "### Band7\n",
      "### Best rms noise for file: ./uid___A002_X80e1ef_X15d0.ms.split.cal-CALIBRATE_PHASE-J1833-2103.ms.cont4.image.fits (0.141 mJy)\n",
      "/home/stephane/Science/RadioGalaxy/DeepField/bosscha/sources_final2/J1833-2103/Band7/uid___A002_X80e1ef_X15d0.ms.split.cal-CALIBRATE_PHASE-J1833-2103.ms.cont4.image.fits\n",
      "### 2 sources detected...\n",
      "### Freq: 327.222 GHz\n",
      "### Band8\n",
      "### Best rms noise for file: ./uid___A002_Xa068cb_X2156.ms.split.cal-CALIBRATE_PHASE-J1833-2103.ms.cont4.image.fits (0.225 mJy)\n",
      "/home/stephane/Science/RadioGalaxy/DeepField/bosscha/sources_final2/J1833-2103/Band8/uid___A002_Xa068cb_X2156.ms.split.cal-CALIBRATE_PHASE-J1833-2103.ms.cont4.image.fits\n",
      "### 2 sources detected...\n",
      "### Freq: 408.529 GHz\n",
      "### Band9\n",
      "### Best rms noise for file: ./uid___A002_Xa0f8da_X1c08.ms.split.cal-OBSERVE_TARGET-PKS1830-211.ms.cont4.image.fits (0.375 mJy)\n",
      "/home/stephane/Science/RadioGalaxy/DeepField/bosscha/sources_final2/J1833-2103/Band9/uid___A002_Xa0f8da_X1c08.ms.split.cal-OBSERVE_TARGET-PKS1830-211.ms.cont4.image.fits\n",
      "### 3 sources detected...\n",
      "### Freq: 650.787 GHz\n",
      "##\n",
      "\n",
      "J0531-4827\n",
      "## source : /home/stephane/Science/RadioGalaxy/DeepField/bosscha/sources_final2/J0531-4827\n",
      "### Band3\n",
      "### Best rms noise for file: ./uid___A002_Xbc9c9e_X1593.ms.split.cal-CALIBRATE_PHASE-J0531-4827.ms.cont4.image.fits (0.053 mJy)\n",
      "/home/stephane/Science/RadioGalaxy/DeepField/bosscha/sources_final2/J0531-4827/Band3/uid___A002_Xbc9c9e_X1593.ms.split.cal-CALIBRATE_PHASE-J0531-4827.ms.cont4.image.fits\n"
     ]
    },
    {
     "name": "stderr",
     "output_type": "stream",
     "text": [
      "Output catalog ./uid___A002_Xb499c3_Xadd0.ms.split.cal-CALIBRATE_PHASE-J0531-4827.ms.cont4.image.cat.txt already exists, I will overwrite it\n",
      "Output catalog ./uid___A002_Xcd64ec_X8cfe.ms.split.cal-CALIBRATE_PHASE-J0531-4827.ms.cont4.image.cat.txt already exists, I will overwrite it\n",
      "Output catalog ./uid___A002_X71e4ae_X58e.ms.split.cal-CALIBRATE_BANDPASS-J2148+0657.ms.cont4.image.cat.txt already exists, I will overwrite it\n",
      "Output catalog ./uid___A002_Xb09eed_Xb9a8.ms.split.cal-CALIBRATE_BANDPASS-J2148+0657.ms.cont4.image.cat.txt already exists, I will overwrite it\n",
      "Output catalog ./uid___A002_Xa7c533_X1250.ms.split.cal-CALIBRATE_BANDPASS-J2148+0657.ms.cont4.image.cat.txt already exists, I will overwrite it\n"
     ]
    },
    {
     "name": "stdout",
     "output_type": "stream",
     "text": [
      "### 1 sources detected...\n",
      "### Freq: 101.303 GHz\n",
      "### Band4\n",
      "### Band6\n",
      "### Best rms noise for file: ./uid___A002_Xb499c3_Xadd0.ms.split.cal-CALIBRATE_PHASE-J0531-4827.ms.cont4.image.fits (0.107 mJy)\n",
      "/home/stephane/Science/RadioGalaxy/DeepField/bosscha/sources_final2/J0531-4827/Band6/uid___A002_Xb499c3_Xadd0.ms.split.cal-CALIBRATE_PHASE-J0531-4827.ms.cont4.image.fits\n",
      "### 1 sources detected...\n",
      "### Freq: 223.797 GHz\n",
      "### Band7\n",
      "### Best rms noise for file: ./uid___A002_Xcd64ec_X8cfe.ms.split.cal-CALIBRATE_PHASE-J0531-4827.ms.cont4.image.fits (0.200 mJy)\n",
      "/home/stephane/Science/RadioGalaxy/DeepField/bosscha/sources_final2/J0531-4827/Band7/uid___A002_Xcd64ec_X8cfe.ms.split.cal-CALIBRATE_PHASE-J0531-4827.ms.cont4.image.fits\n",
      "### 1 sources detected...\n",
      "### Freq: 338.267 GHz\n",
      "### Band8\n",
      "### Band9\n",
      "##\n",
      "\n",
      "J2148+0657\n",
      "## source : /home/stephane/Science/RadioGalaxy/DeepField/bosscha/sources_final2/J2148+0657\n",
      "### Band3\n",
      "### Best rms noise for file: ./uid___A002_X71e4ae_X58e.ms.split.cal-CALIBRATE_BANDPASS-J2148+0657.ms.cont4.image.fits (0.046 mJy)\n",
      "/home/stephane/Science/RadioGalaxy/DeepField/bosscha/sources_final2/J2148+0657/Band3/uid___A002_X71e4ae_X58e.ms.split.cal-CALIBRATE_BANDPASS-J2148+0657.ms.cont4.image.fits\n",
      "### 1 sources detected...\n",
      "### Freq: 93.679 GHz\n",
      "### Band4\n",
      "### Band6\n",
      "### Best rms noise for file: ./uid___A002_Xb09eed_Xb9a8.ms.split.cal-CALIBRATE_BANDPASS-J2148+0657.ms.cont4.image.fits (0.121 mJy)\n",
      "/home/stephane/Science/RadioGalaxy/DeepField/bosscha/sources_final2/J2148+0657/Band6/uid___A002_Xb09eed_Xb9a8.ms.split.cal-CALIBRATE_BANDPASS-J2148+0657.ms.cont4.image.fits\n",
      "### 1 sources detected...\n",
      "### Freq: 262.261 GHz\n",
      "### Band7\n",
      "### Best rms noise for file: ./uid___A002_Xa7c533_X1250.ms.split.cal-CALIBRATE_BANDPASS-J2148+0657.ms.cont4.image.fits (0.156 mJy)\n",
      "/home/stephane/Science/RadioGalaxy/DeepField/bosscha/sources_final2/J2148+0657/Band7/uid___A002_Xa7c533_X1250.ms.split.cal-CALIBRATE_BANDPASS-J2148+0657.ms.cont4.image.fits\n"
     ]
    },
    {
     "name": "stderr",
     "output_type": "stream",
     "text": [
      "Output catalog ./uid___A002_X95c8aa_X114d.ms.split.cal-CALIBRATE_BANDPASS-J0501-0159.ms.cont4.image.cat.txt already exists, I will overwrite it\n",
      "Output catalog ./uid___A002_X9646fb_Xccd.ms.split.cal-CALIBRATE_PHASE-J0501-0159.ms.cont4.image.cat.txt already exists, I will overwrite it\n",
      "Output catalog ./uid___A002_X969646_X1aa8.ms.split.cal-CALIBRATE_BANDPASS-J0501-0159.ms.cont4.image.cat.txt already exists, I will overwrite it\n",
      "Output catalog ./uid___A002_Xd69abb_X8bbc.ms.split.cal-CALIBRATE_PHASE-J0828-3731.ms.cont4.image.cat.txt already exists, I will overwrite it\n",
      "Output catalog ./uid___A002_Xc2ec9c_X9cc.ms.split.cal-CALIBRATE_PHASE-J0828-3731.ms.cont4.image.cat.txt already exists, I will overwrite it\n"
     ]
    },
    {
     "name": "stdout",
     "output_type": "stream",
     "text": [
      "### 1 sources detected...\n",
      "### Freq: 344.995 GHz\n",
      "### Band8\n",
      "### Band9\n",
      "##\n",
      "\n",
      "J0501-0159\n",
      "## source : /home/stephane/Science/RadioGalaxy/DeepField/bosscha/sources_final2/J0501-0159\n",
      "### Band3\n",
      "### Best rms noise for file: ./uid___A002_X95c8aa_X114d.ms.split.cal-CALIBRATE_BANDPASS-J0501-0159.ms.cont4.image.fits (0.063 mJy)\n",
      "/home/stephane/Science/RadioGalaxy/DeepField/bosscha/sources_final2/J0501-0159/Band3/uid___A002_X95c8aa_X114d.ms.split.cal-CALIBRATE_BANDPASS-J0501-0159.ms.cont4.image.fits\n",
      "### 1 sources detected...\n",
      "### Freq: 106.518 GHz\n",
      "### Band4\n",
      "### Band6\n",
      "### Best rms noise for file: ./uid___A002_X9646fb_Xccd.ms.split.cal-CALIBRATE_PHASE-J0501-0159.ms.cont4.image.fits (0.073 mJy)\n",
      "/home/stephane/Science/RadioGalaxy/DeepField/bosscha/sources_final2/J0501-0159/Band6/uid___A002_X9646fb_Xccd.ms.split.cal-CALIBRATE_PHASE-J0501-0159.ms.cont4.image.fits\n",
      "### 1 sources detected...\n",
      "### Freq: 255.691 GHz\n",
      "### Band7\n",
      "### Best rms noise for file: ./uid___A002_X969646_X1aa8.ms.split.cal-CALIBRATE_BANDPASS-J0501-0159.ms.cont4.image.fits (0.085 mJy)\n",
      "/home/stephane/Science/RadioGalaxy/DeepField/bosscha/sources_final2/J0501-0159/Band7/uid___A002_X969646_X1aa8.ms.split.cal-CALIBRATE_BANDPASS-J0501-0159.ms.cont4.image.fits\n",
      "### 1 sources detected...\n",
      "### Freq: 343.495 GHz\n",
      "### Band8\n",
      "### Band9\n",
      "##\n",
      "\n",
      "J0828-3731\n",
      "## source : /home/stephane/Science/RadioGalaxy/DeepField/bosscha/sources_final2/J0828-3731\n",
      "### Band3\n",
      "### Best rms noise for file: ./uid___A002_Xd69abb_X8bbc.ms.split.cal-CALIBRATE_PHASE-J0828-3731.ms.cont4.image.fits (0.061 mJy)\n",
      "/home/stephane/Science/RadioGalaxy/DeepField/bosscha/sources_final2/J0828-3731/Band3/uid___A002_Xd69abb_X8bbc.ms.split.cal-CALIBRATE_PHASE-J0828-3731.ms.cont4.image.fits\n",
      "### 1 sources detected...\n",
      "### Freq: 102.577 GHz\n",
      "### Band4\n",
      "### Band6\n",
      "### Best rms noise for file: ./uid___A002_Xc2ec9c_X9cc.ms.split.cal-CALIBRATE_PHASE-J0828-3731.ms.cont4.image.fits (0.096 mJy)\n",
      "/home/stephane/Science/RadioGalaxy/DeepField/bosscha/sources_final2/J0828-3731/Band6/uid___A002_Xc2ec9c_X9cc.ms.split.cal-CALIBRATE_PHASE-J0828-3731.ms.cont4.image.fits\n"
     ]
    },
    {
     "name": "stderr",
     "output_type": "stream",
     "text": [
      "Output catalog ./uid___A002_X79b541_X804.ms.split.cal-CALIBRATE_PHASE-J0828-3731.ms.cont4.image.cat.txt already exists, I will overwrite it\n",
      "Output catalog ./uid___A002_Xa7b91c_X17a1.ms.split.cal-CALIBRATE_BANDPASS-J2357-5311.ms.cont4.image.cat.txt already exists, I will overwrite it\n",
      "Output catalog ./uid___A002_X9896b4_X4624.ms.split.cal-CALIBRATE_BANDPASS-J2357-5311.ms.cont4.image.cat.txt already exists, I will overwrite it\n",
      "Output catalog ./uid___A002_Xba035e_Xf2e.ms.split.cal-CALIBRATE_FLUX-J2357-5311.ms.cont4.image.cat.txt already exists, I will overwrite it\n"
     ]
    },
    {
     "name": "stdout",
     "output_type": "stream",
     "text": [
      "### 1 sources detected...\n",
      "### Freq: 225.485 GHz\n",
      "### Band7\n",
      "### Best rms noise for file: ./uid___A002_X79b541_X804.ms.split.cal-CALIBRATE_PHASE-J0828-3731.ms.cont4.image.fits (0.149 mJy)\n",
      "/home/stephane/Science/RadioGalaxy/DeepField/bosscha/sources_final2/J0828-3731/Band7/uid___A002_X79b541_X804.ms.split.cal-CALIBRATE_PHASE-J0828-3731.ms.cont4.image.fits\n",
      "### 1 sources detected...\n",
      "### Freq: 345.026 GHz\n",
      "### Band8\n",
      "### Band9\n",
      "##\n",
      "\n",
      "J2357-5311\n",
      "## source : /home/stephane/Science/RadioGalaxy/DeepField/bosscha/sources_final2/J2357-5311\n",
      "### Band3\n",
      "### Best rms noise for file: ./uid___A002_Xa7b91c_X17a1.ms.split.cal-CALIBRATE_BANDPASS-J2357-5311.ms.cont4.image.fits (0.097 mJy)\n",
      "/home/stephane/Science/RadioGalaxy/DeepField/bosscha/sources_final2/J2357-5311/Band3/uid___A002_Xa7b91c_X17a1.ms.split.cal-CALIBRATE_BANDPASS-J2357-5311.ms.cont4.image.fits\n",
      "### 24 sources detected...\n",
      "### Freq: 92.739 GHz\n",
      "### Band4\n",
      "### Band6\n",
      "### Best rms noise for file: ./uid___A002_X9896b4_X4624.ms.split.cal-CALIBRATE_BANDPASS-J2357-5311.ms.cont4.image.fits (0.046 mJy)\n",
      "/home/stephane/Science/RadioGalaxy/DeepField/bosscha/sources_final2/J2357-5311/Band6/uid___A002_X9896b4_X4624.ms.split.cal-CALIBRATE_BANDPASS-J2357-5311.ms.cont4.image.fits\n",
      "### 1 sources detected...\n",
      "### Freq: 254.585 GHz\n",
      "### Band7\n",
      "### Best rms noise for file: ./uid___A002_Xba035e_Xf2e.ms.split.cal-CALIBRATE_FLUX-J2357-5311.ms.cont4.image.fits (0.135 mJy)\n",
      "/home/stephane/Science/RadioGalaxy/DeepField/bosscha/sources_final2/J2357-5311/Band7/uid___A002_Xba035e_Xf2e.ms.split.cal-CALIBRATE_FLUX-J2357-5311.ms.cont4.image.fits\n"
     ]
    },
    {
     "name": "stderr",
     "output_type": "stream",
     "text": [
      "Output catalog ./uid___A002_Xa4fd6e_X3a5.ms.split.cal-CALIBRATE_BANDPASS-J1337-1257.ms.cont4.image.cat.txt already exists, I will overwrite it\n",
      "Output catalog ./uid___A002_Xae4720_X37bf.ms.split.cal-CALIBRATE_BANDPASS-J1337-1257.ms.cont4.image.cat.txt already exists, I will overwrite it\n",
      "Output catalog ./uid___A002_X7e5af0_Xd70.ms.split.cal-CALIBRATE_BANDPASS-J1337-1257.ms.cont4.image.cat.txt already exists, I will overwrite it\n",
      "Output catalog ./uid___A002_Xa13953_X9a0.ms.split.cal-CALIBRATE_BANDPASS-J1337-1257.ms.cont4.image.cat.txt already exists, I will overwrite it\n"
     ]
    },
    {
     "name": "stdout",
     "output_type": "stream",
     "text": [
      "### 1 sources detected...\n",
      "### Freq: 343.495 GHz\n",
      "### Band8\n",
      "### Band9\n",
      "##\n",
      "\n",
      "J1337-1257\n",
      "## source : /home/stephane/Science/RadioGalaxy/DeepField/bosscha/sources_final2/J1337-1257\n",
      "### Band3\n",
      "### Best rms noise for file: ./uid___A002_Xa4fd6e_X3a5.ms.split.cal-CALIBRATE_BANDPASS-J1337-1257.ms.cont4.image.fits (41.347 mJy)\n",
      "/home/stephane/Science/RadioGalaxy/DeepField/bosscha/sources_final2/J1337-1257/Band3/uid___A002_Xa4fd6e_X3a5.ms.split.cal-CALIBRATE_BANDPASS-J1337-1257.ms.cont4.image.fits\n",
      "### 183 sources detected...\n",
      "### Freq: 107.540 GHz\n",
      "### Band4\n",
      "### Best rms noise for file: ./uid___A002_Xae4720_X37bf.ms.split.cal-CALIBRATE_BANDPASS-J1337-1257.ms.cont4.image.fits (0.327 mJy)\n",
      "/home/stephane/Science/RadioGalaxy/DeepField/bosscha/sources_final2/J1337-1257/Band4/uid___A002_Xae4720_X37bf.ms.split.cal-CALIBRATE_BANDPASS-J1337-1257.ms.cont4.image.fits\n",
      "### 1 sources detected...\n",
      "### Freq: 137.872 GHz\n",
      "### Band6\n",
      "### Best rms noise for file: ./uid___A002_X7e5af0_Xd70.ms.split.cal-CALIBRATE_BANDPASS-J1337-1257.ms.cont4.image.fits (0.039 mJy)\n",
      "/home/stephane/Science/RadioGalaxy/DeepField/bosscha/sources_final2/J1337-1257/Band6/uid___A002_X7e5af0_Xd70.ms.split.cal-CALIBRATE_BANDPASS-J1337-1257.ms.cont4.image.fits\n",
      "### 1 sources detected...\n",
      "### Freq: 231.405 GHz\n",
      "### Band7\n",
      "### Best rms noise for file: ./uid___A002_Xa13953_X9a0.ms.split.cal-CALIBRATE_BANDPASS-J1337-1257.ms.cont4.image.fits (0.101 mJy)\n",
      "/home/stephane/Science/RadioGalaxy/DeepField/bosscha/sources_final2/J1337-1257/Band7/uid___A002_Xa13953_X9a0.ms.split.cal-CALIBRATE_BANDPASS-J1337-1257.ms.cont4.image.fits\n"
     ]
    },
    {
     "name": "stderr",
     "output_type": "stream",
     "text": [
      "Output catalog ./uid___A002_Xb60be4_X390.ms.split.cal-CALIBRATE_FLUX-J1337-1257.ms.cont4.image.cat.txt already exists, I will overwrite it\n",
      "Output catalog ./uid___A002_X9cffbd_Xefe.ms.split.cal-CALIBRATE_BANDPASS-J1733-1304.ms.cont4.image.cat.txt already exists, I will overwrite it\n",
      "Output catalog ./uid___A002_X7d76cc_X19aa.ms.split.cal-CALIBRATE_BANDPASS-J1733-1304.ms.cont4.image.cat.txt already exists, I will overwrite it\n",
      "Output catalog ./uid___A002_X7d2ec1_Xa80.ms.split.cal-CALIBRATE_PHASE-J1733-1304.ms.cont4.image.cat.txt already exists, I will overwrite it\n"
     ]
    },
    {
     "name": "stdout",
     "output_type": "stream",
     "text": [
      "### 1 sources detected...\n",
      "### Freq: 351.225 GHz\n",
      "### Band8\n",
      "### Best rms noise for file: ./uid___A002_Xb60be4_X390.ms.split.cal-CALIBRATE_FLUX-J1337-1257.ms.cont4.image.fits (0.469 mJy)\n",
      "/home/stephane/Science/RadioGalaxy/DeepField/bosscha/sources_final2/J1337-1257/Band8/uid___A002_Xb60be4_X390.ms.split.cal-CALIBRATE_FLUX-J1337-1257.ms.cont4.image.fits\n",
      "### 1 sources detected...\n",
      "### Freq: 427.818 GHz\n",
      "### Band9\n",
      "##\n",
      "\n",
      "J1733-1304\n",
      "## source : /home/stephane/Science/RadioGalaxy/DeepField/bosscha/sources_final2/J1733-1304\n",
      "### Band3\n",
      "### Best rms noise for file: ./uid___A002_X9cffbd_Xefe.ms.split.cal-CALIBRATE_BANDPASS-J1733-1304.ms.cont4.image.fits (0.132 mJy)\n",
      "/home/stephane/Science/RadioGalaxy/DeepField/bosscha/sources_final2/J1733-1304/Band3/uid___A002_X9cffbd_Xefe.ms.split.cal-CALIBRATE_BANDPASS-J1733-1304.ms.cont4.image.fits\n",
      "### 2 sources detected...\n",
      "### Freq: 96.365 GHz\n",
      "### Band4\n",
      "### Band6\n",
      "### Best rms noise for file: ./uid___A002_X7d76cc_X19aa.ms.split.cal-CALIBRATE_BANDPASS-J1733-1304.ms.cont4.image.fits (0.039 mJy)\n",
      "/home/stephane/Science/RadioGalaxy/DeepField/bosscha/sources_final2/J1733-1304/Band6/uid___A002_X7d76cc_X19aa.ms.split.cal-CALIBRATE_BANDPASS-J1733-1304.ms.cont4.image.fits\n",
      "### 2 sources detected...\n",
      "### Freq: 221.634 GHz\n",
      "### Band7\n",
      "### Best rms noise for file: ./uid___A002_X7d2ec1_Xa80.ms.split.cal-CALIBRATE_PHASE-J1733-1304.ms.cont4.image.fits (0.065 mJy)\n",
      "/home/stephane/Science/RadioGalaxy/DeepField/bosscha/sources_final2/J1733-1304/Band7/uid___A002_X7d2ec1_Xa80.ms.split.cal-CALIBRATE_PHASE-J1733-1304.ms.cont4.image.fits\n",
      "### 1 sources detected...\n",
      "### Freq: 344.995 GHz\n",
      "### Band8\n",
      "### Band9\n",
      "##\n",
      "\n",
      "## 81 RGs detected\n",
      "## Total of point sources: 17547\n",
      "['/home/stephane/Science/RadioGalaxy/DeepField/bosscha/sources_final2/J0519-4546']\n"
     ]
    }
   ],
   "source": [
    "## extract all sources ...\n",
    "\n",
    "os.chdir(datadir)\n",
    "\n",
    "d= datadir\n",
    "listsource= [os.path.join(d, o) for o in os.listdir(d) \n",
    "                    if os.path.isdir(os.path.join(d,o))]\n",
    "\n",
    "ndet= 0\n",
    "nsoudet= 0\n",
    "nd= []\n",
    "for s in listsource:\n",
    "    ra,dec, label, frequency, flux, rms ,field = extractRG(s)\n",
    "    if len(ra)>0:\n",
    "        ndet += 1\n",
    "        nsoudet += len(ra)\n",
    "        \n",
    "        df= pd.DataFrame({'field':field,'ra':ra,'dec':dec, 'label':label, 'frequency':frequency, 'flux':flux, 'rms':rms, 'field':field}, columns=['field','ra','dec','label','frequency','flux', 'rms'])\n",
    "        sourcename= s.split(\"/\")[-1]\n",
    "        df.to_csv(os.path.join(wdir,sourcename)+'.cat.csv',index_label='sourceid' )\n",
    "    else:\n",
    "        nd.append(s)\n",
    "    \n",
    "print(\"## %d RGs detected\"%(ndet)) \n",
    "print(\"## Total of point sources: %d\"%(nsoudet))\n",
    "print(nd)"
   ]
  },
  {
   "cell_type": "markdown",
   "metadata": {},
   "source": [
    "## Plots and first analysis"
   ]
  },
  {
   "cell_type": "markdown",
   "metadata": {},
   "source": [
    "* Flux vs. frequency is in LogLog since the synchrotron law is with the form : <br>\n",
    "Flux \\propto Freq^(alpha) <br>\n",
    "alpha is the spectral index (sometimes -alpha is used) <br>"
   ]
  },
  {
   "cell_type": "code",
   "execution_count": 14,
   "metadata": {},
   "outputs": [],
   "source": [
    "os.chdir(wdir)\n",
    "\n",
    "filecat= glob.glob(\"*.cat.csv\")\n",
    "\n",
    "for f in filecat:\n",
    "    df= pd.read_csv(f)\n",
    "    \n",
    "\n",
    "# fig= plt.figure(figsize=(12,8))\n",
    "\n",
    "# ax= plt.subplot(221)\n",
    "# plt.grid(True)\n",
    "# plt.plot(ra3,dec3,\"g>\", label=\"B3\")\n",
    "# plt.plot(ra4,dec4,\"c>\", label=\"B4\")\n",
    "# plt.plot(ra6,dec6,\"k+\", label=\"B6\")\n",
    "# plt.plot(ra7,dec7,\"k<\", label=\"B7\")\n",
    "# plt.plot(ra8,dec8,\"ro\", alpha=0.5, label=\"B8\")\n",
    "# plt.legend()\n",
    "\n",
    "# plt.subplot(222)\n",
    "# plt.xlabel(\"Freq (GHz)\")\n",
    "# plt.ylabel(\"Flux (Jy)\")\n",
    "\n",
    "# plt.loglog(fre3,flux3,\"r+\")\n",
    "# plt.loglog(fre4,flux4,\"r+\")\n",
    "# plt.loglog(fre6,flux6,\"r+\")\n",
    "# plt.loglog(fre7,flux7,\"r+\")\n",
    "# plt.loglog(fre8,flux8,\"r+\")\n",
    "\n",
    "# plt.show()"
   ]
  },
  {
   "cell_type": "code",
   "execution_count": 15,
   "metadata": {},
   "outputs": [],
   "source": [
    "## Functions\n",
    "\n",
    "def spectralIndex(f, flux):\n",
    "    spix = (log(flux[1]) - log(flux[0])) / (log(f[1]) - log(f[0]))\n",
    "    \n",
    "    return(spix)"
   ]
  },
  {
   "cell_type": "code",
   "execution_count": 16,
   "metadata": {},
   "outputs": [],
   "source": [
    "## find counterparts\n",
    "##  \n",
    "## ra, dec: array of all sources\n",
    "## label: each source should have a different label\n",
    "## \n",
    "\n",
    "class ctrprt:\n",
    "    \n",
    "    def __init__(self, ra, dec, label):\n",
    "        self.ra= ra\n",
    "        self.dec= dec\n",
    "        self.label= label\n",
    "        \n",
    "    def setFlux(self, flux):\n",
    "        self.flux= flux\n",
    "              \n",
    "    ## basic algorithm to connect one source at different frequencies.\n",
    "    ## IMPORTANT: tolerance should be small enough to avoid two different sources at the \"same\" position\n",
    "    def getGraphSource(self, tolerance= 0.5):\n",
    "        K= []\n",
    "        G=nx.Graph()\n",
    "        tolerance /= DEG2ARCSEC\n",
    "        \n",
    "        for i in range(len(self.ra)):\n",
    "            K.append([self.ra[i], self.dec[i]])\n",
    "            G.add_node(i)\n",
    "            dist= distance_matrix(K, K)\n",
    "        \n",
    "        \n",
    "        pair= []\n",
    "        for i in range(len(self.ra)):\n",
    "            for j in range(i):\n",
    "                if dist[i,j] < tolerance and self.label[i] != self.label[j]:\n",
    "                    G.add_edge(i,j, weight= dist[i,j])\n",
    "                    \n",
    "        ## removing isolated nodes (detections)\n",
    "        isol= list(nx.isolates(G))\n",
    "        G.remove_nodes_from(list(nx.isolates(G)))\n",
    "        \n",
    "        return(G , isol)\n",
    "    \n",
    "    \n",
    "    def getMultipleDetection(self, G):\n",
    "        cont= True\n",
    "        sources=[]\n",
    "        \n",
    "        while cont:\n",
    "            list_node= list(G.nodes)\n",
    "            first_node= list_node[0]\n",
    "            \n",
    "            ## all nodes reachable from one node (same source)\n",
    "            connected_nodes= list(nx.descendants(G,first_node))\n",
    "            connected_nodes.append(first_node)\n",
    "            connected_nodes.sort()\n",
    "            \n",
    "            sources.append(connected_nodes)\n",
    "            \n",
    "            for v in connected_nodes:\n",
    "              G.remove_node(v)\n",
    "            \n",
    "            if len(G.nodes)==0:\n",
    "                cont= False\n",
    "        \n",
    "        return(sources)"
   ]
  },
  {
   "cell_type": "code",
   "execution_count": 17,
   "metadata": {},
   "outputs": [
    {
     "name": "stdout",
     "output_type": "stream",
     "text": [
      "[[0, 2], [1, 3, 4]]\n"
     ]
    }
   ],
   "source": [
    "t = ctrprt(ra,dec,label)\n",
    "\n",
    "## the parameter is the maximum distance in Arcsec to match 2 sources\n",
    "## if the minimum distance is too large, it fails since it would pair two sources at the same frequency...\n",
    "toleranceSeparation= 0.5\n",
    "g, isol= t.getGraphSource(toleranceSeparation)  \n",
    "\n",
    "sources= t.getMultipleDetection(g)\n",
    "print(sources)\n"
   ]
  },
  {
   "cell_type": "code",
   "execution_count": 18,
   "metadata": {},
   "outputs": [
    {
     "name": "stdout",
     "output_type": "stream",
     "text": [
      "## Source: 1\n",
      "[0, 2]\n",
      "[96.36457891463, 221.6343757654]\n",
      "[0.004348373, 0.0005210269]\n"
     ]
    },
    {
     "data": {
      "image/png": "[encoded data removed]",
      "text/plain": [
       "<Figure size 504x360 with 1 Axes>"
      ]
     },
     "metadata": {
      "needs_background": "light"
     },
     "output_type": "display_data"
    },
    {
     "name": "stdout",
     "output_type": "stream",
     "text": [
      "## Source: 2\n",
      "[1, 3, 4]\n",
      "[96.36457891463, 221.6343757654, 344.99460006879997]\n",
      "[2.397065, 0.9998261, 0.992608]\n"
     ]
    },
    {
     "data": {
      "image/png": "[encoded data removed]",
      "text/plain": [
       "<Figure size 504x360 with 1 Axes>"
      ]
     },
     "metadata": {
      "needs_background": "light"
     },
     "output_type": "display_data"
    }
   ],
   "source": [
    "## spectral index and plot for each sources\n",
    "\n",
    "nsource= 1\n",
    "for s in sources:\n",
    "    print(\"## Source: %d\"%(nsource))\n",
    "    print(s)\n",
    "    \n",
    "    fr= [frequency[i] for i in s]\n",
    "    fl= [flux[i] for i in s]\n",
    "    \n",
    "    print(fr)\n",
    "    print(fl)\n",
    "    \n",
    "    fig= plt.figure(figsize=(7,5))\n",
    "    ax= plt.subplot(111)\n",
    "    plt.title(\"Source: %d\"%(nsource))\n",
    "    plt.grid(True)\n",
    "    plt.xlabel(\"Freq (GHz)\")\n",
    "    plt.ylabel(\"Flux (Jy)\")\n",
    "    plt.plot(fr, fl,\"r-\")\n",
    "    plt.plot(fr, fl,\"k*\")\n",
    "    \n",
    "    for i in range(1,len(fr)):\n",
    "        si= spectralIndex([fr[i-1],fr[i]],[fl[i-1],fl[i]] )\n",
    "        plt.text(0.5*(fr[i-1]+fr[i]) , 0.5*(fl[i-1]+fl[i]) , \"SI= %3.3f\"%(si) )\n",
    "    \n",
    "    plt.show()\n",
    "       \n",
    "    nsource += 1\n",
    "    "
   ]
  }
 ],
 "metadata": {
  "@webio": {
   "lastCommId": null,
   "lastKernelId": null
  },
  "kernelspec": {
   "display_name": "Python 3",
   "language": "python",
   "name": "python3"
  },
  "language_info": {
   "codemirror_mode": {
    "name": "ipython",
    "version": 3
   },
   "file_extension": ".py",
   "mimetype": "text/x-python",
   "name": "python",
   "nbconvert_exporter": "python",
   "pygments_lexer": "ipython3",
   "version": "3.8.2"
  }
 },
 "nbformat": 4,
 "nbformat_minor": 2
}
