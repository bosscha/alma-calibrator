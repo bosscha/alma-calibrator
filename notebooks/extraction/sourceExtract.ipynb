{
 "cells": [
  {
   "cell_type": "markdown",
   "metadata": {},
   "source": [
    "# Extracting sources\n",
    "\n",
    "* Extracting sources from a fits file (SExtractor via sewpy)"
   ]
  },
  {
   "cell_type": "code",
   "execution_count": 79,
   "metadata": {},
   "outputs": [],
   "source": [
    "import os , glob\n",
    "import matplotlib.pyplot as plt\n",
    "import sewpy\n",
    "import math\n",
    "import random\n",
    "import numpy as np\n",
    "\n",
    "from scipy.stats import sigmaclip\n",
    "from astropy.io import fits\n",
    "\n",
    "## Constants\n",
    "BEAMARCSEC= 3600."
   ]
  },
  {
   "cell_type": "markdown",
   "metadata": {},
   "source": [
    "## Functions\n",
    "\n",
    "* In  ubuntu you can use: \"sudo apt install sextractor\" to install sextractor\n",
    "* In runsextractor, set the path for the binary of SExtractor ($>  which sextractor)"
   ]
  },
  {
   "cell_type": "code",
   "execution_count": 80,
   "metadata": {},
   "outputs": [],
   "source": [
    "def runsextractor(image_file, wdir=\"./\", detect_thresh=3.5, analysis_thresh=3.0):\n",
    "    params = ['NUMBER', 'FLUX_ISO', 'FLUXERR_ISO', 'FLUX_AUTO', 'FLUXERR_AUTO', 'FLUX_BEST', 'FLUXERR_BEST', 'BACKGROUND', \n",
    "              'THRESHOLD', 'FLUX_MAX', 'XMAX_IMAGE', 'YMAX_IMAGE', 'XPEAK_IMAGE', 'YPEAK_IMAGE', 'ALPHAPEAK_J2000', \n",
    "              'DELTAPEAK_J2000', 'X_IMAGE', 'Y_IMAGE', 'ALPHA_SKY', 'DELTA_SKY', 'ALPHA_J2000', 'DELTA_J2000']\n",
    "\n",
    "    convfile= \"/home/stephane/soft/sextractor/config/gauss_5.0_9x9.conv\"\n",
    "    # convfile= \"/home/stephane/soft/sextractor/config/default.conv\"\n",
    "    \n",
    "    config = {\"DETECT_THRESH\":detect_thresh, \"ANALYSIS_THRESH\":analysis_thresh, \"FILTER_NAME\":convfile}\n",
    "\n",
    "    sew = sewpy.SEW(workdir=wdir, sexpath=\"/usr/bin/sextractor\",params=params, config=config)\n",
    "\n",
    "    out = sew(image_file)\n",
    "    data = out[\"table\"]\n",
    "    \n",
    "    ra, dec, flux, label = data['ALPHA_J2000'], data['DELTA_J2000'], data['FLUX_MAX'], data['NUMBER'].astype('int')\n",
    "    \n",
    "    return ra, dec, flux, label\n",
    "\n",
    "\n",
    "## get some parameters from the fits.\n",
    "def getInfoFits(fitsimage):\n",
    "    hdulist = fits.open(fitsimage)\n",
    "    \n",
    "    hdr = hdulist[0].header\n",
    "    nx = int(hdr['NAXIS1'])\n",
    "    ny = int(hdr['NAXIS2'])\n",
    "    bmin = float(hdr['BMIN']) * BEAMARCSEC\n",
    "    bmaj = float(hdr['BMAJ']) * BEAMARCSEC\n",
    "    ar = math.sqrt(bmin*bmaj)\n",
    "    lonpole = float(hdr['CRVAL1'])\n",
    "    latpole = float(hdr['CRVAL2'])\n",
    "    \n",
    "    freq = float(hdr['RESTFRQ']) / 1e9     ### frequency in GHz\n",
    "    dx = abs(float(hdr['CDELT1'])) * BEAMARCSEC ## dx in arcsec\n",
    "    \n",
    "    return(freq)\n",
    "\n",
    "\n",
    "## RMS estimation\n",
    "def getRMSfits(fitsimage , nsample=40 , size= 20):\n",
    "    \n",
    "    random.seed()\n",
    "    \n",
    "    hdulist = fits.open(fitsimage)\n",
    "    \n",
    "    hdr = hdulist[0].header\n",
    "    nx = int(hdr['NAXIS1'])\n",
    "    ny = int(hdr['NAXIS2'])\n",
    "    \n",
    "    data = hdulist[0].data\n",
    "    \n",
    "    rms = []\n",
    "    for i in range(nsample):\n",
    "        ix = random.randint(size,int(nx/2)-size)\n",
    "        iy = random.randint(size,int(ny/2)-size)\n",
    "        fx = random.random()\n",
    "        fy = random.random()\n",
    "        \n",
    "        if fx < 0.5:\n",
    "            ixcenter = ix\n",
    "        else:\n",
    "            ixcenter = nx - ix\n",
    "            \n",
    "        if fy < 0.5:\n",
    "            iycenter = iy\n",
    "        else:\n",
    "            iycenter = ny - iy\n",
    "            \n",
    "        datrms = data[0, 0, ixcenter-size:ixcenter+size, iycenter-size:iycenter+size]\n",
    "        rms.append(np.std(datrms))\n",
    "        \n",
    "    \n",
    "    c, low, upp = sigmaclip(rms , 3.0 , 3.0)\n",
    "\n",
    "    rmsestimated = np.median(c)    \n",
    "    return(rmsestimated)   \n",
    "\n",
    "## estimatng the best RMS noise for all fits file in a directory\n",
    "def getBestRMS(direc, ext):\n",
    "    files = glob.glob(\"%s/%s\"%(direc,ext))\n",
    "    \n",
    "    bestrms= 1e9\n",
    "    bestfile= \"\"\n",
    "    for f in files:\n",
    "        rms=  getRMSfits(\"%s/%s\"%(direc,f))*1e3     ### RMS noise in mJy\n",
    "        if rms < bestrms:\n",
    "            bestrms = rms\n",
    "            bestfile= f\n",
    "            \n",
    "    return(bestfile, bestrms)\n",
    "        "
   ]
  },
  {
   "cell_type": "markdown",
   "metadata": {},
   "source": [
    "## Main\n",
    "\n",
    "* Extract the sources for each band\n",
    "* The SIGMA value for the detection can be set. As a default it is set to 3.5.\n",
    "* The flux indicated is in Jy/b\n",
    "* The frequency (GHz) of each band is obtained by getInfoFits(band) where band is the fits file\n",
    "* Note that SExtractor estimates various flux (different methods).\n",
    "* In case of several images we estimate the best rms noise.\n",
    "\n",
    "**In the example below we take the source J0811-4929**"
   ]
  },
  {
   "cell_type": "code",
   "execution_count": 81,
   "metadata": {},
   "outputs": [
    {
     "name": "stderr",
     "output_type": "stream",
     "text": [
      "Output catalog ./uid___A002_Xb5bd46_X55ee.ms.split.cal-CALIBRATE_PHASE-J0811-4929.ms.cont4.image.cat.txt already exists, I will overwrite it\n",
      "Output catalog ./uid___A002_Xb55f4e_X36b4.ms.split.cal-CALIBRATE_PHASE-J0811-4929.ms.cont4.image.cat.txt already exists, I will overwrite it\n"
     ]
    },
    {
     "name": "stdout",
     "output_type": "stream",
     "text": [
      "## Band 3\n",
      "## Best rms noise for file: ./uid___A002_Xb5bd46_X55ee.ms.split.cal-CALIBRATE_PHASE-J0811-4929.ms.cont4.image.fits (0.076 mJy)\n",
      "## Freq: 90.500 GHz\n",
      " FLUX_MAX\n",
      "    ct   \n",
      "---------\n",
      "0.3540781\n"
     ]
    },
    {
     "name": "stderr",
     "output_type": "stream",
     "text": [
      "Output catalog ./uid___A002_Xc3c940_X18d2.ms.split.cal-CALIBRATE_PHASE-J0811-4929.ms.cont4.image.cat.txt already exists, I will overwrite it\n"
     ]
    },
    {
     "name": "stdout",
     "output_type": "stream",
     "text": [
      "\n",
      "## Band 4\n",
      "## Freq: 138.000 GHz\n",
      "FLUX_MAX\n",
      "   ct   \n",
      "--------\n",
      "0.272246\n",
      "\n",
      "## Band 6\n",
      "## Best rms noise for file: ./uid___A002_Xc3c940_X18d2.ms.split.cal-CALIBRATE_PHASE-J0811-4929.ms.cont4.image.fits (0.046 mJy)\n"
     ]
    },
    {
     "name": "stderr",
     "output_type": "stream",
     "text": [
      "Output catalog ./uid___A002_Xb05734_X632.ms.split.cal-CALIBRATE_PHASE-J0811-4929.ms.cont4.image.cat.txt already exists, I will overwrite it\n",
      "Output catalog ./uid___A002_Xba4d35_Xca1b.ms.split.cal-CALIBRATE_PHASE-J0811-4929.ms.cont4.image.cat.txt already exists, I will overwrite it\n"
     ]
    },
    {
     "name": "stdout",
     "output_type": "stream",
     "text": [
      "## Freq: 232.500 GHz\n",
      "  FLUX_MAX  \n",
      "     ct     \n",
      "------------\n",
      "0.0002086769\n",
      "   0.1680943\n",
      "0.0002714049\n",
      "\n",
      "## Band 7\n",
      "## Freq: 336.500 GHz\n",
      " FLUX_MAX\n",
      "    ct   \n",
      "---------\n",
      "0.1399343\n",
      "\n",
      "## Band 8\n",
      "## Freq: 492.161 GHz\n",
      " FLUX_MAX\n",
      "    ct   \n",
      "---------\n",
      "0.1259729\n"
     ]
    }
   ],
   "source": [
    "## Directories\n",
    "wdir =      \"/home/stephane/Science/RadioGalaxy/ALMA/DeepField/analysis/c\"\n",
    "sourcedir= \"/home/stephane/Science/RadioGalaxy/ALMA/DeepField/bosscha/J0811-4929\"\n",
    "\n",
    "## detection sigma\n",
    "SIGMA= 3.0\n",
    "\n",
    "## BAND 3\n",
    "print(\"## Band 3\")\n",
    "os.chdir(\"%s/Band 3\"%(sourcedir))\n",
    "bestfile ,rms = getBestRMS(\"./\", \"*cont4.image.fits\")\n",
    "print(\"## Best rms noise for file: %s (%3.3f mJy)\"%(bestfile, rms))\n",
    "band3 = \"uid___A002_Xb5bd46_X55ee.ms.split.cal-CALIBRATE_PHASE-J0811-4929.ms.cont4.image.fits\"\n",
    "ra3, dec3 , flux3 , label3 = runsextractor(band3,detect_thresh=SIGMA)\n",
    "freq3= getInfoFits(band3)\n",
    "\n",
    "print(\"## Freq: %3.3f GHz\"%(freq3))\n",
    "print(flux3)\n",
    "\n",
    "\n",
    "## BAND 4\n",
    "os.chdir(\"%s/Band 4\"%(sourcedir))\n",
    "band4 = \"uid___A002_Xb55f4e_X36b4.ms.split.cal-CALIBRATE_PHASE-J0811-4929.ms.cont4.image.fits\"\n",
    "ra4, dec4 , flux4 , label4 = runsextractor(band4,detect_thresh=SIGMA)\n",
    "freq4= getInfoFits(band4)\n",
    "print(\"\\n## Band 4\")\n",
    "print(\"## Freq: %3.3f GHz\"%(freq4))\n",
    "print(flux4)\n",
    "\n",
    "\n",
    "## BAND 6\n",
    "print(\"\\n## Band 6\")\n",
    "os.chdir(\"%s/Band 6\"%(sourcedir))\n",
    "bestfile ,rms = getBestRMS(\"./\", \"*cont4.image.fits\")\n",
    "print(\"## Best rms noise for file: %s (%3.3f mJy)\"%(bestfile, rms))\n",
    "band6 = \"uid___A002_Xb1e6b5_X1b44.ms.split.cal-CALIBRATE_PHASE-J0811-4929.ms.cont4.image.fits\"\n",
    "band6 = \"uid___A002_Xc3c940_X18d2.ms.split.cal-CALIBRATE_PHASE-J0811-4929.ms.cont4.image.fits\"\n",
    "ra6, dec6 , flux6 , label6 = runsextractor(band6,detect_thresh=SIGMA)\n",
    "freq6= getInfoFits(band6)\n",
    "\n",
    "print(\"## Freq: %3.3f GHz\"%(freq6))\n",
    "print(flux6)\n",
    "\n",
    "\n",
    "## BAND 7\n",
    "os.chdir(\"%s/Band 7\"%(sourcedir))\n",
    "band7 = \"uid___A002_Xb05734_X632.ms.split.cal-CALIBRATE_PHASE-J0811-4929.ms.cont4.image.fits\"\n",
    "ra7, dec7 , flux7 , label7 = runsextractor(band7,detect_thresh=SIGMA)\n",
    "freq7= getInfoFits(band7)\n",
    "print(\"\\n## Band 7\")\n",
    "print(\"## Freq: %3.3f GHz\"%(freq7))\n",
    "print(flux7)\n",
    "\n",
    "\n",
    "## BAND 8\n",
    "os.chdir(\"%s/Band 8\"%(sourcedir))\n",
    "band8 = \"uid___A002_Xba4d35_Xca1b.ms.split.cal-CALIBRATE_PHASE-J0811-4929.ms.cont4.image.fits\"\n",
    "ra8, dec8 , flux8 , label8 = runsextractor(band8,detect_thresh=SIGMA)\n",
    "freq8= getInfoFits(band8)\n",
    "print(\"\\n## Band 8\")\n",
    "print(\"## Freq: %3.3f GHz\"%(freq8))\n",
    "print(flux8)"
   ]
  },
  {
   "cell_type": "markdown",
   "metadata": {},
   "source": [
    "## Plots and first analysis\n",
    "\n"
   ]
  },
  {
   "cell_type": "code",
   "execution_count": 83,
   "metadata": {},
   "outputs": [
    {
     "data": {
      "image/png": "[encoded data removed]",
      "text/plain": [
       "<Figure size 432x288 with 1 Axes>"
      ]
     },
     "metadata": {
      "needs_background": "light"
     },
     "output_type": "display_data"
    }
   ],
   "source": [
    "\n",
    "plt.plot(ra6,dec6,\"k+\", label=\"B6\")\n",
    "plt.plot(ra8,dec8,\"ro\", alpha=0.5, label=\"B8\")\n",
    "plt.legend()\n",
    "plt.show()"
   ]
  }
 ],
 "metadata": {
  "@webio": {
   "lastCommId": null,
   "lastKernelId": null
  },
  "kernelspec": {
   "display_name": "Python 3",
   "language": "python",
   "name": "python3"
  },
  "language_info": {
   "codemirror_mode": {
    "name": "ipython",
    "version": 3
   },
   "file_extension": ".py",
   "mimetype": "text/x-python",
   "name": "python",
   "nbconvert_exporter": "python",
   "pygments_lexer": "ipython3",
   "version": "3.7.5"
  }
 },
 "nbformat": 4,
 "nbformat_minor": 2
}
