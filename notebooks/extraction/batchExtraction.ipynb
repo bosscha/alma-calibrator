{
 "cells": [
  {
   "cell_type": "markdown",
   "metadata": {},
   "source": [
    "### Batch source extraction\n",
    "\n",
    "This notebook shows how to run batch to extract sources in fits images of a directory-tree. <br>\n",
    "* tptp\n",
    "* tolto"
   ]
  },
  {
   "cell_type": "code",
   "execution_count": 1,
   "metadata": {},
   "outputs": [
    {
     "name": "stderr",
     "output_type": "stream",
     "text": [
      "/home/stephane/.local/lib/python3.7/site-packages/pyfits/__init__.py:22: PyFITSDeprecationWarning: PyFITS is deprecated, please use astropy.io.fits\n",
      "  PyFITSDeprecationWarning)  # noqa\n"
     ]
    },
    {
     "ename": "FileNotFoundError",
     "evalue": "[Errno 2] No such file or directory: '/home/stephane/Science/ETGs/RadioGalaxy/calibrators/products'",
     "output_type": "error",
     "traceback": [
      "\u001b[0;31m---------------------------------------------------------------------------\u001b[0m",
      "\u001b[0;31mFileNotFoundError\u001b[0m                         Traceback (most recent call last)",
      "\u001b[0;32m<ipython-input-1-62dbc04d2e5d>\u001b[0m in \u001b[0;36m<module>\u001b[0;34m\u001b[0m\n\u001b[1;32m     17\u001b[0m \u001b[0mfitsrootdir\u001b[0m \u001b[0;34m=\u001b[0m \u001b[0;34m\"/home/stephane/Science/ETGs/RadioGalaxy/calibrators/ALMA/analysis/bosscha/tertiary/J1315-5334/\"\u001b[0m\u001b[0;34m\u001b[0m\u001b[0;34m\u001b[0m\u001b[0m\n\u001b[1;32m     18\u001b[0m \u001b[0;34m\u001b[0m\u001b[0m\n\u001b[0;32m---> 19\u001b[0;31m \u001b[0mos\u001b[0m\u001b[0;34m.\u001b[0m\u001b[0mchdir\u001b[0m\u001b[0;34m(\u001b[0m\u001b[0mwdir\u001b[0m\u001b[0;34m)\u001b[0m\u001b[0;34m\u001b[0m\u001b[0;34m\u001b[0m\u001b[0m\n\u001b[0m",
      "\u001b[0;31mFileNotFoundError\u001b[0m: [Errno 2] No such file or directory: '/home/stephane/Science/ETGs/RadioGalaxy/calibrators/products'"
     ]
    }
   ],
   "source": [
    "import os , glob\n",
    "import matplotlib.pyplot as plt\n",
    "import sewpy\n",
    "import pyfits , math\n",
    "import random\n",
    "import numpy as np\n",
    "\n",
    "from scipy.stats import sigmaclip\n",
    "\n",
    "## Constants\n",
    "BEAMARCSEC= 3600. \n",
    "\n",
    "## directories\n",
    "rootdir = \"/home/stephane/Science/ETGs/RadioGalaxy/calibrators\"\n",
    "wdir    = \"%s/products\"%(rootdir)\n",
    "plotdir = \"%s/products/plots\"%(rootdir)\n",
    "fitsrootdir = \"/home/stephane/Science/ETGs/RadioGalaxy/calibrators/ALMA/analysis/bosscha/tertiary/J1315-5334/\"\n",
    "\n",
    "os.chdir(wdir)"
   ]
  },
  {
   "cell_type": "code",
   "execution_count": null,
   "metadata": {},
   "outputs": [],
   "source": [
    "## Get the list of all fits images assuming they have to be extracted.\n",
    "\n",
    "def getFitsFiles(dir):\n",
    "    list = glob.glob(\"%s/**/*fits\"%(dir), recursive=True)\n",
    "    \n",
    "    return(list)"
   ]
  },
  {
   "cell_type": "code",
   "execution_count": null,
   "metadata": {},
   "outputs": [],
   "source": [
    "def runsextractor(image_file, detect_thresh=3.5, analysis_thresh=3.0):\n",
    "    params = ['NUMBER', 'FLUX_ISO', 'FLUXERR_ISO', 'FLUX_AUTO', 'FLUXERR_AUTO', 'FLUX_BEST', 'FLUXERR_BEST', 'BACKGROUND', \n",
    "              'THRESHOLD', 'FLUX_MAX', 'XMAX_IMAGE', 'YMAX_IMAGE', 'XPEAK_IMAGE', 'YPEAK_IMAGE', 'ALPHAPEAK_J2000', \n",
    "              'DELTAPEAK_J2000', 'X_IMAGE', 'Y_IMAGE', 'ALPHA_SKY', 'DELTA_SKY', 'ALPHA_J2000', 'DELTA_J2000']\n",
    "\n",
    "    config = {\"DETECT_THRESH\":detect_thresh, \"ANALYSIS_THRESH\":analysis_thresh}\n",
    "\n",
    "    sew = sewpy.SEW(workdir=\"./\", sexpath=\"/usr/bin/sextractor\",params=params, config=config)\n",
    "\n",
    "    out = sew(image_file)\n",
    "    data = out[\"table\"]\n",
    "    \n",
    "    ra, dec, flux, label = data['ALPHA_J2000'], data['DELTA_J2000'], data['FLUX_MAX'], data['NUMBER'].astype('int')\n",
    "    \n",
    "    return ra, dec, flux, label"
   ]
  },
  {
   "cell_type": "code",
   "execution_count": null,
   "metadata": {},
   "outputs": [],
   "source": [
    "# fits inforation\n",
    "\n",
    "def getARfits(fitsimage):\n",
    "    \n",
    "    hdulist = pyfits.open(fitsimage)\n",
    "    #hdulist.info()\n",
    "    \n",
    "    hdr = hdulist[0].header\n",
    "    nx = int(hdr['NAXIS1'])\n",
    "    ny = int(hdr['NAXIS2'])\n",
    "    bmin = float(hdr['BMIN']) * BEAMARCSEC\n",
    "    bmaj = float(hdr['BMAJ']) * BEAMARCSEC\n",
    "    ar = math.sqrt(bmin*bmaj)\n",
    "    lonpole = float(hdr['CRVAL1'])\n",
    "    latpole = float(hdr['CRVAL2'])\n",
    "    \n",
    "    #print(hdr)\n",
    "    data = hdulist[0].data\n",
    "    \n",
    "    return(nx,ny, bmin, bmaj , ar , lonpole , latpole)"
   ]
  },
  {
   "cell_type": "code",
   "execution_count": null,
   "metadata": {},
   "outputs": [],
   "source": [
    "## RMS estimation\n",
    "\n",
    "def getRMSfits(fitsimage , nsample=40 , size= 20):\n",
    "    \n",
    "    random.seed()\n",
    "    \n",
    "    hdulist = pyfits.open(fitsimage)\n",
    "    \n",
    "    hdr = hdulist[0].header\n",
    "    nx = int(hdr['NAXIS1'])\n",
    "    ny = int(hdr['NAXIS2'])\n",
    "    \n",
    "    data = hdulist[0].data\n",
    "    \n",
    "    rms = []\n",
    "    for i in range(nsample):\n",
    "        ix = random.randint(size,int(nx/2)-size)\n",
    "        iy = random.randint(size,int(ny/2)-size)\n",
    "        fx = random.random()\n",
    "        fy = random.random()\n",
    "        \n",
    "        if fx < 0.5:\n",
    "            ixcenter = ix\n",
    "        else:\n",
    "            ixcenter = nx - ix\n",
    "            \n",
    "        if fy < 0.5:\n",
    "            iycenter = iy\n",
    "        else:\n",
    "            iycenter = ny - iy\n",
    "            \n",
    "        datrms = data[0, 0, ixcenter-size:ixcenter+size, iycenter-size:iycenter+size]\n",
    "        rms.append(np.std(datrms))\n",
    "        \n",
    "    \n",
    "    c, low, upp = sigmaclip(rms , 3.0 , 3.0)\n",
    "\n",
    "    rmsestimated = np.median(c)    \n",
    "    return(rmsestimated)"
   ]
  },
  {
   "cell_type": "code",
   "execution_count": null,
   "metadata": {},
   "outputs": [],
   "source": [
    "## plots the sources...\n",
    "\n",
    "def plotSources(plotdir, fitsimage, data , alpha , delta, fov, rms):\n",
    "    ra  = data['ra']\n",
    "    dec = data['dec']\n",
    "    flux = data['flux']\n",
    "    \n",
    "    plt.xlim(alpha-fov/2., alpha+fov/2.)\n",
    "    plt.ylim(delta-fov/2., delta+fov/2.)\n",
    "    #plt.plot(ra,dec,\"r*\")\n",
    "    # plt.plot(alpha, delta, \"b+\" , markersize= 10)\n",
    "    plt.scatter(alpha, delta, cmap='hsv', alpha=0.75)\n",
    "    \n",
    "    plt.text(alpha + 0.2*fov,delta+ 0.45*fov,\"RMS= %3.3f mJy\"%(rms*1e3))\n",
    "    figname= \"%s/%s-sources.png\"%(plotdir, fitsimage)\n",
    "    plt.savefig(figname)\n",
    "    plt.show()"
   ]
  },
  {
   "cell_type": "code",
   "execution_count": null,
   "metadata": {},
   "outputs": [],
   "source": [
    "def main(plot=True):\n",
    "    lfits = getFitsFiles(fitsrootdir)\n",
    "    \n",
    "    res = []\n",
    "    \n",
    "    print(\"## Running sextractor...\")\n",
    "    for fitsimage in lfits:\n",
    "        print(\"### Fits: %s\"%(fitsimage))\n",
    "        \n",
    "        nx , ny , bmin, bmaj, ar, alpha, delta = getARfits(fitsimage)\n",
    "        print(\"## NX= %d , NY= %d\"%(nx,ny))\n",
    "        print(\"## BMIN= %3.3f arcsec, BMAJ= %3.3f arcsec, AR= %3.3f arcsec\"%(bmin, bmaj,ar))\n",
    "        \n",
    "        rms = getRMSfits(fitsimage, 40, 30)\n",
    "        print(\"## RMS= %3.4f mJy\"%(rms*1e3))\n",
    "        \n",
    "        dat= {}\n",
    "        ra, dec , flux , label = runsextractor(fitsimage)\n",
    "        dat['fits'] = fitsimage\n",
    "        dat['rms'] = rms\n",
    "        dat['ra']   = ra\n",
    "        dat['dec']  = dec\n",
    "        dat['flux'] = flux\n",
    "        \n",
    "        res.append(dat)  \n",
    "        \n",
    "        if plot:\n",
    "            dr= 100./3600.   ### FOV of 100 arcsec\n",
    "            plotSources(plotdir, fitsimage.split(\"/\")[-1], dat , alpha, delta, dr , rms)\n",
    "       \n",
    "    return(res)"
   ]
  },
  {
   "cell_type": "code",
   "execution_count": null,
   "metadata": {},
   "outputs": [],
   "source": [
    "allres = main()"
   ]
  }
 ],
 "metadata": {
  "@webio": {
   "lastCommId": null,
   "lastKernelId": null
  },
  "kernelspec": {
   "display_name": "Python 3",
   "language": "python",
   "name": "python3"
  },
  "language_info": {
   "codemirror_mode": {
    "name": "ipython",
    "version": 3
   },
   "file_extension": ".py",
   "mimetype": "text/x-python",
   "name": "python",
   "nbconvert_exporter": "python",
   "pygments_lexer": "ipython3",
   "version": "3.7.5"
  }
 },
 "nbformat": 4,
 "nbformat_minor": 2
}
