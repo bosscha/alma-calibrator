{
 "cells": [
  {
   "cell_type": "code",
   "execution_count": 1,
   "metadata": {
    "collapsed": true
   },
   "outputs": [],
   "source": [
    "import sys\n",
    "sys.path.append('../src/')\n",
    "\n",
    "from almaDatabaseQuery import *\n",
    "\n",
    "import matplotlib.pyplot as plt\n",
    "import numpy as np\n",
    "\n",
    "%matplotlib inline"
   ]
  },
  {
   "cell_type": "markdown",
   "metadata": {},
   "source": [
    "### ALL "
   ]
  },
  {
   "cell_type": "code",
   "execution_count": 2,
   "metadata": {},
   "outputs": [
    {
     "name": "stdout",
     "output_type": "stream",
     "text": [
      "Number of accepted source:  186\n"
     ]
    }
   ],
   "source": [
    "q = databaseQuery()\n",
    "report, resume = q.select_object_from_sqldb(\"calibrators_brighterthan_0.1Jy_20180419.db\", \\\n",
    "                                    maxFreqRes=999999999, array='12m', \\\n",
    "                                    excludeCycle0=True, \\\n",
    "                                    selectPol=False, \\\n",
    "                                    minTimeBand={3:60., 6:60., 7:60.}, \\\n",
    "                                    silent=True)"
   ]
  },
  {
   "cell_type": "code",
   "execution_count": 3,
   "metadata": {},
   "outputs": [
    {
     "name": "stdout",
     "output_type": "stream",
     "text": [
      "#################################\n",
      "### Total Number of Sources : 186 \n",
      "\n"
     ]
    }
   ],
   "source": [
    "q.write_report(report, \"report_8.txt\", silent=True)"
   ]
  },
  {
   "cell_type": "code",
   "execution_count": 4,
   "metadata": {},
   "outputs": [
    {
     "name": "stdout",
     "output_type": "stream",
     "text": [
      "Number of object =  186\n"
     ]
    }
   ],
   "source": [
    "print \"Number of object = \", len(resume)"
   ]
  },
  {
   "cell_type": "code",
   "execution_count": 5,
   "metadata": {
    "collapsed": true
   },
   "outputs": [],
   "source": [
    "# remove None from list of redshift\n",
    "z = [] \n",
    "for idata in resume:\n",
    "    if idata[6] is not None:\n",
    "        z.append(idata[6])"
   ]
  },
  {
   "cell_type": "code",
   "execution_count": 6,
   "metadata": {},
   "outputs": [
    {
     "name": "stdout",
     "output_type": "stream",
     "text": [
      "Known redshift (from NED) =  146\n"
     ]
    }
   ],
   "source": [
    "print \"Known redshift (from NED) = \", len(z)"
   ]
  },
  {
   "cell_type": "code",
   "execution_count": 7,
   "metadata": {},
   "outputs": [
    {
     "data": {
      "text/plain": [
       "<matplotlib.text.Text at 0x7f3ece357b90>"
      ]
     },
     "execution_count": 7,
     "metadata": {},
     "output_type": "execute_result"
    },
    {
     "data": {
      "image/png": "[encoded data removed]",
      "text/plain": [
       "<matplotlib.figure.Figure at 0x7f3ecea82690>"
      ]
     },
     "metadata": {},
     "output_type": "display_data"
    }
   ],
   "source": [
    "plt.hist(z, bins=20)\n",
    "plt.xlabel(\"z\")\n",
    "plt.ylabel(\"N\")"
   ]
  },
  {
   "cell_type": "markdown",
   "metadata": {},
   "source": [
    "### NON ALMACAL"
   ]
  },
  {
   "cell_type": "code",
   "execution_count": 8,
   "metadata": {},
   "outputs": [
    {
     "name": "stdout",
     "output_type": "stream",
     "text": [
      "Number of accepted source:  134\n"
     ]
    }
   ],
   "source": [
    "q2 = databaseQuery()\n",
    "report2, resume2 = q2.select_object_from_sqldb(\"calibrators_brighterthan_0.1Jy_20180419.db\", \\\n",
    "                                    maxFreqRes=999999999, array='12m', \\\n",
    "                                    excludeCycle0=True, \\\n",
    "                                    selectPol=False, \\\n",
    "                                    minTimeBand={3:60., 6:60., 7:60.}, \\\n",
    "                                    nonALMACAL=True, \\\n",
    "                                    silent=True)"
   ]
  },
  {
   "cell_type": "code",
   "execution_count": 9,
   "metadata": {},
   "outputs": [
    {
     "name": "stdout",
     "output_type": "stream",
     "text": [
      "#################################\n",
      "### Total Number of Sources : 134 \n",
      "\n"
     ]
    }
   ],
   "source": [
    "q2.write_report(report2, \"report_8_nonAlmacal.txt\", silent=True)"
   ]
  },
  {
   "cell_type": "code",
   "execution_count": 10,
   "metadata": {
    "collapsed": true
   },
   "outputs": [],
   "source": [
    "z2 = []\n",
    "for idata in resume2:\n",
    "    if idata[6] is not None:\n",
    "        z2.append(idata[6])"
   ]
  },
  {
   "cell_type": "code",
   "execution_count": 11,
   "metadata": {},
   "outputs": [
    {
     "name": "stdout",
     "output_type": "stream",
     "text": [
      "Known redshift (from NED) =  99\n"
     ]
    }
   ],
   "source": [
    "print \"Known redshift (from NED) = \", len(z2)"
   ]
  },
  {
   "cell_type": "code",
   "execution_count": 12,
   "metadata": {},
   "outputs": [
    {
     "data": {
      "image/png": "[encoded data removed]",
      "text/plain": [
       "<matplotlib.figure.Figure at 0x7f3ecdfc9110>"
      ]
     },
     "metadata": {},
     "output_type": "display_data"
    }
   ],
   "source": [
    "plt.hist(z, bins=20, label=\"all\")\n",
    "plt.hist(z2, bins=20, label=\"nonALMACAL\")\n",
    "plt.legend()\n",
    "plt.xlabel(\"z\")\n",
    "plt.ylabel(\"N\")\n",
    "plt.show()"
   ]
  },
  {
   "cell_type": "markdown",
   "metadata": {},
   "source": [
    "### POLAMI"
   ]
  },
  {
   "cell_type": "code",
   "execution_count": 13,
   "metadata": {},
   "outputs": [
    {
     "name": "stdout",
     "output_type": "stream",
     "text": [
      "Number of accepted source:  86\n"
     ]
    }
   ],
   "source": [
    "q3 = databaseQuery()\n",
    "report3,resume3 = q3.select_object_from_sqldb(\"calibrators_brighterthan_0.1Jy_20180419.db\",\\\n",
    "                                               maxFreqRes=999999999, array='12m', \\\n",
    "                                               excludeCycle0=True, \\\n",
    "                                               selectPol=True, \\\n",
    "                                               minTimeBand={3:0., 6:0., 7:0.}, \n",
    "                                               verbose=True, silent=True)"
   ]
  },
  {
   "cell_type": "code",
   "execution_count": 14,
   "metadata": {},
   "outputs": [
    {
     "name": "stdout",
     "output_type": "stream",
     "text": [
      "#################################\n",
      "### Total Number of Sources : 86 \n",
      "\n"
     ]
    }
   ],
   "source": [
    "q3.write_report(report3, \"report_8_pol.txt\", silent=True)"
   ]
  },
  {
   "cell_type": "code",
   "execution_count": 15,
   "metadata": {
    "collapsed": true
   },
   "outputs": [],
   "source": [
    "# remove None from list of redshift\n",
    "z3 = [] \n",
    "for idata in resume3:\n",
    "    if idata[6] is not None:\n",
    "        z3.append(idata[6])"
   ]
  },
  {
   "cell_type": "code",
   "execution_count": 16,
   "metadata": {},
   "outputs": [
    {
     "name": "stdout",
     "output_type": "stream",
     "text": [
      "Known redshift (from NED) =  55\n"
     ]
    }
   ],
   "source": [
    "print \"Known redshift (from NED) = \", len(z3)"
   ]
  },
  {
   "cell_type": "code",
   "execution_count": 17,
   "metadata": {},
   "outputs": [
    {
     "data": {
      "image/png": "[encoded data removed]",
      "text/plain": [
       "<matplotlib.figure.Figure at 0x7f3ecdfd4f10>"
      ]
     },
     "metadata": {},
     "output_type": "display_data"
    }
   ],
   "source": [
    "plt.hist(z, bins=20, label=\"all\")\n",
    "plt.hist(z2, bins=20, label=\"nonALMACAL\")\n",
    "plt.hist(z3, bins=20, label=\"Full Polarization\")\n",
    "plt.legend()\n",
    "plt.xlabel(\"z\")\n",
    "plt.ylabel(\"N\")\n",
    "plt.show()"
   ]
  }
 ],
 "metadata": {
  "kernelspec": {
   "display_name": "Python 2",
   "language": "python",
   "name": "python2"
  },
  "language_info": {
   "codemirror_mode": {
    "name": "ipython",
    "version": 2
   },
   "file_extension": ".py",
   "mimetype": "text/x-python",
   "name": "python",
   "nbconvert_exporter": "python",
   "pygments_lexer": "ipython2",
   "version": "2.7.13"
  }
 },
 "nbformat": 4,
 "nbformat_minor": 2
}
