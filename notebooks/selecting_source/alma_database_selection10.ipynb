{
 "cells": [
  {
   "cell_type": "markdown",
   "metadata": {},
   "source": [
    "# What is the most important project that we need to download first?\n",
    "\n",
    "### What I did is simply counting the occurance of the word (project name) in the report file"
   ]
  },
  {
   "cell_type": "code",
   "execution_count": 1,
   "metadata": {
    "collapsed": true
   },
   "outputs": [],
   "source": [
    "from collections import Counter"
   ]
  },
  {
   "cell_type": "code",
   "execution_count": 2,
   "metadata": {
    "collapsed": true
   },
   "outputs": [],
   "source": [
    "filename = \"report_8_nonALMACAL_priority.txt\""
   ]
  },
  {
   "cell_type": "code",
   "execution_count": 3,
   "metadata": {
    "collapsed": true
   },
   "outputs": [],
   "source": [
    "with open(filename, 'r') as ifile:\n",
    "    wordcount = Counter(ifile.read().split())"
   ]
  },
  {
   "cell_type": "code",
   "execution_count": 4,
   "metadata": {
    "collapsed": true
   },
   "outputs": [],
   "source": [
    "list_of_project = []\n",
    "\n",
    "for item in wordcount:\n",
    "    if len(item) == 14 and item[-1] == 'S': # project_name\n",
    "        list_of_project.append([item, wordcount[item]])"
   ]
  },
  {
   "cell_type": "code",
   "execution_count": 5,
   "metadata": {
    "collapsed": true
   },
   "outputs": [],
   "source": [
    "sorted_project = sorted(list_of_project, key=lambda data: data[1])"
   ]
  },
  {
   "cell_type": "code",
   "execution_count": 6,
   "metadata": {},
   "outputs": [
    {
     "name": "stdout",
     "output_type": "stream",
     "text": [
      "Number of project:  633\n"
     ]
    }
   ],
   "source": [
    "print(\"Number of project: \", len(sorted_project))"
   ]
  },
  {
   "cell_type": "code",
   "execution_count": 7,
   "metadata": {
    "collapsed": true
   },
   "outputs": [],
   "source": [
    "sorted_from_large = list(reversed(sorted_project))"
   ]
  },
  {
   "cell_type": "markdown",
   "metadata": {},
   "source": [
    "due to the structure of the report this number can not be used directly as a reference\n",
    "\n",
    "e.g. maybe large occurance due to small integration and observed many time  and also it is possible only for one object in one band (like the first project in here)\n",
    "\n",
    "I think the year of Cycle is more important due to number of antenna."
   ]
  },
  {
   "cell_type": "code",
   "execution_count": 15,
   "metadata": {},
   "outputs": [
    {
     "name": "stdout",
     "output_type": "stream",
     "text": [
      "['2012.1.00453.S', 33]\n",
      "['2015.1.01289.S', 32]\n",
      "['2012.1.00139.S', 20]\n",
      "['2012.1.00377.S', 13]\n",
      "['2015.1.00412.S', 13]\n",
      "['2012.1.00729.S', 13]\n",
      "['2013.1.00020.S', 13]\n",
      "['2012.1.00317.S', 13]\n",
      "['2013.1.00700.S', 13]\n",
      "['2015.1.01352.S', 12]\n",
      "['2015.1.00144.S', 12]\n",
      "['2015.1.00027.S', 11]\n",
      "['2015.1.00932.S', 11]\n",
      "['2015.1.01454.S', 11]\n",
      "['2016.1.00567.S', 10]\n"
     ]
    }
   ],
   "source": [
    "# 15 first\n",
    "for i in sorted_from_large[0:15]:\n",
    "    print(i)"
   ]
  },
  {
   "cell_type": "markdown",
   "metadata": {},
   "source": [
    "### Sorted based on year"
   ]
  },
  {
   "cell_type": "code",
   "execution_count": 9,
   "metadata": {
    "collapsed": true
   },
   "outputs": [],
   "source": [
    "sorted_project_year = sorted(list_of_project, key=lambda data: data[0])"
   ]
  },
  {
   "cell_type": "code",
   "execution_count": 10,
   "metadata": {
    "collapsed": true
   },
   "outputs": [],
   "source": [
    "sorted_from_new = list(reversed(sorted_project_year))"
   ]
  },
  {
   "cell_type": "code",
   "execution_count": 16,
   "metadata": {},
   "outputs": [
    {
     "name": "stdout",
     "output_type": "stream",
     "text": [
      "['2016.A.00011.S', 2]\n",
      "['2016.A.00010.S', 2]\n",
      "['2016.1.01609.S', 2]\n",
      "['2016.1.01604.S', 3]\n",
      "['2016.1.01567.S', 4]\n",
      "['2016.1.01559.S', 2]\n",
      "['2016.1.01552.S', 3]\n",
      "['2016.1.01546.S', 2]\n",
      "['2016.1.01541.S', 2]\n",
      "['2016.1.01520.S', 6]\n",
      "['2016.1.01515.S', 4]\n",
      "['2016.1.01512.S', 6]\n",
      "['2016.1.01495.S', 2]\n",
      "['2016.1.01493.S', 2]\n",
      "['2016.1.01481.S', 2]\n"
     ]
    }
   ],
   "source": [
    "# 15 first\n",
    "for i in sorted_from_new[0:15]:\n",
    "    print(i)"
   ]
  },
  {
   "cell_type": "markdown",
   "metadata": {},
   "source": [
    "There is 'A' in project name e.g. 2016.A.00011.S, 2016.A.00010.S, what does it mean?"
   ]
  },
  {
   "cell_type": "code",
   "execution_count": null,
   "metadata": {
    "collapsed": true
   },
   "outputs": [],
   "source": []
  }
 ],
 "metadata": {
  "kernelspec": {
   "display_name": "Python 2",
   "language": "python",
   "name": "python2"
  },
  "language_info": {
   "codemirror_mode": {
    "name": "ipython",
    "version": 2
   },
   "file_extension": ".py",
   "mimetype": "text/x-python",
   "name": "python",
   "nbconvert_exporter": "python",
   "pygments_lexer": "ipython2",
   "version": "2.7.14"
  }
 },
 "nbformat": 4,
 "nbformat_minor": 2
}
