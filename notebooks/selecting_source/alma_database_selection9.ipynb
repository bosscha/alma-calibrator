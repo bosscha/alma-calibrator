{
 "cells": [
  {
   "cell_type": "code",
   "execution_count": 1,
   "metadata": {
    "collapsed": true
   },
   "outputs": [],
   "source": [
    "import sys\n",
    "sys.path.append('../../src/utils/')\n",
    "\n",
    "from almaDatabaseQuery import *\n",
    "\n",
    "import matplotlib.pyplot as plt\n",
    "import numpy as np\n",
    "\n",
    "\n",
    "%matplotlib inline"
   ]
  },
  {
   "cell_type": "code",
   "execution_count": 2,
   "metadata": {
    "collapsed": true
   },
   "outputs": [],
   "source": [
    "q = databaseQuery()"
   ]
  },
  {
   "cell_type": "markdown",
   "metadata": {},
   "source": [
    "### Select some candidate of Non-ALMACAL object which has full Polarization obs\n",
    "- no requirement for min Time per Band (different with non-almacal, there are maybe some objects that are not in non-almacal sample)\n",
    "- exclude Cylce0\n",
    "- no minimum freq res\n",
    "- select Pol: True"
   ]
  },
  {
   "cell_type": "code",
   "execution_count": 3,
   "metadata": {},
   "outputs": [
    {
     "name": "stdout",
     "output_type": "stream",
     "text": [
      "Number of accepted source:  57\n"
     ]
    }
   ],
   "source": [
    "report, resume = q.select_object_from_sqldb(\"calibrators_brighterthan_0.1Jy_20180419.db\", \\\n",
    "                                    maxFreqRes=999999999, array='12m', \\\n",
    "                                    excludeCycle0=True, \\\n",
    "                                    selectPol=True, \\\n",
    "                                    minTimeBand={3:0., 6:0., 7:0.}, \\\n",
    "                                    nonALMACAL = True, \\\n",
    "                                    silent=True)"
   ]
  },
  {
   "cell_type": "markdown",
   "metadata": {},
   "source": [
    "### Sorted based on total integration in 3 Band (3+6+7)"
   ]
  },
  {
   "cell_type": "code",
   "execution_count": 6,
   "metadata": {
    "collapsed": true
   },
   "outputs": [],
   "source": [
    "resume_sorted = sorted(resume, key=lambda data: data[11]+data[12]+data[13])"
   ]
  },
  {
   "cell_type": "code",
   "execution_count": 7,
   "metadata": {
    "collapsed": true
   },
   "outputs": [],
   "source": [
    "res = np.array(resume_sorted)"
   ]
  },
  {
   "cell_type": "code",
   "execution_count": 8,
   "metadata": {},
   "outputs": [
    {
     "data": {
      "text/plain": [
       "<matplotlib.text.Text at 0x7f8548738410>"
      ]
     },
     "execution_count": 8,
     "metadata": {},
     "output_type": "execute_result"
    },
    {
     "data": {
      "image/png": "[encoded data removed]",
      "text/plain": [
       "<matplotlib.figure.Figure at 0x7f8548cbe950>"
      ]
     },
     "metadata": {},
     "output_type": "display_data"
    }
   ],
   "source": [
    "plt.figure(figsize=(10,5))\n",
    "num = 57\n",
    "plt.plot(np.linspace(1,num,num), np.sqrt(res[:,11].astype(float)), 'r.', np.linspace(1,num,num), np.sqrt(res[:,12].astype(float)), 'g.', np.linspace(1,num,num), np.sqrt(res[:,13].astype(float)), 'b.')\n",
    "plt.ylabel(r\"$\\sqrt{t}$\")\n"
   ]
  },
  {
   "cell_type": "markdown",
   "metadata": {},
   "source": [
    "- The correlation is seen on all plot, however the last plot has better variance (I think).\n",
    "- we can used this as basis of 'cutting'.\n",
    "- I make a cutting line in black and magenta (for 20 and 30 sample) which has largest total integration time."
   ]
  },
  {
   "cell_type": "code",
   "execution_count": 9,
   "metadata": {},
   "outputs": [
    {
     "name": "stdout",
     "output_type": "stream",
     "text": [
      "List of primary sample: \n",
      "['J1713-3418' 'J0541-0211' 'J1633-2557' 'J1636-4102' 'J0440+2728'\n",
      " 'J0628-6248' 'J1824+0119' 'J0516-6207' 'J0522-6107' 'J0534-6106'\n",
      " 'J0620-6107' 'J0610-6058' 'J0506-6109' 'J0623-6436' 'J0731-2341'\n",
      " 'J0730-1141' 'J1604-4441' 'J1304-0346' 'J1217+3007' 'J0501-0159'\n",
      " 'J1851+0035' 'J1706-4600' 'J0552+0313' 'J0607-6031' 'J1832+0731'\n",
      " 'J0516-7237' 'J0700-6610' 'J0644-6712' 'J0332-7249' 'J0744-6919'\n",
      " 'J1224+0330' 'J1922+1530' 'J1838+0404' 'J0431+1731' 'J1331+3030'\n",
      " 'J1742-1517' 'J2134-0153' 'J0139+1753' 'J2225-0457' 'J0457-2324'\n",
      " 'J1717-3342' 'J0440-6952' 'J0715-6829' 'J0541-0541' 'J1911-2006'\n",
      " 'J0747-3310' 'J0750+1231' 'J1321-4342' 'J1733-3722' 'J0237+2848'\n",
      " 'J1912-0804' 'J1225+1253' 'J1221+2813' 'J0336+3218' 'J1743-0350'\n",
      " 'J1256-0547' 'J1751+0939']\n"
     ]
    }
   ],
   "source": [
    "print(\"List of primary sample: \")\n",
    "print(res[:,0])"
   ]
  },
  {
   "cell_type": "markdown",
   "metadata": {},
   "source": [
    "See the detail of each object in `report_8_pol.txt` + `report_8_nonAlmacal.txt`\n",
    "\n",
    "J1751+0939 can be the first candidate which is in non-almacal sample and also pol sample."
   ]
  },
  {
   "cell_type": "code",
   "execution_count": null,
   "metadata": {
    "collapsed": true
   },
   "outputs": [],
   "source": []
  }
 ],
 "metadata": {
  "kernelspec": {
   "display_name": "Python 2",
   "language": "python",
   "name": "python2"
  },
  "language_info": {
   "codemirror_mode": {
    "name": "ipython",
    "version": 2
   },
   "file_extension": ".py",
   "mimetype": "text/x-python",
   "name": "python",
   "nbconvert_exporter": "python",
   "pygments_lexer": "ipython2",
   "version": "2.7.13"
  }
 },
 "nbformat": 4,
 "nbformat_minor": 2
}
